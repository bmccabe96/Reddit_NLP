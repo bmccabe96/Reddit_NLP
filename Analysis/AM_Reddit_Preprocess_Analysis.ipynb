{
 "cells": [
  {
   "cell_type": "markdown",
   "metadata": {},
   "source": [
    "## Note, only using comments_df for now until we figure out if it is worth it to use the posts_df as well somehow"
   ]
  },
  {
   "cell_type": "markdown",
   "metadata": {},
   "source": [
    "# 1: Import Packages, define functions\n"
   ]
  },
  {
   "cell_type": "code",
   "execution_count": 309,
   "metadata": {},
   "outputs": [],
   "source": [
    "# Import some libraries that will be used\n",
    "import pandas as pd\n",
    "import numpy as np\n",
    "import matplotlib.pyplot as plt\n",
    "import seaborn as sns\n",
    "#import mysql.connector\n",
    "# some_file.py\n",
    "import sys\n",
    "sys.path.insert(1, '/Users/brianmccabe/DataScience/Flatiron/mod4/Reddit_NLP/Scripts')\n",
    "#import config\n",
    "pd.set_option('display.max_columns', 300)\n",
    "\n",
    "%matplotlib inline"
   ]
  },
  {
   "cell_type": "code",
   "execution_count": 310,
   "metadata": {},
   "outputs": [
    {
     "name": "stderr",
     "output_type": "stream",
     "text": [
      "[nltk_data] Downloading package stopwords to\n",
      "[nltk_data]     /Users/alecmccabe/nltk_data...\n",
      "[nltk_data]   Package stopwords is already up-to-date!\n",
      "[nltk_data] Downloading package punkt to\n",
      "[nltk_data]     /Users/alecmccabe/nltk_data...\n",
      "[nltk_data]   Package punkt is already up-to-date!\n",
      "[nltk_data] Downloading package wordnet to\n",
      "[nltk_data]     /Users/alecmccabe/nltk_data...\n",
      "[nltk_data]   Package wordnet is already up-to-date!\n"
     ]
    },
    {
     "data": {
      "text/plain": [
       "True"
      ]
     },
     "execution_count": 310,
     "metadata": {},
     "output_type": "execute_result"
    }
   ],
   "source": [
    "import nltk\n",
    "import matplotlib.pyplot as plt\n",
    "import pandas as pd\n",
    "from sklearn.feature_extraction.text import CountVectorizer\n",
    "from sklearn.feature_extraction.text import TfidfVectorizer\n",
    "from sklearn.feature_extraction.text import TfidfTransformer\n",
    "from nltk.probability import FreqDist\n",
    "from nltk.corpus import stopwords\n",
    "from nltk.stem import PorterStemmer\n",
    "from sklearn.metrics import confusion_matrix\n",
    "import seaborn as sns\n",
    "from sklearn.naive_bayes import MultinomialNB\n",
    "from sklearn import metrics\n",
    "from sklearn.model_selection import train_test_split\n",
    "from matplotlib import cm\n",
    "import numpy as np\n",
    "from sklearn.ensemble import RandomForestClassifier\n",
    "from sklearn.metrics import accuracy_score\n",
    "from sklearn.metrics import f1_score\n",
    "from sklearn.naive_bayes import MultinomialNB\n",
    "import string\n",
    "\n",
    "nltk.download('stopwords')\n",
    "nltk.download('punkt')\n",
    "nltk.download('wordnet')"
   ]
  },
  {
   "cell_type": "code",
   "execution_count": 311,
   "metadata": {},
   "outputs": [],
   "source": [
    "from nltk.stem import WordNetLemmatizer \n",
    "  \n",
    "lemmatizer = WordNetLemmatizer()"
   ]
  },
  {
   "cell_type": "code",
   "execution_count": 312,
   "metadata": {},
   "outputs": [],
   "source": [
    "# we can define a function that removes stopwords \n",
    "def process_comment(comment):\n",
    "    comment = comment.lower()\n",
    "    tokens = nltk.word_tokenize(comment)\n",
    "    stopwords_removed = [token.lower() for token in tokens if token.lower() not in stopwords]\n",
    "    return stopwords_removed"
   ]
  },
  {
   "cell_type": "code",
   "execution_count": 313,
   "metadata": {},
   "outputs": [],
   "source": [
    "def capital_percentage(comment):\n",
    "    tokens = nltk.word_tokenize(comment)\n",
    "    cap_count = 0\n",
    "    for item in tokens:\n",
    "        if item.isupper():\n",
    "            cap_count += 1\n",
    "    return cap_count/len(tokens)\n",
    "\n"
   ]
  },
  {
   "cell_type": "code",
   "execution_count": 314,
   "metadata": {},
   "outputs": [],
   "source": [
    "#set stopwords and punctuations\n",
    "stopwords = stopwords.words('english')\n",
    "stopwords += list(string.punctuation)\n",
    "stopwords += [\"n't\", \"' '\", \"'re'\",\"”\",\"``\",\"“\",\"''\",\"’\",\"'s\",\"'re\",\"http\",\"https\"]"
   ]
  },
  {
   "cell_type": "markdown",
   "metadata": {},
   "source": [
    "# 2: Load in the data"
   ]
  },
  {
   "cell_type": "code",
   "execution_count": 315,
   "metadata": {},
   "outputs": [],
   "source": [
    "posts_df = pd.read_csv('/Users/alecmccabe/Desktop/Flatiron/Projects/Mod4/Reddit_NLP/csv_data/posts_df.csv', index_col=0)\n",
    "comments_df = pd.read_csv('/Users/alecmccabe/Desktop/Flatiron/Projects/Mod4/Reddit_NLP/csv_data/comments_df_(1).csv', index_col=0)"
   ]
  },
  {
   "cell_type": "code",
   "execution_count": 316,
   "metadata": {},
   "outputs": [
    {
     "data": {
      "text/plain": [
       "151515"
      ]
     },
     "execution_count": 316,
     "metadata": {},
     "output_type": "execute_result"
    }
   ],
   "source": [
    "len(comments_df)"
   ]
  },
  {
   "cell_type": "code",
   "execution_count": 317,
   "metadata": {},
   "outputs": [],
   "source": [
    "posts_df.columns = ['id_num', 'post_title', 'post_author', 'post_upvote_ratio', 'post_id', 'post_class']"
   ]
  },
  {
   "cell_type": "code",
   "execution_count": 318,
   "metadata": {},
   "outputs": [],
   "source": [
    "comments_df.columns = ['id_num', 'body', 'comment_id', 'parent_id', 'post_id', 'author', 'score', 'comment_class']"
   ]
  },
  {
   "cell_type": "code",
   "execution_count": 319,
   "metadata": {},
   "outputs": [],
   "source": [
    "import re\n",
    "\n",
    "pattern = '\\w+_(\\w+)'\n",
    "p = re.compile(pattern)"
   ]
  },
  {
   "cell_type": "code",
   "execution_count": 320,
   "metadata": {},
   "outputs": [],
   "source": [
    "comments_df.post_id = comments_df.post_id.apply(lambda x: p.findall(x)[0])"
   ]
  },
  {
   "cell_type": "code",
   "execution_count": 321,
   "metadata": {},
   "outputs": [],
   "source": [
    "# GET RID OF NEGATIVE SCORES (a negative score in a conservative subreddit could be a brigader for example)\n",
    "comments_df = comments_df[comments_df.score > 10]"
   ]
  },
  {
   "cell_type": "code",
   "execution_count": 322,
   "metadata": {},
   "outputs": [],
   "source": [
    "df = comments_df[['body', 'comment_class']]"
   ]
  },
  {
   "cell_type": "code",
   "execution_count": 323,
   "metadata": {},
   "outputs": [
    {
     "data": {
      "text/plain": [
       "right    17116\n",
       "left     15773\n",
       "Name: comment_class, dtype: int64"
      ]
     },
     "execution_count": 323,
     "metadata": {},
     "output_type": "execute_result"
    }
   ],
   "source": [
    "df.comment_class.value_counts()"
   ]
  },
  {
   "cell_type": "code",
   "execution_count": 324,
   "metadata": {},
   "outputs": [
    {
     "name": "stderr",
     "output_type": "stream",
     "text": [
      "/Users/alecmccabe/opt/anaconda3/lib/python3.8/site-packages/pandas/core/generic.py:5303: SettingWithCopyWarning: \n",
      "A value is trying to be set on a copy of a slice from a DataFrame.\n",
      "Try using .loc[row_indexer,col_indexer] = value instead\n",
      "\n",
      "See the caveats in the documentation: https://pandas.pydata.org/pandas-docs/stable/user_guide/indexing.html#returning-a-view-versus-a-copy\n",
      "  self[name] = value\n"
     ]
    }
   ],
   "source": [
    "leaning_map = {'right': 1, 'left': 0}\n",
    "df.comment_class = df.comment_class.map(leaning_map)"
   ]
  },
  {
   "cell_type": "code",
   "execution_count": 325,
   "metadata": {},
   "outputs": [
    {
     "name": "stderr",
     "output_type": "stream",
     "text": [
      "<ipython-input-325-67af6b43cc2d>:1: SettingWithCopyWarning: \n",
      "A value is trying to be set on a copy of a slice from a DataFrame.\n",
      "Try using .loc[row_indexer,col_indexer] = value instead\n",
      "\n",
      "See the caveats in the documentation: https://pandas.pydata.org/pandas-docs/stable/user_guide/indexing.html#returning-a-view-versus-a-copy\n",
      "  df['text_len'] = df['body'].map(lambda x: len(x))\n"
     ]
    }
   ],
   "source": [
    "df['text_len'] = df['body'].map(lambda x: len(x))"
   ]
  },
  {
   "cell_type": "code",
   "execution_count": 326,
   "metadata": {},
   "outputs": [],
   "source": [
    "df = df[df.text_len >= 100]\n",
    "df.drop('text_len', axis=1, inplace=True)"
   ]
  },
  {
   "cell_type": "code",
   "execution_count": 327,
   "metadata": {},
   "outputs": [
    {
     "data": {
      "text/plain": [
       "0    9389\n",
       "1    9184\n",
       "Name: comment_class, dtype: int64"
      ]
     },
     "execution_count": 327,
     "metadata": {},
     "output_type": "execute_result"
    }
   ],
   "source": [
    "df.comment_class.value_counts()"
   ]
  },
  {
   "cell_type": "code",
   "execution_count": 328,
   "metadata": {
    "scrolled": true
   },
   "outputs": [
    {
     "data": {
      "text/plain": [
       "1    9389\n",
       "0    9389\n",
       "Name: comment_class, dtype: int64"
      ]
     },
     "execution_count": 328,
     "metadata": {},
     "output_type": "execute_result"
    }
   ],
   "source": [
    "from sklearn.utils import resample\n",
    "right = df[df.comment_class == 1]\n",
    "left = df[df.comment_class == 0]\n",
    "\n",
    "right_upsampled = resample(right,\n",
    "                          replace=True, # sample with replacement\n",
    "                          n_samples=len(left), # match number in majority class\n",
    "                          random_state=42) \n",
    "df = pd.concat([left, right_upsampled])\n",
    "df.comment_class.value_counts()"
   ]
  },
  {
   "cell_type": "code",
   "execution_count": 329,
   "metadata": {},
   "outputs": [],
   "source": [
    "df.reset_index(drop=True, inplace=True)"
   ]
  },
  {
   "cell_type": "markdown",
   "metadata": {},
   "source": [
    "# Classification"
   ]
  },
  {
   "cell_type": "code",
   "execution_count": 330,
   "metadata": {},
   "outputs": [],
   "source": [
    "X = df['body']\n",
    "y = df['comment_class']"
   ]
  },
  {
   "cell_type": "code",
   "execution_count": 331,
   "metadata": {},
   "outputs": [
    {
     "data": {
      "text/plain": [
       "0        As a Lesbian, I get a lot of backlash when peo...\n",
       "1        “*These are radical islamic terrorists and she...\n",
       "2        I hope Gov. Whitmer still has all that extra s...\n",
       "3        She's not wrong. I hope this woman goes places...\n",
       "4        The Orange Tweeter's irresponsible actions hav...\n",
       "                               ...                        \n",
       "18773    Oh heavens, she was pointed and laughed at.  S...\n",
       "18774    Atheist here and this bothers me.  Believe me ...\n",
       "18775    The good news is, if Biden wins and institutes...\n",
       "18776    Not exactly shocking that communities will ban...\n",
       "18777    Because I’m a woman living alone who is in a c...\n",
       "Name: body, Length: 18778, dtype: object"
      ]
     },
     "execution_count": 331,
     "metadata": {},
     "output_type": "execute_result"
    }
   ],
   "source": [
    "X"
   ]
  },
  {
   "cell_type": "code",
   "execution_count": 332,
   "metadata": {},
   "outputs": [
    {
     "name": "stderr",
     "output_type": "stream",
     "text": [
      "[nltk_data] Downloading package averaged_perceptron_tagger to\n",
      "[nltk_data]     /Users/alecmccabe/nltk_data...\n",
      "[nltk_data]   Package averaged_perceptron_tagger is already up-to-\n",
      "[nltk_data]       date!\n"
     ]
    },
    {
     "data": {
      "text/plain": [
       "True"
      ]
     },
     "execution_count": 332,
     "metadata": {},
     "output_type": "execute_result"
    }
   ],
   "source": [
    "import nltk\n",
    "nltk.download('averaged_perceptron_tagger')"
   ]
  },
  {
   "cell_type": "code",
   "execution_count": 333,
   "metadata": {},
   "outputs": [],
   "source": [
    "from sklearn.base import BaseEstimator, TransformerMixin"
   ]
  },
  {
   "cell_type": "code",
   "execution_count": 334,
   "metadata": {},
   "outputs": [],
   "source": [
    "class Pronouns(BaseEstimator, TransformerMixin):\n",
    "    \n",
    "    def fit(self, X, y):\n",
    "        return self\n",
    "    \n",
    "    def count_pronouns(self, comment):\n",
    "        comment = comment.lower()\n",
    "        tokens = nltk.word_tokenize(comment)\n",
    "\n",
    "        pos_tags = [i[1] for i in nltk.pos_tag(tokens)]\n",
    "        count = 0\n",
    "        pronouns = ['PRP','PRP$','WP','WP$']\n",
    "        for pos in pos_tags:\n",
    "            if pos in pronouns:\n",
    "                count += 1\n",
    "\n",
    "        return count\n",
    "    \n",
    "    def transform(self, X):\n",
    "        return pd.Series(X).apply(self.count_pronouns)"
   ]
  },
  {
   "cell_type": "code",
   "execution_count": 335,
   "metadata": {},
   "outputs": [],
   "source": [
    "pronouns = Pronouns()"
   ]
  },
  {
   "cell_type": "code",
   "execution_count": 336,
   "metadata": {},
   "outputs": [
    {
     "data": {
      "text/plain": [
       "Pronouns()"
      ]
     },
     "execution_count": 336,
     "metadata": {},
     "output_type": "execute_result"
    }
   ],
   "source": [
    "pronouns.fit(X, y)"
   ]
  },
  {
   "cell_type": "code",
   "execution_count": 337,
   "metadata": {},
   "outputs": [],
   "source": [
    "pronouns_vector = pronouns.transform(X)"
   ]
  },
  {
   "cell_type": "code",
   "execution_count": 338,
   "metadata": {},
   "outputs": [
    {
     "data": {
      "text/plain": [
       "0"
      ]
     },
     "execution_count": 338,
     "metadata": {},
     "output_type": "execute_result"
    }
   ],
   "source": [
    "pronouns_vector.isna().sum()"
   ]
  },
  {
   "cell_type": "code",
   "execution_count": 339,
   "metadata": {},
   "outputs": [],
   "source": [
    "pro_train, pro_test, y_train, y_test = train_test_split(pronouns_vector, y, test_size=0.35, random_state=1)"
   ]
  },
  {
   "cell_type": "code",
   "execution_count": 340,
   "metadata": {},
   "outputs": [],
   "source": [
    "pro_train.reset_index(drop=True, inplace=True)"
   ]
  },
  {
   "cell_type": "code",
   "execution_count": 341,
   "metadata": {},
   "outputs": [],
   "source": [
    "pro_test.reset_index(drop=True, inplace=True)"
   ]
  },
  {
   "cell_type": "code",
   "execution_count": 342,
   "metadata": {},
   "outputs": [],
   "source": [
    "#apply above function to data\n",
    "\n",
    "processed_comments = list(map(process_comment, X))"
   ]
  },
  {
   "cell_type": "markdown",
   "metadata": {},
   "source": [
    "**Run these if Lemma**"
   ]
  },
  {
   "cell_type": "code",
   "execution_count": 343,
   "metadata": {},
   "outputs": [],
   "source": [
    "#create list with lemmatized output\n",
    "lemmatized_output = []\n",
    "\n",
    "for comment in processed_comments:\n",
    "    lemmed = ' '.join([lemmatizer.lemmatize(w) for w in comment])\n",
    "    lemmatized_output.append(lemmed)"
   ]
  },
  {
   "cell_type": "code",
   "execution_count": 344,
   "metadata": {},
   "outputs": [],
   "source": [
    "#change this to 'lemmatized_output' if you are including lemma (see above)\n",
    "X_lem = lemmatized_output\n",
    "\n",
    "y_lem = y"
   ]
  },
  {
   "cell_type": "markdown",
   "metadata": {},
   "source": [
    "**Run these if not Lemma**"
   ]
  },
  {
   "cell_type": "code",
   "execution_count": 204,
   "metadata": {},
   "outputs": [],
   "source": [
    "#create list with lemmatized output\n",
    "non_lemma_output = []\n",
    "\n",
    "for comment in processed_comments:\n",
    "    non_lemma = ' '.join([w for w in comment])\n",
    "    non_lemma_output.append(non_lemma)"
   ]
  },
  {
   "cell_type": "code",
   "execution_count": 205,
   "metadata": {},
   "outputs": [],
   "source": [
    "X_lem = non_lemma_output\n",
    "\n",
    "y_lem = y"
   ]
  },
  {
   "cell_type": "code",
   "execution_count": 345,
   "metadata": {},
   "outputs": [],
   "source": [
    "X_train_lem, X_test_lem, y_train_lem, y_test_lem = train_test_split(X_lem, y_lem, test_size=0.35, random_state=1)"
   ]
  },
  {
   "cell_type": "code",
   "execution_count": 346,
   "metadata": {},
   "outputs": [],
   "source": [
    "import en_core_web_sm\n",
    "nlp = en_core_web_sm.load()"
   ]
  },
  {
   "cell_type": "code",
   "execution_count": 347,
   "metadata": {},
   "outputs": [],
   "source": [
    "import spacy \n",
    "from sklearn.base import BaseEstimator, TransformerMixin\n",
    "class SpacyVectorTransformer(BaseEstimator, TransformerMixin):\n",
    "    def __init__(self, nlp):\n",
    "        self.nlp = nlp\n",
    "        self.dim = 300\n",
    "\n",
    "    def fit(self, X, y):\n",
    "        return self\n",
    "\n",
    "    def transform(self, X):\n",
    "        # Doc.vector defaults to an average of the token vectors.\n",
    "        # https://spacy.io/api/doc#vector\n",
    "        \n",
    "        return [self.nlp(text).vector for text in X]"
   ]
  },
  {
   "cell_type": "code",
   "execution_count": 348,
   "metadata": {},
   "outputs": [],
   "source": [
    "from sklearn.pipeline import Pipeline, FeatureUnion\n",
    "from sklearn.decomposition import TruncatedSVD\n",
    "from sklearn.metrics import classification_report"
   ]
  },
  {
   "cell_type": "code",
   "execution_count": 279,
   "metadata": {},
   "outputs": [
    {
     "name": "stderr",
     "output_type": "stream",
     "text": [
      "[Parallel(n_jobs=-1)]: Using backend ThreadingBackend with 8 concurrent workers.\n",
      "[Parallel(n_jobs=-1)]: Done  34 tasks      | elapsed:    0.5s\n",
      "[Parallel(n_jobs=-1)]: Done 100 out of 100 | elapsed:    1.1s finished\n",
      "[Parallel(n_jobs=8)]: Using backend ThreadingBackend with 8 concurrent workers.\n",
      "[Parallel(n_jobs=8)]: Done  34 tasks      | elapsed:    0.0s\n",
      "[Parallel(n_jobs=8)]: Done 100 out of 100 | elapsed:    0.0s finished\n"
     ]
    }
   ],
   "source": [
    "embeddings_pipeline = Pipeline(\n",
    "    steps=[\n",
    "        (\"mean_embeddings\", SpacyVectorTransformer(nlp)),\n",
    "        (\"reduce_dim\", TruncatedSVD(50)),\n",
    "        (\"classifier\", RandomForestClassifier(random_state=0,n_jobs=-1, verbose=1)),\n",
    "    ]\n",
    ")\n",
    "embeddings_pipeline.fit(X_train_lem, y_train_lem)\n",
    "y_pred = embeddings_pipeline.predict(X_test_lem)\n",
    "cr = classification_report(y_test_lem, y_pred,output_dict=True)"
   ]
  },
  {
   "cell_type": "code",
   "execution_count": 280,
   "metadata": {},
   "outputs": [],
   "source": [
    "report = pd.DataFrame(cr).transpose()"
   ]
  },
  {
   "cell_type": "code",
   "execution_count": 281,
   "metadata": {
    "scrolled": false
   },
   "outputs": [
    {
     "data": {
      "text/html": [
       "<div>\n",
       "<style scoped>\n",
       "    .dataframe tbody tr th:only-of-type {\n",
       "        vertical-align: middle;\n",
       "    }\n",
       "\n",
       "    .dataframe tbody tr th {\n",
       "        vertical-align: top;\n",
       "    }\n",
       "\n",
       "    .dataframe thead th {\n",
       "        text-align: right;\n",
       "    }\n",
       "</style>\n",
       "<table border=\"1\" class=\"dataframe\">\n",
       "  <thead>\n",
       "    <tr style=\"text-align: right;\">\n",
       "      <th></th>\n",
       "      <th>precision</th>\n",
       "      <th>recall</th>\n",
       "      <th>f1-score</th>\n",
       "      <th>support</th>\n",
       "    </tr>\n",
       "  </thead>\n",
       "  <tbody>\n",
       "    <tr>\n",
       "      <th>0</th>\n",
       "      <td>0.871549</td>\n",
       "      <td>0.936157</td>\n",
       "      <td>0.902699</td>\n",
       "      <td>3305.000000</td>\n",
       "    </tr>\n",
       "    <tr>\n",
       "      <th>1</th>\n",
       "      <td>0.930202</td>\n",
       "      <td>0.860465</td>\n",
       "      <td>0.893976</td>\n",
       "      <td>3268.000000</td>\n",
       "    </tr>\n",
       "    <tr>\n",
       "      <th>accuracy</th>\n",
       "      <td>0.898524</td>\n",
       "      <td>0.898524</td>\n",
       "      <td>0.898524</td>\n",
       "      <td>0.898524</td>\n",
       "    </tr>\n",
       "    <tr>\n",
       "      <th>macro avg</th>\n",
       "      <td>0.900876</td>\n",
       "      <td>0.898311</td>\n",
       "      <td>0.898337</td>\n",
       "      <td>6573.000000</td>\n",
       "    </tr>\n",
       "    <tr>\n",
       "      <th>weighted avg</th>\n",
       "      <td>0.900710</td>\n",
       "      <td>0.898524</td>\n",
       "      <td>0.898362</td>\n",
       "      <td>6573.000000</td>\n",
       "    </tr>\n",
       "  </tbody>\n",
       "</table>\n",
       "</div>"
      ],
      "text/plain": [
       "              precision    recall  f1-score      support\n",
       "0              0.871549  0.936157  0.902699  3305.000000\n",
       "1              0.930202  0.860465  0.893976  3268.000000\n",
       "accuracy       0.898524  0.898524  0.898524     0.898524\n",
       "macro avg      0.900876  0.898311  0.898337  6573.000000\n",
       "weighted avg   0.900710  0.898524  0.898362  6573.000000"
      ]
     },
     "execution_count": 281,
     "metadata": {},
     "output_type": "execute_result"
    }
   ],
   "source": [
    "report"
   ]
  },
  {
   "cell_type": "code",
   "execution_count": 282,
   "metadata": {},
   "outputs": [
    {
     "name": "stderr",
     "output_type": "stream",
     "text": [
      "[Parallel(n_jobs=-1)]: Using backend ThreadingBackend with 8 concurrent workers.\n",
      "[Parallel(n_jobs=-1)]: Done  34 tasks      | elapsed:    0.6s\n",
      "[Parallel(n_jobs=-1)]: Done 100 out of 100 | elapsed:    1.6s finished\n",
      "[Parallel(n_jobs=8)]: Using backend ThreadingBackend with 8 concurrent workers.\n",
      "[Parallel(n_jobs=8)]: Done  34 tasks      | elapsed:    0.0s\n",
      "[Parallel(n_jobs=8)]: Done 100 out of 100 | elapsed:    0.1s finished\n"
     ]
    }
   ],
   "source": [
    "tfidf_pipeline = Pipeline(\n",
    "    steps=[\n",
    "        (\"tfidf\", TfidfVectorizer()),\n",
    "        (\"classifier\", RandomForestClassifier(random_state=0,n_jobs=-1, verbose=1)),\n",
    "    ]\n",
    ")\n",
    "\n",
    "tfidf_pipeline.fit(X_train_lem, y_train_lem)\n",
    "y_pred = tfidf_pipeline.predict(X_test_lem)\n",
    "cr = classification_report(y_test_lem, y_pred, output_dict=True)"
   ]
  },
  {
   "cell_type": "code",
   "execution_count": 283,
   "metadata": {},
   "outputs": [],
   "source": [
    "report = pd.DataFrame(cr).transpose()"
   ]
  },
  {
   "cell_type": "code",
   "execution_count": 284,
   "metadata": {
    "scrolled": true
   },
   "outputs": [
    {
     "data": {
      "text/html": [
       "<div>\n",
       "<style scoped>\n",
       "    .dataframe tbody tr th:only-of-type {\n",
       "        vertical-align: middle;\n",
       "    }\n",
       "\n",
       "    .dataframe tbody tr th {\n",
       "        vertical-align: top;\n",
       "    }\n",
       "\n",
       "    .dataframe thead th {\n",
       "        text-align: right;\n",
       "    }\n",
       "</style>\n",
       "<table border=\"1\" class=\"dataframe\">\n",
       "  <thead>\n",
       "    <tr style=\"text-align: right;\">\n",
       "      <th></th>\n",
       "      <th>precision</th>\n",
       "      <th>recall</th>\n",
       "      <th>f1-score</th>\n",
       "      <th>support</th>\n",
       "    </tr>\n",
       "  </thead>\n",
       "  <tbody>\n",
       "    <tr>\n",
       "      <th>0</th>\n",
       "      <td>0.925325</td>\n",
       "      <td>0.948563</td>\n",
       "      <td>0.936800</td>\n",
       "      <td>3305.000000</td>\n",
       "    </tr>\n",
       "    <tr>\n",
       "      <th>1</th>\n",
       "      <td>0.946625</td>\n",
       "      <td>0.922583</td>\n",
       "      <td>0.934449</td>\n",
       "      <td>3268.000000</td>\n",
       "    </tr>\n",
       "    <tr>\n",
       "      <th>accuracy</th>\n",
       "      <td>0.935646</td>\n",
       "      <td>0.935646</td>\n",
       "      <td>0.935646</td>\n",
       "      <td>0.935646</td>\n",
       "    </tr>\n",
       "    <tr>\n",
       "      <th>macro avg</th>\n",
       "      <td>0.935975</td>\n",
       "      <td>0.935573</td>\n",
       "      <td>0.935624</td>\n",
       "      <td>6573.000000</td>\n",
       "    </tr>\n",
       "    <tr>\n",
       "      <th>weighted avg</th>\n",
       "      <td>0.935915</td>\n",
       "      <td>0.935646</td>\n",
       "      <td>0.935631</td>\n",
       "      <td>6573.000000</td>\n",
       "    </tr>\n",
       "  </tbody>\n",
       "</table>\n",
       "</div>"
      ],
      "text/plain": [
       "              precision    recall  f1-score      support\n",
       "0              0.925325  0.948563  0.936800  3305.000000\n",
       "1              0.946625  0.922583  0.934449  3268.000000\n",
       "accuracy       0.935646  0.935646  0.935646     0.935646\n",
       "macro avg      0.935975  0.935573  0.935624  6573.000000\n",
       "weighted avg   0.935915  0.935646  0.935631  6573.000000"
      ]
     },
     "execution_count": 284,
     "metadata": {},
     "output_type": "execute_result"
    }
   ],
   "source": [
    "report"
   ]
  },
  {
   "cell_type": "code",
   "execution_count": 285,
   "metadata": {},
   "outputs": [],
   "source": [
    "# individual pipelines minus the estimator step: \n",
    "tfidf_pipeline = Pipeline(\n",
    "    steps=[\n",
    "        (\"tfidf\", TfidfVectorizer()),\n",
    "    ]\n",
    ")\n",
    "\n",
    "embeddings_pipeline = Pipeline(\n",
    "    steps=[\n",
    "        (\"mean_embeddings\", SpacyVectorTransformer(nlp)),\n",
    "        (\"reduce_dim\", TruncatedSVD(50)),\n",
    "    ]\n",
    ")"
   ]
  },
  {
   "cell_type": "code",
   "execution_count": 286,
   "metadata": {},
   "outputs": [],
   "source": [
    "combined_features = FeatureUnion(\n",
    "    transformer_list=[\n",
    "        (\"tfidf\", tfidf_pipeline),\n",
    "        (\"embeddings\", embeddings_pipeline),\n",
    "        #(try adding a pipeline that is just the dense columns)\n",
    "    ]\n",
    ")\n",
    "final_pipeline = Pipeline(\n",
    "    steps=[\n",
    "        (\"combined_features\", combined_features),\n",
    "        (\"classifier\", RandomForestClassifier(random_state=0,n_jobs=-1, verbose=1)),\n",
    "    ]\n",
    ")"
   ]
  },
  {
   "cell_type": "code",
   "execution_count": 287,
   "metadata": {},
   "outputs": [
    {
     "name": "stderr",
     "output_type": "stream",
     "text": [
      "[Parallel(n_jobs=-1)]: Using backend ThreadingBackend with 8 concurrent workers.\n",
      "[Parallel(n_jobs=-1)]: Done  34 tasks      | elapsed:    0.7s\n",
      "[Parallel(n_jobs=-1)]: Done 100 out of 100 | elapsed:    1.8s finished\n",
      "[Parallel(n_jobs=8)]: Using backend ThreadingBackend with 8 concurrent workers.\n",
      "[Parallel(n_jobs=8)]: Done  34 tasks      | elapsed:    0.0s\n",
      "[Parallel(n_jobs=8)]: Done 100 out of 100 | elapsed:    0.1s finished\n"
     ]
    }
   ],
   "source": [
    "final_pipeline.fit(X_train_lem, y_train_lem)\n",
    "y_pred = final_pipeline.predict(X_test_lem)\n",
    "cr = classification_report(y_test_lem, y_pred, output_dict=True)"
   ]
  },
  {
   "cell_type": "code",
   "execution_count": 288,
   "metadata": {},
   "outputs": [],
   "source": [
    "report = pd.DataFrame(cr).transpose()"
   ]
  },
  {
   "cell_type": "code",
   "execution_count": 289,
   "metadata": {
    "scrolled": true
   },
   "outputs": [
    {
     "data": {
      "text/html": [
       "<div>\n",
       "<style scoped>\n",
       "    .dataframe tbody tr th:only-of-type {\n",
       "        vertical-align: middle;\n",
       "    }\n",
       "\n",
       "    .dataframe tbody tr th {\n",
       "        vertical-align: top;\n",
       "    }\n",
       "\n",
       "    .dataframe thead th {\n",
       "        text-align: right;\n",
       "    }\n",
       "</style>\n",
       "<table border=\"1\" class=\"dataframe\">\n",
       "  <thead>\n",
       "    <tr style=\"text-align: right;\">\n",
       "      <th></th>\n",
       "      <th>precision</th>\n",
       "      <th>recall</th>\n",
       "      <th>f1-score</th>\n",
       "      <th>support</th>\n",
       "    </tr>\n",
       "  </thead>\n",
       "  <tbody>\n",
       "    <tr>\n",
       "      <th>0</th>\n",
       "      <td>0.904375</td>\n",
       "      <td>0.975794</td>\n",
       "      <td>0.938728</td>\n",
       "      <td>3305.00000</td>\n",
       "    </tr>\n",
       "    <tr>\n",
       "      <th>1</th>\n",
       "      <td>0.973395</td>\n",
       "      <td>0.895655</td>\n",
       "      <td>0.932908</td>\n",
       "      <td>3268.00000</td>\n",
       "    </tr>\n",
       "    <tr>\n",
       "      <th>accuracy</th>\n",
       "      <td>0.935950</td>\n",
       "      <td>0.935950</td>\n",
       "      <td>0.935950</td>\n",
       "      <td>0.93595</td>\n",
       "    </tr>\n",
       "    <tr>\n",
       "      <th>macro avg</th>\n",
       "      <td>0.938885</td>\n",
       "      <td>0.935725</td>\n",
       "      <td>0.935818</td>\n",
       "      <td>6573.00000</td>\n",
       "    </tr>\n",
       "    <tr>\n",
       "      <th>weighted avg</th>\n",
       "      <td>0.938691</td>\n",
       "      <td>0.935950</td>\n",
       "      <td>0.935835</td>\n",
       "      <td>6573.00000</td>\n",
       "    </tr>\n",
       "  </tbody>\n",
       "</table>\n",
       "</div>"
      ],
      "text/plain": [
       "              precision    recall  f1-score     support\n",
       "0              0.904375  0.975794  0.938728  3305.00000\n",
       "1              0.973395  0.895655  0.932908  3268.00000\n",
       "accuracy       0.935950  0.935950  0.935950     0.93595\n",
       "macro avg      0.938885  0.935725  0.935818  6573.00000\n",
       "weighted avg   0.938691  0.935950  0.935835  6573.00000"
      ]
     },
     "execution_count": 289,
     "metadata": {},
     "output_type": "execute_result"
    }
   ],
   "source": [
    "report"
   ]
  },
  {
   "cell_type": "markdown",
   "metadata": {},
   "source": [
    "**Combining Sparse with Dense**"
   ]
  },
  {
   "cell_type": "code",
   "execution_count": 362,
   "metadata": {
    "scrolled": true
   },
   "outputs": [
    {
     "data": {
      "text/plain": [
       "<12205x18616 sparse matrix of type '<class 'numpy.float64'>'\n",
       "\twith 315587 stored elements in Compressed Sparse Row format>"
      ]
     },
     "execution_count": 362,
     "metadata": {},
     "output_type": "execute_result"
    }
   ],
   "source": [
    "tfidf = TfidfVectorizer(ngram_range=(1,1))\n",
    "\n",
    "tfidf_data_train_lem = tfidf.fit_transform(X_train_lem)\n",
    "tfidf_data_test_lem = tfidf.transform(X_test_lem)\n",
    "\n",
    "tfidf_data_train_lem"
   ]
  },
  {
   "cell_type": "code",
   "execution_count": 363,
   "metadata": {},
   "outputs": [],
   "source": [
    "# Run this cell without changes\n",
    "\n",
    "tfidf_data_train_lem = pd.DataFrame(tfidf_data_train_lem.toarray(), columns=tfidf.vocabulary_.keys())\n",
    "train_columns = tfidf_data_train_lem.columns\n",
    "\n",
    "tfidf_data_test_lem = pd.DataFrame(tfidf_data_test_lem.toarray(), columns=tfidf.vocabulary_.keys())"
   ]
  },
  {
   "cell_type": "code",
   "execution_count": 364,
   "metadata": {},
   "outputs": [],
   "source": [
    "import scipy"
   ]
  },
  {
   "cell_type": "code",
   "execution_count": 365,
   "metadata": {},
   "outputs": [],
   "source": [
    "tfidf_data_train_lem['pronouns'] = pro_train"
   ]
  },
  {
   "cell_type": "code",
   "execution_count": 366,
   "metadata": {},
   "outputs": [],
   "source": [
    "tfidf_data_train_lem = scipy.sparse.csr_matrix(tfidf_data_train_lem)"
   ]
  },
  {
   "cell_type": "code",
   "execution_count": 367,
   "metadata": {},
   "outputs": [],
   "source": [
    "tfidf_data_test_lem['pronouns'] = pro_test"
   ]
  },
  {
   "cell_type": "code",
   "execution_count": 368,
   "metadata": {},
   "outputs": [],
   "source": [
    "tfidf_data_test_lem = scipy.sparse.csr_matrix(tfidf_data_test_lem)"
   ]
  },
  {
   "cell_type": "markdown",
   "metadata": {},
   "source": [
    "## Random Forest"
   ]
  },
  {
   "cell_type": "code",
   "execution_count": 369,
   "metadata": {},
   "outputs": [
    {
     "name": "stderr",
     "output_type": "stream",
     "text": [
      "[Parallel(n_jobs=-1)]: Using backend ThreadingBackend with 8 concurrent workers.\n",
      "[Parallel(n_jobs=-1)]: Done  34 tasks      | elapsed:    0.7s\n"
     ]
    },
    {
     "name": "stdout",
     "output_type": "stream",
     "text": [
      "Random Forest with Lemmatization Features\n",
      "Testing Accuracy: 0.9407\n",
      "\n",
      "F1 Score: 0.9394\n"
     ]
    },
    {
     "name": "stderr",
     "output_type": "stream",
     "text": [
      "[Parallel(n_jobs=-1)]: Done 100 out of 100 | elapsed:    1.7s finished\n",
      "[Parallel(n_jobs=8)]: Using backend ThreadingBackend with 8 concurrent workers.\n",
      "[Parallel(n_jobs=8)]: Done  34 tasks      | elapsed:    0.0s\n",
      "[Parallel(n_jobs=8)]: Done 100 out of 100 | elapsed:    0.1s finished\n"
     ]
    }
   ],
   "source": [
    "rfc_lemma = RandomForestClassifier(n_estimators=100,random_state=0,n_jobs=-1,verbose=1)\n",
    "rfc_lemma.fit(train_df, y_train_lem)\n",
    "rf_test_preds = rfc_lemma.predict(test_df)\n",
    "\n",
    "rf_acc_score_lem = accuracy_score(y_test_lem, rf_test_preds)\n",
    "rf_f1_score_lem = f1_score(y_test_lem, rf_test_preds)\n",
    "print('Random Forest with Lemmatization Features')\n",
    "print(\"Testing Accuracy: {:.4}\".format(rf_acc_score_lem))\n",
    "print()\n",
    "print(\"F1 Score: {:.4}\".format(rf_f1_score_lem))"
   ]
  },
  {
   "cell_type": "code",
   "execution_count": 373,
   "metadata": {},
   "outputs": [
    {
     "data": {
      "text/plain": [
       "[('hoa', 0.04514226457943758),\n",
       " ('underpaying', 0.028264571140766314),\n",
       " ('jurist', 0.008079339535841744),\n",
       " ('bees', 0.007827063861460017),\n",
       " ('street', 0.0070683204479523795),\n",
       " ('vu', 0.005470042172845039),\n",
       " ('biggly', 0.005449513458783107),\n",
       " ('amend', 0.005351840013149735),\n",
       " ('ojelr5pxgdu', 0.004591115208074517),\n",
       " ('instability', 0.004462310686779197),\n",
       " ('catastrophic', 0.004454111680063249),\n",
       " ('fashioned', 0.00404644846266734),\n",
       " ('projects', 0.003823453453465502),\n",
       " ('ackwards', 0.0035993995651267575),\n",
       " ('anglophone', 0.0035640082724570344),\n",
       " ('fec', 0.0034387028702032325),\n",
       " ('expected', 0.0034062496597159955),\n",
       " ('dissident', 0.0033443305292870846),\n",
       " ('indirect', 0.0032048824409471673),\n",
       " ('understandably', 0.0031830610068370436),\n",
       " ('guardian', 0.003147217160909986),\n",
       " ('mexican', 0.0030577161566279283),\n",
       " ('hungry', 0.002969803349954202),\n",
       " ('handcuff', 0.0029483128958768235),\n",
       " ('lowe', 0.0028763167753400824),\n",
       " ('whiteness', 0.0028298640076441163),\n",
       " ('informing', 0.002761093778853048),\n",
       " ('limited', 0.0027525548424867864),\n",
       " ('silicon', 0.0026335120643398244),\n",
       " ('theatre', 0.002600817134819984),\n",
       " ('curious', 0.0025444525421046615),\n",
       " ('hardening', 0.0024987123695788065),\n",
       " ('cohabitating', 0.002478005700511375),\n",
       " ('picking', 0.0024639069244168895),\n",
       " ('enable', 0.0024540517752012457),\n",
       " ('illusion', 0.002425480863111993),\n",
       " ('measured', 0.0024083500340852937),\n",
       " ('lifted', 0.0024069373533454376),\n",
       " ('perplexing', 0.0023764368540827095),\n",
       " ('remorse', 0.0023443762764254433),\n",
       " ('submarine', 0.0021832827349450184),\n",
       " ('pardoned', 0.002111433790828884),\n",
       " ('renter', 0.00208139655923416),\n",
       " ('1824', 0.002064737223616589),\n",
       " ('unilateral', 0.001984112079760824),\n",
       " ('oluo', 0.001983049369676178),\n",
       " ('heed', 0.0019734906950100942),\n",
       " ('predicted', 0.0019527124227077643),\n",
       " ('remembrance', 0.0019392443773255791),\n",
       " ('tradeoff', 0.001928409190814345),\n",
       " ('easily', 0.001873920809743439),\n",
       " ('6472', 0.0018684725474102215),\n",
       " ('hey', 0.0018637160434709108),\n",
       " ('respond', 0.0018537739293126498),\n",
       " ('stepmother', 0.0018304560321770003),\n",
       " ('dronning', 0.0018230376191762756),\n",
       " ('documenting', 0.0018124954010836386),\n",
       " ('boss', 0.0017997650289667268),\n",
       " ('castigated', 0.0017880060405995784),\n",
       " ('molester', 0.0017818156657796757),\n",
       " ('based', 0.0017348153836130615),\n",
       " ('escalating', 0.0017327045481059953),\n",
       " ('issa', 0.0016917775586294211),\n",
       " ('voices', 0.0016744843901469434),\n",
       " ('nfl', 0.0016719031372077595),\n",
       " ('refuses', 0.0016595872547486893),\n",
       " ('kenneth_k', 0.0016527766400344574),\n",
       " ('guaranteed', 0.0016178281502747158),\n",
       " ('insurance', 0.0016170733540743242),\n",
       " ('taxable', 0.001611304227887347),\n",
       " ('subsequently', 0.0015846904161926822),\n",
       " ('fruitful', 0.0015783513819730092),\n",
       " ('rwanda', 0.0015691993291724784),\n",
       " ('005', 0.001560786256194096),\n",
       " ('cat', 0.0015450593178229467),\n",
       " ('preacher', 0.0015370592415793654),\n",
       " ('trial', 0.0015324301474499884),\n",
       " ('unbalanced', 0.0015310898234173892),\n",
       " ('uninformed', 0.0015173275125115254),\n",
       " ('tribe', 0.0015108900188675375),\n",
       " ('roadside', 0.0015010830938424738),\n",
       " ('kmurphy246', 0.0015003523502372406),\n",
       " ('hydrosonic', 0.0014985096412491556),\n",
       " ('pea', 0.0014642830698492096),\n",
       " ('_enough_', 0.0014419050066034988),\n",
       " ('extermination', 0.00144054266724025),\n",
       " ('fukushima', 0.0014080508588580887),\n",
       " ('grin', 0.001374433213427551),\n",
       " ('crystal', 0.0013704416056555574),\n",
       " ('23', 0.0013652134464319542),\n",
       " ('tool', 0.00136222068970261),\n",
       " ('fertility', 0.001361832860883746),\n",
       " ('reports', 0.0013549817191806802),\n",
       " ('dam', 0.0013286930766689118),\n",
       " ('conception', 0.00132179493071517),\n",
       " ('assault', 0.0013207594679507156),\n",
       " ('adrenaline', 0.0013080891663954349),\n",
       " ('828', 0.0013080488813518735),\n",
       " ('gasped', 0.0013065160707719408),\n",
       " ('cwd', 0.0013031396817196092),\n",
       " ('syria', 0.0012818319353034907),\n",
       " ('hegemony', 0.0012748190565400586),\n",
       " ('recently', 0.0012710137834742773),\n",
       " ('opens', 0.0012685748222080588),\n",
       " ('republic', 0.0012623620893643572),\n",
       " ('registry', 0.0012494991671541218),\n",
       " ('bone', 0.0012456098010002626),\n",
       " ('volatility', 0.0012442253570388861),\n",
       " ('baselessly', 0.0012361714396510977),\n",
       " ('posture', 0.0012355005050980613),\n",
       " ('geneticist', 0.0012314865059285833),\n",
       " ('thehill', 0.001231097278524479),\n",
       " ('participated', 0.0012304762709422238),\n",
       " ('backdrop', 0.00122024166434007),\n",
       " ('motive', 0.0011958313958357403),\n",
       " ('kristi', 0.0011914806880856071),\n",
       " ('rice', 0.001185590698996861),\n",
       " ('mondale', 0.0011849639740738715),\n",
       " ('literalism', 0.0011838382809373604),\n",
       " ('sarcastic', 0.0011743964994224735),\n",
       " ('_cost', 0.0011619007733738305),\n",
       " ('abolished', 0.0011514070752360287),\n",
       " ('motivation', 0.0011473886639697267),\n",
       " ('sewage', 0.0011470900755747467),\n",
       " ('streak', 0.0011404451635580323),\n",
       " ('natalie_allison', 0.0011359029080288395),\n",
       " ('dame', 0.001133907831987391),\n",
       " ('generate', 0.0011239649372358524),\n",
       " ('phrasing', 0.001117872249026863),\n",
       " ('merrier', 0.0011140886754506117),\n",
       " ('functioning', 0.001112581672636777),\n",
       " ('joblessness', 0.0010882831463853327),\n",
       " ('reincarnated', 0.00106626087637133),\n",
       " ('obey', 0.0010610976413737985),\n",
       " ('milquetoast', 0.001058751086682711),\n",
       " ('m67s', 0.0010530109381636605),\n",
       " ('n95', 0.0010512987507043687),\n",
       " ('qtqmgdocbvm', 0.0010440541358453198),\n",
       " ('alienated', 0.001043180479754731),\n",
       " ('buddhist', 0.001041583799399036),\n",
       " ('2008', 0.0010406614963854076),\n",
       " ('athority', 0.0010384528746600998),\n",
       " ('junkie', 0.0010350842600034204),\n",
       " ('outnumbered', 0.001034912347768074),\n",
       " ('202', 0.0010333751325115217),\n",
       " ('utters', 0.0010303825994301844),\n",
       " ('steroid', 0.0010215404752294938),\n",
       " ('insisted', 0.0010146783341830343),\n",
       " ('claims', 0.0010092263250027704),\n",
       " ('merriam', 0.0010080111010387818),\n",
       " ('psychoanalysis', 0.0009817318012086116),\n",
       " ('pitch', 0.0009792241568382589),\n",
       " ('stereotype', 0.0009791465132523685),\n",
       " ('raced', 0.0009750855190821909),\n",
       " ('easiest', 0.0009722817693475613),\n",
       " ('mashed', 0.0009662263505075511),\n",
       " ('preoccupy', 0.0009610046896919126),\n",
       " ('302845', 0.0009567902410520817),\n",
       " ('refuting', 0.000954212043827735),\n",
       " ('incinerator', 0.0009523435307017191),\n",
       " ('oblige', 0.0009504221272949114),\n",
       " ('trashing', 0.0009478818384735322),\n",
       " ('embarrassment', 0.0009478030724028581),\n",
       " ('ziplock', 0.0009438803805646701),\n",
       " ('mankind', 0.0009407182564720864),\n",
       " ('mjhegar', 0.0009388073030172152),\n",
       " ('reluctance', 0.0009358899524344469),\n",
       " ('job', 0.0009291808112319274),\n",
       " ('publicity', 0.0009271385682942748),\n",
       " ('touching', 0.0009265061453957883),\n",
       " ('slave', 0.0009228858410496951),\n",
       " ('stoop', 0.0009220652866171442),\n",
       " ('polarizing', 0.0009190931773291587),\n",
       " ('avoiding', 0.0009170893836540459),\n",
       " ('respecting', 0.0009150636179686343),\n",
       " ('unlimited', 0.0009109172107968907),\n",
       " ('prohibitionist', 0.0009102711995526341),\n",
       " ('lg', 0.0009080262131576891),\n",
       " ('i5d3it4bhbq', 0.0009035615726497726),\n",
       " ('poop', 0.0009017956037274128),\n",
       " ('implicit', 0.000900437699999527),\n",
       " ('eight', 0.0008940400342737303),\n",
       " ('galactic', 0.0008917603949631899),\n",
       " ('armenia', 0.0008895932062001899),\n",
       " ('webstore', 0.000887449654290184),\n",
       " ('serbia', 0.0008825672217705507),\n",
       " ('discard', 0.0008816697927369472),\n",
       " ('shitstain', 0.0008814532406963445),\n",
       " ('1954', 0.0008797284929674094),\n",
       " ('bress', 0.0008787594663740941),\n",
       " ('continuing', 0.0008723361296416089),\n",
       " ('nuance', 0.0008713349634397769),\n",
       " ('opted', 0.0008712487935335781),\n",
       " ('reel', 0.000863046242588336),\n",
       " ('konasha', 0.0008618486409446495),\n",
       " ('abashed', 0.0008617118000132156),\n",
       " ('already', 0.0008582446870195308),\n",
       " ('fired', 0.0008546117450089573),\n",
       " ('morgue', 0.0008504046349636852),\n",
       " ('cathartic', 0.0008487675859058957),\n",
       " ('have', 0.0008487418304163875),\n",
       " ('arming', 0.0008484878075373945),\n",
       " ('storage', 0.0008454498801753128),\n",
       " ('martial', 0.0008393479916193727),\n",
       " ('walmart', 0.0008392347979573791),\n",
       " ('contributed', 0.000835266024955161),\n",
       " ('seaside', 0.0008298860405247037),\n",
       " ('aftermath', 0.0008263582376544465),\n",
       " ('mm', 0.0008245569398065912),\n",
       " ('management', 0.000817900711847946),\n",
       " ('infraction', 0.0008154504143326204),\n",
       " ('person', 0.0008142103044593904),\n",
       " ('watchful', 0.0008121185468804383),\n",
       " ('mississippi', 0.0008105230030124544),\n",
       " ('kemp', 0.0008033014784615885),\n",
       " ('convoy', 0.0008029542593991751),\n",
       " ('talkingpointsmemo', 0.0008022790632895824),\n",
       " ('crossing', 0.0008020875542926068),\n",
       " ('beccaria', 0.000801234477907833),\n",
       " ('purposely', 0.0008010854527157799),\n",
       " ('cruelest', 0.0007967473278244402),\n",
       " ('recalling', 0.0007963608336124047),\n",
       " ('adulation', 0.0007947437067159513),\n",
       " ('solid', 0.0007937372093980651),\n",
       " ('57', 0.000789688430421462),\n",
       " ('negate', 0.0007832904306179908),\n",
       " ('oust', 0.0007819971731781456),\n",
       " ('semblance', 0.0007761678006728254),\n",
       " ('epcot', 0.0007756319559438001),\n",
       " ('plug', 0.0007746537393564577),\n",
       " ('dislike', 0.0007746045138018414),\n",
       " ('mixture', 0.0007745667674055491),\n",
       " ('extend', 0.0007737017386307825),\n",
       " ('restroom', 0.0007733816958882294),\n",
       " ('f150', 0.0007615670819129559),\n",
       " ('jowl', 0.0007597987756950081),\n",
       " ('kercheval', 0.0007596652000472601),\n",
       " ('shameless', 0.0007595094738400287),\n",
       " ('youngest', 0.000757118718925522),\n",
       " ('983', 0.0007536260222972703),\n",
       " ('stories', 0.0007528811045918495),\n",
       " ('exodus', 0.0007520766608458527),\n",
       " ('pouch', 0.000750662576794519),\n",
       " ('untrue', 0.0007495298210591097),\n",
       " ('artwork', 0.0007478459220310209),\n",
       " ('humane', 0.0007450765612317217),\n",
       " ('889751095', 0.0007409593454349916),\n",
       " ('educate', 0.0007397412653219221),\n",
       " ('inadequacy', 0.0007316933612434923),\n",
       " ('knocked', 0.0007303300962627258),\n",
       " ('secures', 0.000725028926777566),\n",
       " ('busting', 0.0007199530687729461),\n",
       " ('gine', 0.0007162097911514792),\n",
       " ('cult', 0.0007153533782987964),\n",
       " ('imprisonment', 0.0007151756120425526),\n",
       " ('longtime', 0.0007149633642757739),\n",
       " ('hail', 0.0007142900620570138),\n",
       " ('dare', 0.0007136918874983589),\n",
       " ('hooked', 0.0007082561304907004),\n",
       " ('specialty', 0.0007080456695570611),\n",
       " ('whatabout', 0.0007059388532181214),\n",
       " ('up', 0.0007038641704290658),\n",
       " ('arab', 0.0007030505558546496),\n",
       " ('an', 0.0007017846089463252),\n",
       " ('oft', 0.0006996084857167192),\n",
       " ('ultraconservative', 0.0006985168359535201),\n",
       " ('repudiation', 0.0006977680265019538),\n",
       " ('former', 0.0006964402215688431),\n",
       " ('disconcert', 0.0006962782442248577),\n",
       " ('impeaching', 0.0006927954915557269),\n",
       " ('interior', 0.0006920770239539417),\n",
       " ('scrimmage', 0.000690140618421001),\n",
       " ('resorting', 0.0006900240893889033),\n",
       " ('fulminating', 0.0006896439460160222),\n",
       " ('mismatched', 0.0006885537270105434),\n",
       " ('sleezy', 0.0006881924625892686),\n",
       " ('besmirches', 0.0006867215435236589),\n",
       " ('disaster', 0.0006846256760411414),\n",
       " ('rid', 0.0006776633161477501),\n",
       " ('1317944813732450307', 0.0006763284714948499),\n",
       " ('remark', 0.000674965068777178),\n",
       " ('blessed', 0.0006734460383733192),\n",
       " ('postponed', 0.0006719173221942065),\n",
       " ('strapped', 0.0006715069018129155),\n",
       " ('offer', 0.000665770852571637),\n",
       " ('abhorred', 0.0006650046344584812),\n",
       " ('nauseating', 0.0006643530097919461),\n",
       " ('selling', 0.0006633764749459469),\n",
       " ('swat', 0.0006625516615950262),\n",
       " ('persecuted', 0.0006597089521113875),\n",
       " ('prayer', 0.0006583488098858468),\n",
       " ('inconsiderate', 0.0006541575098354636),\n",
       " ('expense', 0.0006540429466512529),\n",
       " ('accelerating', 0.0006524584337638663),\n",
       " ('cube', 0.000648682242343291),\n",
       " ('realizing', 0.0006442465059946115),\n",
       " ('preemptively', 0.00064278091459419),\n",
       " ('monty', 0.0006426075667219745),\n",
       " ('22', 0.0006403769606651208),\n",
       " ('brute', 0.000639741862652226),\n",
       " ('wuflu', 0.0006382092891886557),\n",
       " ('ushered', 0.0006376178885687852),\n",
       " ('detrimental', 0.0006359425302766515),\n",
       " ('poorer', 0.0006351679639018505),\n",
       " ('slavery', 0.0006335943021673686),\n",
       " ('branded', 0.0006323870903554406),\n",
       " ('athlete', 0.000630708340377575),\n",
       " ('shoutier', 0.0006298623266760953),\n",
       " ('chaotic', 0.0006269163517245528),\n",
       " ('travel', 0.0006261929429666086),\n",
       " ('anthropology', 0.0006255867857812722),\n",
       " ('appointed', 0.0006247776156421247),\n",
       " ('imposing', 0.0006246666743863171),\n",
       " ('chancellor', 0.0006226642371737649),\n",
       " ('iii', 0.0006178643021879402),\n",
       " ('landing', 0.0006177109545504921),\n",
       " ('recovery', 0.0006163551058850563),\n",
       " ('summit', 0.0006158822089328841),\n",
       " ('chanted', 0.0006152593399101534),\n",
       " ('throughout', 0.0006139385041839043),\n",
       " ('paperwork', 0.0006122063253759389),\n",
       " ('hedging', 0.000611964430037385),\n",
       " ('undeniably', 0.0006088868686600944),\n",
       " ('lpt', 0.0006072680810987801),\n",
       " ('busy', 0.0006059187659463647),\n",
       " ('exculpatory', 0.0006057993514013641),\n",
       " ('lifelock', 0.0006057899255035877),\n",
       " ('anticipated', 0.0006030600274870973),\n",
       " ('ducking', 0.0006020883853516856),\n",
       " ('gso', 0.0005978439474603765),\n",
       " ('enlighten', 0.000596701799306524),\n",
       " ('polarity', 0.0005923688184038412),\n",
       " ('delegitimize', 0.0005892679929444658),\n",
       " ('hardworking', 0.0005872141305011659),\n",
       " ('wa', 0.0005844713540465537),\n",
       " ('killjoy', 0.0005844029694501648),\n",
       " ('disease', 0.0005838054350589698),\n",
       " ('hoodies', 0.0005806517745209413),\n",
       " ('shore', 0.0005798700819703412),\n",
       " ('captnostradamus', 0.0005796014830786633),\n",
       " ('precanvassing', 0.0005791080684307959),\n",
       " ('willed', 0.0005785620131156792),\n",
       " ('uganda', 0.00057819671990208),\n",
       " ('sinner', 0.0005768253506610151),\n",
       " ('bargaining', 0.0005755216786197637),\n",
       " ('mild', 0.0005738444117589952),\n",
       " ('chuck', 0.0005700799093675042),\n",
       " ('detained', 0.0005660232327261336),\n",
       " ('dictators', 0.0005645734360497668),\n",
       " ('patriots', 0.0005629222030565494),\n",
       " ('punishing', 0.0005623968737991688),\n",
       " ('widely', 0.0005612422142325163),\n",
       " ('invasion', 0.0005581850289208593),\n",
       " ('lower', 0.0005581411935879472),\n",
       " ('lean', 0.0005580641316587823),\n",
       " ('lo', 0.0005559804011730535),\n",
       " ('pistol', 0.0005549404410436213),\n",
       " ('somalian', 0.0005546076863757848),\n",
       " ('wiping', 0.0005545239344917986),\n",
       " ('agreements', 0.0005490360685769389),\n",
       " ('contradicts', 0.0005479916831522621),\n",
       " ('restaurant', 0.0005474602789898273),\n",
       " ('compassionless', 0.000546704151776854),\n",
       " ('944091', 0.0005447157173126476),\n",
       " ('polozov', 0.0005436405441806441),\n",
       " ('finest', 0.0005413874364882168),\n",
       " ('babylon', 0.0005387714389036125),\n",
       " ('683', 0.000537486464783622),\n",
       " ('bradley', 0.0005373699954811901),\n",
       " ('distortion', 0.0005361846435414613),\n",
       " ('thousandth', 0.0005301207497797539),\n",
       " ('sphere', 0.0005290877022639476),\n",
       " ('banger', 0.0005277732602779226),\n",
       " ('sweaty', 0.0005215845422336582),\n",
       " ('invent', 0.0005198595354195037),\n",
       " ('stuck', 0.0005161236028587708),\n",
       " ('dindu', 0.000515887858561875),\n",
       " ('apologise', 0.0005149116403903714),\n",
       " ('differed', 0.0005135790346856103),\n",
       " ('vota', 0.0005134827207433909),\n",
       " ('joebiden', 0.0005127655378054103),\n",
       " ('cited', 0.0005116566112558959),\n",
       " ('opinionated', 0.0005097566777062763),\n",
       " ('ricochet', 0.0005094751592815153),\n",
       " ('crimea', 0.0005081490300094339),\n",
       " ('record', 0.0005073216964515484),\n",
       " ('disturbing', 0.0005069624468172235),\n",
       " ('2mins', 0.000505756975794363),\n",
       " ('indy', 0.0005052398297691485),\n",
       " ('awareness', 0.0005036109751521614),\n",
       " ('judgmental', 0.0005025290299329977),\n",
       " ('triumph', 0.0005025052843072401),\n",
       " ('uncovered', 0.0005017965627455485),\n",
       " ('mg', 0.0005010380260833252),\n",
       " ('avalon', 0.0004989344027506082),\n",
       " ('reliable', 0.0004933044079934884),\n",
       " ('anduril', 0.0004923323380178974),\n",
       " ('2011', 0.0004920856570286464),\n",
       " ('phenomenally', 0.0004918635701095222),\n",
       " ('cases', 0.0004906943738185814),\n",
       " ('05', 0.0004884054363094633),\n",
       " ('conference', 0.00048815998600285537),\n",
       " ('hours', 0.0004878587552743636),\n",
       " ('ar15s', 0.0004863525320082739),\n",
       " ('fortrump', 0.0004860167768077313),\n",
       " ('contender', 0.0004854576333833803),\n",
       " ('hazard', 0.0004849405312853925),\n",
       " ('subreddit', 0.00048479900998011255),\n",
       " ('drawing', 0.0004827232842160891),\n",
       " ('whocares', 0.0004781428648957858),\n",
       " ('archbishop', 0.00047733900733176445),\n",
       " ('cid', 0.0004759692365200183),\n",
       " ('recoveries', 0.0004752646720833625),\n",
       " ('antonio', 0.000474034733093602),\n",
       " ('beg', 0.0004737214550520256),\n",
       " ('smyth', 0.00047344946291715386),\n",
       " ('wringing', 0.00047326619050303014),\n",
       " ('perv', 0.0004722449476262686),\n",
       " ('premier', 0.00047042597472845795),\n",
       " ('inequality', 0.00046946844408074533),\n",
       " ('aniti', 0.00046904979335336605),\n",
       " ('peaceably', 0.00046719088315769214),\n",
       " ('walkable', 0.0004652495747830166),\n",
       " ('seal', 0.0004641962873114669),\n",
       " ('harmless', 0.0004640410649681026),\n",
       " ('n1232094', 0.00046341075785772475),\n",
       " ('split', 0.00046314381020571925),\n",
       " ('shotguns', 0.0004617983391049062),\n",
       " ('perjury', 0.00046169565896735944),\n",
       " ('insight', 0.0004613818473543092),\n",
       " ('favored', 0.00046112163654039466),\n",
       " ('visited', 0.0004575372020234817),\n",
       " ('colt', 0.00045654619929943427),\n",
       " ('prompt', 0.00045555196108251967),\n",
       " ('churches', 0.0004553628116881131),\n",
       " ('shoe', 0.00045514928092267067),\n",
       " ('percent', 0.00045474392094359305),\n",
       " ('judgment', 0.00045413019807117526),\n",
       " ('112m', 0.00045006879726693864),\n",
       " ('prof', 0.00044979849510444844),\n",
       " ('unchecked', 0.0004495484207503178),\n",
       " ('annoy', 0.0004495073881516929),\n",
       " ('prisoner', 0.00044796204615003507),\n",
       " ('mortality', 0.0004472730968723696),\n",
       " ('cruikshank', 0.00044686766960725163),\n",
       " ('crush', 0.00044567140732437163),\n",
       " ('civilization', 0.00044476081813196234),\n",
       " ('ui', 0.0004423792002244252),\n",
       " ('methodology', 0.000441932965954411),\n",
       " ('ilhan', 0.0004408592713556987),\n",
       " ('dock', 0.00043994640953768966),\n",
       " ('pundit', 0.0004397042689601915),\n",
       " ('301', 0.0004387145936403886),\n",
       " ('brain', 0.0004376723169551117),\n",
       " ('spare', 0.0004366888586381788),\n",
       " ('limiting', 0.00043654158873576503),\n",
       " ('contradict', 0.00043440493276294316),\n",
       " ('hijacked', 0.000433241864805824),\n",
       " ('shoved', 0.0004331816154116133),\n",
       " ('680', 0.00043274176822657767),\n",
       " ('friends', 0.0004305401184760532),\n",
       " ('dem', 0.00042979471769950567),\n",
       " ('fathoming', 0.0004282761619597123),\n",
       " ('aja', 0.00042652014245338205),\n",
       " ('spout', 0.00042621075227407946),\n",
       " ('roach', 0.00042557331326296),\n",
       " ('baggins', 0.0004253453857260213),\n",
       " ('presiding', 0.00042521055285208673),\n",
       " ('snowflake', 0.0004251690198768569),\n",
       " ('slowest', 0.00042434839910689874),\n",
       " ('scrape', 0.0004240942267313526),\n",
       " ('eventually', 0.00042390194900132833),\n",
       " ('wherewithal', 0.00042042931571263214),\n",
       " ('influencing', 0.0004197195133729701),\n",
       " ('buttercup', 0.00041821416963959716),\n",
       " ('valiant', 0.0004161707336231904),\n",
       " ('hussain', 0.0004142913551083394),\n",
       " ('katrina', 0.00041349740025436364),\n",
       " ('msp', 0.00041311680123202153),\n",
       " ('precautionary', 0.0004129861401342562),\n",
       " ('meticulously', 0.0004113435672249662),\n",
       " ('justia', 0.00040749031460928837),\n",
       " ('bloodbath', 0.0004070053083867305),\n",
       " ('strategic', 0.00040695193096474693),\n",
       " ('exalted', 0.0004068869617688737),\n",
       " ('reopen', 0.0004067687308966667),\n",
       " ('hugging', 0.00040611734264611607),\n",
       " ('overcoming', 0.0004058153202247711),\n",
       " ('shitshow', 0.0004057857717399804),\n",
       " ('widespread', 0.00040454218803658465),\n",
       " ('154', 0.0004040567754186448),\n",
       " ('brazzaville', 0.0004036603729336236),\n",
       " ('1950s', 0.0004035173116381695),\n",
       " ('jailed', 0.0004012612122073627),\n",
       " ('signaling', 0.00040011849077002253),\n",
       " ('douglas', 0.00039958599176930925),\n",
       " ('eustachian', 0.00039932472637539684),\n",
       " ('flair', 0.0003992667828342604),\n",
       " ('lockwood', 0.0003992643713917711),\n",
       " ('allergy', 0.00039916688080501595),\n",
       " ('fee', 0.00039669254722180246),\n",
       " ('vito', 0.00039569398880045945),\n",
       " ('arm', 0.00039564734342044275),\n",
       " ('michael', 0.0003955464514435104),\n",
       " ('merit', 0.00039343219839717524),\n",
       " ('represented', 0.00039192974663259777),\n",
       " ('slurring', 0.000391485885017292),\n",
       " ('legality', 0.00038915056339755067),\n",
       " ('maureen', 0.0003877184320189105),\n",
       " ('994', 0.00038626414908743764),\n",
       " ('arstechnica', 0.0003857932643532747),\n",
       " ('incorrect', 0.00038567960258298594),\n",
       " ('obliterated', 0.00038549110421302657),\n",
       " ('denounces', 0.0003854646746711235),\n",
       " ('calvin', 0.0003846393019197281),\n",
       " ('buh', 0.0003844720888711116),\n",
       " ('backstabbed', 0.0003835958078077593),\n",
       " ('furniture', 0.0003827744706179733),\n",
       " ('farmer', 0.00038232928516599487),\n",
       " ('soap', 0.00038188770309577667),\n",
       " ('been', 0.0003811001755934917),\n",
       " ('sand', 0.00038084870423692895),\n",
       " ('ken', 0.00038071086451452863),\n",
       " ('session', 0.00037955560400006037),\n",
       " ('symptoms', 0.00037917942318105297),\n",
       " ('flexing', 0.0003789380495197741),\n",
       " ('guam', 0.00037701864125426157),\n",
       " ('characteristic', 0.0003751286952566413),\n",
       " ('high', 0.00037479154106870283),\n",
       " ('indoor', 0.0003746893905430468),\n",
       " ('salon', 0.000373769009425703),\n",
       " ('grade', 0.0003727583576487457),\n",
       " ('italian', 0.0003724205035493068),\n",
       " ('revolution', 0.00037193255540304235),\n",
       " ('facie', 0.0003717628314891146),\n",
       " ('bylines', 0.0003709123767157941),\n",
       " ('turnberry', 0.0003704051542322923),\n",
       " ('accuations', 0.0003702650152176806),\n",
       " ('daytime', 0.00036936842685927814),\n",
       " ('inaccurate', 0.0003693184421034107),\n",
       " ('yet', 0.0003690529817106462),\n",
       " ('zuck', 0.00036887793861917586),\n",
       " ('dissolved', 0.00036775795642616675),\n",
       " ('attends', 0.0003669964285622064),\n",
       " ('fairly', 0.0003665734721842296),\n",
       " ('wierdos', 0.00036527813214517324),\n",
       " ('príncipe', 0.00036400394874887726),\n",
       " ('hangar', 0.0003632802180346117),\n",
       " ('accompany', 0.00036311669351782284),\n",
       " ('retirement', 0.00036175749647680784),\n",
       " ('fragile', 0.0003613702725098302),\n",
       " ('immorally', 0.0003611161726761299),\n",
       " ('mute', 0.0003605302593492876),\n",
       " ('hughes', 0.0003602566492113754),\n",
       " ('referencing', 0.0003598873512417249),\n",
       " ('islamist', 0.0003594908650189964),\n",
       " ('depot', 0.00035890560103599747),\n",
       " ('foregrips', 0.0003585049660141437),\n",
       " ('northwestern', 0.00035759274215196505),\n",
       " ('paycheck', 0.0003559891714512728),\n",
       " ('ramping', 0.000355858011494034),\n",
       " ('446', 0.0003558324628741535),\n",
       " ('spotty', 0.00035573327732914674),\n",
       " ('constitutioncenter', 0.00035454631203494656),\n",
       " ('provocation', 0.00035437879667777234),\n",
       " ('cussing', 0.00035345631580867417),\n",
       " ('breeding', 0.0003532617074483728),\n",
       " ('acquit', 0.000352447886092452),\n",
       " ('fingered', 0.0003497197077255838),\n",
       " ('promising', 0.00034873124238464184),\n",
       " ('sputtering', 0.00034852644687162737),\n",
       " ('grandkids', 0.0003477907035928191),\n",
       " ('unison', 0.00034754934930777677),\n",
       " ('golding', 0.0003472401062335554),\n",
       " ('distinguish', 0.0003462684371298172),\n",
       " ('perfected', 0.0003447889000505112),\n",
       " ('imbalance', 0.0003431464829407108),\n",
       " ('alert', 0.0003420970799906119),\n",
       " ('hater', 0.0003420383733418032),\n",
       " ('hogwash', 0.00034191718264243304),\n",
       " ('rgb', 0.0003408520064926897),\n",
       " ('rock', 0.00034074356795537074),\n",
       " ('wayback', 0.00034046983342795884),\n",
       " ('socioeconomics', 0.00034023898645890575),\n",
       " ('recreating', 0.000339826434576687),\n",
       " ('applying', 0.00033911719047074166),\n",
       " ('marine', 0.0003381205586390135),\n",
       " ('removed', 0.0003379085028099044),\n",
       " ('eta', 0.0003377998247018074),\n",
       " ('explosives', 0.00033743638899292244),\n",
       " ('beens', 0.00033738750286792414),\n",
       " ('smacking', 0.00033725266150604565),\n",
       " ('graveyard_spiral', 0.0003364379165525401),\n",
       " ('minimized', 0.0003353859323695075),\n",
       " ('shrinking', 0.0003350912652070469),\n",
       " ('shrouded', 0.0003349789293110335),\n",
       " ('tch', 0.00033472733736834154),\n",
       " ('react', 0.0003346871933734052),\n",
       " ('detroiters', 0.00033428867634397266),\n",
       " ('stumbling', 0.0003340114076504218),\n",
       " ('mustache', 0.00033355047411612353),\n",
       " ('truck', 0.0003333112251060578),\n",
       " ('shoulder', 0.00033314053068018003),\n",
       " ('portico', 0.00033312925503384635),\n",
       " ('mailer', 0.00033272932292435157),\n",
       " ('sucking', 0.0003323633939008748),\n",
       " ('skin', 0.0003317180391980125),\n",
       " ('influenced', 0.00033076399602023426),\n",
       " ('meatloaf', 0.0003294791601325169),\n",
       " ('breech', 0.0003286444265383041),\n",
       " ('schumer', 0.0003286099676771062),\n",
       " ('purposelly', 0.0003286063657878421),\n",
       " ('gasp', 0.0003279424554618418),\n",
       " ('broader', 0.000327644638693743),\n",
       " ('rc', 0.0003271917545640514),\n",
       " ('situated', 0.0003263870314526212),\n",
       " ('affordable', 0.000325578802334269),\n",
       " ('hat', 0.00032513320083293613),\n",
       " ('challenger', 0.00032454315501682056),\n",
       " ('checkmate', 0.0003245280552731232),\n",
       " ('vicki', 0.0003243772082252066),\n",
       " ('meditate', 0.00032432063256877184),\n",
       " ('relentlessness', 0.0003242279868186945),\n",
       " ('drumpf', 0.00032376989765861867),\n",
       " ('disrespectful', 0.0003227961692226617),\n",
       " ('folk', 0.0003227912038216975),\n",
       " ('cracker', 0.00032194878171240825),\n",
       " ('tosses', 0.0003211532208267824),\n",
       " ('throat', 0.00031903402151884725),\n",
       " ('righteous', 0.00031815870793180804),\n",
       " ('mail', 0.00031798593819254894),\n",
       " ('sfpd', 0.00031775494910644785),\n",
       " ('paper', 0.00031743316166651795),\n",
       " ('civilians', 0.0003171579996179145),\n",
       " ('resemble', 0.0003171429226280612),\n",
       " ('terrifying', 0.0003168957727174224),\n",
       " ('unfamiliar', 0.0003164563232177075),\n",
       " ('horse', 0.00031604266466168403),\n",
       " ('ro', 0.00031540908927099316),\n",
       " ('e3e865456f56', 0.0003151240338810069),\n",
       " ('220', 0.0003150291091431233),\n",
       " ('naacp', 0.00031477373491265164),\n",
       " ('fractious', 0.0003147462944764031),\n",
       " ('demonstrating', 0.0003147435585336093),\n",
       " ('facial', 0.00031451000971935363),\n",
       " ('7am', 0.000314063745877535),\n",
       " ('masker', 0.0003138846379043643),\n",
       " ('gilbert', 0.00031350768782963714),\n",
       " ('kenosha', 0.0003133894812683025),\n",
       " ('pharaoh', 0.0003128695668521613),\n",
       " ('carlin', 0.000311814150461926),\n",
       " ('sight', 0.00031170572551165185),\n",
       " ('253bdata_tool', 0.00031165881605785934),\n",
       " ('turley', 0.00031148751710428793),\n",
       " ('trotting', 0.0003113918348654031),\n",
       " ('balfour', 0.0003108814422682654),\n",
       " ('courthouse', 0.0003103828705163777),\n",
       " ('coolant', 0.00030897470839120594),\n",
       " ('bureau', 0.0003085503263231627),\n",
       " ('lakota', 0.0003077639697874893),\n",
       " ('saved', 0.00030750923150857086),\n",
       " ('cac3b50f', 0.00030551166705396806),\n",
       " ('lemp', 0.00030550626580390204),\n",
       " ('weekday', 0.0003050481908728581),\n",
       " ('_homicide', 0.0003048979128546496),\n",
       " ('gps', 0.00030419495883156637),\n",
       " ('2f19', 0.00030399754556986193),\n",
       " ('ribbon', 0.00030385837535618825),\n",
       " ('furor', 0.00030275653936810394),\n",
       " ('unlawfully', 0.00030268580797866257),\n",
       " ('whomever', 0.0003026192304235995),\n",
       " ('audie', 0.0003020520257704164),\n",
       " ('plastered', 0.00030164384232522686),\n",
       " ('hispanic', 0.00030142152477264966),\n",
       " ('radiologist', 0.000301024519961736),\n",
       " ('internationally', 0.0003005862544559365),\n",
       " ('blended', 0.0003003347764316727),\n",
       " ('rumored', 0.0003000638875631943),\n",
       " ('bmi', 0.0003000469220131614),\n",
       " ('despotism', 0.0002994205363608569),\n",
       " ('legendary', 0.00029857244858538475),\n",
       " ('idealistically', 0.00029795809997080336),\n",
       " ('boise', 0.00029789547697575604),\n",
       " ('assassination', 0.00029689616700338215),\n",
       " ('implied', 0.0002968426611994372),\n",
       " ('anecdotally', 0.0002954854481355524),\n",
       " ('stellar', 0.0002949575629940394),\n",
       " ('redditor', 0.0002946202937304127),\n",
       " ('distinction', 0.00029360389432734897),\n",
       " ('pedi', 0.00029280361217194964),\n",
       " ('401k', 0.00029260343751688254),\n",
       " ('corrupt', 0.00029230422904941817),\n",
       " ('consume', 0.0002922054061414993),\n",
       " ('cougar', 0.0002917306462528125),\n",
       " ('limit', 0.0002911021554956165),\n",
       " ('welfare', 0.0002902847490259532),\n",
       " ('hesitation', 0.0002901878900012402),\n",
       " ('consumerism', 0.0002900691183718857),\n",
       " ('185', 0.00028986104204733613),\n",
       " ('increasing', 0.00028962690416797375),\n",
       " ('crackpot', 0.0002889297031950116),\n",
       " ('soccer', 0.00028870996602272823),\n",
       " ('framer', 0.00028802046565418844),\n",
       " ('empire', 0.0002871576800529725),\n",
       " ('cavalier', 0.000286948591799681),\n",
       " ('polymer', 0.00028668804733181436),\n",
       " ('creality', 0.00028565312355943127),\n",
       " ('trumpwarroom', 0.00028552618037800884),\n",
       " ('bills', 0.0002849434587782446),\n",
       " ('2000s', 0.0002841751354790928),\n",
       " ('intimidated', 0.00028319462219718566),\n",
       " ('male', 0.0002831771869265705),\n",
       " ('indicting', 0.00028268676736156924),\n",
       " ('limb', 0.00028245002298629815),\n",
       " ('tomi', 0.00028227970286238),\n",
       " ('utm_campaign', 0.00028199575483427256),\n",
       " ('cheetos', 0.00028148450103602027),\n",
       " ('newly', 0.0002808159918075041),\n",
       " ('sizeable', 0.0002803707146007513),\n",
       " ('presentation', 0.00027866480920545023),\n",
       " ('us', 0.000277364925907684),\n",
       " ('countdown', 0.00027720291967932536),\n",
       " ('gunna', 0.0002755209594718467),\n",
       " ('homemade', 0.00027522138969216),\n",
       " ('puffy', 0.000275051102858985),\n",
       " ('allocating', 0.0002749409980473827),\n",
       " ('baiting', 0.00027453636197248923),\n",
       " ('enduring', 0.00027439437790655557),\n",
       " ('thiel', 0.0002743741693516181),\n",
       " ('sorting', 0.0002739634483270949),\n",
       " ('bolster', 0.00027337525021240745),\n",
       " ('store', 0.00027244164121772627),\n",
       " ('migration', 0.00027199593862133693),\n",
       " ('departure', 0.00027191729792936796),\n",
       " ('1948', 0.00027181560283902757),\n",
       " ('loathe', 0.00027176630534813436),\n",
       " ('asbestos', 0.000270305882478647),\n",
       " ('impress', 0.0002700012228747147),\n",
       " ('phycologic', 0.0002692758686623482),\n",
       " ('highroad', 0.00026916867985350197),\n",
       " ('mostpopular', 0.00026901572286707403),\n",
       " ('whenver', 0.00026898481683974325),\n",
       " ('enby', 0.0002685944777070362),\n",
       " ('tidal', 0.0002684356846695957),\n",
       " ('basis', 0.0002682937354100596),\n",
       " ('wyoming', 0.00026708942207251635),\n",
       " ('dietary', 0.00026650275663875735),\n",
       " ('015', 0.0002661808739924819),\n",
       " ('shitfuck', 0.0002653026467336321),\n",
       " ('fuckall', 0.00026528107228134744),\n",
       " ('anew', 0.0002650573288789006),\n",
       " ('ideal', 0.00026424029660905156),\n",
       " ('projection', 0.00026360546475240603),\n",
       " ('pigeon', 0.00026358188822870726),\n",
       " ('shilling', 0.0002625210788994776),\n",
       " ('agriculture', 0.00026240746897985954),\n",
       " ('chauvin', 0.00026214599994396615),\n",
       " ('5097015', 0.00026153711985834883),\n",
       " ('webster', 0.00026136421659481304),\n",
       " ('sandler', 0.00026117149004789754),\n",
       " ('boundary', 0.0002609525009595999),\n",
       " ('oar', 0.0002609346359623015),\n",
       " ('jemvb3', 0.0002608214017206626),\n",
       " ('humanity', 0.0002606110240678429),\n",
       " ('democrap', 0.0002605667012068046),\n",
       " ('showman', 0.0002597258317628813),\n",
       " ('descend', 0.0002596958768213074),\n",
       " ('cowering', 0.00025943587539468054),\n",
       " ('358', 0.00025881975282486097),\n",
       " ('era', 0.00025874640434110586),\n",
       " ('poisonous', 0.0002584009972098907),\n",
       " ('cuck', 0.0002578991932735573),\n",
       " ('cpr', 0.00025773897541132997),\n",
       " ('conscious', 0.0002576851017107894),\n",
       " ('reappoint', 0.000256561336200021),\n",
       " ('3trillion', 0.00025653505365903843),\n",
       " ('meanwhile', 0.0002564355974864703),\n",
       " ('mistress', 0.000256286915980223),\n",
       " ('later', 0.00025593518912012857),\n",
       " ('160', 0.0002557493224505758),\n",
       " ('boasted', 0.0002556750274875362),\n",
       " ('tight', 0.0002544024952573792),\n",
       " ('include', 0.000254282496675745),\n",
       " ('amused', 0.00025412917107990823),\n",
       " ('boeing', 0.0002537941397137342),\n",
       " ('irl', 0.0002537416488202454),\n",
       " ('abhorrent', 0.00025367931025371685),\n",
       " ('auditorium', 0.00025332869278382703),\n",
       " ('occurred', 0.00025330680673025564),\n",
       " ('elbow', 0.00025320219416443394),\n",
       " ('handle', 0.0002526074645897023),\n",
       " ('frustrating', 0.0002525296703769837),\n",
       " ('sos', 0.0002524560620448149),\n",
       " ('tuxedo', 0.0002516763379094005),\n",
       " ('resist', 0.0002506015039747676),\n",
       " ('album', 0.00025031810896166627),\n",
       " ('gaining', 0.00025003839575442886),\n",
       " ('conspiracism', 0.0002495592365920198),\n",
       " ('gravedigger', 0.0002491566712986967),\n",
       " ('untruth', 0.000248898958565682),\n",
       " ('honor', 0.00024889804504841997),\n",
       " ('brook', 0.0002488766193188565),\n",
       " ('sfbayview', 0.0002487189232671279),\n",
       " ('suggests', 0.00024860476051948797),\n",
       " ('rant', 0.0002485827549767318),\n",
       " ('krasner', 0.0002484549787308105),\n",
       " ('recommendation', 0.0002478579113794036),\n",
       " ('confiscating', 0.0002473561018268129),\n",
       " ('slammed', 0.00024668694917976926),\n",
       " ('campaigner', 0.0002466057383200673),\n",
       " ('intolerance', 0.00024653098605259495),\n",
       " ('dicey', 0.00024616921961809185),\n",
       " ('material', 0.00024463054260897443),\n",
       " ('782', 0.0002443893954535834),\n",
       " ('wheres', 0.00024389898445083873),\n",
       " ('complete', 0.00024356864056195637),\n",
       " ('gratification', 0.0002435429740152812),\n",
       " ('insights', 0.00024302629785140324),\n",
       " ('innocently', 0.0002429931306347887),\n",
       " ('syndrome', 0.00024265191688436236),\n",
       " ('opinion', 0.00024241123496630314),\n",
       " ('dungeon', 0.00024196331812948964),\n",
       " ('brewer', 0.00024161474584413097),\n",
       " ('potomac', 0.00024111330783094278),\n",
       " ('gastrointestinal', 0.0002405389980776742),\n",
       " ('rounded', 0.00024039331036769754),\n",
       " ('chump', 0.00024034610583052794),\n",
       " ('frustrated', 0.00023950726691783202),\n",
       " ('descendant', 0.00023912001985286068),\n",
       " ('what', 0.00023878232695652052),\n",
       " ('piety', 0.00023876866088785677),\n",
       " ('repeals', 0.00023807671477122128),\n",
       " ('temperature', 0.000238010198608466),\n",
       " ('joey', 0.00023727159030030934),\n",
       " ('hired', 0.00023592045354731999),\n",
       " ('versa', 0.0002356942454590215),\n",
       " ('ad', 0.0002355372688951624),\n",
       " ('vampire', 0.0002347104939376023),\n",
       " ('supremely', 0.0002346023272322748),\n",
       " ('elderly', 0.00023407470560188093),\n",
       " ('korea', 0.00023401672078944295),\n",
       " ('firework', 0.0002339542082833923),\n",
       " ('bumatay', 0.00023395413220607487),\n",
       " ('embroiled', 0.00023394659578717801),\n",
       " ('corp', 0.00023381585570341758),\n",
       " ('girdle', 0.00023369169431759748),\n",
       " ('irina', 0.00023244106867202353),\n",
       " ('repercussion', 0.00023224205746160773),\n",
       " ('homepage', 0.00023181637720670362),\n",
       " ('impressed', 0.000231251992836293),\n",
       " ('06', 0.00023068352757637693),\n",
       " ('networth', 0.00023066995021443087),\n",
       " ('facet', 0.00023047155172506776),\n",
       " ('style', 0.00023043492111375193),\n",
       " ('minus', 0.0002302818245681994),\n",
       " ('rp7gpl929m', 0.00022966450932517446),\n",
       " ('ergonomics', 0.00022948769225277757),\n",
       " ('delete', 0.00022754647615799944),\n",
       " ('digging', 0.0002272744704597958),\n",
       " ('celebrating', 0.00022715258562266738),\n",
       " ('flirt', 0.00022696434531718505),\n",
       " ('electioneer', 0.0002263310588380249),\n",
       " ('variation', 0.0002259580330912737),\n",
       " ('heavy', 0.0002253419903099006),\n",
       " ('overtime', 0.0002246942211787348),\n",
       " ('depression', 0.00022459589148956515),\n",
       " ('axe', 0.000224191371007329),\n",
       " ('1318214211776937986', 0.0002239782605992663),\n",
       " ('meet', 0.00022358630397526522),\n",
       " ('parscale', 0.0002235798823149648),\n",
       " ('positioning', 0.00022350480045479866),\n",
       " ('relinquish', 0.00022344427676955118),\n",
       " ('empowered', 0.0002230228636165858),\n",
       " ('emoted', 0.00022289783024628484),\n",
       " ('pie', 0.00022143841064779955),\n",
       " ('novichok', 0.0002211326843355852),\n",
       " ('skull', 0.00022105928733190806),\n",
       " ('perpetuated', 0.00022057512070426763),\n",
       " ('husband', 0.00022009714822538527),\n",
       " ('areas', 0.00022006931300197954),\n",
       " ('designing', 0.00021961917219461867),\n",
       " ('alleged', 0.00021904504757350721),\n",
       " ('snake', 0.00021895097144339774),\n",
       " ('approximately', 0.00021831587232419287),\n",
       " ('lying', 0.00021818724313624207),\n",
       " ('perpetuate', 0.00021783835654803639),\n",
       " ('bemoan', 0.0002175964939532212),\n",
       " ('overtly', 0.00021750453824540588),\n",
       " ('restored', 0.0002174209527437263),\n",
       " ('trnd', 0.00021737836255949217),\n",
       " ('cautiously', 0.00021693595127638923),\n",
       " ('fentanyl', 0.00021684305619171256),\n",
       " ('duffel', 0.00021646016525728008),\n",
       " ('1929', 0.00021633786364858476),\n",
       " ('stamps', 0.00021591025442703357),\n",
       " ('cp', 0.00021550654080690918),\n",
       " ('karen', 0.00021539019806264374),\n",
       " ('monologue', 0.00021534205659549263),\n",
       " ('eastern', 0.00021526384683877932),\n",
       " ('obsession', 0.00021517186282380053),\n",
       " ('negatively', 0.00021516515536344232),\n",
       " ('condos', 0.00021503758290521163),\n",
       " ('std', 0.00021467642980844973),\n",
       " ('groom', 0.00021403254861158255),\n",
       " ('vanity', 0.000213652047658156),\n",
       " ('maximum', 0.00021349567781648717),\n",
       " ('restrain', 0.00021337312958024008),\n",
       " ('seemed', 0.00021325314249865022),\n",
       " ('environmental', 0.00021241552419162983),\n",
       " ('carl', 0.00021235179153656942),\n",
       " ('drinking', 0.00021215921455760466),\n",
       " ('fuckjob', 0.0002117245339224935),\n",
       " ('wannabe', 0.0002116509040810262),\n",
       " ('manitoba', 0.00021152414518808737),\n",
       " ('legitimate', 0.00021151425148829205),\n",
       " ('poison', 0.00021146282748657063),\n",
       " ('sundowning', 0.000211435746702054),\n",
       " ('disarming', 0.0002114086962669834),\n",
       " ('podcasts', 0.00021103375919093222),\n",
       " ('delivered', 0.00021022999444078087),\n",
       " ('endorsing', 0.00020990161592811314),\n",
       " ('baptist', 0.0002098597938212763),\n",
       " ('7ctwgr', 0.00020960078909930245),\n",
       " ('waaay', 0.0002093504807613169),\n",
       " ('interracial', 0.00020931999515984737),\n",
       " ('iduskbn1wx1p7', 0.00020914511297938425),\n",
       " ('appropriation', 0.00020887902737232224),\n",
       " ('hearsay', 0.00020885922602978255),\n",
       " ('interruptapalooza', 0.00020855618552377295),\n",
       " ('incompetence', 0.00020854059043556262),\n",
       " ('baffling', 0.0002084352080982578),\n",
       " ('brainard', 0.00020773143161720693),\n",
       " ('airwave', 0.0002070518870262533),\n",
       " ('highschool', 0.000206962696522693),\n",
       " ('redemption', 0.00020657501223786398),\n",
       " ('jab', 0.00020637646455404929),\n",
       " ('sycophant', 0.00020627933661390049),\n",
       " ('sentence', 0.00020621601151088006),\n",
       " ('fibrosis', 0.00020619410009009857),\n",
       " ('criticizes', 0.0002054599876338087),\n",
       " ('nature', 0.00020527770775461256),\n",
       " ('becerra', 0.00020478690231617866),\n",
       " ('1918', 0.00020471140752162986),\n",
       " ('responcible', 0.00020415196183044227),\n",
       " ('introduces', 0.00020406841952394505),\n",
       " ('profound', 0.00020380341811463307),\n",
       " ('mooselimb', 0.0002036590958078972),\n",
       " ('co', 0.00020328547960836343),\n",
       " ('benitez', 0.00020325258399391606),\n",
       " ('binomial', 0.00020274052999534581),\n",
       " ('rewrite', 0.00020202803260553702),\n",
       " ('2aliberals', 0.0002014731335242118),\n",
       " ('actour', 0.00020143758384697378),\n",
       " ('ice', 0.000201263531189573),\n",
       " ('chemically', 0.00020113638893744213),\n",
       " ('darvo', 0.00020108519281240197),\n",
       " ('motorcade', 0.0002009403332283128),\n",
       " ('shitlib', 0.00020086428686676546),\n",
       " ('tall', 0.00020075439594831643),\n",
       " ('pre', 0.00020045854562596676),\n",
       " ('tense', 0.00020035383412218873),\n",
       " ('dana', 0.0002002847753679349),\n",
       " ('narscisistic', 0.00020022784212058865),\n",
       " ('hic', 0.00020014670645404257),\n",
       " ('ohiosos', 0.00019986993192057977),\n",
       " ('islamic', 0.0001997991834328353),\n",
       " ('isnt', 0.00019934160329478247),\n",
       " ('advocate', 0.00019922716739294966),\n",
       " ('raiding', 0.00019920256662688676),\n",
       " ('goggles', 0.00019914027929358188),\n",
       " ('europe', 0.00019900529631140877),\n",
       " ('tf', 0.00019874527128421488),\n",
       " ('reload', 0.00019859121036498563),\n",
       " ('touting', 0.0001985662928794631),\n",
       " ('added', 0.00019854259366152766),\n",
       " ('breyer', 0.0001985064844064695),\n",
       " ('leotard', 0.00019756679266376285),\n",
       " ('capping', 0.00019719605370816223),\n",
       " ('razed', 0.00019676367906664588),\n",
       " ('lawmaker', 0.00019658399559380698),\n",
       " ('100th', 0.0001963126775197374),\n",
       " ('amount', 0.00019608427351319583),\n",
       " ('nuff', 0.00019606183584697448),\n",
       " ('thar', 0.00019533038561760985),\n",
       " ('10pm', 0.0001949773695956002),\n",
       " ('traumatizes', 0.00019486231352283854),\n",
       " ('1318227914169540609', 0.0001944196156044925),\n",
       " ('circlejerk', 0.00019396503928762208),\n",
       " ('racial', 0.0001939382833846026),\n",
       " ('overdue', 0.0001936607787169353),\n",
       " ('vegan', 0.00019335060766405927),\n",
       " ('dent', 0.00019329906922116335),\n",
       " ('unbiased', 0.00019313100928657108),\n",
       " ('smoke', 0.0001928439886027429),\n",
       " ('58', 0.0001923308938115413),\n",
       " ('heartless', 0.0001918075311261103),\n",
       " ('toxic', 0.00019164933538503507),\n",
       " ('1317877136733057024', 0.00019162623229987012),\n",
       " ('49', 0.0001915742431299946),\n",
       " ('rolling', 0.00019145281706105938),\n",
       " ...]"
      ]
     },
     "execution_count": 373,
     "metadata": {},
     "output_type": "execute_result"
    }
   ],
   "source": [
    "sorted(list(zip(train_columns, rfc_lemma.feature_importances_)),key=lambda x: x[1], reverse=True)"
   ]
  },
  {
   "cell_type": "code",
   "execution_count": 374,
   "metadata": {},
   "outputs": [
    {
     "data": {
      "image/png": "[encoded data removed]",
      "text/plain": [
       "<Figure size 432x288 with 1 Axes>"
      ]
     },
     "metadata": {},
     "output_type": "display_data"
    }
   ],
   "source": [
    "from sklearn.metrics import confusion_matrix\n",
    "import seaborn as sns; sns.set()\n",
    "\n",
    "\n",
    "mat = confusion_matrix(y_test_lem, rf_test_preds)\n",
    "sns.heatmap(mat.T, square=True, annot=True, fmt='d', cbar=False,\n",
    "            xticklabels=['Right', 'Left'], yticklabels=['Right', 'Left'])\n",
    "plt.xlabel('true label')\n",
    "plt.ylabel('predicted label');"
   ]
  },
  {
   "cell_type": "markdown",
   "metadata": {},
   "source": [
    "## MN Naive Bayes"
   ]
  },
  {
   "cell_type": "code",
   "execution_count": 375,
   "metadata": {},
   "outputs": [
    {
     "name": "stdout",
     "output_type": "stream",
     "text": [
      "Multinomial Naive Bayes model accuracy\n",
      "Testing Accuracy: 0.8801\n",
      "\n",
      "F1 Score: 0.8789\n"
     ]
    }
   ],
   "source": [
    "mnb_lemma = MultinomialNB()\n",
    "mnb_lemma.fit(tfidf_data_train_lem, y_train_lem)\n",
    "mnb_test_preds = mnb_lemma.predict(tfidf_data_test_lem)\n",
    "\n",
    "mnb_acc_score_lem = accuracy_score(y_test_lem, mnb_test_preds)\n",
    "mnb_f1_score_lem = f1_score(y_test_lem, mnb_test_preds)\n",
    "print('Multinomial Naive Bayes model accuracy')\n",
    "print(\"Testing Accuracy: {:.4}\".format(mnb_acc_score_lem))\n",
    "print()\n",
    "print(\"F1 Score: {:.4}\".format(mnb_f1_score_lem))"
   ]
  },
  {
   "cell_type": "code",
   "execution_count": 376,
   "metadata": {},
   "outputs": [
    {
     "data": {
      "image/png": "[encoded data removed]",
      "text/plain": [
       "<Figure size 432x288 with 1 Axes>"
      ]
     },
     "metadata": {},
     "output_type": "display_data"
    }
   ],
   "source": [
    "mat = confusion_matrix(y_test_lem, mnb_test_preds)\n",
    "sns.heatmap(mat.T, square=True, annot=True, fmt='d', cbar=False,\n",
    "            xticklabels=['Right', 'Left'], yticklabels=['Right', 'Left'])\n",
    "plt.xlabel('true label')\n",
    "plt.ylabel('predicted label');"
   ]
  },
  {
   "cell_type": "code",
   "execution_count": 377,
   "metadata": {},
   "outputs": [
    {
     "data": {
      "text/plain": [
       "Int64Index([13945,  6183,  7323,  8678,  9725,   142,  8214, 10630, 13450,\n",
       "             5728,\n",
       "            ...\n",
       "            17422,  5401,  8138, 14548, 12747, 16922, 17135,  1454,  1501,\n",
       "             9295],\n",
       "           dtype='int64', length=6573)"
      ]
     },
     "execution_count": 377,
     "metadata": {},
     "output_type": "execute_result"
    }
   ],
   "source": [
    "y_test_lem.index"
   ]
  },
  {
   "cell_type": "code",
   "execution_count": 378,
   "metadata": {},
   "outputs": [
    {
     "ename": "KeyError",
     "evalue": "'Passing list-likes to .loc or [] with any missing labels is no longer supported, see https://pandas.pydata.org/pandas-docs/stable/user_guide/indexing.html#deprecate-loc-reindex-listlike'",
     "output_type": "error",
     "traceback": [
      "\u001b[0;31m---------------------------------------------------------------------------\u001b[0m",
      "\u001b[0;31mKeyError\u001b[0m                                  Traceback (most recent call last)",
      "\u001b[0;32m<ipython-input-378-e4180468063b>\u001b[0m in \u001b[0;36m<module>\u001b[0;34m\u001b[0m\n\u001b[0;32m----> 1\u001b[0;31m \u001b[0mtest\u001b[0m \u001b[0;34m=\u001b[0m \u001b[0mcomments_df\u001b[0m\u001b[0;34m.\u001b[0m\u001b[0mloc\u001b[0m\u001b[0;34m[\u001b[0m\u001b[0my_test_lem\u001b[0m\u001b[0;34m.\u001b[0m\u001b[0mindex\u001b[0m\u001b[0;34m]\u001b[0m\u001b[0;34m\u001b[0m\u001b[0;34m\u001b[0m\u001b[0m\n\u001b[0m\u001b[1;32m      2\u001b[0m \u001b[0mtest\u001b[0m\u001b[0;34m[\u001b[0m\u001b[0;34m'pred'\u001b[0m\u001b[0;34m]\u001b[0m \u001b[0;34m=\u001b[0m \u001b[0mrf_test_preds\u001b[0m\u001b[0;34m\u001b[0m\u001b[0;34m\u001b[0m\u001b[0m\n\u001b[1;32m      3\u001b[0m \u001b[0mtest\u001b[0m\u001b[0;34m[\u001b[0m\u001b[0;34m'pred'\u001b[0m\u001b[0;34m]\u001b[0m \u001b[0;34m=\u001b[0m \u001b[0mtest\u001b[0m\u001b[0;34m[\u001b[0m\u001b[0;34m'pred'\u001b[0m\u001b[0;34m]\u001b[0m\u001b[0;34m.\u001b[0m\u001b[0mapply\u001b[0m\u001b[0;34m(\u001b[0m\u001b[0;32mlambda\u001b[0m \u001b[0mx\u001b[0m\u001b[0;34m:\u001b[0m \u001b[0;34m'right'\u001b[0m \u001b[0;32mif\u001b[0m \u001b[0mx\u001b[0m \u001b[0;34m==\u001b[0m \u001b[0;36m1\u001b[0m \u001b[0;32melse\u001b[0m \u001b[0;34m'left'\u001b[0m\u001b[0;34m)\u001b[0m\u001b[0;34m\u001b[0m\u001b[0;34m\u001b[0m\u001b[0m\n",
      "\u001b[0;32m~/opt/anaconda3/lib/python3.8/site-packages/pandas/core/indexing.py\u001b[0m in \u001b[0;36m__getitem__\u001b[0;34m(self, key)\u001b[0m\n\u001b[1;32m   1766\u001b[0m \u001b[0;34m\u001b[0m\u001b[0m\n\u001b[1;32m   1767\u001b[0m             \u001b[0mmaybe_callable\u001b[0m \u001b[0;34m=\u001b[0m \u001b[0mcom\u001b[0m\u001b[0;34m.\u001b[0m\u001b[0mapply_if_callable\u001b[0m\u001b[0;34m(\u001b[0m\u001b[0mkey\u001b[0m\u001b[0;34m,\u001b[0m \u001b[0mself\u001b[0m\u001b[0;34m.\u001b[0m\u001b[0mobj\u001b[0m\u001b[0;34m)\u001b[0m\u001b[0;34m\u001b[0m\u001b[0;34m\u001b[0m\u001b[0m\n\u001b[0;32m-> 1768\u001b[0;31m             \u001b[0;32mreturn\u001b[0m \u001b[0mself\u001b[0m\u001b[0;34m.\u001b[0m\u001b[0m_getitem_axis\u001b[0m\u001b[0;34m(\u001b[0m\u001b[0mmaybe_callable\u001b[0m\u001b[0;34m,\u001b[0m \u001b[0maxis\u001b[0m\u001b[0;34m=\u001b[0m\u001b[0maxis\u001b[0m\u001b[0;34m)\u001b[0m\u001b[0;34m\u001b[0m\u001b[0;34m\u001b[0m\u001b[0m\n\u001b[0m\u001b[1;32m   1769\u001b[0m \u001b[0;34m\u001b[0m\u001b[0m\n\u001b[1;32m   1770\u001b[0m     \u001b[0;32mdef\u001b[0m \u001b[0m_is_scalar_access\u001b[0m\u001b[0;34m(\u001b[0m\u001b[0mself\u001b[0m\u001b[0;34m,\u001b[0m \u001b[0mkey\u001b[0m\u001b[0;34m:\u001b[0m \u001b[0mTuple\u001b[0m\u001b[0;34m)\u001b[0m\u001b[0;34m:\u001b[0m\u001b[0;34m\u001b[0m\u001b[0;34m\u001b[0m\u001b[0m\n",
      "\u001b[0;32m~/opt/anaconda3/lib/python3.8/site-packages/pandas/core/indexing.py\u001b[0m in \u001b[0;36m_getitem_axis\u001b[0;34m(self, key, axis)\u001b[0m\n\u001b[1;32m   1952\u001b[0m                     \u001b[0;32mraise\u001b[0m \u001b[0mValueError\u001b[0m\u001b[0;34m(\u001b[0m\u001b[0;34m\"Cannot index with multidimensional key\"\u001b[0m\u001b[0;34m)\u001b[0m\u001b[0;34m\u001b[0m\u001b[0;34m\u001b[0m\u001b[0m\n\u001b[1;32m   1953\u001b[0m \u001b[0;34m\u001b[0m\u001b[0m\n\u001b[0;32m-> 1954\u001b[0;31m                 \u001b[0;32mreturn\u001b[0m \u001b[0mself\u001b[0m\u001b[0;34m.\u001b[0m\u001b[0m_getitem_iterable\u001b[0m\u001b[0;34m(\u001b[0m\u001b[0mkey\u001b[0m\u001b[0;34m,\u001b[0m \u001b[0maxis\u001b[0m\u001b[0;34m=\u001b[0m\u001b[0maxis\u001b[0m\u001b[0;34m)\u001b[0m\u001b[0;34m\u001b[0m\u001b[0;34m\u001b[0m\u001b[0m\n\u001b[0m\u001b[1;32m   1955\u001b[0m \u001b[0;34m\u001b[0m\u001b[0m\n\u001b[1;32m   1956\u001b[0m             \u001b[0;31m# nested tuple slicing\u001b[0m\u001b[0;34m\u001b[0m\u001b[0;34m\u001b[0m\u001b[0;34m\u001b[0m\u001b[0m\n",
      "\u001b[0;32m~/opt/anaconda3/lib/python3.8/site-packages/pandas/core/indexing.py\u001b[0m in \u001b[0;36m_getitem_iterable\u001b[0;34m(self, key, axis)\u001b[0m\n\u001b[1;32m   1593\u001b[0m         \u001b[0;32melse\u001b[0m\u001b[0;34m:\u001b[0m\u001b[0;34m\u001b[0m\u001b[0;34m\u001b[0m\u001b[0m\n\u001b[1;32m   1594\u001b[0m             \u001b[0;31m# A collection of keys\u001b[0m\u001b[0;34m\u001b[0m\u001b[0;34m\u001b[0m\u001b[0;34m\u001b[0m\u001b[0m\n\u001b[0;32m-> 1595\u001b[0;31m             \u001b[0mkeyarr\u001b[0m\u001b[0;34m,\u001b[0m \u001b[0mindexer\u001b[0m \u001b[0;34m=\u001b[0m \u001b[0mself\u001b[0m\u001b[0;34m.\u001b[0m\u001b[0m_get_listlike_indexer\u001b[0m\u001b[0;34m(\u001b[0m\u001b[0mkey\u001b[0m\u001b[0;34m,\u001b[0m \u001b[0maxis\u001b[0m\u001b[0;34m,\u001b[0m \u001b[0mraise_missing\u001b[0m\u001b[0;34m=\u001b[0m\u001b[0;32mFalse\u001b[0m\u001b[0;34m)\u001b[0m\u001b[0;34m\u001b[0m\u001b[0;34m\u001b[0m\u001b[0m\n\u001b[0m\u001b[1;32m   1596\u001b[0m             return self.obj._reindex_with_indexers(\n\u001b[1;32m   1597\u001b[0m                 \u001b[0;34m{\u001b[0m\u001b[0maxis\u001b[0m\u001b[0;34m:\u001b[0m \u001b[0;34m[\u001b[0m\u001b[0mkeyarr\u001b[0m\u001b[0;34m,\u001b[0m \u001b[0mindexer\u001b[0m\u001b[0;34m]\u001b[0m\u001b[0;34m}\u001b[0m\u001b[0;34m,\u001b[0m \u001b[0mcopy\u001b[0m\u001b[0;34m=\u001b[0m\u001b[0;32mTrue\u001b[0m\u001b[0;34m,\u001b[0m \u001b[0mallow_dups\u001b[0m\u001b[0;34m=\u001b[0m\u001b[0;32mTrue\u001b[0m\u001b[0;34m\u001b[0m\u001b[0;34m\u001b[0m\u001b[0m\n",
      "\u001b[0;32m~/opt/anaconda3/lib/python3.8/site-packages/pandas/core/indexing.py\u001b[0m in \u001b[0;36m_get_listlike_indexer\u001b[0;34m(self, key, axis, raise_missing)\u001b[0m\n\u001b[1;32m   1550\u001b[0m             \u001b[0mkeyarr\u001b[0m\u001b[0;34m,\u001b[0m \u001b[0mindexer\u001b[0m\u001b[0;34m,\u001b[0m \u001b[0mnew_indexer\u001b[0m \u001b[0;34m=\u001b[0m \u001b[0max\u001b[0m\u001b[0;34m.\u001b[0m\u001b[0m_reindex_non_unique\u001b[0m\u001b[0;34m(\u001b[0m\u001b[0mkeyarr\u001b[0m\u001b[0;34m)\u001b[0m\u001b[0;34m\u001b[0m\u001b[0;34m\u001b[0m\u001b[0m\n\u001b[1;32m   1551\u001b[0m \u001b[0;34m\u001b[0m\u001b[0m\n\u001b[0;32m-> 1552\u001b[0;31m         self._validate_read_indexer(\n\u001b[0m\u001b[1;32m   1553\u001b[0m             \u001b[0mkeyarr\u001b[0m\u001b[0;34m,\u001b[0m \u001b[0mindexer\u001b[0m\u001b[0;34m,\u001b[0m \u001b[0mo\u001b[0m\u001b[0;34m.\u001b[0m\u001b[0m_get_axis_number\u001b[0m\u001b[0;34m(\u001b[0m\u001b[0maxis\u001b[0m\u001b[0;34m)\u001b[0m\u001b[0;34m,\u001b[0m \u001b[0mraise_missing\u001b[0m\u001b[0;34m=\u001b[0m\u001b[0mraise_missing\u001b[0m\u001b[0;34m\u001b[0m\u001b[0;34m\u001b[0m\u001b[0m\n\u001b[1;32m   1554\u001b[0m         )\n",
      "\u001b[0;32m~/opt/anaconda3/lib/python3.8/site-packages/pandas/core/indexing.py\u001b[0m in \u001b[0;36m_validate_read_indexer\u001b[0;34m(self, key, indexer, axis, raise_missing)\u001b[0m\n\u001b[1;32m   1652\u001b[0m             \u001b[0;31m# just raising\u001b[0m\u001b[0;34m\u001b[0m\u001b[0;34m\u001b[0m\u001b[0;34m\u001b[0m\u001b[0m\n\u001b[1;32m   1653\u001b[0m             \u001b[0;32mif\u001b[0m \u001b[0;32mnot\u001b[0m \u001b[0;34m(\u001b[0m\u001b[0max\u001b[0m\u001b[0;34m.\u001b[0m\u001b[0mis_categorical\u001b[0m\u001b[0;34m(\u001b[0m\u001b[0;34m)\u001b[0m \u001b[0;32mor\u001b[0m \u001b[0max\u001b[0m\u001b[0;34m.\u001b[0m\u001b[0mis_interval\u001b[0m\u001b[0;34m(\u001b[0m\u001b[0;34m)\u001b[0m\u001b[0;34m)\u001b[0m\u001b[0;34m:\u001b[0m\u001b[0;34m\u001b[0m\u001b[0;34m\u001b[0m\u001b[0m\n\u001b[0;32m-> 1654\u001b[0;31m                 raise KeyError(\n\u001b[0m\u001b[1;32m   1655\u001b[0m                     \u001b[0;34m\"Passing list-likes to .loc or [] with any missing labels \"\u001b[0m\u001b[0;34m\u001b[0m\u001b[0;34m\u001b[0m\u001b[0m\n\u001b[1;32m   1656\u001b[0m                     \u001b[0;34m\"is no longer supported, see \"\u001b[0m\u001b[0;34m\u001b[0m\u001b[0;34m\u001b[0m\u001b[0m\n",
      "\u001b[0;31mKeyError\u001b[0m: 'Passing list-likes to .loc or [] with any missing labels is no longer supported, see https://pandas.pydata.org/pandas-docs/stable/user_guide/indexing.html#deprecate-loc-reindex-listlike'"
     ]
    }
   ],
   "source": [
    "test = comments_df.loc[y_test_lem.index]\n",
    "test['pred'] = rf_test_preds\n",
    "test['pred'] = test['pred'].apply(lambda x: 'right' if x == 1 else 'left')"
   ]
  },
  {
   "cell_type": "code",
   "execution_count": 379,
   "metadata": {
    "scrolled": true
   },
   "outputs": [
    {
     "ename": "NameError",
     "evalue": "name 'test' is not defined",
     "output_type": "error",
     "traceback": [
      "\u001b[0;31m---------------------------------------------------------------------------\u001b[0m",
      "\u001b[0;31mNameError\u001b[0m                                 Traceback (most recent call last)",
      "\u001b[0;32m<ipython-input-379-c79d526ba28a>\u001b[0m in \u001b[0;36m<module>\u001b[0;34m\u001b[0m\n\u001b[0;32m----> 1\u001b[0;31m \u001b[0mguessed_right_wrong\u001b[0m \u001b[0;34m=\u001b[0m \u001b[0mtest\u001b[0m\u001b[0;34m[\u001b[0m\u001b[0;34m(\u001b[0m\u001b[0mtest\u001b[0m\u001b[0;34m.\u001b[0m\u001b[0mcomment_class\u001b[0m \u001b[0;34m!=\u001b[0m \u001b[0mtest\u001b[0m\u001b[0;34m.\u001b[0m\u001b[0mpred\u001b[0m\u001b[0;34m)\u001b[0m \u001b[0;34m&\u001b[0m \u001b[0;34m(\u001b[0m\u001b[0mtest\u001b[0m\u001b[0;34m.\u001b[0m\u001b[0mpred\u001b[0m \u001b[0;34m==\u001b[0m \u001b[0;34m'right'\u001b[0m\u001b[0;34m)\u001b[0m\u001b[0;34m]\u001b[0m\u001b[0;34m\u001b[0m\u001b[0;34m\u001b[0m\u001b[0m\n\u001b[0m\u001b[1;32m      2\u001b[0m \u001b[0mguessed_right_wrong\u001b[0m\u001b[0;34m.\u001b[0m\u001b[0mreset_index\u001b[0m\u001b[0;34m(\u001b[0m\u001b[0mdrop\u001b[0m\u001b[0;34m=\u001b[0m\u001b[0;32mTrue\u001b[0m\u001b[0;34m,\u001b[0m \u001b[0minplace\u001b[0m\u001b[0;34m=\u001b[0m\u001b[0;32mTrue\u001b[0m\u001b[0;34m)\u001b[0m\u001b[0;34m\u001b[0m\u001b[0;34m\u001b[0m\u001b[0m\n\u001b[1;32m      3\u001b[0m \u001b[0;34m\u001b[0m\u001b[0m\n\u001b[1;32m      4\u001b[0m \u001b[0mguessed_left_wrong\u001b[0m \u001b[0;34m=\u001b[0m \u001b[0mtest\u001b[0m\u001b[0;34m[\u001b[0m\u001b[0;34m(\u001b[0m\u001b[0mtest\u001b[0m\u001b[0;34m.\u001b[0m\u001b[0mcomment_class\u001b[0m \u001b[0;34m!=\u001b[0m \u001b[0mtest\u001b[0m\u001b[0;34m.\u001b[0m\u001b[0mpred\u001b[0m\u001b[0;34m)\u001b[0m \u001b[0;34m&\u001b[0m \u001b[0;34m(\u001b[0m\u001b[0mtest\u001b[0m\u001b[0;34m.\u001b[0m\u001b[0mpred\u001b[0m \u001b[0;34m==\u001b[0m \u001b[0;34m'left'\u001b[0m\u001b[0;34m)\u001b[0m\u001b[0;34m]\u001b[0m\u001b[0;34m\u001b[0m\u001b[0;34m\u001b[0m\u001b[0m\n\u001b[1;32m      5\u001b[0m \u001b[0mguessed_left_wrong\u001b[0m\u001b[0;34m.\u001b[0m\u001b[0mreset_index\u001b[0m\u001b[0;34m(\u001b[0m\u001b[0mdrop\u001b[0m\u001b[0;34m=\u001b[0m\u001b[0;32mTrue\u001b[0m\u001b[0;34m,\u001b[0m \u001b[0minplace\u001b[0m\u001b[0;34m=\u001b[0m\u001b[0;32mTrue\u001b[0m\u001b[0;34m)\u001b[0m\u001b[0;34m\u001b[0m\u001b[0;34m\u001b[0m\u001b[0m\n",
      "\u001b[0;31mNameError\u001b[0m: name 'test' is not defined"
     ]
    }
   ],
   "source": [
    "guessed_right_wrong = test[(test.comment_class != test.pred) & (test.pred == 'right')]\n",
    "guessed_right_wrong.reset_index(drop=True, inplace=True)\n",
    "\n",
    "guessed_left_wrong = test[(test.comment_class != test.pred) & (test.pred == 'left')]\n",
    "guessed_left_wrong.reset_index(drop=True, inplace=True)\n"
   ]
  },
  {
   "cell_type": "code",
   "execution_count": 380,
   "metadata": {},
   "outputs": [
    {
     "name": "stdout",
     "output_type": "stream",
     "text": [
      "GUESSED RIGHT BUT WE WERE WRONG\n",
      "_______________________________\n"
     ]
    },
    {
     "ename": "NameError",
     "evalue": "name 'guessed_right_wrong' is not defined",
     "output_type": "error",
     "traceback": [
      "\u001b[0;31m---------------------------------------------------------------------------\u001b[0m",
      "\u001b[0;31mNameError\u001b[0m                                 Traceback (most recent call last)",
      "\u001b[0;32m<ipython-input-380-d7cd6e846f42>\u001b[0m in \u001b[0;36m<module>\u001b[0;34m\u001b[0m\n\u001b[1;32m      2\u001b[0m \u001b[0mprint\u001b[0m\u001b[0;34m(\u001b[0m\u001b[0;34m\"_______________________________\"\u001b[0m\u001b[0;34m)\u001b[0m\u001b[0;34m\u001b[0m\u001b[0;34m\u001b[0m\u001b[0m\n\u001b[1;32m      3\u001b[0m \u001b[0;32mfor\u001b[0m \u001b[0mi\u001b[0m \u001b[0;32min\u001b[0m \u001b[0mrange\u001b[0m\u001b[0;34m(\u001b[0m\u001b[0;36m0\u001b[0m\u001b[0;34m,\u001b[0m\u001b[0;36m50\u001b[0m\u001b[0;34m)\u001b[0m\u001b[0;34m:\u001b[0m\u001b[0;34m\u001b[0m\u001b[0;34m\u001b[0m\u001b[0m\n\u001b[0;32m----> 4\u001b[0;31m     \u001b[0mprint\u001b[0m\u001b[0;34m(\u001b[0m\u001b[0mguessed_right_wrong\u001b[0m\u001b[0;34m.\u001b[0m\u001b[0miloc\u001b[0m\u001b[0;34m[\u001b[0m\u001b[0mi\u001b[0m\u001b[0;34m]\u001b[0m\u001b[0;34m.\u001b[0m\u001b[0mbody\u001b[0m\u001b[0;34m)\u001b[0m\u001b[0;34m\u001b[0m\u001b[0;34m\u001b[0m\u001b[0m\n\u001b[0m\u001b[1;32m      5\u001b[0m     \u001b[0mprint\u001b[0m\u001b[0;34m(\u001b[0m\u001b[0;34m'----------'\u001b[0m\u001b[0;34m)\u001b[0m\u001b[0;34m\u001b[0m\u001b[0;34m\u001b[0m\u001b[0m\n",
      "\u001b[0;31mNameError\u001b[0m: name 'guessed_right_wrong' is not defined"
     ]
    }
   ],
   "source": [
    "print(\"GUESSED RIGHT BUT WE WERE WRONG\")\n",
    "print(\"_______________________________\")\n",
    "for i in range(0,50):\n",
    "    print(guessed_right_wrong.iloc[i].body)\n",
    "    print('----------')"
   ]
  },
  {
   "cell_type": "code",
   "execution_count": 381,
   "metadata": {},
   "outputs": [
    {
     "name": "stdout",
     "output_type": "stream",
     "text": [
      "GUESSED LEFT BUT WE WERE WRONG\n",
      "______________________________\n"
     ]
    },
    {
     "ename": "NameError",
     "evalue": "name 'guessed_left_wrong' is not defined",
     "output_type": "error",
     "traceback": [
      "\u001b[0;31m---------------------------------------------------------------------------\u001b[0m",
      "\u001b[0;31mNameError\u001b[0m                                 Traceback (most recent call last)",
      "\u001b[0;32m<ipython-input-381-4c1d1ba7a9d1>\u001b[0m in \u001b[0;36m<module>\u001b[0;34m\u001b[0m\n\u001b[1;32m      2\u001b[0m \u001b[0mprint\u001b[0m\u001b[0;34m(\u001b[0m\u001b[0;34m\"______________________________\"\u001b[0m\u001b[0;34m)\u001b[0m\u001b[0;34m\u001b[0m\u001b[0;34m\u001b[0m\u001b[0m\n\u001b[1;32m      3\u001b[0m \u001b[0;32mfor\u001b[0m \u001b[0mi\u001b[0m \u001b[0;32min\u001b[0m \u001b[0mrange\u001b[0m\u001b[0;34m(\u001b[0m\u001b[0;36m0\u001b[0m\u001b[0;34m,\u001b[0m\u001b[0;36m50\u001b[0m\u001b[0;34m)\u001b[0m\u001b[0;34m:\u001b[0m\u001b[0;34m\u001b[0m\u001b[0;34m\u001b[0m\u001b[0m\n\u001b[0;32m----> 4\u001b[0;31m     \u001b[0mprint\u001b[0m\u001b[0;34m(\u001b[0m\u001b[0mguessed_left_wrong\u001b[0m\u001b[0;34m.\u001b[0m\u001b[0miloc\u001b[0m\u001b[0;34m[\u001b[0m\u001b[0mi\u001b[0m\u001b[0;34m]\u001b[0m\u001b[0;34m.\u001b[0m\u001b[0mbody\u001b[0m\u001b[0;34m)\u001b[0m\u001b[0;34m\u001b[0m\u001b[0;34m\u001b[0m\u001b[0m\n\u001b[0m\u001b[1;32m      5\u001b[0m     \u001b[0mprint\u001b[0m\u001b[0;34m(\u001b[0m\u001b[0;34m'----------'\u001b[0m\u001b[0;34m)\u001b[0m\u001b[0;34m\u001b[0m\u001b[0;34m\u001b[0m\u001b[0m\n",
      "\u001b[0;31mNameError\u001b[0m: name 'guessed_left_wrong' is not defined"
     ]
    }
   ],
   "source": [
    "print(\"GUESSED LEFT BUT WE WERE WRONG\")\n",
    "print(\"______________________________\")\n",
    "for i in range(0,50):\n",
    "    print(guessed_left_wrong.iloc[i].body)\n",
    "    print('----------')"
   ]
  },
  {
   "cell_type": "code",
   "execution_count": null,
   "metadata": {},
   "outputs": [],
   "source": []
  }
 ],
 "metadata": {
  "kernelspec": {
   "display_name": "Python 3",
   "language": "python",
   "name": "python3"
  },
  "language_info": {
   "codemirror_mode": {
    "name": "ipython",
    "version": 3
   },
   "file_extension": ".py",
   "mimetype": "text/x-python",
   "name": "python",
   "nbconvert_exporter": "python",
   "pygments_lexer": "ipython3",
   "version": "3.8.3"
  }
 },
 "nbformat": 4,
 "nbformat_minor": 4
}
