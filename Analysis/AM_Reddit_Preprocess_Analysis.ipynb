{
 "cells": [
  {
   "cell_type": "markdown",
   "metadata": {},
   "source": [
    "## Note, only using comments_df for now until we figure out if it is worth it to use the posts_df as well somehow"
   ]
  },
  {
   "cell_type": "markdown",
   "metadata": {},
   "source": [
    "# 1: Import Packages, define functions\n"
   ]
  },
  {
   "cell_type": "code",
   "execution_count": 1,
   "metadata": {},
   "outputs": [],
   "source": [
    "# Import some libraries that will be used\n",
    "import pandas as pd\n",
    "import numpy as np\n",
    "import matplotlib.pyplot as plt\n",
    "import seaborn as sns\n",
    "#import mysql.connector\n",
    "# some_file.py\n",
    "import sys\n",
    "sys.path.insert(1, '/Users/brianmccabe/DataScience/Flatiron/mod4/Reddit_NLP/Scripts')\n",
    "#import config\n",
    "pd.set_option('display.max_columns', 300)\n",
    "\n",
    "%matplotlib inline"
   ]
  },
  {
   "cell_type": "code",
   "execution_count": 2,
   "metadata": {},
   "outputs": [
    {
     "name": "stderr",
     "output_type": "stream",
     "text": [
      "[nltk_data] Downloading package stopwords to\n",
      "[nltk_data]     /Users/alecmccabe/nltk_data...\n",
      "[nltk_data]   Package stopwords is already up-to-date!\n",
      "[nltk_data] Downloading package punkt to\n",
      "[nltk_data]     /Users/alecmccabe/nltk_data...\n",
      "[nltk_data]   Package punkt is already up-to-date!\n",
      "[nltk_data] Downloading package wordnet to\n",
      "[nltk_data]     /Users/alecmccabe/nltk_data...\n",
      "[nltk_data]   Package wordnet is already up-to-date!\n"
     ]
    },
    {
     "data": {
      "text/plain": [
       "True"
      ]
     },
     "execution_count": 2,
     "metadata": {},
     "output_type": "execute_result"
    }
   ],
   "source": [
    "import nltk\n",
    "import matplotlib.pyplot as plt\n",
    "import pandas as pd\n",
    "from sklearn.feature_extraction.text import CountVectorizer\n",
    "from sklearn.feature_extraction.text import TfidfVectorizer\n",
    "from sklearn.feature_extraction.text import TfidfTransformer\n",
    "from nltk.probability import FreqDist\n",
    "from nltk.corpus import stopwords\n",
    "from nltk.stem import PorterStemmer\n",
    "from sklearn.metrics import confusion_matrix\n",
    "import seaborn as sns\n",
    "from sklearn.naive_bayes import MultinomialNB\n",
    "from sklearn import metrics\n",
    "from sklearn.model_selection import train_test_split\n",
    "from matplotlib import cm\n",
    "import numpy as np\n",
    "from sklearn.ensemble import RandomForestClassifier\n",
    "from sklearn.metrics import accuracy_score\n",
    "from sklearn.metrics import f1_score\n",
    "from sklearn.naive_bayes import MultinomialNB\n",
    "import string\n",
    "import scipy\n",
    "\n",
    "nltk.download('stopwords')\n",
    "nltk.download('punkt')\n",
    "nltk.download('wordnet')"
   ]
  },
  {
   "cell_type": "code",
   "execution_count": 3,
   "metadata": {},
   "outputs": [],
   "source": [
    "from nltk.stem import WordNetLemmatizer \n",
    "  \n",
    "lemmatizer = WordNetLemmatizer()"
   ]
  },
  {
   "cell_type": "code",
   "execution_count": 4,
   "metadata": {},
   "outputs": [],
   "source": [
    "def count_stopwords(comment):\n",
    "    comment = comment.lower()\n",
    "    tokens = nltk.word_tokenize(comment)\n",
    "    stopwords_removed = [token.lower() for token in tokens if token.lower() not in stopwords]\n",
    "    \n",
    "    return (len(tokens) - len(stopwords_removed)) / len(tokens)"
   ]
  },
  {
   "cell_type": "code",
   "execution_count": 5,
   "metadata": {},
   "outputs": [],
   "source": [
    "# we can define a function that removes stopwords \n",
    "def process_comment(comment):\n",
    "    comment = comment.lower()\n",
    "    tokens = nltk.word_tokenize(comment)\n",
    "    stopwords_removed = [token.lower() for token in tokens if token.lower() not in stopwords]\n",
    "    return stopwords_removed"
   ]
  },
  {
   "cell_type": "code",
   "execution_count": 6,
   "metadata": {},
   "outputs": [],
   "source": [
    "def capital_percentage(comment):\n",
    "    tokens = nltk.word_tokenize(comment)\n",
    "    cap_count = 0\n",
    "    for item in tokens:\n",
    "        if item.isupper():\n",
    "            cap_count += 1\n",
    "    return cap_count/len(tokens)\n",
    "\n"
   ]
  },
  {
   "cell_type": "code",
   "execution_count": 7,
   "metadata": {},
   "outputs": [],
   "source": [
    "def check_profanity(comment):\n",
    "    try:\n",
    "        profane = pd.read_csv(\"/Users/alecmccabe/Desktop/Flatiron/Projects/Mod4/Reddit_NLP/csv_data/profane_words.csv\", header=None)\n",
    "    except:\n",
    "        profane = pd.read_csv(\"profane_words.csv\", header=None)\n",
    "\n",
    "    profane = list(profane.loc[:,0])\n",
    "    count = 0\n",
    "    comment = comment.lower()\n",
    "    tokens = nltk.word_tokenize(comment)\n",
    "    for word in tokens:\n",
    "        if word in profane:\n",
    "            count += 1\n",
    "    return count/len(comment)"
   ]
  },
  {
   "cell_type": "code",
   "execution_count": 8,
   "metadata": {},
   "outputs": [],
   "source": [
    "def lexical_diversity(comment):\n",
    "    comment = comment.lower()\n",
    "    tokens = nltk.word_tokenize(comment)\n",
    "    \n",
    "    unique_words = len(set(tokens))\n",
    "    total_words = len(tokens)\n",
    "    \n",
    "    return unique_words / total_words"
   ]
  },
  {
   "cell_type": "code",
   "execution_count": 9,
   "metadata": {},
   "outputs": [],
   "source": [
    "#set stopwords and punctuations\n",
    "stopwords = stopwords.words('english')\n",
    "stopwords += list(string.punctuation)\n",
    "stopwords += [\"n't\", \"' '\", \"'re'\",\"”\",\"``\",\"“\",\"''\",\"’\",\"'s\",\"'re\",\"http\",\"https\"]"
   ]
  },
  {
   "cell_type": "markdown",
   "metadata": {},
   "source": [
    "# 2: Load in the data"
   ]
  },
  {
   "cell_type": "code",
   "execution_count": 10,
   "metadata": {},
   "outputs": [],
   "source": [
    "#posts_df = pd.read_csv('/Users/alecmccabe/Desktop/Flatiron/Projects/Mod4/Reddit_NLP/csv_data/posts_df.csv', index_col=0)\n",
    "try:\n",
    "    comments_df = pd.read_csv('/Users/alecmccabe/Desktop/Flatiron/Projects/Mod4/Reddit_NLP/csv_data/comments_df.csv', index_col=0)\n",
    "except:\n",
    "    comments_df = pd.read_csv(\"comments_df.csv\", index_col=0)\n"
   ]
  },
  {
   "cell_type": "code",
   "execution_count": 11,
   "metadata": {},
   "outputs": [
    {
     "data": {
      "text/plain": [
       "203837"
      ]
     },
     "execution_count": 11,
     "metadata": {},
     "output_type": "execute_result"
    }
   ],
   "source": [
    "len(comments_df)"
   ]
  },
  {
   "cell_type": "code",
   "execution_count": 12,
   "metadata": {},
   "outputs": [],
   "source": [
    "#posts_df.columns = ['id_num', 'post_title', 'post_author', 'post_upvote_ratio', 'post_id', 'post_class']"
   ]
  },
  {
   "cell_type": "code",
   "execution_count": 13,
   "metadata": {},
   "outputs": [],
   "source": [
    "comments_df.columns = ['id_num', 'body', 'comment_id', 'parent_id', 'post_id', 'author', 'score', 'comment_class']"
   ]
  },
  {
   "cell_type": "code",
   "execution_count": 14,
   "metadata": {},
   "outputs": [],
   "source": [
    "import re\n",
    "\n",
    "pattern = '\\w+_(\\w+)'\n",
    "p = re.compile(pattern)"
   ]
  },
  {
   "cell_type": "code",
   "execution_count": 15,
   "metadata": {},
   "outputs": [],
   "source": [
    "comments_df.post_id = comments_df.post_id.apply(lambda x: p.findall(x)[0])"
   ]
  },
  {
   "cell_type": "code",
   "execution_count": 16,
   "metadata": {},
   "outputs": [],
   "source": [
    "# GET RID OF NEGATIVE SCORES (a negative score in a conservative subreddit could be a brigader for example)\n",
    "comments_df = comments_df[comments_df.score > 10]"
   ]
  },
  {
   "cell_type": "code",
   "execution_count": 17,
   "metadata": {},
   "outputs": [],
   "source": [
    "df = comments_df[['body', 'comment_class']]"
   ]
  },
  {
   "cell_type": "code",
   "execution_count": 18,
   "metadata": {},
   "outputs": [
    {
     "data": {
      "text/plain": [
       "right    22712\n",
       "left     22397\n",
       "Name: comment_class, dtype: int64"
      ]
     },
     "execution_count": 18,
     "metadata": {},
     "output_type": "execute_result"
    }
   ],
   "source": [
    "df.comment_class.value_counts()"
   ]
  },
  {
   "cell_type": "code",
   "execution_count": 19,
   "metadata": {},
   "outputs": [
    {
     "name": "stderr",
     "output_type": "stream",
     "text": [
      "/Users/alecmccabe/opt/anaconda3/lib/python3.8/site-packages/pandas/core/generic.py:5303: SettingWithCopyWarning: \n",
      "A value is trying to be set on a copy of a slice from a DataFrame.\n",
      "Try using .loc[row_indexer,col_indexer] = value instead\n",
      "\n",
      "See the caveats in the documentation: https://pandas.pydata.org/pandas-docs/stable/user_guide/indexing.html#returning-a-view-versus-a-copy\n",
      "  self[name] = value\n"
     ]
    }
   ],
   "source": [
    "leaning_map = {'right': 1, 'left': 0}\n",
    "df.comment_class = df.comment_class.map(leaning_map)"
   ]
  },
  {
   "cell_type": "code",
   "execution_count": 20,
   "metadata": {},
   "outputs": [
    {
     "name": "stderr",
     "output_type": "stream",
     "text": [
      "<ipython-input-20-67af6b43cc2d>:1: SettingWithCopyWarning: \n",
      "A value is trying to be set on a copy of a slice from a DataFrame.\n",
      "Try using .loc[row_indexer,col_indexer] = value instead\n",
      "\n",
      "See the caveats in the documentation: https://pandas.pydata.org/pandas-docs/stable/user_guide/indexing.html#returning-a-view-versus-a-copy\n",
      "  df['text_len'] = df['body'].map(lambda x: len(x))\n"
     ]
    }
   ],
   "source": [
    "df['text_len'] = df['body'].map(lambda x: len(x))"
   ]
  },
  {
   "cell_type": "code",
   "execution_count": 21,
   "metadata": {},
   "outputs": [],
   "source": [
    "df = df[df.text_len >= 100]\n",
    "df.drop('text_len', axis=1, inplace=True)"
   ]
  },
  {
   "cell_type": "code",
   "execution_count": 22,
   "metadata": {},
   "outputs": [
    {
     "data": {
      "text/plain": [
       "0    13216\n",
       "1    12177\n",
       "Name: comment_class, dtype: int64"
      ]
     },
     "execution_count": 22,
     "metadata": {},
     "output_type": "execute_result"
    }
   ],
   "source": [
    "df.comment_class.value_counts()"
   ]
  },
  {
   "cell_type": "code",
   "execution_count": 23,
   "metadata": {
    "scrolled": true
   },
   "outputs": [
    {
     "data": {
      "text/plain": [
       "1    13216\n",
       "0    13216\n",
       "Name: comment_class, dtype: int64"
      ]
     },
     "execution_count": 23,
     "metadata": {},
     "output_type": "execute_result"
    }
   ],
   "source": [
    "from sklearn.utils import resample\n",
    "right = df[df.comment_class == 1]\n",
    "left = df[df.comment_class == 0]\n",
    "\n",
    "right_upsampled = resample(right,\n",
    "                          replace=True, # sample with replacement\n",
    "                          n_samples=len(left), # match number in majority class\n",
    "                          random_state=42) \n",
    "df = pd.concat([left, right_upsampled])\n",
    "df.comment_class.value_counts()"
   ]
  },
  {
   "cell_type": "code",
   "execution_count": 24,
   "metadata": {},
   "outputs": [],
   "source": [
    "df.reset_index(drop=True, inplace=True)"
   ]
  },
  {
   "cell_type": "code",
   "execution_count": 25,
   "metadata": {},
   "outputs": [
    {
     "data": {
      "text/html": [
       "<div>\n",
       "<style scoped>\n",
       "    .dataframe tbody tr th:only-of-type {\n",
       "        vertical-align: middle;\n",
       "    }\n",
       "\n",
       "    .dataframe tbody tr th {\n",
       "        vertical-align: top;\n",
       "    }\n",
       "\n",
       "    .dataframe thead th {\n",
       "        text-align: right;\n",
       "    }\n",
       "</style>\n",
       "<table border=\"1\" class=\"dataframe\">\n",
       "  <thead>\n",
       "    <tr style=\"text-align: right;\">\n",
       "      <th></th>\n",
       "      <th>body</th>\n",
       "      <th>comment_class</th>\n",
       "    </tr>\n",
       "  </thead>\n",
       "  <tbody>\n",
       "    <tr>\n",
       "      <th>0</th>\n",
       "      <td>As a Lesbian, I get a lot of backlash when peo...</td>\n",
       "      <td>0</td>\n",
       "    </tr>\n",
       "    <tr>\n",
       "      <th>1</th>\n",
       "      <td>“*These are radical islamic terrorists and she...</td>\n",
       "      <td>0</td>\n",
       "    </tr>\n",
       "    <tr>\n",
       "      <th>2</th>\n",
       "      <td>I hope Gov. Whitmer still has all that extra s...</td>\n",
       "      <td>0</td>\n",
       "    </tr>\n",
       "    <tr>\n",
       "      <th>3</th>\n",
       "      <td>She's not wrong. I hope this woman goes places...</td>\n",
       "      <td>0</td>\n",
       "    </tr>\n",
       "    <tr>\n",
       "      <th>4</th>\n",
       "      <td>The Orange Tweeter's irresponsible actions hav...</td>\n",
       "      <td>0</td>\n",
       "    </tr>\n",
       "  </tbody>\n",
       "</table>\n",
       "</div>"
      ],
      "text/plain": [
       "                                                body  comment_class\n",
       "0  As a Lesbian, I get a lot of backlash when peo...              0\n",
       "1  “*These are radical islamic terrorists and she...              0\n",
       "2  I hope Gov. Whitmer still has all that extra s...              0\n",
       "3  She's not wrong. I hope this woman goes places...              0\n",
       "4  The Orange Tweeter's irresponsible actions hav...              0"
      ]
     },
     "execution_count": 25,
     "metadata": {},
     "output_type": "execute_result"
    }
   ],
   "source": [
    "df.head()"
   ]
  },
  {
   "cell_type": "markdown",
   "metadata": {},
   "source": [
    "# Dummy Classifier"
   ]
  },
  {
   "cell_type": "code",
   "execution_count": 26,
   "metadata": {},
   "outputs": [
    {
     "data": {
      "text/html": [
       "<div>\n",
       "<style scoped>\n",
       "    .dataframe tbody tr th:only-of-type {\n",
       "        vertical-align: middle;\n",
       "    }\n",
       "\n",
       "    .dataframe tbody tr th {\n",
       "        vertical-align: top;\n",
       "    }\n",
       "\n",
       "    .dataframe thead th {\n",
       "        text-align: right;\n",
       "    }\n",
       "</style>\n",
       "<table border=\"1\" class=\"dataframe\">\n",
       "  <thead>\n",
       "    <tr style=\"text-align: right;\">\n",
       "      <th></th>\n",
       "      <th>model</th>\n",
       "      <th>accuracy</th>\n",
       "      <th>f1</th>\n",
       "    </tr>\n",
       "  </thead>\n",
       "  <tbody>\n",
       "  </tbody>\n",
       "</table>\n",
       "</div>"
      ],
      "text/plain": [
       "Empty DataFrame\n",
       "Columns: [model, accuracy, f1]\n",
       "Index: []"
      ]
     },
     "execution_count": 26,
     "metadata": {},
     "output_type": "execute_result"
    }
   ],
   "source": [
    "results = pd.DataFrame(columns = ['model','accuracy','f1'])\n",
    "results"
   ]
  },
  {
   "cell_type": "code",
   "execution_count": 27,
   "metadata": {},
   "outputs": [
    {
     "data": {
      "text/plain": [
       "0.5"
      ]
     },
     "execution_count": 27,
     "metadata": {},
     "output_type": "execute_result"
    }
   ],
   "source": [
    "import numpy as np\n",
    "from sklearn.dummy import DummyClassifier\n",
    "X = df['body']\n",
    "y = df['comment_class']\n",
    "\n",
    "dummy_cf = DummyClassifier(strategy='most_frequent')\n",
    "dummy_cf.fit(X,y)\n",
    "y_preds = dummy_cf.predict(X)\n",
    "\n",
    "dummy_cf.score(X,y)\n"
   ]
  },
  {
   "cell_type": "code",
   "execution_count": 28,
   "metadata": {},
   "outputs": [],
   "source": [
    "accuracy = accuracy_score(y, y_preds)\n",
    "f1 = f1_score(y, y_preds)"
   ]
  },
  {
   "cell_type": "code",
   "execution_count": 29,
   "metadata": {},
   "outputs": [
    {
     "data": {
      "text/html": [
       "<div>\n",
       "<style scoped>\n",
       "    .dataframe tbody tr th:only-of-type {\n",
       "        vertical-align: middle;\n",
       "    }\n",
       "\n",
       "    .dataframe tbody tr th {\n",
       "        vertical-align: top;\n",
       "    }\n",
       "\n",
       "    .dataframe thead th {\n",
       "        text-align: right;\n",
       "    }\n",
       "</style>\n",
       "<table border=\"1\" class=\"dataframe\">\n",
       "  <thead>\n",
       "    <tr style=\"text-align: right;\">\n",
       "      <th></th>\n",
       "      <th>model</th>\n",
       "      <th>accuracy</th>\n",
       "      <th>f1</th>\n",
       "    </tr>\n",
       "  </thead>\n",
       "  <tbody>\n",
       "    <tr>\n",
       "      <th>0</th>\n",
       "      <td>Dummy</td>\n",
       "      <td>0.5</td>\n",
       "      <td>0.0</td>\n",
       "    </tr>\n",
       "  </tbody>\n",
       "</table>\n",
       "</div>"
      ],
      "text/plain": [
       "   model  accuracy   f1\n",
       "0  Dummy       0.5  0.0"
      ]
     },
     "execution_count": 29,
     "metadata": {},
     "output_type": "execute_result"
    }
   ],
   "source": [
    "new_row = {'model': 'Dummy', 'accuracy': accuracy, 'f1': f1}\n",
    "results = results.append(new_row, ignore_index=True)\n",
    "results"
   ]
  },
  {
   "cell_type": "markdown",
   "metadata": {},
   "source": [
    "# Feature Generation"
   ]
  },
  {
   "cell_type": "code",
   "execution_count": 26,
   "metadata": {},
   "outputs": [],
   "source": [
    "X = df['body']\n",
    "y = df['comment_class']"
   ]
  },
  {
   "cell_type": "code",
   "execution_count": 27,
   "metadata": {},
   "outputs": [
    {
     "data": {
      "text/plain": [
       "0        As a Lesbian, I get a lot of backlash when peo...\n",
       "1        “*These are radical islamic terrorists and she...\n",
       "2        I hope Gov. Whitmer still has all that extra s...\n",
       "3        She's not wrong. I hope this woman goes places...\n",
       "4        The Orange Tweeter's irresponsible actions hav...\n",
       "                               ...                        \n",
       "26427    Imagine thinking *this* is the most pressing i...\n",
       "26428    This post is misleading and should either be c...\n",
       "26429    Claiming she’ll use an executive order if cong...\n",
       "26430    Here is a better timeline of events that lead ...\n",
       "26431    Whats bullshit is that this is the first I hav...\n",
       "Name: body, Length: 26432, dtype: object"
      ]
     },
     "execution_count": 27,
     "metadata": {},
     "output_type": "execute_result"
    }
   ],
   "source": [
    "X"
   ]
  },
  {
   "cell_type": "code",
   "execution_count": 28,
   "metadata": {},
   "outputs": [
    {
     "name": "stderr",
     "output_type": "stream",
     "text": [
      "[nltk_data] Downloading package averaged_perceptron_tagger to\n",
      "[nltk_data]     /Users/alecmccabe/nltk_data...\n",
      "[nltk_data]   Package averaged_perceptron_tagger is already up-to-\n",
      "[nltk_data]       date!\n"
     ]
    },
    {
     "data": {
      "text/plain": [
       "True"
      ]
     },
     "execution_count": 28,
     "metadata": {},
     "output_type": "execute_result"
    }
   ],
   "source": [
    "import nltk\n",
    "nltk.download('averaged_perceptron_tagger')"
   ]
  },
  {
   "cell_type": "markdown",
   "metadata": {},
   "source": [
    "**Count Stopwords Vector**"
   ]
  },
  {
   "cell_type": "code",
   "execution_count": 33,
   "metadata": {},
   "outputs": [],
   "source": [
    "stopwords_count = X.apply(count_stopwords)"
   ]
  },
  {
   "cell_type": "code",
   "execution_count": 34,
   "metadata": {},
   "outputs": [],
   "source": [
    "stop_train, stop_test, y_train, y_test = train_test_split(stopwords_count, y, test_size=0.35, random_state=1)"
   ]
  },
  {
   "cell_type": "code",
   "execution_count": 35,
   "metadata": {},
   "outputs": [],
   "source": [
    "stop_train.reset_index(drop=True, inplace=True)"
   ]
  },
  {
   "cell_type": "code",
   "execution_count": 36,
   "metadata": {},
   "outputs": [],
   "source": [
    "stop_test.reset_index(drop=True, inplace=True)"
   ]
  },
  {
   "cell_type": "markdown",
   "metadata": {},
   "source": [
    "**Create Pronoun Vector**"
   ]
  },
  {
   "cell_type": "code",
   "execution_count": 37,
   "metadata": {},
   "outputs": [],
   "source": [
    "from sklearn.base import BaseEstimator, TransformerMixin\n",
    "from Pronouns import Pronouns"
   ]
  },
  {
   "cell_type": "code",
   "execution_count": 38,
   "metadata": {},
   "outputs": [],
   "source": [
    "# class Pronouns(BaseEstimator, TransformerMixin):\n",
    "    \n",
    "#     def fit(self, X, y):\n",
    "#         return self\n",
    "    \n",
    "#     def count_pronouns(self, comment):\n",
    "#         comment = comment.lower()\n",
    "#         tokens = nltk.word_tokenize(comment)\n",
    "\n",
    "#         pos_tags = [i[1] for i in nltk.pos_tag(tokens)]\n",
    "#         count = 0\n",
    "#         pronouns = ['PRP','PRP$','WP','WP$']\n",
    "#         for pos in pos_tags:\n",
    "#             if pos in pronouns:\n",
    "#                 count += 1\n",
    "\n",
    "#         return count / len(tokens)\n",
    "    \n",
    "#     def transform(self, X):\n",
    "#         return pd.Series(X).apply(self.count_pronouns)"
   ]
  },
  {
   "cell_type": "code",
   "execution_count": 39,
   "metadata": {},
   "outputs": [],
   "source": [
    "pronouns = Pronouns()"
   ]
  },
  {
   "cell_type": "code",
   "execution_count": 40,
   "metadata": {},
   "outputs": [
    {
     "data": {
      "text/plain": [
       "Pronouns()"
      ]
     },
     "execution_count": 40,
     "metadata": {},
     "output_type": "execute_result"
    }
   ],
   "source": [
    "pronouns.fit(X, y)"
   ]
  },
  {
   "cell_type": "code",
   "execution_count": 41,
   "metadata": {},
   "outputs": [],
   "source": [
    "pronouns_vector = pronouns.transform(X)"
   ]
  },
  {
   "cell_type": "code",
   "execution_count": 42,
   "metadata": {},
   "outputs": [
    {
     "data": {
      "text/plain": [
       "0        0.106195\n",
       "1        0.048780\n",
       "2        0.058824\n",
       "3        0.107143\n",
       "4        0.029412\n",
       "           ...   \n",
       "26427    0.032258\n",
       "26428    0.037037\n",
       "26429    0.078947\n",
       "26430    0.008403\n",
       "26431    0.038462\n",
       "Name: body, Length: 26432, dtype: float64"
      ]
     },
     "execution_count": 42,
     "metadata": {},
     "output_type": "execute_result"
    }
   ],
   "source": [
    "pronouns_vector"
   ]
  },
  {
   "cell_type": "code",
   "execution_count": 43,
   "metadata": {},
   "outputs": [],
   "source": [
    "pro_train, pro_test, y_train, y_test = train_test_split(pronouns_vector, y, test_size=0.35, random_state=1)"
   ]
  },
  {
   "cell_type": "code",
   "execution_count": 44,
   "metadata": {},
   "outputs": [],
   "source": [
    "pro_train.reset_index(drop=True, inplace=True)"
   ]
  },
  {
   "cell_type": "code",
   "execution_count": 45,
   "metadata": {},
   "outputs": [],
   "source": [
    "pro_test.reset_index(drop=True, inplace=True)"
   ]
  },
  {
   "cell_type": "markdown",
   "metadata": {},
   "source": [
    "**Create Capital Vector**"
   ]
  },
  {
   "cell_type": "code",
   "execution_count": 46,
   "metadata": {},
   "outputs": [],
   "source": [
    "class Capitalization_Normalizer(BaseEstimator, TransformerMixin):\n",
    "\n",
    "    def capital_percentage(self, lst):\n",
    "        return sum([1 if x.isupper() else 0 for x in lst]) / len(lst)\n",
    "\n",
    "    def fit(self, X, y=None):\n",
    "        return self\n",
    "\n",
    "    def transform(self, X):\n",
    "        tokens = pd.Series(X).apply(nltk.word_tokenize)\n",
    "        return tokens.apply(self.capital_percentage)"
   ]
  },
  {
   "cell_type": "code",
   "execution_count": 47,
   "metadata": {},
   "outputs": [],
   "source": [
    "capitals = Capitalization_Normalizer()"
   ]
  },
  {
   "cell_type": "code",
   "execution_count": 48,
   "metadata": {},
   "outputs": [
    {
     "data": {
      "text/plain": [
       "Capitalization_Normalizer()"
      ]
     },
     "execution_count": 48,
     "metadata": {},
     "output_type": "execute_result"
    }
   ],
   "source": [
    "capitals.fit(X,y)"
   ]
  },
  {
   "cell_type": "code",
   "execution_count": 49,
   "metadata": {},
   "outputs": [],
   "source": [
    "capitals_vector = capitals.transform(X)"
   ]
  },
  {
   "cell_type": "code",
   "execution_count": 50,
   "metadata": {},
   "outputs": [],
   "source": [
    "cap_train, cap_test, y_train, y_test = train_test_split(capitals_vector, y, test_size=0.35, random_state=1)"
   ]
  },
  {
   "cell_type": "code",
   "execution_count": 51,
   "metadata": {},
   "outputs": [],
   "source": [
    "cap_train.reset_index(drop=True, inplace=True)"
   ]
  },
  {
   "cell_type": "code",
   "execution_count": 52,
   "metadata": {},
   "outputs": [],
   "source": [
    "cap_test.reset_index(drop=True, inplace=True)"
   ]
  },
  {
   "cell_type": "markdown",
   "metadata": {},
   "source": [
    "**Create Profanity Vector**"
   ]
  },
  {
   "cell_type": "code",
   "execution_count": 53,
   "metadata": {},
   "outputs": [],
   "source": [
    "profanity_count = X.apply(check_profanity)"
   ]
  },
  {
   "cell_type": "code",
   "execution_count": 54,
   "metadata": {},
   "outputs": [],
   "source": [
    "prof_train, prof_test, y_train, y_test = train_test_split(profanity_count, y, test_size=0.35, random_state=1)"
   ]
  },
  {
   "cell_type": "code",
   "execution_count": 55,
   "metadata": {},
   "outputs": [],
   "source": [
    "prof_train.reset_index(drop=True, inplace=True)"
   ]
  },
  {
   "cell_type": "code",
   "execution_count": 56,
   "metadata": {},
   "outputs": [],
   "source": [
    "prof_test.reset_index(drop=True, inplace=True)"
   ]
  },
  {
   "cell_type": "markdown",
   "metadata": {},
   "source": [
    "**Create Text Length Vector**"
   ]
  },
  {
   "cell_type": "code",
   "execution_count": 57,
   "metadata": {},
   "outputs": [],
   "source": [
    "text_length = X.apply(len)"
   ]
  },
  {
   "cell_type": "code",
   "execution_count": 58,
   "metadata": {},
   "outputs": [],
   "source": [
    "len_train, len_test, y_train, y_test = train_test_split(text_length, y, test_size=0.35, random_state=1)"
   ]
  },
  {
   "cell_type": "code",
   "execution_count": 59,
   "metadata": {},
   "outputs": [],
   "source": [
    "len_train.reset_index(drop=True, inplace=True)"
   ]
  },
  {
   "cell_type": "code",
   "execution_count": 60,
   "metadata": {},
   "outputs": [],
   "source": [
    "len_test.reset_index(drop=True, inplace=True)"
   ]
  },
  {
   "cell_type": "markdown",
   "metadata": {},
   "source": [
    "**Lemmatize X**"
   ]
  },
  {
   "cell_type": "code",
   "execution_count": 29,
   "metadata": {},
   "outputs": [],
   "source": [
    "#apply above function to data\n",
    "\n",
    "processed_comments = list(map(process_comment, X))"
   ]
  },
  {
   "cell_type": "code",
   "execution_count": 30,
   "metadata": {},
   "outputs": [],
   "source": [
    "#create list with lemmatized output\n",
    "lemmatized_output = []\n",
    "\n",
    "for comment in processed_comments:\n",
    "    lemmed = ' '.join([lemmatizer.lemmatize(w) for w in comment])\n",
    "    lemmatized_output.append(lemmed)"
   ]
  },
  {
   "cell_type": "code",
   "execution_count": 31,
   "metadata": {},
   "outputs": [],
   "source": [
    "#change this to 'lemmatized_output' if you are including lemma (see above)\n",
    "X_lem = lemmatized_output\n",
    "\n",
    "y_lem = y"
   ]
  },
  {
   "cell_type": "markdown",
   "metadata": {},
   "source": [
    "**Create Lexical Diversity Vector**"
   ]
  },
  {
   "cell_type": "code",
   "execution_count": 64,
   "metadata": {},
   "outputs": [],
   "source": [
    "lex_div = pd.Series(X_lem).apply(lexical_diversity)"
   ]
  },
  {
   "cell_type": "code",
   "execution_count": 65,
   "metadata": {},
   "outputs": [],
   "source": [
    "lex_train, lex_test, y_train, y_test = train_test_split(lex_div, y, test_size=0.35, random_state=1)"
   ]
  },
  {
   "cell_type": "code",
   "execution_count": 66,
   "metadata": {},
   "outputs": [],
   "source": [
    "lex_train.reset_index(drop=True, inplace=True)"
   ]
  },
  {
   "cell_type": "code",
   "execution_count": 67,
   "metadata": {},
   "outputs": [],
   "source": [
    "lex_test.reset_index(drop=True, inplace=True)"
   ]
  },
  {
   "cell_type": "markdown",
   "metadata": {},
   "source": [
    "# Classification"
   ]
  },
  {
   "cell_type": "code",
   "execution_count": 32,
   "metadata": {},
   "outputs": [],
   "source": [
    "X_train_lem, X_test_lem, y_train_lem, y_test_lem = train_test_split(X_lem, y_lem, test_size=0.35, random_state=1)"
   ]
  },
  {
   "cell_type": "code",
   "execution_count": 33,
   "metadata": {},
   "outputs": [],
   "source": [
    "import en_core_web_sm\n",
    "nlp = en_core_web_sm.load()"
   ]
  },
  {
   "cell_type": "code",
   "execution_count": 70,
   "metadata": {},
   "outputs": [],
   "source": [
    "import spacy \n",
    "from sklearn.base import BaseEstimator, TransformerMixin\n",
    "class SpacyVectorTransformer(BaseEstimator, TransformerMixin):\n",
    "    def __init__(self, nlp):\n",
    "        self.nlp = nlp\n",
    "        self.dim = 300\n",
    "\n",
    "    def fit(self, X, y):\n",
    "        return self\n",
    "\n",
    "    def transform(self, X):\n",
    "        # Doc.vector defaults to an average of the token vectors.\n",
    "        # https://spacy.io/api/doc#vector\n",
    "        \n",
    "        return [self.nlp(text).vector for text in X]"
   ]
  },
  {
   "cell_type": "code",
   "execution_count": 71,
   "metadata": {},
   "outputs": [],
   "source": [
    "from sklearn.pipeline import Pipeline, FeatureUnion\n",
    "from sklearn.decomposition import TruncatedSVD\n",
    "from sklearn.metrics import classification_report"
   ]
  },
  {
   "cell_type": "code",
   "execution_count": 72,
   "metadata": {},
   "outputs": [
    {
     "name": "stderr",
     "output_type": "stream",
     "text": [
      "[Parallel(n_jobs=-1)]: Using backend ThreadingBackend with 8 concurrent workers.\n",
      "[Parallel(n_jobs=-1)]: Done  34 tasks      | elapsed:    0.6s\n",
      "[Parallel(n_jobs=-1)]: Done 100 out of 100 | elapsed:    1.6s finished\n",
      "[Parallel(n_jobs=8)]: Using backend ThreadingBackend with 8 concurrent workers.\n",
      "[Parallel(n_jobs=8)]: Done  34 tasks      | elapsed:    0.0s\n",
      "[Parallel(n_jobs=8)]: Done 100 out of 100 | elapsed:    0.0s finished\n"
     ]
    }
   ],
   "source": [
    "embeddings_pipeline = Pipeline(\n",
    "    steps=[\n",
    "        (\"mean_embeddings\", SpacyVectorTransformer(nlp)),\n",
    "        (\"reduce_dim\", TruncatedSVD(50)),\n",
    "        (\"classifier\", RandomForestClassifier(random_state=0,n_jobs=-1, verbose=1)),\n",
    "    ]\n",
    ")\n",
    "embeddings_pipeline.fit(X_train_lem, y_train_lem)\n",
    "y_pred = embeddings_pipeline.predict(X_test_lem)\n",
    "cr = classification_report(y_test_lem, y_pred,output_dict=True)"
   ]
  },
  {
   "cell_type": "code",
   "execution_count": 73,
   "metadata": {},
   "outputs": [],
   "source": [
    "accuracy = accuracy_score(y_test_lem, y_pred)\n",
    "f1 = f1_score(y_test_lem, y_pred)"
   ]
  },
  {
   "cell_type": "code",
   "execution_count": 74,
   "metadata": {},
   "outputs": [
    {
     "data": {
      "text/html": [
       "<div>\n",
       "<style scoped>\n",
       "    .dataframe tbody tr th:only-of-type {\n",
       "        vertical-align: middle;\n",
       "    }\n",
       "\n",
       "    .dataframe tbody tr th {\n",
       "        vertical-align: top;\n",
       "    }\n",
       "\n",
       "    .dataframe thead th {\n",
       "        text-align: right;\n",
       "    }\n",
       "</style>\n",
       "<table border=\"1\" class=\"dataframe\">\n",
       "  <thead>\n",
       "    <tr style=\"text-align: right;\">\n",
       "      <th></th>\n",
       "      <th>model</th>\n",
       "      <th>accuracy</th>\n",
       "      <th>f1</th>\n",
       "    </tr>\n",
       "  </thead>\n",
       "  <tbody>\n",
       "    <tr>\n",
       "      <th>0</th>\n",
       "      <td>Dummy</td>\n",
       "      <td>0.500000</td>\n",
       "      <td>0.000000</td>\n",
       "    </tr>\n",
       "    <tr>\n",
       "      <th>1</th>\n",
       "      <td>word2vec</td>\n",
       "      <td>0.915262</td>\n",
       "      <td>0.910092</td>\n",
       "    </tr>\n",
       "  </tbody>\n",
       "</table>\n",
       "</div>"
      ],
      "text/plain": [
       "      model  accuracy        f1\n",
       "0     Dummy  0.500000  0.000000\n",
       "1  word2vec  0.915262  0.910092"
      ]
     },
     "execution_count": 74,
     "metadata": {},
     "output_type": "execute_result"
    }
   ],
   "source": [
    "new_row = {'model': 'word2vec', 'accuracy': accuracy, 'f1': f1}\n",
    "results = results.append(new_row, ignore_index=True)\n",
    "results"
   ]
  },
  {
   "cell_type": "code",
   "execution_count": 75,
   "metadata": {},
   "outputs": [],
   "source": [
    "# tfidf_pipeline = Pipeline(\n",
    "#     steps=[\n",
    "#         (\"tfidf\", TfidfVectorizer()),\n",
    "#         (\"classifier\", RandomForestClassifier(random_state=0,n_jobs=-1, verbose=1)),\n",
    "#     ]\n",
    "# )\n",
    "\n",
    "# tfidf_pipeline.fit(X_train_lem, y_train_lem)\n",
    "# y_pred = tfidf_pipeline.predict(X_test_lem)\n",
    "# cr = classification_report(y_test_lem, y_pred, output_dict=True)"
   ]
  },
  {
   "cell_type": "code",
   "execution_count": 76,
   "metadata": {},
   "outputs": [],
   "source": [
    "# report = pd.DataFrame(cr).transpose()"
   ]
  },
  {
   "cell_type": "code",
   "execution_count": 77,
   "metadata": {
    "scrolled": true
   },
   "outputs": [],
   "source": [
    "# report"
   ]
  },
  {
   "cell_type": "code",
   "execution_count": 78,
   "metadata": {},
   "outputs": [],
   "source": [
    "# # individual pipelines minus the estimator step: \n",
    "# tfidf_pipeline = Pipeline(\n",
    "#     steps=[\n",
    "#         (\"tfidf\", TfidfVectorizer()),\n",
    "#     ]\n",
    "# )\n",
    "\n",
    "# embeddings_pipeline = Pipeline(\n",
    "#     steps=[\n",
    "#         (\"mean_embeddings\", SpacyVectorTransformer(nlp)),\n",
    "#         (\"reduce_dim\", TruncatedSVD(50)),\n",
    "#     ]\n",
    "# )"
   ]
  },
  {
   "cell_type": "code",
   "execution_count": 79,
   "metadata": {},
   "outputs": [],
   "source": [
    "# combined_features = FeatureUnion(\n",
    "#     transformer_list=[\n",
    "#         (\"tfidf\", tfidf_pipeline),\n",
    "#         (\"embeddings\", embeddings_pipeline),\n",
    "#         #(try adding a pipeline that is just the dense columns)\n",
    "#     ]\n",
    "# )\n",
    "# final_pipeline = Pipeline(\n",
    "#     steps=[\n",
    "#         (\"combined_features\", combined_features),\n",
    "#         (\"classifier\", RandomForestClassifier(random_state=0,n_jobs=-1, verbose=1)),\n",
    "#     ]\n",
    "# )"
   ]
  },
  {
   "cell_type": "code",
   "execution_count": 80,
   "metadata": {},
   "outputs": [],
   "source": [
    "# final_pipeline.fit(X_train_lem, y_train_lem)\n",
    "# y_pred = final_pipeline.predict(X_test_lem)\n",
    "# cr = classification_report(y_test_lem, y_pred, output_dict=True)"
   ]
  },
  {
   "cell_type": "code",
   "execution_count": 81,
   "metadata": {},
   "outputs": [],
   "source": [
    "# report = pd.DataFrame(cr).transpose()"
   ]
  },
  {
   "cell_type": "code",
   "execution_count": 82,
   "metadata": {
    "scrolled": true
   },
   "outputs": [],
   "source": [
    "# report"
   ]
  },
  {
   "cell_type": "markdown",
   "metadata": {},
   "source": [
    "**Combining Sparse with Dense**"
   ]
  },
  {
   "cell_type": "code",
   "execution_count": 34,
   "metadata": {},
   "outputs": [],
   "source": [
    "def classifier_input(pro_tr = None, pro_te = None, \n",
    "                     cap_tr = None, cap_te = None, \n",
    "                     prof_tr = None, prof_te = None, \n",
    "                     len_tr = None, len_te = None,\n",
    "                     lex_tr = None, lex_te = None,\n",
    "                     stop_tr = None, stop_te = None):\n",
    "    \n",
    "    tfidf = TfidfVectorizer(ngram_range=(1,1))\n",
    "\n",
    "    tfidf_data_train_lem = tfidf.fit_transform(X_train_lem)\n",
    "    tfidf_data_test_lem = tfidf.transform(X_test_lem)\n",
    "    \n",
    "    \n",
    "    tfidf_data_train_lem = pd.DataFrame(tfidf_data_train_lem.toarray(), columns=tfidf.vocabulary_.keys())\n",
    "\n",
    "    tfidf_data_test_lem = pd.DataFrame(tfidf_data_test_lem.toarray(), columns=tfidf.vocabulary_.keys())\n",
    "    \n",
    "    print(\"Finished Part 1\")\n",
    "\n",
    "     \n",
    "    if str(type(pro_tr)) != str(type(None)) and str(type(pro_te)) != str(type(None)):\n",
    "        tfidf_data_train_lem['Xpronouns'] = pro_tr\n",
    "        tfidf_data_test_lem['Xpronouns'] = pro_te\n",
    "        print('finished pronoun_test')\n",
    "        \n",
    "    if str(type(cap_tr)) != str(type(None)) and str(type(cap_te)) != str(type(None)):\n",
    "        tfidf_data_train_lem['Xcapitals'] = cap_tr\n",
    "        tfidf_data_test_lem['Xcapitals'] = cap_te\n",
    "        print('finished capital_test')\n",
    "\n",
    "        \n",
    "    if str(type(prof_tr)) != str(type(None)) and str(type(prof_te)) != str(type(None)):\n",
    "        tfidf_data_train_lem['Xprofanity'] = prof_tr\n",
    "        tfidf_data_test_lem['Xprofanity'] = prof_te\n",
    "        print('finished profanity_test')\n",
    "    \n",
    "    if str(type(len_tr)) != str(type(None)) and str(type(len_te)) != str(type(None)):\n",
    "        tfidf_data_train_lem['Xlength'] = len_tr\n",
    "        tfidf_data_test_lem['Xlength'] = len_te\n",
    "        print('finished length_test')\n",
    "    \n",
    "    if str(type(lex_tr)) != str(type(None)) and str(type(lex_tr)) != str(type(None)):\n",
    "        tfidf_data_train_lem['Xlexical'] = lex_tr\n",
    "        tfidf_data_test_lem['Xlexical'] = lex_te\n",
    "        print('finished lexical_test')\n",
    "    \n",
    "    if str(type(stop_tr)) != str(type(None)) and str(type(stop_te)) != str(type(None)):\n",
    "        tfidf_data_train_lem['Xstopwords'] = stop_tr\n",
    "        tfidf_data_test_lem['Xstopwords'] = stop_te\n",
    "\n",
    "        \n",
    "    train_columns = tfidf_data_train_lem.columns\n",
    "    \n",
    "    tfidf_data_train_lem = scipy.sparse.csr_matrix(tfidf_data_train_lem)\n",
    "    \n",
    "    print(\"Finished train sparsing\")\n",
    "    \n",
    "    tfidf_data_test_lem = scipy.sparse.csr_matrix(tfidf_data_test_lem)\n",
    "    \n",
    "    print(\"Finished test sparsing\")\n",
    "\n",
    "    \n",
    "    return tfidf_data_train_lem, tfidf_data_test_lem, train_columns"
   ]
  },
  {
   "cell_type": "markdown",
   "metadata": {},
   "source": [
    "Creating dif dataframes to test models with, 1 with each feature appended to Tf IDF and one with all 3."
   ]
  },
  {
   "cell_type": "code",
   "execution_count": 35,
   "metadata": {
    "scrolled": true
   },
   "outputs": [
    {
     "name": "stdout",
     "output_type": "stream",
     "text": [
      "Finished Part 1\n",
      "Finished train sparsing\n",
      "Finished test sparsing\n"
     ]
    }
   ],
   "source": [
    "X_train, X_test, X_columns = classifier_input()"
   ]
  },
  {
   "cell_type": "code",
   "execution_count": 74,
   "metadata": {},
   "outputs": [
    {
     "name": "stdout",
     "output_type": "stream",
     "text": [
      "Finished Part 1\n",
      "finished pronoun_test\n",
      "Finished train sparsing\n",
      "Finished test sparsing\n",
      "Finished Part 1\n",
      "finished profanity_test\n",
      "Finished train sparsing\n",
      "Finished test sparsing\n",
      "Finished Part 1\n",
      "finished capital_test\n",
      "Finished train sparsing\n",
      "Finished test sparsing\n",
      "Finished Part 1\n",
      "finished length_test\n",
      "Finished train sparsing\n",
      "Finished test sparsing\n",
      "Finished Part 1\n",
      "finished lexical_test\n",
      "Finished train sparsing\n",
      "Finished test sparsing\n",
      "Finished Part 1\n",
      "Finished train sparsing\n",
      "Finished test sparsing\n"
     ]
    }
   ],
   "source": [
    "pro_train2, pro_test2, pro_columns = classifier_input(pro_tr = pro_train, pro_te = pro_test)\n",
    "\n",
    "prof_train2, prof_test2, prof_columns = classifier_input(prof_tr = prof_train, prof_te = prof_test)\n",
    "\n",
    "cap_train2, cap_test2, cap_columns = classifier_input(cap_tr = cap_train, cap_te = cap_test)\n",
    "\n",
    "len_train2, len_test2, len_columns = classifier_input(len_tr = len_train, len_te = len_test)\n",
    "\n",
    "lex_train2, lex_test2, lex_columns = classifier_input(lex_tr = lex_train, lex_te = lex_test)\n",
    "\n",
    "stop_train2, stop_test2, stop_columns = classifier_input(stop_tr = stop_train, stop_te = stop_test)"
   ]
  },
  {
   "cell_type": "code",
   "execution_count": 75,
   "metadata": {},
   "outputs": [
    {
     "name": "stdout",
     "output_type": "stream",
     "text": [
      "Finished Part 1\n",
      "finished pronoun_test\n",
      "finished capital_test\n",
      "finished profanity_test\n",
      "finished length_test\n",
      "finished lexical_test\n",
      "Finished train sparsing\n",
      "Finished test sparsing\n"
     ]
    }
   ],
   "source": [
    "combined_train, combined_test, combined_columns = classifier_input(pro_tr = pro_train, pro_te = pro_test, \n",
    "                                                                   prof_tr = prof_train, prof_te = prof_test, \n",
    "                                                                   cap_tr = cap_train, cap_te = cap_test, \n",
    "                                                                   len_tr = len_train, len_te = len_test, \n",
    "                                                                   lex_tr = lex_train, lex_te = lex_test, \n",
    "                                                                   stop_tr = stop_train, stop_te = stop_test)"
   ]
  },
  {
   "cell_type": "markdown",
   "metadata": {},
   "source": [
    "# Clustering"
   ]
  },
  {
   "cell_type": "markdown",
   "metadata": {},
   "source": [
    "**KMeans**"
   ]
  },
  {
   "cell_type": "code",
   "execution_count": 46,
   "metadata": {},
   "outputs": [],
   "source": [
    "import warnings\n",
    "warnings.filterwarnings('ignore')"
   ]
  },
  {
   "cell_type": "code",
   "execution_count": 47,
   "metadata": {},
   "outputs": [],
   "source": [
    "from yellowbrick.cluster import KElbowVisualizer\n",
    "from sklearn.decomposition import PCA"
   ]
  },
  {
   "cell_type": "code",
   "execution_count": 48,
   "metadata": {},
   "outputs": [],
   "source": [
    "pca = PCA(n_components=2).fit(X_train.toarray())"
   ]
  },
  {
   "cell_type": "code",
   "execution_count": 60,
   "metadata": {},
   "outputs": [
    {
     "data": {
      "text/plain": [
       "array([-7.92032539e-05, -1.62154588e-03, -2.46336887e-04, ...,\n",
       "       -9.46408125e-05,  1.71895811e-04,  1.08163026e-04])"
      ]
     },
     "execution_count": 60,
     "metadata": {},
     "output_type": "execute_result"
    }
   ],
   "source": [
    "pca.components_[0]"
   ]
  },
  {
   "cell_type": "code",
   "execution_count": 49,
   "metadata": {},
   "outputs": [],
   "source": [
    "projected = pca.transform(X_train.toarray())"
   ]
  },
  {
   "cell_type": "code",
   "execution_count": 54,
   "metadata": {
    "scrolled": true
   },
   "outputs": [
    {
     "data": {
      "image/png": "[encoded data removed]",
      "text/plain": [
       "<Figure size 576x396 with 2 Axes>"
      ]
     },
     "metadata": {},
     "output_type": "display_data"
    }
   ],
   "source": [
    "plt.scatter(projected[:, 0], projected[:, 1],\n",
    "            c=y_train_lem, edgecolor='none', alpha=0.5,\n",
    "            cmap=plt.cm.get_cmap('Accent', 10))\n",
    "plt.xlabel('component 1')\n",
    "plt.ylabel('component 2')\n",
    "plt.colorbar();"
   ]
  },
  {
   "cell_type": "code",
   "execution_count": 63,
   "metadata": {},
   "outputs": [],
   "source": [
    "important = ['catalyst',\n",
    "'fuckjob',\n",
    "'fizzled',\n",
    "'unbelievable',\n",
    "'depot',\n",
    "'journals',\n",
    "'fuckjob',\n",
    "'ghostwriting',\n",
    "'kidnapper',\n",
    "'face',\n",
    "'railroad',\n",
    "'appointing',\n",
    "'1990',\n",
    "'unbelievably',\n",
    "'will',\n",
    "'straub',\n",
    "'creep',\n",
    "'gaining']"
   ]
  },
  {
   "cell_type": "code",
   "execution_count": 71,
   "metadata": {},
   "outputs": [],
   "source": [
    "more_important = ['catalyst',\n",
    "'fuckjob',\n",
    "'fizzled',\n",
    "'unbelievable',\n",
    "'fuckjob',\n",
    "'ghostwriting']"
   ]
  },
  {
   "cell_type": "code",
   "execution_count": 72,
   "metadata": {},
   "outputs": [
    {
     "data": {
      "image/png": "[encoded data removed]",
      "text/plain": [
       "<Figure size 576x396 with 1 Axes>"
      ]
     },
     "metadata": {},
     "output_type": "display_data"
    }
   ],
   "source": [
    "def myplot(score,coeff,labels=None):\n",
    "    xs = score[:,0]\n",
    "    ys = score[:,1]\n",
    "    n = coeff.shape[0]\n",
    "    scalex = 1.0/(xs.max() - xs.min())\n",
    "    scaley = 1.0/(ys.max() - ys.min())\n",
    "    plt.scatter(xs * scalex,ys * scaley,s=5, c=y_train_lem, cmap=plt.cm.get_cmap('Accent', 10))\n",
    "    for i in range(n):\n",
    "        plt.arrow(0, 0, coeff[i,0], coeff[i,1],color = 'r',alpha = 0.5)\n",
    "        if labels is None:\n",
    "            plt.text(coeff[i,0]* 1.15, coeff[i,1] * 1.15, \"Var\"+str(i+1), color = 'green', ha = 'center', va = 'center')\n",
    "        else:\n",
    "            if labels[i] in more_important:\n",
    "                plt.text(coeff[i,0]* 1.15, coeff[i,1] * 1.15, labels[i], color = 'red', ha = 'center', va = 'center')\n",
    " \n",
    "    plt.xlabel(\"PC{}\".format(1))\n",
    "    plt.ylabel(\"PC{}\".format(2))\n",
    "    plt.grid()\n",
    "\n",
    "myplot(projected[:,0:2],np.transpose(pca.components_[0:2, :]),labels=X_columns)\n",
    "plt.show()"
   ]
  },
  {
   "cell_type": "code",
   "execution_count": 42,
   "metadata": {},
   "outputs": [
    {
     "data": {
      "text/plain": [
       "array([0.00496394, 0.00384708])"
      ]
     },
     "execution_count": 42,
     "metadata": {},
     "output_type": "execute_result"
    }
   ],
   "source": [
    "pca.explained_variance_ratio_"
   ]
  },
  {
   "cell_type": "code",
   "execution_count": 43,
   "metadata": {},
   "outputs": [],
   "source": [
    "X_train_pca = pca.transform(X_train.toarray())"
   ]
  },
  {
   "cell_type": "code",
   "execution_count": 38,
   "metadata": {},
   "outputs": [],
   "source": [
    "from sklearn.cluster import KMeans"
   ]
  },
  {
   "cell_type": "code",
   "execution_count": 71,
   "metadata": {},
   "outputs": [
    {
     "data": {
      "image/png": "[encoded data removed]",
      "text/plain": [
       "<Figure size 576x396 with 2 Axes>"
      ]
     },
     "metadata": {},
     "output_type": "display_data"
    },
    {
     "data": {
      "text/plain": [
       "<matplotlib.axes._subplots.AxesSubplot at 0x13edc92e0>"
      ]
     },
     "execution_count": 71,
     "metadata": {},
     "output_type": "execute_result"
    }
   ],
   "source": [
    "# Instantiate the clustering model and visualizer\n",
    "model = KMeans()\n",
    "visualizer = KElbowVisualizer(model, k=(2,9), metric='silhouette')\n",
    "\n",
    "visualizer.fit(X_train)        # Fit the data to the visualizer\n",
    "visualizer.show()"
   ]
  },
  {
   "cell_type": "code",
   "execution_count": 73,
   "metadata": {},
   "outputs": [
    {
     "data": {
      "image/png": "[encoded data removed]",
      "text/plain": [
       "<Figure size 576x396 with 1 Axes>"
      ]
     },
     "metadata": {},
     "output_type": "display_data"
    },
    {
     "data": {
      "text/plain": [
       "<matplotlib.axes._subplots.AxesSubplot at 0x145445c10>"
      ]
     },
     "execution_count": 73,
     "metadata": {},
     "output_type": "execute_result"
    }
   ],
   "source": [
    "from yellowbrick.cluster import SilhouetteVisualizer\n",
    "\n",
    "model = KMeans(5, random_state=42)\n",
    "visualizer = SilhouetteVisualizer(model, colors='yellowbrick')\n",
    "\n",
    "visualizer.fit(X_train)\n",
    "\n",
    "visualizer.show()\n",
    "\n",
    "\n"
   ]
  },
  {
   "cell_type": "code",
   "execution_count": 66,
   "metadata": {},
   "outputs": [],
   "source": [
    "k_means_2 = KMeans(n_clusters=2).fit(X_train)\n",
    "k_means_3 = KMeans(n_clusters=3).fit(X_train)\n",
    "k_means_4 = KMeans(n_clusters=4).fit(X_train)\n",
    "k_means_5 = KMeans(n_clusters=5).fit(X_train)\n",
    "k_means_6 = KMeans(n_clusters=6).fit(X_train)\n",
    "k_means_7 = KMeans(n_clusters=7).fit(X_train)\n",
    "\n",
    "k_list = [k_means_2, k_means_3, k_means_4, k_means_5, k_means_6, k_means_7]"
   ]
  },
  {
   "cell_type": "code",
   "execution_count": 89,
   "metadata": {},
   "outputs": [],
   "source": [
    "from sklearn.metrics import calinski_harabasz_score, silhouette_score"
   ]
  },
  {
   "cell_type": "code",
   "execution_count": 97,
   "metadata": {},
   "outputs": [],
   "source": [
    "sil_score = []\n",
    "\n",
    "for model in k_list:\n",
    "    labels = model.labels_\n",
    "    sil_score.append(silhouette_score(X_train.toarray(), labels))"
   ]
  },
  {
   "cell_type": "code",
   "execution_count": 99,
   "metadata": {},
   "outputs": [
    {
     "data": {
      "image/png": "[encoded data removed]",
      "text/plain": [
       "<Figure size 864x288 with 1 Axes>"
      ]
     },
     "metadata": {
      "needs_background": "light"
     },
     "output_type": "display_data"
    }
   ],
   "source": [
    "plt.figure(figsize=(12,4))\n",
    "plt.plot([2, 3, 4, 5, 6, 7], sil_score)\n",
    "plt.xticks([2,3,4,5,6,7])\n",
    "plt.title('Silhouette Scores for Different Values of K')\n",
    "plt.ylabel('Variance Ratio')\n",
    "plt.xlabel('K=')\n",
    "plt.savefig(\"../Pics/sil_score.png\")\n",
    "plt.show()"
   ]
  },
  {
   "cell_type": "code",
   "execution_count": 90,
   "metadata": {},
   "outputs": [],
   "source": [
    "k_means_2.fit(X_train)\n",
    "kmeans_preds = k_means_2.predict(X_test)"
   ]
  },
  {
   "cell_type": "code",
   "execution_count": 91,
   "metadata": {},
   "outputs": [],
   "source": [
    "accuracy = accuracy_score(y_test_lem, kmeans_preds)\n",
    "f1 = f1_score(y_test_lem, kmeans_preds)"
   ]
  },
  {
   "cell_type": "code",
   "execution_count": 92,
   "metadata": {},
   "outputs": [
    {
     "data": {
      "text/html": [
       "<div>\n",
       "<style scoped>\n",
       "    .dataframe tbody tr th:only-of-type {\n",
       "        vertical-align: middle;\n",
       "    }\n",
       "\n",
       "    .dataframe tbody tr th {\n",
       "        vertical-align: top;\n",
       "    }\n",
       "\n",
       "    .dataframe thead th {\n",
       "        text-align: right;\n",
       "    }\n",
       "</style>\n",
       "<table border=\"1\" class=\"dataframe\">\n",
       "  <thead>\n",
       "    <tr style=\"text-align: right;\">\n",
       "      <th></th>\n",
       "      <th>model</th>\n",
       "      <th>accuracy</th>\n",
       "      <th>f1</th>\n",
       "    </tr>\n",
       "  </thead>\n",
       "  <tbody>\n",
       "    <tr>\n",
       "      <th>0</th>\n",
       "      <td>Dummy</td>\n",
       "      <td>0.500000</td>\n",
       "      <td>0.000000</td>\n",
       "    </tr>\n",
       "    <tr>\n",
       "      <th>1</th>\n",
       "      <td>word2vec</td>\n",
       "      <td>0.915262</td>\n",
       "      <td>0.910092</td>\n",
       "    </tr>\n",
       "    <tr>\n",
       "      <th>2</th>\n",
       "      <td>kmeans_tfidf</td>\n",
       "      <td>0.611003</td>\n",
       "      <td>0.357666</td>\n",
       "    </tr>\n",
       "  </tbody>\n",
       "</table>\n",
       "</div>"
      ],
      "text/plain": [
       "          model  accuracy        f1\n",
       "0         Dummy  0.500000  0.000000\n",
       "1      word2vec  0.915262  0.910092\n",
       "2  kmeans_tfidf  0.611003  0.357666"
      ]
     },
     "execution_count": 92,
     "metadata": {},
     "output_type": "execute_result"
    }
   ],
   "source": [
    "new_row = {'model': 'kmeans_tfidf', 'accuracy': accuracy, 'f1': f1}\n",
    "results = results.append(new_row, ignore_index=True)\n",
    "results"
   ]
  },
  {
   "cell_type": "markdown",
   "metadata": {},
   "source": [
    "**Hierarchical**"
   ]
  },
  {
   "cell_type": "markdown",
   "metadata": {},
   "source": [
    "- Hierarchical clustering takes too long to run"
   ]
  },
  {
   "cell_type": "code",
   "execution_count": 94,
   "metadata": {},
   "outputs": [],
   "source": [
    "from sklearn.cluster import AgglomerativeClustering"
   ]
  },
  {
   "cell_type": "code",
   "execution_count": null,
   "metadata": {},
   "outputs": [],
   "source": [
    "agg_clust = AgglomerativeClustering(n_clusters=2)\n",
    "agg_clust.fit(X_train.toarray())\n",
    "agg_clust_preds = agg_clust.predict(X_test.toarray())"
   ]
  },
  {
   "cell_type": "markdown",
   "metadata": {},
   "source": [
    "# RFC"
   ]
  },
  {
   "cell_type": "markdown",
   "metadata": {},
   "source": [
    "**No Added Columns**"
   ]
  },
  {
   "cell_type": "code",
   "execution_count": 93,
   "metadata": {
    "scrolled": true
   },
   "outputs": [
    {
     "name": "stderr",
     "output_type": "stream",
     "text": [
      "[Parallel(n_jobs=-1)]: Using backend ThreadingBackend with 8 concurrent workers.\n",
      "[Parallel(n_jobs=-1)]: Done  34 tasks      | elapsed:    1.0s\n",
      "[Parallel(n_jobs=-1)]: Done 184 tasks      | elapsed:    4.5s\n",
      "[Parallel(n_jobs=-1)]: Done 200 out of 200 | elapsed:    5.0s finished\n",
      "[Parallel(n_jobs=8)]: Using backend ThreadingBackend with 8 concurrent workers.\n",
      "[Parallel(n_jobs=8)]: Done  34 tasks      | elapsed:    0.1s\n",
      "[Parallel(n_jobs=8)]: Done 184 tasks      | elapsed:    0.4s\n",
      "[Parallel(n_jobs=8)]: Done 200 out of 200 | elapsed:    0.4s finished\n"
     ]
    }
   ],
   "source": [
    "rfc_basic_tfidf = RandomForestClassifier(n_estimators=200,max_features='log2',random_state=0,n_jobs=-1,verbose=1)\n",
    "rfc_basic_tfidf.fit(X_train, y_train_lem)\n",
    "rf_test_preds = rfc_basic_tfidf.predict(X_test)"
   ]
  },
  {
   "cell_type": "code",
   "execution_count": 94,
   "metadata": {},
   "outputs": [
    {
     "name": "stdout",
     "output_type": "stream",
     "text": [
      "Random Forest with Lemmatization Features and Pronouns\n",
      "Testing Accuracy: 0.9423\n",
      "\n",
      "F1 Score: 0.9395\n"
     ]
    }
   ],
   "source": [
    "accuracy = accuracy_score(y_test_lem, rf_test_preds)\n",
    "f1 = f1_score(y_test_lem, rf_test_preds)\n",
    "print('Random Forest with Lemmatization Features and Pronouns')\n",
    "print(\"Testing Accuracy: {:.4}\".format(accuracy))\n",
    "print()\n",
    "print(\"F1 Score: {:.4}\".format(f1))"
   ]
  },
  {
   "cell_type": "code",
   "execution_count": 95,
   "metadata": {},
   "outputs": [
    {
     "data": {
      "text/html": [
       "<div>\n",
       "<style scoped>\n",
       "    .dataframe tbody tr th:only-of-type {\n",
       "        vertical-align: middle;\n",
       "    }\n",
       "\n",
       "    .dataframe tbody tr th {\n",
       "        vertical-align: top;\n",
       "    }\n",
       "\n",
       "    .dataframe thead th {\n",
       "        text-align: right;\n",
       "    }\n",
       "</style>\n",
       "<table border=\"1\" class=\"dataframe\">\n",
       "  <thead>\n",
       "    <tr style=\"text-align: right;\">\n",
       "      <th></th>\n",
       "      <th>model</th>\n",
       "      <th>accuracy</th>\n",
       "      <th>f1</th>\n",
       "    </tr>\n",
       "  </thead>\n",
       "  <tbody>\n",
       "    <tr>\n",
       "      <th>0</th>\n",
       "      <td>Dummy</td>\n",
       "      <td>0.500000</td>\n",
       "      <td>0.000000</td>\n",
       "    </tr>\n",
       "    <tr>\n",
       "      <th>1</th>\n",
       "      <td>word2vec</td>\n",
       "      <td>0.915262</td>\n",
       "      <td>0.910092</td>\n",
       "    </tr>\n",
       "    <tr>\n",
       "      <th>2</th>\n",
       "      <td>kmeans_tfidf</td>\n",
       "      <td>0.611003</td>\n",
       "      <td>0.357666</td>\n",
       "    </tr>\n",
       "    <tr>\n",
       "      <th>3</th>\n",
       "      <td>rfc_basic_tfidf</td>\n",
       "      <td>0.942283</td>\n",
       "      <td>0.939538</td>\n",
       "    </tr>\n",
       "  </tbody>\n",
       "</table>\n",
       "</div>"
      ],
      "text/plain": [
       "             model  accuracy        f1\n",
       "0            Dummy  0.500000  0.000000\n",
       "1         word2vec  0.915262  0.910092\n",
       "2     kmeans_tfidf  0.611003  0.357666\n",
       "3  rfc_basic_tfidf  0.942283  0.939538"
      ]
     },
     "execution_count": 95,
     "metadata": {},
     "output_type": "execute_result"
    }
   ],
   "source": [
    "new_row = {'model': 'rfc_basic_tfidf', 'accuracy': accuracy, 'f1': f1}\n",
    "results = results.append(new_row, ignore_index=True)\n",
    "results"
   ]
  },
  {
   "cell_type": "markdown",
   "metadata": {},
   "source": [
    "**RFC Stopwrods**"
   ]
  },
  {
   "cell_type": "code",
   "execution_count": 96,
   "metadata": {},
   "outputs": [
    {
     "name": "stderr",
     "output_type": "stream",
     "text": [
      "[Parallel(n_jobs=-1)]: Using backend ThreadingBackend with 8 concurrent workers.\n",
      "[Parallel(n_jobs=-1)]: Done  34 tasks      | elapsed:    1.0s\n",
      "[Parallel(n_jobs=-1)]: Done 184 tasks      | elapsed:    4.5s\n",
      "[Parallel(n_jobs=-1)]: Done 350 out of 350 | elapsed:    8.6s finished\n",
      "[Parallel(n_jobs=8)]: Using backend ThreadingBackend with 8 concurrent workers.\n",
      "[Parallel(n_jobs=8)]: Done  34 tasks      | elapsed:    0.1s\n",
      "[Parallel(n_jobs=8)]: Done 184 tasks      | elapsed:    0.5s\n"
     ]
    },
    {
     "name": "stdout",
     "output_type": "stream",
     "text": [
      "Random Forest with Lemmatization Features and Pronouns\n",
      "Testing Accuracy: 0.9442\n",
      "\n",
      "F1 Score: 0.9415\n"
     ]
    },
    {
     "name": "stderr",
     "output_type": "stream",
     "text": [
      "[Parallel(n_jobs=8)]: Done 350 out of 350 | elapsed:    0.9s finished\n"
     ]
    }
   ],
   "source": [
    "rfc_stop = RandomForestClassifier(n_estimators=350,max_features = 'log2', random_state=0,n_jobs=-1,verbose=1)\n",
    "rfc_stop.fit(stop_train2, y_train_lem)\n",
    "rf_test_preds = rfc_stop.predict(stop_test2)\n",
    "\n",
    "accuracy = accuracy_score(y_test_lem, rf_test_preds)\n",
    "f1 = f1_score(y_test_lem, rf_test_preds)\n",
    "print('Random Forest with Lemmatization Features and Pronouns')\n",
    "print(\"Testing Accuracy: {:.4}\".format(accuracy))\n",
    "print()\n",
    "print(\"F1 Score: {:.4}\".format(f1))"
   ]
  },
  {
   "cell_type": "code",
   "execution_count": 97,
   "metadata": {},
   "outputs": [
    {
     "data": {
      "text/html": [
       "<div>\n",
       "<style scoped>\n",
       "    .dataframe tbody tr th:only-of-type {\n",
       "        vertical-align: middle;\n",
       "    }\n",
       "\n",
       "    .dataframe tbody tr th {\n",
       "        vertical-align: top;\n",
       "    }\n",
       "\n",
       "    .dataframe thead th {\n",
       "        text-align: right;\n",
       "    }\n",
       "</style>\n",
       "<table border=\"1\" class=\"dataframe\">\n",
       "  <thead>\n",
       "    <tr style=\"text-align: right;\">\n",
       "      <th></th>\n",
       "      <th>model</th>\n",
       "      <th>accuracy</th>\n",
       "      <th>f1</th>\n",
       "    </tr>\n",
       "  </thead>\n",
       "  <tbody>\n",
       "    <tr>\n",
       "      <th>0</th>\n",
       "      <td>Dummy</td>\n",
       "      <td>0.500000</td>\n",
       "      <td>0.000000</td>\n",
       "    </tr>\n",
       "    <tr>\n",
       "      <th>1</th>\n",
       "      <td>word2vec</td>\n",
       "      <td>0.915262</td>\n",
       "      <td>0.910092</td>\n",
       "    </tr>\n",
       "    <tr>\n",
       "      <th>2</th>\n",
       "      <td>kmeans_tfidf</td>\n",
       "      <td>0.611003</td>\n",
       "      <td>0.357666</td>\n",
       "    </tr>\n",
       "    <tr>\n",
       "      <th>3</th>\n",
       "      <td>rfc_basic_tfidf</td>\n",
       "      <td>0.942283</td>\n",
       "      <td>0.939538</td>\n",
       "    </tr>\n",
       "    <tr>\n",
       "      <th>4</th>\n",
       "      <td>rfc_STOP</td>\n",
       "      <td>0.944228</td>\n",
       "      <td>0.941457</td>\n",
       "    </tr>\n",
       "  </tbody>\n",
       "</table>\n",
       "</div>"
      ],
      "text/plain": [
       "             model  accuracy        f1\n",
       "0            Dummy  0.500000  0.000000\n",
       "1         word2vec  0.915262  0.910092\n",
       "2     kmeans_tfidf  0.611003  0.357666\n",
       "3  rfc_basic_tfidf  0.942283  0.939538\n",
       "4         rfc_STOP  0.944228  0.941457"
      ]
     },
     "execution_count": 97,
     "metadata": {},
     "output_type": "execute_result"
    }
   ],
   "source": [
    "new_row = {'model': 'rfc_STOP', 'accuracy': accuracy, 'f1': f1}\n",
    "results = results.append(new_row, ignore_index=True)\n",
    "results"
   ]
  },
  {
   "cell_type": "markdown",
   "metadata": {},
   "source": [
    "**RFC Pronouns**"
   ]
  },
  {
   "cell_type": "code",
   "execution_count": 98,
   "metadata": {
    "scrolled": false
   },
   "outputs": [
    {
     "name": "stderr",
     "output_type": "stream",
     "text": [
      "[Parallel(n_jobs=-1)]: Using backend ThreadingBackend with 8 concurrent workers.\n",
      "[Parallel(n_jobs=-1)]: Done  34 tasks      | elapsed:    1.0s\n",
      "[Parallel(n_jobs=-1)]: Done 184 tasks      | elapsed:    4.8s\n",
      "[Parallel(n_jobs=-1)]: Done 300 out of 300 | elapsed:    7.7s finished\n",
      "[Parallel(n_jobs=8)]: Using backend ThreadingBackend with 8 concurrent workers.\n",
      "[Parallel(n_jobs=8)]: Done  34 tasks      | elapsed:    0.1s\n",
      "[Parallel(n_jobs=8)]: Done 184 tasks      | elapsed:    0.4s\n"
     ]
    },
    {
     "name": "stdout",
     "output_type": "stream",
     "text": [
      "Random Forest with Lemmatization Features and Pronouns\n",
      "Testing Accuracy: 0.9427\n",
      "\n",
      "F1 Score: 0.94\n"
     ]
    },
    {
     "name": "stderr",
     "output_type": "stream",
     "text": [
      "[Parallel(n_jobs=8)]: Done 300 out of 300 | elapsed:    0.6s finished\n"
     ]
    }
   ],
   "source": [
    "rfc_pro = RandomForestClassifier(n_estimators=300,max_features='log2',random_state=0,n_jobs=-1,verbose=1)\n",
    "rfc_pro.fit(pro_train2, y_train_lem)\n",
    "rf_test_preds = rfc_pro.predict(pro_test2)\n",
    "\n",
    "accuracy = accuracy_score(y_test_lem, rf_test_preds)\n",
    "f1 = f1_score(y_test_lem, rf_test_preds)\n",
    "print('Random Forest with Lemmatization Features and Pronouns')\n",
    "print(\"Testing Accuracy: {:.4}\".format(accuracy))\n",
    "print()\n",
    "print(\"F1 Score: {:.4}\".format(f1))"
   ]
  },
  {
   "cell_type": "code",
   "execution_count": 99,
   "metadata": {},
   "outputs": [
    {
     "data": {
      "text/html": [
       "<div>\n",
       "<style scoped>\n",
       "    .dataframe tbody tr th:only-of-type {\n",
       "        vertical-align: middle;\n",
       "    }\n",
       "\n",
       "    .dataframe tbody tr th {\n",
       "        vertical-align: top;\n",
       "    }\n",
       "\n",
       "    .dataframe thead th {\n",
       "        text-align: right;\n",
       "    }\n",
       "</style>\n",
       "<table border=\"1\" class=\"dataframe\">\n",
       "  <thead>\n",
       "    <tr style=\"text-align: right;\">\n",
       "      <th></th>\n",
       "      <th>model</th>\n",
       "      <th>accuracy</th>\n",
       "      <th>f1</th>\n",
       "    </tr>\n",
       "  </thead>\n",
       "  <tbody>\n",
       "    <tr>\n",
       "      <th>0</th>\n",
       "      <td>Dummy</td>\n",
       "      <td>0.500000</td>\n",
       "      <td>0.000000</td>\n",
       "    </tr>\n",
       "    <tr>\n",
       "      <th>1</th>\n",
       "      <td>word2vec</td>\n",
       "      <td>0.915262</td>\n",
       "      <td>0.910092</td>\n",
       "    </tr>\n",
       "    <tr>\n",
       "      <th>2</th>\n",
       "      <td>kmeans_tfidf</td>\n",
       "      <td>0.611003</td>\n",
       "      <td>0.357666</td>\n",
       "    </tr>\n",
       "    <tr>\n",
       "      <th>3</th>\n",
       "      <td>rfc_basic_tfidf</td>\n",
       "      <td>0.942283</td>\n",
       "      <td>0.939538</td>\n",
       "    </tr>\n",
       "    <tr>\n",
       "      <th>4</th>\n",
       "      <td>rfc_STOP</td>\n",
       "      <td>0.944228</td>\n",
       "      <td>0.941457</td>\n",
       "    </tr>\n",
       "    <tr>\n",
       "      <th>5</th>\n",
       "      <td>rfc_pro</td>\n",
       "      <td>0.942715</td>\n",
       "      <td>0.940032</td>\n",
       "    </tr>\n",
       "  </tbody>\n",
       "</table>\n",
       "</div>"
      ],
      "text/plain": [
       "             model  accuracy        f1\n",
       "0            Dummy  0.500000  0.000000\n",
       "1         word2vec  0.915262  0.910092\n",
       "2     kmeans_tfidf  0.611003  0.357666\n",
       "3  rfc_basic_tfidf  0.942283  0.939538\n",
       "4         rfc_STOP  0.944228  0.941457\n",
       "5          rfc_pro  0.942715  0.940032"
      ]
     },
     "execution_count": 99,
     "metadata": {},
     "output_type": "execute_result"
    }
   ],
   "source": [
    "new_row = {'model': 'rfc_pro', 'accuracy': accuracy, 'f1': f1}\n",
    "results = results.append(new_row, ignore_index=True)\n",
    "results"
   ]
  },
  {
   "cell_type": "code",
   "execution_count": 100,
   "metadata": {
    "scrolled": true
   },
   "outputs": [
    {
     "data": {
      "image/png": "[encoded data removed]",
      "text/plain": [
       "<Figure size 432x288 with 1 Axes>"
      ]
     },
     "metadata": {},
     "output_type": "display_data"
    }
   ],
   "source": [
    "from sklearn.metrics import confusion_matrix\n",
    "import seaborn as sns; sns.set()\n",
    "\n",
    "\n",
    "mat = confusion_matrix(y_test_lem, rf_test_preds)\n",
    "sns.heatmap(mat.T, square=True, annot=True, fmt='d', cbar=False,\n",
    "            xticklabels=['Right', 'Left'], yticklabels=['Right', 'Left'])\n",
    "plt.xlabel('true label')\n",
    "plt.ylabel('predicted label');"
   ]
  },
  {
   "cell_type": "markdown",
   "metadata": {},
   "source": [
    "**RCF Profanity**"
   ]
  },
  {
   "cell_type": "code",
   "execution_count": 101,
   "metadata": {
    "scrolled": true
   },
   "outputs": [
    {
     "name": "stderr",
     "output_type": "stream",
     "text": [
      "[Parallel(n_jobs=-1)]: Using backend ThreadingBackend with 8 concurrent workers.\n",
      "[Parallel(n_jobs=-1)]: Done  34 tasks      | elapsed:    1.0s\n",
      "[Parallel(n_jobs=-1)]: Done 184 tasks      | elapsed:    5.2s\n",
      "[Parallel(n_jobs=-1)]: Done 250 out of 250 | elapsed:    7.0s finished\n",
      "[Parallel(n_jobs=8)]: Using backend ThreadingBackend with 8 concurrent workers.\n",
      "[Parallel(n_jobs=8)]: Done  34 tasks      | elapsed:    0.1s\n"
     ]
    },
    {
     "name": "stdout",
     "output_type": "stream",
     "text": [
      "Random Forest with Lemmatization Features and Profanity\n",
      "Testing Accuracy: 0.9428\n",
      "\n",
      "F1 Score: 0.94\n"
     ]
    },
    {
     "name": "stderr",
     "output_type": "stream",
     "text": [
      "[Parallel(n_jobs=8)]: Done 184 tasks      | elapsed:    0.4s\n",
      "[Parallel(n_jobs=8)]: Done 250 out of 250 | elapsed:    0.6s finished\n"
     ]
    }
   ],
   "source": [
    "rfc_prof = RandomForestClassifier(n_estimators=250,max_features='log2',random_state=0,n_jobs=-1,verbose=1)\n",
    "rfc_prof.fit(prof_train2, y_train_lem)\n",
    "rf_test_preds = rfc_prof.predict(prof_test2)\n",
    "\n",
    "accuracy = accuracy_score(y_test_lem, rf_test_preds)\n",
    "f1 = f1_score(y_test_lem, rf_test_preds)\n",
    "print('Random Forest with Lemmatization Features and Profanity')\n",
    "print(\"Testing Accuracy: {:.4}\".format(accuracy))\n",
    "print()\n",
    "print(\"F1 Score: {:.4}\".format(f1))"
   ]
  },
  {
   "cell_type": "code",
   "execution_count": 102,
   "metadata": {},
   "outputs": [
    {
     "data": {
      "text/html": [
       "<div>\n",
       "<style scoped>\n",
       "    .dataframe tbody tr th:only-of-type {\n",
       "        vertical-align: middle;\n",
       "    }\n",
       "\n",
       "    .dataframe tbody tr th {\n",
       "        vertical-align: top;\n",
       "    }\n",
       "\n",
       "    .dataframe thead th {\n",
       "        text-align: right;\n",
       "    }\n",
       "</style>\n",
       "<table border=\"1\" class=\"dataframe\">\n",
       "  <thead>\n",
       "    <tr style=\"text-align: right;\">\n",
       "      <th></th>\n",
       "      <th>model</th>\n",
       "      <th>accuracy</th>\n",
       "      <th>f1</th>\n",
       "    </tr>\n",
       "  </thead>\n",
       "  <tbody>\n",
       "    <tr>\n",
       "      <th>0</th>\n",
       "      <td>Dummy</td>\n",
       "      <td>0.500000</td>\n",
       "      <td>0.000000</td>\n",
       "    </tr>\n",
       "    <tr>\n",
       "      <th>1</th>\n",
       "      <td>word2vec</td>\n",
       "      <td>0.915262</td>\n",
       "      <td>0.910092</td>\n",
       "    </tr>\n",
       "    <tr>\n",
       "      <th>2</th>\n",
       "      <td>kmeans_tfidf</td>\n",
       "      <td>0.611003</td>\n",
       "      <td>0.357666</td>\n",
       "    </tr>\n",
       "    <tr>\n",
       "      <th>3</th>\n",
       "      <td>rfc_basic_tfidf</td>\n",
       "      <td>0.942283</td>\n",
       "      <td>0.939538</td>\n",
       "    </tr>\n",
       "    <tr>\n",
       "      <th>4</th>\n",
       "      <td>rfc_STOP</td>\n",
       "      <td>0.944228</td>\n",
       "      <td>0.941457</td>\n",
       "    </tr>\n",
       "    <tr>\n",
       "      <th>5</th>\n",
       "      <td>rfc_pro</td>\n",
       "      <td>0.942715</td>\n",
       "      <td>0.940032</td>\n",
       "    </tr>\n",
       "    <tr>\n",
       "      <th>6</th>\n",
       "      <td>rfc_prof</td>\n",
       "      <td>0.942823</td>\n",
       "      <td>0.940043</td>\n",
       "    </tr>\n",
       "  </tbody>\n",
       "</table>\n",
       "</div>"
      ],
      "text/plain": [
       "             model  accuracy        f1\n",
       "0            Dummy  0.500000  0.000000\n",
       "1         word2vec  0.915262  0.910092\n",
       "2     kmeans_tfidf  0.611003  0.357666\n",
       "3  rfc_basic_tfidf  0.942283  0.939538\n",
       "4         rfc_STOP  0.944228  0.941457\n",
       "5          rfc_pro  0.942715  0.940032\n",
       "6         rfc_prof  0.942823  0.940043"
      ]
     },
     "execution_count": 102,
     "metadata": {},
     "output_type": "execute_result"
    }
   ],
   "source": [
    "new_row = {'model': 'rfc_prof', 'accuracy': accuracy, 'f1': f1}\n",
    "results = results.append(new_row, ignore_index=True)\n",
    "results"
   ]
  },
  {
   "cell_type": "markdown",
   "metadata": {},
   "source": [
    "**RFC Capital**"
   ]
  },
  {
   "cell_type": "code",
   "execution_count": 103,
   "metadata": {
    "scrolled": true
   },
   "outputs": [
    {
     "name": "stderr",
     "output_type": "stream",
     "text": [
      "[Parallel(n_jobs=-1)]: Using backend ThreadingBackend with 8 concurrent workers.\n",
      "[Parallel(n_jobs=-1)]: Done  34 tasks      | elapsed:    1.1s\n",
      "[Parallel(n_jobs=-1)]: Done 184 tasks      | elapsed:    5.8s\n",
      "[Parallel(n_jobs=-1)]: Done 200 out of 200 | elapsed:    6.3s finished\n",
      "[Parallel(n_jobs=8)]: Using backend ThreadingBackend with 8 concurrent workers.\n",
      "[Parallel(n_jobs=8)]: Done  34 tasks      | elapsed:    0.1s\n"
     ]
    },
    {
     "name": "stdout",
     "output_type": "stream",
     "text": [
      "Random Forest with Lemmatization Features and Capitalization\n",
      "Testing Accuracy: 0.9411\n",
      "\n",
      "F1 Score: 0.9383\n"
     ]
    },
    {
     "name": "stderr",
     "output_type": "stream",
     "text": [
      "[Parallel(n_jobs=8)]: Done 184 tasks      | elapsed:    0.5s\n",
      "[Parallel(n_jobs=8)]: Done 200 out of 200 | elapsed:    0.5s finished\n"
     ]
    }
   ],
   "source": [
    "rfc_cap = RandomForestClassifier(n_estimators=200,max_features='log2',random_state=0,n_jobs=-1,verbose=1)\n",
    "rfc_cap.fit(cap_train2, y_train_lem)\n",
    "rf_test_preds = rfc_cap.predict(cap_test2)\n",
    "\n",
    "accuracy = accuracy_score(y_test_lem, rf_test_preds)\n",
    "f1 = f1_score(y_test_lem, rf_test_preds)\n",
    "print('Random Forest with Lemmatization Features and Capitalization')\n",
    "print(\"Testing Accuracy: {:.4}\".format(accuracy))\n",
    "print()\n",
    "print(\"F1 Score: {:.4}\".format(f1))"
   ]
  },
  {
   "cell_type": "code",
   "execution_count": 104,
   "metadata": {},
   "outputs": [
    {
     "data": {
      "text/html": [
       "<div>\n",
       "<style scoped>\n",
       "    .dataframe tbody tr th:only-of-type {\n",
       "        vertical-align: middle;\n",
       "    }\n",
       "\n",
       "    .dataframe tbody tr th {\n",
       "        vertical-align: top;\n",
       "    }\n",
       "\n",
       "    .dataframe thead th {\n",
       "        text-align: right;\n",
       "    }\n",
       "</style>\n",
       "<table border=\"1\" class=\"dataframe\">\n",
       "  <thead>\n",
       "    <tr style=\"text-align: right;\">\n",
       "      <th></th>\n",
       "      <th>model</th>\n",
       "      <th>accuracy</th>\n",
       "      <th>f1</th>\n",
       "    </tr>\n",
       "  </thead>\n",
       "  <tbody>\n",
       "    <tr>\n",
       "      <th>0</th>\n",
       "      <td>Dummy</td>\n",
       "      <td>0.500000</td>\n",
       "      <td>0.000000</td>\n",
       "    </tr>\n",
       "    <tr>\n",
       "      <th>1</th>\n",
       "      <td>word2vec</td>\n",
       "      <td>0.915262</td>\n",
       "      <td>0.910092</td>\n",
       "    </tr>\n",
       "    <tr>\n",
       "      <th>2</th>\n",
       "      <td>kmeans_tfidf</td>\n",
       "      <td>0.611003</td>\n",
       "      <td>0.357666</td>\n",
       "    </tr>\n",
       "    <tr>\n",
       "      <th>3</th>\n",
       "      <td>rfc_basic_tfidf</td>\n",
       "      <td>0.942283</td>\n",
       "      <td>0.939538</td>\n",
       "    </tr>\n",
       "    <tr>\n",
       "      <th>4</th>\n",
       "      <td>rfc_STOP</td>\n",
       "      <td>0.944228</td>\n",
       "      <td>0.941457</td>\n",
       "    </tr>\n",
       "    <tr>\n",
       "      <th>5</th>\n",
       "      <td>rfc_pro</td>\n",
       "      <td>0.942715</td>\n",
       "      <td>0.940032</td>\n",
       "    </tr>\n",
       "    <tr>\n",
       "      <th>6</th>\n",
       "      <td>rfc_prof</td>\n",
       "      <td>0.942823</td>\n",
       "      <td>0.940043</td>\n",
       "    </tr>\n",
       "    <tr>\n",
       "      <th>7</th>\n",
       "      <td>rfc_cap</td>\n",
       "      <td>0.941094</td>\n",
       "      <td>0.938300</td>\n",
       "    </tr>\n",
       "  </tbody>\n",
       "</table>\n",
       "</div>"
      ],
      "text/plain": [
       "             model  accuracy        f1\n",
       "0            Dummy  0.500000  0.000000\n",
       "1         word2vec  0.915262  0.910092\n",
       "2     kmeans_tfidf  0.611003  0.357666\n",
       "3  rfc_basic_tfidf  0.942283  0.939538\n",
       "4         rfc_STOP  0.944228  0.941457\n",
       "5          rfc_pro  0.942715  0.940032\n",
       "6         rfc_prof  0.942823  0.940043\n",
       "7          rfc_cap  0.941094  0.938300"
      ]
     },
     "execution_count": 104,
     "metadata": {},
     "output_type": "execute_result"
    }
   ],
   "source": [
    "new_row = {'model': 'rfc_cap', 'accuracy': accuracy, 'f1': f1}\n",
    "results = results.append(new_row, ignore_index=True)\n",
    "results"
   ]
  },
  {
   "cell_type": "code",
   "execution_count": 105,
   "metadata": {},
   "outputs": [],
   "source": [
    "feature_importance = pd.DataFrame(sorted(list(zip(cap_columns, rfc_cap.feature_importances_)),key=lambda x: x[1], reverse=True),\n",
    "             columns=['feature','importance'])"
   ]
  },
  {
   "cell_type": "code",
   "execution_count": 106,
   "metadata": {},
   "outputs": [
    {
     "data": {
      "text/html": [
       "<div>\n",
       "<style scoped>\n",
       "    .dataframe tbody tr th:only-of-type {\n",
       "        vertical-align: middle;\n",
       "    }\n",
       "\n",
       "    .dataframe tbody tr th {\n",
       "        vertical-align: top;\n",
       "    }\n",
       "\n",
       "    .dataframe thead th {\n",
       "        text-align: right;\n",
       "    }\n",
       "</style>\n",
       "<table border=\"1\" class=\"dataframe\">\n",
       "  <thead>\n",
       "    <tr style=\"text-align: right;\">\n",
       "      <th></th>\n",
       "      <th>feature</th>\n",
       "      <th>importance</th>\n",
       "    </tr>\n",
       "  </thead>\n",
       "  <tbody>\n",
       "    <tr>\n",
       "      <th>0</th>\n",
       "      <td>catalyst</td>\n",
       "      <td>0.020479</td>\n",
       "    </tr>\n",
       "    <tr>\n",
       "      <th>1</th>\n",
       "      <td>fizzled</td>\n",
       "      <td>0.013760</td>\n",
       "    </tr>\n",
       "    <tr>\n",
       "      <th>2</th>\n",
       "      <td>Xcapitals</td>\n",
       "      <td>0.007053</td>\n",
       "    </tr>\n",
       "    <tr>\n",
       "      <th>3</th>\n",
       "      <td>ghostwriting</td>\n",
       "      <td>0.003660</td>\n",
       "    </tr>\n",
       "    <tr>\n",
       "      <th>4</th>\n",
       "      <td>depot</td>\n",
       "      <td>0.003487</td>\n",
       "    </tr>\n",
       "    <tr>\n",
       "      <th>5</th>\n",
       "      <td>railroad</td>\n",
       "      <td>0.003277</td>\n",
       "    </tr>\n",
       "    <tr>\n",
       "      <th>6</th>\n",
       "      <td>kidnapper</td>\n",
       "      <td>0.003100</td>\n",
       "    </tr>\n",
       "    <tr>\n",
       "      <th>7</th>\n",
       "      <td>journals</td>\n",
       "      <td>0.003033</td>\n",
       "    </tr>\n",
       "    <tr>\n",
       "      <th>8</th>\n",
       "      <td>1990</td>\n",
       "      <td>0.003011</td>\n",
       "    </tr>\n",
       "    <tr>\n",
       "      <th>9</th>\n",
       "      <td>appointing</td>\n",
       "      <td>0.002871</td>\n",
       "    </tr>\n",
       "  </tbody>\n",
       "</table>\n",
       "</div>"
      ],
      "text/plain": [
       "        feature  importance\n",
       "0      catalyst    0.020479\n",
       "1       fizzled    0.013760\n",
       "2     Xcapitals    0.007053\n",
       "3  ghostwriting    0.003660\n",
       "4         depot    0.003487\n",
       "5      railroad    0.003277\n",
       "6     kidnapper    0.003100\n",
       "7      journals    0.003033\n",
       "8          1990    0.003011\n",
       "9    appointing    0.002871"
      ]
     },
     "execution_count": 106,
     "metadata": {},
     "output_type": "execute_result"
    }
   ],
   "source": [
    "feature_importance.head(10)"
   ]
  },
  {
   "cell_type": "markdown",
   "metadata": {},
   "source": [
    "**RFC Length**"
   ]
  },
  {
   "cell_type": "code",
   "execution_count": 107,
   "metadata": {},
   "outputs": [
    {
     "name": "stderr",
     "output_type": "stream",
     "text": [
      "[Parallel(n_jobs=-1)]: Using backend ThreadingBackend with 8 concurrent workers.\n",
      "[Parallel(n_jobs=-1)]: Done  34 tasks      | elapsed:    1.1s\n",
      "[Parallel(n_jobs=-1)]: Done 184 tasks      | elapsed:    4.9s\n",
      "[Parallel(n_jobs=-1)]: Done 250 out of 250 | elapsed:    6.7s finished\n",
      "[Parallel(n_jobs=8)]: Using backend ThreadingBackend with 8 concurrent workers.\n",
      "[Parallel(n_jobs=8)]: Done  34 tasks      | elapsed:    0.1s\n"
     ]
    },
    {
     "name": "stdout",
     "output_type": "stream",
     "text": [
      "Random Forest with Lemmatization Features and Capitalization\n",
      "Testing Accuracy: 0.9429\n",
      "\n",
      "F1 Score: 0.9402\n"
     ]
    },
    {
     "name": "stderr",
     "output_type": "stream",
     "text": [
      "[Parallel(n_jobs=8)]: Done 184 tasks      | elapsed:    0.4s\n",
      "[Parallel(n_jobs=8)]: Done 250 out of 250 | elapsed:    0.5s finished\n"
     ]
    }
   ],
   "source": [
    "rfc_len = RandomForestClassifier(n_estimators=250,max_features='log2',random_state=0,n_jobs=-1,verbose=1)\n",
    "rfc_len.fit(len_train2, y_train_lem)\n",
    "rf_test_preds = rfc_len.predict(len_test2)\n",
    "\n",
    "accuracy = accuracy_score(y_test_lem, rf_test_preds)\n",
    "f1 = f1_score(y_test_lem, rf_test_preds)\n",
    "print('Random Forest with Lemmatization Features and Capitalization')\n",
    "print(\"Testing Accuracy: {:.4}\".format(accuracy))\n",
    "print()\n",
    "print(\"F1 Score: {:.4}\".format(f1))"
   ]
  },
  {
   "cell_type": "code",
   "execution_count": 108,
   "metadata": {},
   "outputs": [
    {
     "data": {
      "text/html": [
       "<div>\n",
       "<style scoped>\n",
       "    .dataframe tbody tr th:only-of-type {\n",
       "        vertical-align: middle;\n",
       "    }\n",
       "\n",
       "    .dataframe tbody tr th {\n",
       "        vertical-align: top;\n",
       "    }\n",
       "\n",
       "    .dataframe thead th {\n",
       "        text-align: right;\n",
       "    }\n",
       "</style>\n",
       "<table border=\"1\" class=\"dataframe\">\n",
       "  <thead>\n",
       "    <tr style=\"text-align: right;\">\n",
       "      <th></th>\n",
       "      <th>model</th>\n",
       "      <th>accuracy</th>\n",
       "      <th>f1</th>\n",
       "    </tr>\n",
       "  </thead>\n",
       "  <tbody>\n",
       "    <tr>\n",
       "      <th>0</th>\n",
       "      <td>Dummy</td>\n",
       "      <td>0.500000</td>\n",
       "      <td>0.000000</td>\n",
       "    </tr>\n",
       "    <tr>\n",
       "      <th>1</th>\n",
       "      <td>word2vec</td>\n",
       "      <td>0.915262</td>\n",
       "      <td>0.910092</td>\n",
       "    </tr>\n",
       "    <tr>\n",
       "      <th>2</th>\n",
       "      <td>kmeans_tfidf</td>\n",
       "      <td>0.611003</td>\n",
       "      <td>0.357666</td>\n",
       "    </tr>\n",
       "    <tr>\n",
       "      <th>3</th>\n",
       "      <td>rfc_basic_tfidf</td>\n",
       "      <td>0.942283</td>\n",
       "      <td>0.939538</td>\n",
       "    </tr>\n",
       "    <tr>\n",
       "      <th>4</th>\n",
       "      <td>rfc_STOP</td>\n",
       "      <td>0.944228</td>\n",
       "      <td>0.941457</td>\n",
       "    </tr>\n",
       "    <tr>\n",
       "      <th>5</th>\n",
       "      <td>rfc_pro</td>\n",
       "      <td>0.942715</td>\n",
       "      <td>0.940032</td>\n",
       "    </tr>\n",
       "    <tr>\n",
       "      <th>6</th>\n",
       "      <td>rfc_prof</td>\n",
       "      <td>0.942823</td>\n",
       "      <td>0.940043</td>\n",
       "    </tr>\n",
       "    <tr>\n",
       "      <th>7</th>\n",
       "      <td>rfc_cap</td>\n",
       "      <td>0.941094</td>\n",
       "      <td>0.938300</td>\n",
       "    </tr>\n",
       "    <tr>\n",
       "      <th>8</th>\n",
       "      <td>rfc_len</td>\n",
       "      <td>0.942931</td>\n",
       "      <td>0.940231</td>\n",
       "    </tr>\n",
       "  </tbody>\n",
       "</table>\n",
       "</div>"
      ],
      "text/plain": [
       "             model  accuracy        f1\n",
       "0            Dummy  0.500000  0.000000\n",
       "1         word2vec  0.915262  0.910092\n",
       "2     kmeans_tfidf  0.611003  0.357666\n",
       "3  rfc_basic_tfidf  0.942283  0.939538\n",
       "4         rfc_STOP  0.944228  0.941457\n",
       "5          rfc_pro  0.942715  0.940032\n",
       "6         rfc_prof  0.942823  0.940043\n",
       "7          rfc_cap  0.941094  0.938300\n",
       "8          rfc_len  0.942931  0.940231"
      ]
     },
     "execution_count": 108,
     "metadata": {},
     "output_type": "execute_result"
    }
   ],
   "source": [
    "new_row = {'model': 'rfc_len', 'accuracy': accuracy, 'f1': f1}\n",
    "results = results.append(new_row, ignore_index=True)\n",
    "results"
   ]
  },
  {
   "cell_type": "markdown",
   "metadata": {},
   "source": [
    "**RFC Lexical**"
   ]
  },
  {
   "cell_type": "code",
   "execution_count": 109,
   "metadata": {},
   "outputs": [
    {
     "name": "stderr",
     "output_type": "stream",
     "text": [
      "[Parallel(n_jobs=-1)]: Using backend ThreadingBackend with 8 concurrent workers.\n",
      "[Parallel(n_jobs=-1)]: Done  34 tasks      | elapsed:    1.0s\n",
      "[Parallel(n_jobs=-1)]: Done 184 tasks      | elapsed:    4.8s\n",
      "[Parallel(n_jobs=-1)]: Done 250 out of 250 | elapsed:    6.6s finished\n",
      "[Parallel(n_jobs=8)]: Using backend ThreadingBackend with 8 concurrent workers.\n",
      "[Parallel(n_jobs=8)]: Done  34 tasks      | elapsed:    0.1s\n"
     ]
    },
    {
     "name": "stdout",
     "output_type": "stream",
     "text": [
      "Random Forest with Lemmatization Features and Lexical\n",
      "Testing Accuracy: 0.9431\n",
      "\n",
      "F1 Score: 0.9404\n"
     ]
    },
    {
     "name": "stderr",
     "output_type": "stream",
     "text": [
      "[Parallel(n_jobs=8)]: Done 184 tasks      | elapsed:    0.4s\n",
      "[Parallel(n_jobs=8)]: Done 250 out of 250 | elapsed:    0.5s finished\n"
     ]
    }
   ],
   "source": [
    "rfc_lex = RandomForestClassifier(n_estimators=250,max_features='log2',random_state=0,n_jobs=-1,verbose=1)\n",
    "rfc_lex.fit(lex_train2, y_train_lem)\n",
    "rf_test_preds = rfc_lex.predict(lex_test2)\n",
    "\n",
    "accuracy = accuracy_score(y_test_lem, rf_test_preds)\n",
    "f1 = f1_score(y_test_lem, rf_test_preds)\n",
    "print('Random Forest with Lemmatization Features and Lexical')\n",
    "print(\"Testing Accuracy: {:.4}\".format(accuracy))\n",
    "print()\n",
    "print(\"F1 Score: {:.4}\".format(f1))"
   ]
  },
  {
   "cell_type": "code",
   "execution_count": 110,
   "metadata": {},
   "outputs": [
    {
     "data": {
      "text/html": [
       "<div>\n",
       "<style scoped>\n",
       "    .dataframe tbody tr th:only-of-type {\n",
       "        vertical-align: middle;\n",
       "    }\n",
       "\n",
       "    .dataframe tbody tr th {\n",
       "        vertical-align: top;\n",
       "    }\n",
       "\n",
       "    .dataframe thead th {\n",
       "        text-align: right;\n",
       "    }\n",
       "</style>\n",
       "<table border=\"1\" class=\"dataframe\">\n",
       "  <thead>\n",
       "    <tr style=\"text-align: right;\">\n",
       "      <th></th>\n",
       "      <th>model</th>\n",
       "      <th>accuracy</th>\n",
       "      <th>f1</th>\n",
       "    </tr>\n",
       "  </thead>\n",
       "  <tbody>\n",
       "    <tr>\n",
       "      <th>0</th>\n",
       "      <td>Dummy</td>\n",
       "      <td>0.500000</td>\n",
       "      <td>0.000000</td>\n",
       "    </tr>\n",
       "    <tr>\n",
       "      <th>1</th>\n",
       "      <td>word2vec</td>\n",
       "      <td>0.915262</td>\n",
       "      <td>0.910092</td>\n",
       "    </tr>\n",
       "    <tr>\n",
       "      <th>2</th>\n",
       "      <td>kmeans_tfidf</td>\n",
       "      <td>0.611003</td>\n",
       "      <td>0.357666</td>\n",
       "    </tr>\n",
       "    <tr>\n",
       "      <th>3</th>\n",
       "      <td>rfc_basic_tfidf</td>\n",
       "      <td>0.942283</td>\n",
       "      <td>0.939538</td>\n",
       "    </tr>\n",
       "    <tr>\n",
       "      <th>4</th>\n",
       "      <td>rfc_STOP</td>\n",
       "      <td>0.944228</td>\n",
       "      <td>0.941457</td>\n",
       "    </tr>\n",
       "    <tr>\n",
       "      <th>5</th>\n",
       "      <td>rfc_pro</td>\n",
       "      <td>0.942715</td>\n",
       "      <td>0.940032</td>\n",
       "    </tr>\n",
       "    <tr>\n",
       "      <th>6</th>\n",
       "      <td>rfc_prof</td>\n",
       "      <td>0.942823</td>\n",
       "      <td>0.940043</td>\n",
       "    </tr>\n",
       "    <tr>\n",
       "      <th>7</th>\n",
       "      <td>rfc_cap</td>\n",
       "      <td>0.941094</td>\n",
       "      <td>0.938300</td>\n",
       "    </tr>\n",
       "    <tr>\n",
       "      <th>8</th>\n",
       "      <td>rfc_len</td>\n",
       "      <td>0.942931</td>\n",
       "      <td>0.940231</td>\n",
       "    </tr>\n",
       "    <tr>\n",
       "      <th>9</th>\n",
       "      <td>rfc_lex</td>\n",
       "      <td>0.943147</td>\n",
       "      <td>0.940390</td>\n",
       "    </tr>\n",
       "  </tbody>\n",
       "</table>\n",
       "</div>"
      ],
      "text/plain": [
       "             model  accuracy        f1\n",
       "0            Dummy  0.500000  0.000000\n",
       "1         word2vec  0.915262  0.910092\n",
       "2     kmeans_tfidf  0.611003  0.357666\n",
       "3  rfc_basic_tfidf  0.942283  0.939538\n",
       "4         rfc_STOP  0.944228  0.941457\n",
       "5          rfc_pro  0.942715  0.940032\n",
       "6         rfc_prof  0.942823  0.940043\n",
       "7          rfc_cap  0.941094  0.938300\n",
       "8          rfc_len  0.942931  0.940231\n",
       "9          rfc_lex  0.943147  0.940390"
      ]
     },
     "execution_count": 110,
     "metadata": {},
     "output_type": "execute_result"
    }
   ],
   "source": [
    "new_row = {'model': 'rfc_lex', 'accuracy': accuracy, 'f1': f1}\n",
    "results = results.append(new_row, ignore_index=True)\n",
    "results"
   ]
  },
  {
   "cell_type": "markdown",
   "metadata": {},
   "source": [
    "**RFC Combined**"
   ]
  },
  {
   "cell_type": "code",
   "execution_count": 111,
   "metadata": {
    "scrolled": true
   },
   "outputs": [
    {
     "name": "stderr",
     "output_type": "stream",
     "text": [
      "[Parallel(n_jobs=-1)]: Using backend ThreadingBackend with 8 concurrent workers.\n",
      "[Parallel(n_jobs=-1)]: Done  34 tasks      | elapsed:    1.0s\n",
      "[Parallel(n_jobs=-1)]: Done 184 tasks      | elapsed:    5.1s\n",
      "[Parallel(n_jobs=-1)]: Done 350 out of 350 | elapsed:    9.4s finished\n",
      "[Parallel(n_jobs=8)]: Using backend ThreadingBackend with 8 concurrent workers.\n",
      "[Parallel(n_jobs=8)]: Done  34 tasks      | elapsed:    0.1s\n",
      "[Parallel(n_jobs=8)]: Done 184 tasks      | elapsed:    0.4s\n"
     ]
    },
    {
     "name": "stdout",
     "output_type": "stream",
     "text": [
      "Random Forest with Lemmatization Features and Capitalization\n",
      "Testing Accuracy: 0.9442\n",
      "\n",
      "F1 Score: 0.9414\n"
     ]
    },
    {
     "name": "stderr",
     "output_type": "stream",
     "text": [
      "[Parallel(n_jobs=8)]: Done 350 out of 350 | elapsed:    0.7s finished\n"
     ]
    }
   ],
   "source": [
    "rfc_combined = RandomForestClassifier(n_estimators=350,max_features='log2',random_state=0,n_jobs=-1,verbose=1)\n",
    "rfc_combined.fit(combined_train, y_train_lem)\n",
    "rf_test_preds = rfc_combined.predict(combined_test)\n",
    "\n",
    "accuracy = accuracy_score(y_test_lem, rf_test_preds)\n",
    "f1 = f1_score(y_test_lem, rf_test_preds)\n",
    "print('Random Forest with Lemmatization Features and Capitalization')\n",
    "print(\"Testing Accuracy: {:.4}\".format(accuracy))\n",
    "print()\n",
    "print(\"F1 Score: {:.4}\".format(f1))"
   ]
  },
  {
   "cell_type": "code",
   "execution_count": 112,
   "metadata": {},
   "outputs": [
    {
     "data": {
      "text/html": [
       "<div>\n",
       "<style scoped>\n",
       "    .dataframe tbody tr th:only-of-type {\n",
       "        vertical-align: middle;\n",
       "    }\n",
       "\n",
       "    .dataframe tbody tr th {\n",
       "        vertical-align: top;\n",
       "    }\n",
       "\n",
       "    .dataframe thead th {\n",
       "        text-align: right;\n",
       "    }\n",
       "</style>\n",
       "<table border=\"1\" class=\"dataframe\">\n",
       "  <thead>\n",
       "    <tr style=\"text-align: right;\">\n",
       "      <th></th>\n",
       "      <th>model</th>\n",
       "      <th>accuracy</th>\n",
       "      <th>f1</th>\n",
       "    </tr>\n",
       "  </thead>\n",
       "  <tbody>\n",
       "    <tr>\n",
       "      <th>0</th>\n",
       "      <td>Dummy</td>\n",
       "      <td>0.500000</td>\n",
       "      <td>0.000000</td>\n",
       "    </tr>\n",
       "    <tr>\n",
       "      <th>1</th>\n",
       "      <td>word2vec</td>\n",
       "      <td>0.915262</td>\n",
       "      <td>0.910092</td>\n",
       "    </tr>\n",
       "    <tr>\n",
       "      <th>2</th>\n",
       "      <td>kmeans_tfidf</td>\n",
       "      <td>0.611003</td>\n",
       "      <td>0.357666</td>\n",
       "    </tr>\n",
       "    <tr>\n",
       "      <th>3</th>\n",
       "      <td>rfc_basic_tfidf</td>\n",
       "      <td>0.942283</td>\n",
       "      <td>0.939538</td>\n",
       "    </tr>\n",
       "    <tr>\n",
       "      <th>4</th>\n",
       "      <td>rfc_STOP</td>\n",
       "      <td>0.944228</td>\n",
       "      <td>0.941457</td>\n",
       "    </tr>\n",
       "    <tr>\n",
       "      <th>5</th>\n",
       "      <td>rfc_pro</td>\n",
       "      <td>0.942715</td>\n",
       "      <td>0.940032</td>\n",
       "    </tr>\n",
       "    <tr>\n",
       "      <th>6</th>\n",
       "      <td>rfc_prof</td>\n",
       "      <td>0.942823</td>\n",
       "      <td>0.940043</td>\n",
       "    </tr>\n",
       "    <tr>\n",
       "      <th>7</th>\n",
       "      <td>rfc_cap</td>\n",
       "      <td>0.941094</td>\n",
       "      <td>0.938300</td>\n",
       "    </tr>\n",
       "    <tr>\n",
       "      <th>8</th>\n",
       "      <td>rfc_len</td>\n",
       "      <td>0.942931</td>\n",
       "      <td>0.940231</td>\n",
       "    </tr>\n",
       "    <tr>\n",
       "      <th>9</th>\n",
       "      <td>rfc_lex</td>\n",
       "      <td>0.943147</td>\n",
       "      <td>0.940390</td>\n",
       "    </tr>\n",
       "    <tr>\n",
       "      <th>10</th>\n",
       "      <td>rfc_combined</td>\n",
       "      <td>0.944228</td>\n",
       "      <td>0.941390</td>\n",
       "    </tr>\n",
       "  </tbody>\n",
       "</table>\n",
       "</div>"
      ],
      "text/plain": [
       "              model  accuracy        f1\n",
       "0             Dummy  0.500000  0.000000\n",
       "1          word2vec  0.915262  0.910092\n",
       "2      kmeans_tfidf  0.611003  0.357666\n",
       "3   rfc_basic_tfidf  0.942283  0.939538\n",
       "4          rfc_STOP  0.944228  0.941457\n",
       "5           rfc_pro  0.942715  0.940032\n",
       "6          rfc_prof  0.942823  0.940043\n",
       "7           rfc_cap  0.941094  0.938300\n",
       "8           rfc_len  0.942931  0.940231\n",
       "9           rfc_lex  0.943147  0.940390\n",
       "10     rfc_combined  0.944228  0.941390"
      ]
     },
     "execution_count": 112,
     "metadata": {},
     "output_type": "execute_result"
    }
   ],
   "source": [
    "new_row = {'model': 'rfc_combined', 'accuracy': accuracy, 'f1': f1}\n",
    "results = results.append(new_row, ignore_index=True)\n",
    "results"
   ]
  },
  {
   "cell_type": "code",
   "execution_count": 113,
   "metadata": {},
   "outputs": [],
   "source": [
    "feature_importance = pd.DataFrame(sorted(list(zip(combined_columns, rfc_combined.feature_importances_)),key=lambda x: x[1], reverse=True),\n",
    "             columns=['feature','importance'])"
   ]
  },
  {
   "cell_type": "code",
   "execution_count": 114,
   "metadata": {
    "scrolled": true
   },
   "outputs": [
    {
     "data": {
      "text/html": [
       "<div>\n",
       "<style scoped>\n",
       "    .dataframe tbody tr th:only-of-type {\n",
       "        vertical-align: middle;\n",
       "    }\n",
       "\n",
       "    .dataframe tbody tr th {\n",
       "        vertical-align: top;\n",
       "    }\n",
       "\n",
       "    .dataframe thead th {\n",
       "        text-align: right;\n",
       "    }\n",
       "</style>\n",
       "<table border=\"1\" class=\"dataframe\">\n",
       "  <thead>\n",
       "    <tr style=\"text-align: right;\">\n",
       "      <th></th>\n",
       "      <th>feature</th>\n",
       "      <th>importance</th>\n",
       "    </tr>\n",
       "  </thead>\n",
       "  <tbody>\n",
       "    <tr>\n",
       "      <th>0</th>\n",
       "      <td>catalyst</td>\n",
       "      <td>0.019090</td>\n",
       "    </tr>\n",
       "    <tr>\n",
       "      <th>1</th>\n",
       "      <td>fizzled</td>\n",
       "      <td>0.015221</td>\n",
       "    </tr>\n",
       "    <tr>\n",
       "      <th>2</th>\n",
       "      <td>Xprofanity</td>\n",
       "      <td>0.008969</td>\n",
       "    </tr>\n",
       "    <tr>\n",
       "      <th>3</th>\n",
       "      <td>Xstopwords</td>\n",
       "      <td>0.008097</td>\n",
       "    </tr>\n",
       "    <tr>\n",
       "      <th>4</th>\n",
       "      <td>Xlength</td>\n",
       "      <td>0.007800</td>\n",
       "    </tr>\n",
       "    <tr>\n",
       "      <th>5</th>\n",
       "      <td>Xpronouns</td>\n",
       "      <td>0.007788</td>\n",
       "    </tr>\n",
       "    <tr>\n",
       "      <th>6</th>\n",
       "      <td>Xcapitals</td>\n",
       "      <td>0.006084</td>\n",
       "    </tr>\n",
       "    <tr>\n",
       "      <th>7</th>\n",
       "      <td>Xlexical</td>\n",
       "      <td>0.005592</td>\n",
       "    </tr>\n",
       "    <tr>\n",
       "      <th>8</th>\n",
       "      <td>ghostwriting</td>\n",
       "      <td>0.003979</td>\n",
       "    </tr>\n",
       "    <tr>\n",
       "      <th>9</th>\n",
       "      <td>depot</td>\n",
       "      <td>0.003284</td>\n",
       "    </tr>\n",
       "    <tr>\n",
       "      <th>10</th>\n",
       "      <td>journals</td>\n",
       "      <td>0.003248</td>\n",
       "    </tr>\n",
       "    <tr>\n",
       "      <th>11</th>\n",
       "      <td>fuckjob</td>\n",
       "      <td>0.002942</td>\n",
       "    </tr>\n",
       "    <tr>\n",
       "      <th>12</th>\n",
       "      <td>face</td>\n",
       "      <td>0.002896</td>\n",
       "    </tr>\n",
       "    <tr>\n",
       "      <th>13</th>\n",
       "      <td>kidnapper</td>\n",
       "      <td>0.002835</td>\n",
       "    </tr>\n",
       "    <tr>\n",
       "      <th>14</th>\n",
       "      <td>appointing</td>\n",
       "      <td>0.002653</td>\n",
       "    </tr>\n",
       "    <tr>\n",
       "      <th>15</th>\n",
       "      <td>railroad</td>\n",
       "      <td>0.002560</td>\n",
       "    </tr>\n",
       "    <tr>\n",
       "      <th>16</th>\n",
       "      <td>unbelievably</td>\n",
       "      <td>0.002521</td>\n",
       "    </tr>\n",
       "    <tr>\n",
       "      <th>17</th>\n",
       "      <td>1990</td>\n",
       "      <td>0.002496</td>\n",
       "    </tr>\n",
       "    <tr>\n",
       "      <th>18</th>\n",
       "      <td>compass</td>\n",
       "      <td>0.002302</td>\n",
       "    </tr>\n",
       "    <tr>\n",
       "      <th>19</th>\n",
       "      <td>will</td>\n",
       "      <td>0.002286</td>\n",
       "    </tr>\n",
       "  </tbody>\n",
       "</table>\n",
       "</div>"
      ],
      "text/plain": [
       "         feature  importance\n",
       "0       catalyst    0.019090\n",
       "1        fizzled    0.015221\n",
       "2     Xprofanity    0.008969\n",
       "3     Xstopwords    0.008097\n",
       "4        Xlength    0.007800\n",
       "5      Xpronouns    0.007788\n",
       "6      Xcapitals    0.006084\n",
       "7       Xlexical    0.005592\n",
       "8   ghostwriting    0.003979\n",
       "9          depot    0.003284\n",
       "10      journals    0.003248\n",
       "11       fuckjob    0.002942\n",
       "12          face    0.002896\n",
       "13     kidnapper    0.002835\n",
       "14    appointing    0.002653\n",
       "15      railroad    0.002560\n",
       "16  unbelievably    0.002521\n",
       "17          1990    0.002496\n",
       "18       compass    0.002302\n",
       "19          will    0.002286"
      ]
     },
     "execution_count": 114,
     "metadata": {},
     "output_type": "execute_result"
    }
   ],
   "source": [
    "feature_importance.head(20)"
   ]
  },
  {
   "cell_type": "markdown",
   "metadata": {},
   "source": [
    "**RFC Combined (Lexical + Prof)**"
   ]
  },
  {
   "cell_type": "code",
   "execution_count": 115,
   "metadata": {},
   "outputs": [
    {
     "name": "stdout",
     "output_type": "stream",
     "text": [
      "Finished Part 1\n",
      "finished profanity_test\n",
      "finished lexical_test\n",
      "Finished train sparsing\n",
      "Finished test sparsing\n"
     ]
    }
   ],
   "source": [
    "lex_prof_train, lex_prof_test, lex_prof_columns = classifier_input(prof_tr = prof_train, prof_te = prof_test, \n",
    "                                                                   lex_tr = lex_train, lex_te = lex_test)"
   ]
  },
  {
   "cell_type": "code",
   "execution_count": 116,
   "metadata": {},
   "outputs": [
    {
     "name": "stderr",
     "output_type": "stream",
     "text": [
      "[Parallel(n_jobs=-1)]: Using backend ThreadingBackend with 8 concurrent workers.\n",
      "[Parallel(n_jobs=-1)]: Done  34 tasks      | elapsed:    0.9s\n",
      "[Parallel(n_jobs=-1)]: Done 184 tasks      | elapsed:    4.1s\n",
      "[Parallel(n_jobs=-1)]: Done 250 out of 250 | elapsed:    5.6s finished\n",
      "[Parallel(n_jobs=8)]: Using backend ThreadingBackend with 8 concurrent workers.\n",
      "[Parallel(n_jobs=8)]: Done  34 tasks      | elapsed:    0.1s\n"
     ]
    },
    {
     "name": "stdout",
     "output_type": "stream",
     "text": [
      "Random Forest with Lemmatization Features and Capitalization\n",
      "Testing Accuracy: 0.9434\n",
      "\n",
      "F1 Score: 0.9406\n"
     ]
    },
    {
     "name": "stderr",
     "output_type": "stream",
     "text": [
      "[Parallel(n_jobs=8)]: Done 184 tasks      | elapsed:    0.3s\n",
      "[Parallel(n_jobs=8)]: Done 250 out of 250 | elapsed:    0.5s finished\n"
     ]
    }
   ],
   "source": [
    "rfc_lex_prof = RandomForestClassifier(n_estimators=250,max_features='log2',random_state=0,n_jobs=-1,verbose=1)\n",
    "rfc_lex_prof.fit(lex_prof_train, y_train_lem)\n",
    "rf_test_preds = rfc_lex_prof.predict(lex_prof_test)\n",
    "\n",
    "accuracy = accuracy_score(y_test_lem, rf_test_preds)\n",
    "f1 = f1_score(y_test_lem, rf_test_preds)\n",
    "print('Random Forest with Lemmatization Features and Capitalization')\n",
    "print(\"Testing Accuracy: {:.4}\".format(accuracy))\n",
    "print()\n",
    "print(\"F1 Score: {:.4}\".format(f1))"
   ]
  },
  {
   "cell_type": "code",
   "execution_count": 117,
   "metadata": {},
   "outputs": [],
   "source": [
    "new_row = {'model': 'rfc_lex_prof', 'accuracy': accuracy, 'f1': f1}\n",
    "results = results.append(new_row, ignore_index=True)"
   ]
  },
  {
   "cell_type": "markdown",
   "metadata": {},
   "source": [
    "**Top 4**"
   ]
  },
  {
   "cell_type": "code",
   "execution_count": 73,
   "metadata": {},
   "outputs": [
    {
     "name": "stdout",
     "output_type": "stream",
     "text": [
      "Finished Part 1\n",
      "finished profanity_test\n",
      "finished length_test\n",
      "finished lexical_test\n",
      "Finished train sparsing\n",
      "Finished test sparsing\n"
     ]
    }
   ],
   "source": [
    "top_train, top_test, top_columns = classifier_input(prof_tr = prof_train, prof_te = prof_test,\n",
    "                                                    len_tr = len_train, len_te = len_test,  \n",
    "                                                    stop_tr = stop_train, stop_te = stop_test,\n",
    "                                                    lex_tr = lex_train, lex_te = lex_test)"
   ]
  },
  {
   "cell_type": "code",
   "execution_count": 74,
   "metadata": {},
   "outputs": [
    {
     "name": "stderr",
     "output_type": "stream",
     "text": [
      "[Parallel(n_jobs=-1)]: Using backend ThreadingBackend with 8 concurrent workers.\n",
      "[Parallel(n_jobs=-1)]: Done  34 tasks      | elapsed:    1.0s\n",
      "[Parallel(n_jobs=-1)]: Done 184 tasks      | elapsed:    4.1s\n",
      "[Parallel(n_jobs=-1)]: Done 200 out of 200 | elapsed:    4.5s finished\n",
      "[Parallel(n_jobs=8)]: Using backend ThreadingBackend with 8 concurrent workers.\n",
      "[Parallel(n_jobs=8)]: Done  34 tasks      | elapsed:    0.1s\n"
     ]
    },
    {
     "name": "stdout",
     "output_type": "stream",
     "text": [
      "Random Forest with Lemmatization Features and Capitalization\n",
      "Testing Accuracy: 0.9449\n",
      "\n",
      "F1 Score: 0.9422\n"
     ]
    },
    {
     "name": "stderr",
     "output_type": "stream",
     "text": [
      "[Parallel(n_jobs=8)]: Done 184 tasks      | elapsed:    0.3s\n",
      "[Parallel(n_jobs=8)]: Done 200 out of 200 | elapsed:    0.4s finished\n"
     ]
    }
   ],
   "source": [
    "rfc_top = RandomForestClassifier(n_estimators=200,max_features='log2',random_state=0,n_jobs=-1,verbose=1)\n",
    "rfc_top.fit(top_train, y_train_lem)\n",
    "rf_test_preds = rfc_top.predict(top_test)\n",
    "\n",
    "accuracy = accuracy_score(y_test_lem, rf_test_preds)\n",
    "f1 = f1_score(y_test_lem, rf_test_preds)\n",
    "print('Random Forest with Lemmatization Features and Capitalization')\n",
    "print(\"Testing Accuracy: {:.4}\".format(accuracy))\n",
    "print()\n",
    "print(\"F1 Score: {:.4}\".format(f1))"
   ]
  },
  {
   "cell_type": "code",
   "execution_count": 75,
   "metadata": {
    "scrolled": true
   },
   "outputs": [
    {
     "data": {
      "text/html": [
       "<div>\n",
       "<style scoped>\n",
       "    .dataframe tbody tr th:only-of-type {\n",
       "        vertical-align: middle;\n",
       "    }\n",
       "\n",
       "    .dataframe tbody tr th {\n",
       "        vertical-align: top;\n",
       "    }\n",
       "\n",
       "    .dataframe thead th {\n",
       "        text-align: right;\n",
       "    }\n",
       "</style>\n",
       "<table border=\"1\" class=\"dataframe\">\n",
       "  <thead>\n",
       "    <tr style=\"text-align: right;\">\n",
       "      <th></th>\n",
       "      <th>model</th>\n",
       "      <th>accuracy</th>\n",
       "      <th>f1</th>\n",
       "    </tr>\n",
       "  </thead>\n",
       "  <tbody>\n",
       "    <tr>\n",
       "      <th>0</th>\n",
       "      <td>Dummy</td>\n",
       "      <td>0.500000</td>\n",
       "      <td>0.000000</td>\n",
       "    </tr>\n",
       "    <tr>\n",
       "      <th>1</th>\n",
       "      <td>rfc_top</td>\n",
       "      <td>0.944877</td>\n",
       "      <td>0.942242</td>\n",
       "    </tr>\n",
       "  </tbody>\n",
       "</table>\n",
       "</div>"
      ],
      "text/plain": [
       "     model  accuracy        f1\n",
       "0    Dummy  0.500000  0.000000\n",
       "1  rfc_top  0.944877  0.942242"
      ]
     },
     "execution_count": 75,
     "metadata": {},
     "output_type": "execute_result"
    }
   ],
   "source": [
    "new_row = {'model': 'rfc_top', 'accuracy': accuracy, 'f1': f1}\n",
    "results = results.append(new_row, ignore_index=True)\n",
    "results"
   ]
  },
  {
   "cell_type": "code",
   "execution_count": 76,
   "metadata": {},
   "outputs": [],
   "source": [
    "feature_importance = pd.DataFrame(sorted(list(zip(top_columns, rfc_top.feature_importances_)),key=lambda x: x[1], reverse=True),\n",
    "             columns=['feature','importance'])"
   ]
  },
  {
   "cell_type": "code",
   "execution_count": 77,
   "metadata": {
    "scrolled": true
   },
   "outputs": [
    {
     "data": {
      "text/html": [
       "<div>\n",
       "<style scoped>\n",
       "    .dataframe tbody tr th:only-of-type {\n",
       "        vertical-align: middle;\n",
       "    }\n",
       "\n",
       "    .dataframe tbody tr th {\n",
       "        vertical-align: top;\n",
       "    }\n",
       "\n",
       "    .dataframe thead th {\n",
       "        text-align: right;\n",
       "    }\n",
       "</style>\n",
       "<table border=\"1\" class=\"dataframe\">\n",
       "  <thead>\n",
       "    <tr style=\"text-align: right;\">\n",
       "      <th></th>\n",
       "      <th>feature</th>\n",
       "      <th>importance</th>\n",
       "    </tr>\n",
       "  </thead>\n",
       "  <tbody>\n",
       "    <tr>\n",
       "      <th>0</th>\n",
       "      <td>catalyst</td>\n",
       "      <td>0.019464</td>\n",
       "    </tr>\n",
       "    <tr>\n",
       "      <th>1</th>\n",
       "      <td>fizzled</td>\n",
       "      <td>0.016170</td>\n",
       "    </tr>\n",
       "    <tr>\n",
       "      <th>2</th>\n",
       "      <td>Xprofanity</td>\n",
       "      <td>0.008935</td>\n",
       "    </tr>\n",
       "    <tr>\n",
       "      <th>3</th>\n",
       "      <td>Xstopwords</td>\n",
       "      <td>0.008443</td>\n",
       "    </tr>\n",
       "    <tr>\n",
       "      <th>4</th>\n",
       "      <td>Xlength</td>\n",
       "      <td>0.008103</td>\n",
       "    </tr>\n",
       "    <tr>\n",
       "      <th>5</th>\n",
       "      <td>Xlexical</td>\n",
       "      <td>0.005907</td>\n",
       "    </tr>\n",
       "    <tr>\n",
       "      <th>6</th>\n",
       "      <td>depot</td>\n",
       "      <td>0.003324</td>\n",
       "    </tr>\n",
       "    <tr>\n",
       "      <th>7</th>\n",
       "      <td>journals</td>\n",
       "      <td>0.003320</td>\n",
       "    </tr>\n",
       "    <tr>\n",
       "      <th>8</th>\n",
       "      <td>fuckjob</td>\n",
       "      <td>0.003274</td>\n",
       "    </tr>\n",
       "    <tr>\n",
       "      <th>9</th>\n",
       "      <td>ghostwriting</td>\n",
       "      <td>0.003272</td>\n",
       "    </tr>\n",
       "    <tr>\n",
       "      <th>10</th>\n",
       "      <td>kidnapper</td>\n",
       "      <td>0.002919</td>\n",
       "    </tr>\n",
       "    <tr>\n",
       "      <th>11</th>\n",
       "      <td>face</td>\n",
       "      <td>0.002770</td>\n",
       "    </tr>\n",
       "    <tr>\n",
       "      <th>12</th>\n",
       "      <td>railroad</td>\n",
       "      <td>0.002751</td>\n",
       "    </tr>\n",
       "    <tr>\n",
       "      <th>13</th>\n",
       "      <td>appointing</td>\n",
       "      <td>0.002649</td>\n",
       "    </tr>\n",
       "    <tr>\n",
       "      <th>14</th>\n",
       "      <td>1990</td>\n",
       "      <td>0.002602</td>\n",
       "    </tr>\n",
       "    <tr>\n",
       "      <th>15</th>\n",
       "      <td>unbelievably</td>\n",
       "      <td>0.002577</td>\n",
       "    </tr>\n",
       "    <tr>\n",
       "      <th>16</th>\n",
       "      <td>will</td>\n",
       "      <td>0.002462</td>\n",
       "    </tr>\n",
       "    <tr>\n",
       "      <th>17</th>\n",
       "      <td>straub</td>\n",
       "      <td>0.002444</td>\n",
       "    </tr>\n",
       "    <tr>\n",
       "      <th>18</th>\n",
       "      <td>creep</td>\n",
       "      <td>0.002411</td>\n",
       "    </tr>\n",
       "    <tr>\n",
       "      <th>19</th>\n",
       "      <td>gaining</td>\n",
       "      <td>0.002409</td>\n",
       "    </tr>\n",
       "  </tbody>\n",
       "</table>\n",
       "</div>"
      ],
      "text/plain": [
       "         feature  importance\n",
       "0       catalyst    0.019464\n",
       "1        fizzled    0.016170\n",
       "2     Xprofanity    0.008935\n",
       "3     Xstopwords    0.008443\n",
       "4        Xlength    0.008103\n",
       "5       Xlexical    0.005907\n",
       "6          depot    0.003324\n",
       "7       journals    0.003320\n",
       "8        fuckjob    0.003274\n",
       "9   ghostwriting    0.003272\n",
       "10     kidnapper    0.002919\n",
       "11          face    0.002770\n",
       "12      railroad    0.002751\n",
       "13    appointing    0.002649\n",
       "14          1990    0.002602\n",
       "15  unbelievably    0.002577\n",
       "16          will    0.002462\n",
       "17        straub    0.002444\n",
       "18         creep    0.002411\n",
       "19       gaining    0.002409"
      ]
     },
     "execution_count": 77,
     "metadata": {},
     "output_type": "execute_result"
    }
   ],
   "source": [
    "feature_importance.head(20)"
   ]
  },
  {
   "cell_type": "code",
   "execution_count": 78,
   "metadata": {},
   "outputs": [],
   "source": [
    "top100words = list(feature_importance['feature'][0:100])"
   ]
  },
  {
   "cell_type": "code",
   "execution_count": 79,
   "metadata": {},
   "outputs": [],
   "source": [
    "top100scores = list(feature_importance['importance'][0:100])"
   ]
  },
  {
   "cell_type": "code",
   "execution_count": 80,
   "metadata": {},
   "outputs": [],
   "source": [
    "from wordcloud import WordCloud\n",
    "dictionary = dict(zip(top100words, top100scores))"
   ]
  },
  {
   "cell_type": "code",
   "execution_count": 81,
   "metadata": {
    "scrolled": true
   },
   "outputs": [
    {
     "data": {
      "image/png": "[encoded data removed]",
      "text/plain": [
       "<Figure size 432x432 with 1 Axes>"
      ]
     },
     "metadata": {},
     "output_type": "display_data"
    }
   ],
   "source": [
    "# Create the word cloud:\n",
    "\n",
    "wordcloud = WordCloud(colormap='Spectral').generate_from_frequencies(dictionary)\n",
    "\n",
    "# Display the generated image w/ matplotlib:\n",
    "\n",
    "plt.figure(figsize=(6,6), facecolor='k')\n",
    "plt.imshow(wordcloud, interpolation='bilinear')\n",
    "plt.axis(\"off\")\n",
    "plt.tight_layout(pad=0)\n",
    "\n",
    "# Uncomment the next line if you want to save your image:\n",
    "plt.savefig('../pics/top_words_wordcloud.png')\n",
    "\n",
    "plt.show()"
   ]
  },
  {
   "cell_type": "code",
   "execution_count": 80,
   "metadata": {},
   "outputs": [
    {
     "data": {
      "image/png": "[encoded data removed]",
      "text/plain": [
       "<Figure size 432x288 with 1 Axes>"
      ]
     },
     "metadata": {
      "needs_background": "light"
     },
     "output_type": "display_data"
    }
   ],
   "source": [
    "mat = confusion_matrix(y_test_lem, rf_test_preds)\n",
    "sns.heatmap(mat.T, square=True, annot=True, fmt='d', cbar=False,\n",
    "            xticklabels=['Right', 'Left'], yticklabels=['Right', 'Left'])\n",
    "plt.xlabel('true label')\n",
    "plt.ylabel('predicted label');"
   ]
  },
  {
   "cell_type": "markdown",
   "metadata": {},
   "source": [
    "**SVM with Pronouns**"
   ]
  },
  {
   "cell_type": "code",
   "execution_count": 121,
   "metadata": {},
   "outputs": [],
   "source": [
    "from sklearn.svm import SVC"
   ]
  },
  {
   "cell_type": "code",
   "execution_count": 122,
   "metadata": {},
   "outputs": [
    {
     "name": "stdout",
     "output_type": "stream",
     "text": [
      "[LibSVM]SVM with Lemmatization Features and Pronouns\n",
      "Testing Accuracy: 0.9387\n",
      "\n",
      "F1 Score: 0.9367\n"
     ]
    }
   ],
   "source": [
    "svc_pro = SVC(verbose=1)\n",
    "svc_pro.fit(pro_train2, y_train_lem)\n",
    "rf_test_preds = svc_pro.predict(pro_test2)\n",
    "\n",
    "accuracy = accuracy_score(y_test_lem, rf_test_preds)\n",
    "f1 = f1_score(y_test_lem, rf_test_preds)\n",
    "print('SVM with Lemmatization Features and Pronouns')\n",
    "print(\"Testing Accuracy: {:.4}\".format(accuracy))\n",
    "print()\n",
    "print(\"F1 Score: {:.4}\".format(f1))"
   ]
  },
  {
   "cell_type": "code",
   "execution_count": 123,
   "metadata": {},
   "outputs": [
    {
     "data": {
      "text/html": [
       "<div>\n",
       "<style scoped>\n",
       "    .dataframe tbody tr th:only-of-type {\n",
       "        vertical-align: middle;\n",
       "    }\n",
       "\n",
       "    .dataframe tbody tr th {\n",
       "        vertical-align: top;\n",
       "    }\n",
       "\n",
       "    .dataframe thead th {\n",
       "        text-align: right;\n",
       "    }\n",
       "</style>\n",
       "<table border=\"1\" class=\"dataframe\">\n",
       "  <thead>\n",
       "    <tr style=\"text-align: right;\">\n",
       "      <th></th>\n",
       "      <th>model</th>\n",
       "      <th>accuracy</th>\n",
       "      <th>f1</th>\n",
       "    </tr>\n",
       "  </thead>\n",
       "  <tbody>\n",
       "    <tr>\n",
       "      <th>0</th>\n",
       "      <td>Dummy</td>\n",
       "      <td>0.500000</td>\n",
       "      <td>0.000000</td>\n",
       "    </tr>\n",
       "    <tr>\n",
       "      <th>1</th>\n",
       "      <td>word2vec</td>\n",
       "      <td>0.915262</td>\n",
       "      <td>0.910092</td>\n",
       "    </tr>\n",
       "    <tr>\n",
       "      <th>2</th>\n",
       "      <td>kmeans_tfidf</td>\n",
       "      <td>0.611003</td>\n",
       "      <td>0.357666</td>\n",
       "    </tr>\n",
       "    <tr>\n",
       "      <th>3</th>\n",
       "      <td>rfc_basic_tfidf</td>\n",
       "      <td>0.942283</td>\n",
       "      <td>0.939538</td>\n",
       "    </tr>\n",
       "    <tr>\n",
       "      <th>4</th>\n",
       "      <td>rfc_STOP</td>\n",
       "      <td>0.944228</td>\n",
       "      <td>0.941457</td>\n",
       "    </tr>\n",
       "    <tr>\n",
       "      <th>5</th>\n",
       "      <td>rfc_pro</td>\n",
       "      <td>0.942715</td>\n",
       "      <td>0.940032</td>\n",
       "    </tr>\n",
       "    <tr>\n",
       "      <th>6</th>\n",
       "      <td>rfc_prof</td>\n",
       "      <td>0.942823</td>\n",
       "      <td>0.940043</td>\n",
       "    </tr>\n",
       "    <tr>\n",
       "      <th>7</th>\n",
       "      <td>rfc_cap</td>\n",
       "      <td>0.941094</td>\n",
       "      <td>0.938300</td>\n",
       "    </tr>\n",
       "    <tr>\n",
       "      <th>8</th>\n",
       "      <td>rfc_len</td>\n",
       "      <td>0.942931</td>\n",
       "      <td>0.940231</td>\n",
       "    </tr>\n",
       "    <tr>\n",
       "      <th>9</th>\n",
       "      <td>rfc_lex</td>\n",
       "      <td>0.943147</td>\n",
       "      <td>0.940390</td>\n",
       "    </tr>\n",
       "    <tr>\n",
       "      <th>10</th>\n",
       "      <td>rfc_combined</td>\n",
       "      <td>0.944228</td>\n",
       "      <td>0.941390</td>\n",
       "    </tr>\n",
       "    <tr>\n",
       "      <th>11</th>\n",
       "      <td>rfc_lex_prof</td>\n",
       "      <td>0.943364</td>\n",
       "      <td>0.940617</td>\n",
       "    </tr>\n",
       "    <tr>\n",
       "      <th>12</th>\n",
       "      <td>rfc_top</td>\n",
       "      <td>0.944877</td>\n",
       "      <td>0.942242</td>\n",
       "    </tr>\n",
       "    <tr>\n",
       "      <th>13</th>\n",
       "      <td>svm_pro</td>\n",
       "      <td>0.938716</td>\n",
       "      <td>0.936683</td>\n",
       "    </tr>\n",
       "  </tbody>\n",
       "</table>\n",
       "</div>"
      ],
      "text/plain": [
       "              model  accuracy        f1\n",
       "0             Dummy  0.500000  0.000000\n",
       "1          word2vec  0.915262  0.910092\n",
       "2      kmeans_tfidf  0.611003  0.357666\n",
       "3   rfc_basic_tfidf  0.942283  0.939538\n",
       "4          rfc_STOP  0.944228  0.941457\n",
       "5           rfc_pro  0.942715  0.940032\n",
       "6          rfc_prof  0.942823  0.940043\n",
       "7           rfc_cap  0.941094  0.938300\n",
       "8           rfc_len  0.942931  0.940231\n",
       "9           rfc_lex  0.943147  0.940390\n",
       "10     rfc_combined  0.944228  0.941390\n",
       "11     rfc_lex_prof  0.943364  0.940617\n",
       "12          rfc_top  0.944877  0.942242\n",
       "13          svm_pro  0.938716  0.936683"
      ]
     },
     "execution_count": 123,
     "metadata": {},
     "output_type": "execute_result"
    }
   ],
   "source": [
    "new_row = {'model': 'svm_pro', 'accuracy': accuracy, 'f1': f1}\n",
    "results = results.append(new_row, ignore_index=True)\n",
    "results"
   ]
  },
  {
   "cell_type": "markdown",
   "metadata": {},
   "source": [
    "**SVM basic TFIDF**"
   ]
  },
  {
   "cell_type": "code",
   "execution_count": 124,
   "metadata": {},
   "outputs": [
    {
     "name": "stdout",
     "output_type": "stream",
     "text": [
      "[LibSVM]SVM with Lemmatization Features and Pronouns\n",
      "Testing Accuracy: 0.939\n",
      "\n",
      "F1 Score: 0.937\n"
     ]
    }
   ],
   "source": [
    "svc_basic_tfidf = SVC(verbose=1)\n",
    "svc_basic_tfidf.fit(X_train, y_train_lem)\n",
    "rf_test_preds = svc_basic_tfidf.predict(X_test)\n",
    "\n",
    "accuracy = accuracy_score(y_test_lem, rf_test_preds)\n",
    "f1 = f1_score(y_test_lem, rf_test_preds)\n",
    "print('SVM with Lemmatization Features and Pronouns')\n",
    "print(\"Testing Accuracy: {:.4}\".format(accuracy))\n",
    "print()\n",
    "print(\"F1 Score: {:.4}\".format(f1))"
   ]
  },
  {
   "cell_type": "code",
   "execution_count": 125,
   "metadata": {},
   "outputs": [
    {
     "data": {
      "text/html": [
       "<div>\n",
       "<style scoped>\n",
       "    .dataframe tbody tr th:only-of-type {\n",
       "        vertical-align: middle;\n",
       "    }\n",
       "\n",
       "    .dataframe tbody tr th {\n",
       "        vertical-align: top;\n",
       "    }\n",
       "\n",
       "    .dataframe thead th {\n",
       "        text-align: right;\n",
       "    }\n",
       "</style>\n",
       "<table border=\"1\" class=\"dataframe\">\n",
       "  <thead>\n",
       "    <tr style=\"text-align: right;\">\n",
       "      <th></th>\n",
       "      <th>model</th>\n",
       "      <th>accuracy</th>\n",
       "      <th>f1</th>\n",
       "    </tr>\n",
       "  </thead>\n",
       "  <tbody>\n",
       "    <tr>\n",
       "      <th>0</th>\n",
       "      <td>Dummy</td>\n",
       "      <td>0.500000</td>\n",
       "      <td>0.000000</td>\n",
       "    </tr>\n",
       "    <tr>\n",
       "      <th>1</th>\n",
       "      <td>word2vec</td>\n",
       "      <td>0.915262</td>\n",
       "      <td>0.910092</td>\n",
       "    </tr>\n",
       "    <tr>\n",
       "      <th>2</th>\n",
       "      <td>kmeans_tfidf</td>\n",
       "      <td>0.611003</td>\n",
       "      <td>0.357666</td>\n",
       "    </tr>\n",
       "    <tr>\n",
       "      <th>3</th>\n",
       "      <td>rfc_basic_tfidf</td>\n",
       "      <td>0.942283</td>\n",
       "      <td>0.939538</td>\n",
       "    </tr>\n",
       "    <tr>\n",
       "      <th>4</th>\n",
       "      <td>rfc_STOP</td>\n",
       "      <td>0.944228</td>\n",
       "      <td>0.941457</td>\n",
       "    </tr>\n",
       "    <tr>\n",
       "      <th>5</th>\n",
       "      <td>rfc_pro</td>\n",
       "      <td>0.942715</td>\n",
       "      <td>0.940032</td>\n",
       "    </tr>\n",
       "    <tr>\n",
       "      <th>6</th>\n",
       "      <td>rfc_prof</td>\n",
       "      <td>0.942823</td>\n",
       "      <td>0.940043</td>\n",
       "    </tr>\n",
       "    <tr>\n",
       "      <th>7</th>\n",
       "      <td>rfc_cap</td>\n",
       "      <td>0.941094</td>\n",
       "      <td>0.938300</td>\n",
       "    </tr>\n",
       "    <tr>\n",
       "      <th>8</th>\n",
       "      <td>rfc_len</td>\n",
       "      <td>0.942931</td>\n",
       "      <td>0.940231</td>\n",
       "    </tr>\n",
       "    <tr>\n",
       "      <th>9</th>\n",
       "      <td>rfc_lex</td>\n",
       "      <td>0.943147</td>\n",
       "      <td>0.940390</td>\n",
       "    </tr>\n",
       "    <tr>\n",
       "      <th>10</th>\n",
       "      <td>rfc_combined</td>\n",
       "      <td>0.944228</td>\n",
       "      <td>0.941390</td>\n",
       "    </tr>\n",
       "    <tr>\n",
       "      <th>11</th>\n",
       "      <td>rfc_lex_prof</td>\n",
       "      <td>0.943364</td>\n",
       "      <td>0.940617</td>\n",
       "    </tr>\n",
       "    <tr>\n",
       "      <th>12</th>\n",
       "      <td>rfc_top</td>\n",
       "      <td>0.944877</td>\n",
       "      <td>0.942242</td>\n",
       "    </tr>\n",
       "    <tr>\n",
       "      <th>13</th>\n",
       "      <td>svm_pro</td>\n",
       "      <td>0.938716</td>\n",
       "      <td>0.936683</td>\n",
       "    </tr>\n",
       "    <tr>\n",
       "      <th>14</th>\n",
       "      <td>svm_basic_tfidf</td>\n",
       "      <td>0.939040</td>\n",
       "      <td>0.936955</td>\n",
       "    </tr>\n",
       "  </tbody>\n",
       "</table>\n",
       "</div>"
      ],
      "text/plain": [
       "              model  accuracy        f1\n",
       "0             Dummy  0.500000  0.000000\n",
       "1          word2vec  0.915262  0.910092\n",
       "2      kmeans_tfidf  0.611003  0.357666\n",
       "3   rfc_basic_tfidf  0.942283  0.939538\n",
       "4          rfc_STOP  0.944228  0.941457\n",
       "5           rfc_pro  0.942715  0.940032\n",
       "6          rfc_prof  0.942823  0.940043\n",
       "7           rfc_cap  0.941094  0.938300\n",
       "8           rfc_len  0.942931  0.940231\n",
       "9           rfc_lex  0.943147  0.940390\n",
       "10     rfc_combined  0.944228  0.941390\n",
       "11     rfc_lex_prof  0.943364  0.940617\n",
       "12          rfc_top  0.944877  0.942242\n",
       "13          svm_pro  0.938716  0.936683\n",
       "14  svm_basic_tfidf  0.939040  0.936955"
      ]
     },
     "execution_count": 125,
     "metadata": {},
     "output_type": "execute_result"
    }
   ],
   "source": [
    "new_row = {'model': 'svm_basic_tfidf', 'accuracy': accuracy, 'f1': f1}\n",
    "results = results.append(new_row, ignore_index=True)\n",
    "results"
   ]
  },
  {
   "cell_type": "markdown",
   "metadata": {},
   "source": [
    "**SVM with Profanity**"
   ]
  },
  {
   "cell_type": "code",
   "execution_count": 126,
   "metadata": {},
   "outputs": [
    {
     "name": "stdout",
     "output_type": "stream",
     "text": [
      "[LibSVM]SVM with Lemmatization Features and Profanity\n",
      "Testing Accuracy: 0.9391\n",
      "\n",
      "F1 Score: 0.9371\n"
     ]
    }
   ],
   "source": [
    "svc_prof = SVC(verbose=1)\n",
    "svc_prof.fit(prof_train2, y_train_lem)\n",
    "rf_test_preds = svc_prof.predict(prof_test2)\n",
    "\n",
    "accuracy = accuracy_score(y_test_lem, rf_test_preds)\n",
    "f1 = f1_score(y_test_lem, rf_test_preds)\n",
    "print('SVM with Lemmatization Features and Profanity')\n",
    "print(\"Testing Accuracy: {:.4}\".format(accuracy))\n",
    "print()\n",
    "print(\"F1 Score: {:.4}\".format(f1))"
   ]
  },
  {
   "cell_type": "code",
   "execution_count": 127,
   "metadata": {},
   "outputs": [
    {
     "data": {
      "text/html": [
       "<div>\n",
       "<style scoped>\n",
       "    .dataframe tbody tr th:only-of-type {\n",
       "        vertical-align: middle;\n",
       "    }\n",
       "\n",
       "    .dataframe tbody tr th {\n",
       "        vertical-align: top;\n",
       "    }\n",
       "\n",
       "    .dataframe thead th {\n",
       "        text-align: right;\n",
       "    }\n",
       "</style>\n",
       "<table border=\"1\" class=\"dataframe\">\n",
       "  <thead>\n",
       "    <tr style=\"text-align: right;\">\n",
       "      <th></th>\n",
       "      <th>model</th>\n",
       "      <th>accuracy</th>\n",
       "      <th>f1</th>\n",
       "    </tr>\n",
       "  </thead>\n",
       "  <tbody>\n",
       "    <tr>\n",
       "      <th>0</th>\n",
       "      <td>Dummy</td>\n",
       "      <td>0.500000</td>\n",
       "      <td>0.000000</td>\n",
       "    </tr>\n",
       "    <tr>\n",
       "      <th>1</th>\n",
       "      <td>word2vec</td>\n",
       "      <td>0.915262</td>\n",
       "      <td>0.910092</td>\n",
       "    </tr>\n",
       "    <tr>\n",
       "      <th>2</th>\n",
       "      <td>kmeans_tfidf</td>\n",
       "      <td>0.611003</td>\n",
       "      <td>0.357666</td>\n",
       "    </tr>\n",
       "    <tr>\n",
       "      <th>3</th>\n",
       "      <td>rfc_basic_tfidf</td>\n",
       "      <td>0.942283</td>\n",
       "      <td>0.939538</td>\n",
       "    </tr>\n",
       "    <tr>\n",
       "      <th>4</th>\n",
       "      <td>rfc_STOP</td>\n",
       "      <td>0.944228</td>\n",
       "      <td>0.941457</td>\n",
       "    </tr>\n",
       "    <tr>\n",
       "      <th>5</th>\n",
       "      <td>rfc_pro</td>\n",
       "      <td>0.942715</td>\n",
       "      <td>0.940032</td>\n",
       "    </tr>\n",
       "    <tr>\n",
       "      <th>6</th>\n",
       "      <td>rfc_prof</td>\n",
       "      <td>0.942823</td>\n",
       "      <td>0.940043</td>\n",
       "    </tr>\n",
       "    <tr>\n",
       "      <th>7</th>\n",
       "      <td>rfc_cap</td>\n",
       "      <td>0.941094</td>\n",
       "      <td>0.938300</td>\n",
       "    </tr>\n",
       "    <tr>\n",
       "      <th>8</th>\n",
       "      <td>rfc_len</td>\n",
       "      <td>0.942931</td>\n",
       "      <td>0.940231</td>\n",
       "    </tr>\n",
       "    <tr>\n",
       "      <th>9</th>\n",
       "      <td>rfc_lex</td>\n",
       "      <td>0.943147</td>\n",
       "      <td>0.940390</td>\n",
       "    </tr>\n",
       "    <tr>\n",
       "      <th>10</th>\n",
       "      <td>rfc_combined</td>\n",
       "      <td>0.944228</td>\n",
       "      <td>0.941390</td>\n",
       "    </tr>\n",
       "    <tr>\n",
       "      <th>11</th>\n",
       "      <td>rfc_lex_prof</td>\n",
       "      <td>0.943364</td>\n",
       "      <td>0.940617</td>\n",
       "    </tr>\n",
       "    <tr>\n",
       "      <th>12</th>\n",
       "      <td>rfc_top</td>\n",
       "      <td>0.944877</td>\n",
       "      <td>0.942242</td>\n",
       "    </tr>\n",
       "    <tr>\n",
       "      <th>13</th>\n",
       "      <td>svm_pro</td>\n",
       "      <td>0.938716</td>\n",
       "      <td>0.936683</td>\n",
       "    </tr>\n",
       "    <tr>\n",
       "      <th>14</th>\n",
       "      <td>svm_basic_tfidf</td>\n",
       "      <td>0.939040</td>\n",
       "      <td>0.936955</td>\n",
       "    </tr>\n",
       "    <tr>\n",
       "      <th>15</th>\n",
       "      <td>svm_prof</td>\n",
       "      <td>0.939148</td>\n",
       "      <td>0.937074</td>\n",
       "    </tr>\n",
       "  </tbody>\n",
       "</table>\n",
       "</div>"
      ],
      "text/plain": [
       "              model  accuracy        f1\n",
       "0             Dummy  0.500000  0.000000\n",
       "1          word2vec  0.915262  0.910092\n",
       "2      kmeans_tfidf  0.611003  0.357666\n",
       "3   rfc_basic_tfidf  0.942283  0.939538\n",
       "4          rfc_STOP  0.944228  0.941457\n",
       "5           rfc_pro  0.942715  0.940032\n",
       "6          rfc_prof  0.942823  0.940043\n",
       "7           rfc_cap  0.941094  0.938300\n",
       "8           rfc_len  0.942931  0.940231\n",
       "9           rfc_lex  0.943147  0.940390\n",
       "10     rfc_combined  0.944228  0.941390\n",
       "11     rfc_lex_prof  0.943364  0.940617\n",
       "12          rfc_top  0.944877  0.942242\n",
       "13          svm_pro  0.938716  0.936683\n",
       "14  svm_basic_tfidf  0.939040  0.936955\n",
       "15         svm_prof  0.939148  0.937074"
      ]
     },
     "execution_count": 127,
     "metadata": {},
     "output_type": "execute_result"
    }
   ],
   "source": [
    "new_row = {'model': 'svm_prof', 'accuracy': accuracy, 'f1': f1}\n",
    "results = results.append(new_row, ignore_index=True)\n",
    "results"
   ]
  },
  {
   "cell_type": "markdown",
   "metadata": {},
   "source": [
    "**SVM with Capitals**"
   ]
  },
  {
   "cell_type": "code",
   "execution_count": 128,
   "metadata": {},
   "outputs": [
    {
     "name": "stdout",
     "output_type": "stream",
     "text": [
      "[LibSVM]SVM with Lemmatization Features and Capitals\n",
      "Testing Accuracy: 0.9395\n",
      "\n",
      "F1 Score: 0.9374\n"
     ]
    }
   ],
   "source": [
    "svc_cap = SVC(verbose=1)\n",
    "svc_cap.fit(cap_train2, y_train_lem)\n",
    "rf_test_preds = svc_cap.predict(cap_test2)\n",
    "\n",
    "accuracy = accuracy_score(y_test_lem, rf_test_preds)\n",
    "f1 = f1_score(y_test_lem, rf_test_preds)\n",
    "print('SVM with Lemmatization Features and Capitals')\n",
    "print(\"Testing Accuracy: {:.4}\".format(accuracy))\n",
    "print()\n",
    "print(\"F1 Score: {:.4}\".format(f1))"
   ]
  },
  {
   "cell_type": "code",
   "execution_count": 129,
   "metadata": {},
   "outputs": [
    {
     "data": {
      "text/html": [
       "<div>\n",
       "<style scoped>\n",
       "    .dataframe tbody tr th:only-of-type {\n",
       "        vertical-align: middle;\n",
       "    }\n",
       "\n",
       "    .dataframe tbody tr th {\n",
       "        vertical-align: top;\n",
       "    }\n",
       "\n",
       "    .dataframe thead th {\n",
       "        text-align: right;\n",
       "    }\n",
       "</style>\n",
       "<table border=\"1\" class=\"dataframe\">\n",
       "  <thead>\n",
       "    <tr style=\"text-align: right;\">\n",
       "      <th></th>\n",
       "      <th>model</th>\n",
       "      <th>accuracy</th>\n",
       "      <th>f1</th>\n",
       "    </tr>\n",
       "  </thead>\n",
       "  <tbody>\n",
       "    <tr>\n",
       "      <th>0</th>\n",
       "      <td>Dummy</td>\n",
       "      <td>0.500000</td>\n",
       "      <td>0.000000</td>\n",
       "    </tr>\n",
       "    <tr>\n",
       "      <th>1</th>\n",
       "      <td>word2vec</td>\n",
       "      <td>0.915262</td>\n",
       "      <td>0.910092</td>\n",
       "    </tr>\n",
       "    <tr>\n",
       "      <th>2</th>\n",
       "      <td>kmeans_tfidf</td>\n",
       "      <td>0.611003</td>\n",
       "      <td>0.357666</td>\n",
       "    </tr>\n",
       "    <tr>\n",
       "      <th>3</th>\n",
       "      <td>rfc_basic_tfidf</td>\n",
       "      <td>0.942283</td>\n",
       "      <td>0.939538</td>\n",
       "    </tr>\n",
       "    <tr>\n",
       "      <th>4</th>\n",
       "      <td>rfc_STOP</td>\n",
       "      <td>0.944228</td>\n",
       "      <td>0.941457</td>\n",
       "    </tr>\n",
       "    <tr>\n",
       "      <th>5</th>\n",
       "      <td>rfc_pro</td>\n",
       "      <td>0.942715</td>\n",
       "      <td>0.940032</td>\n",
       "    </tr>\n",
       "    <tr>\n",
       "      <th>6</th>\n",
       "      <td>rfc_prof</td>\n",
       "      <td>0.942823</td>\n",
       "      <td>0.940043</td>\n",
       "    </tr>\n",
       "    <tr>\n",
       "      <th>7</th>\n",
       "      <td>rfc_cap</td>\n",
       "      <td>0.941094</td>\n",
       "      <td>0.938300</td>\n",
       "    </tr>\n",
       "    <tr>\n",
       "      <th>8</th>\n",
       "      <td>rfc_len</td>\n",
       "      <td>0.942931</td>\n",
       "      <td>0.940231</td>\n",
       "    </tr>\n",
       "    <tr>\n",
       "      <th>9</th>\n",
       "      <td>rfc_lex</td>\n",
       "      <td>0.943147</td>\n",
       "      <td>0.940390</td>\n",
       "    </tr>\n",
       "    <tr>\n",
       "      <th>10</th>\n",
       "      <td>rfc_combined</td>\n",
       "      <td>0.944228</td>\n",
       "      <td>0.941390</td>\n",
       "    </tr>\n",
       "    <tr>\n",
       "      <th>11</th>\n",
       "      <td>rfc_lex_prof</td>\n",
       "      <td>0.943364</td>\n",
       "      <td>0.940617</td>\n",
       "    </tr>\n",
       "    <tr>\n",
       "      <th>12</th>\n",
       "      <td>rfc_top</td>\n",
       "      <td>0.944877</td>\n",
       "      <td>0.942242</td>\n",
       "    </tr>\n",
       "    <tr>\n",
       "      <th>13</th>\n",
       "      <td>svm_pro</td>\n",
       "      <td>0.938716</td>\n",
       "      <td>0.936683</td>\n",
       "    </tr>\n",
       "    <tr>\n",
       "      <th>14</th>\n",
       "      <td>svm_basic_tfidf</td>\n",
       "      <td>0.939040</td>\n",
       "      <td>0.936955</td>\n",
       "    </tr>\n",
       "    <tr>\n",
       "      <th>15</th>\n",
       "      <td>svm_prof</td>\n",
       "      <td>0.939148</td>\n",
       "      <td>0.937074</td>\n",
       "    </tr>\n",
       "    <tr>\n",
       "      <th>16</th>\n",
       "      <td>svm_cap</td>\n",
       "      <td>0.939473</td>\n",
       "      <td>0.937402</td>\n",
       "    </tr>\n",
       "  </tbody>\n",
       "</table>\n",
       "</div>"
      ],
      "text/plain": [
       "              model  accuracy        f1\n",
       "0             Dummy  0.500000  0.000000\n",
       "1          word2vec  0.915262  0.910092\n",
       "2      kmeans_tfidf  0.611003  0.357666\n",
       "3   rfc_basic_tfidf  0.942283  0.939538\n",
       "4          rfc_STOP  0.944228  0.941457\n",
       "5           rfc_pro  0.942715  0.940032\n",
       "6          rfc_prof  0.942823  0.940043\n",
       "7           rfc_cap  0.941094  0.938300\n",
       "8           rfc_len  0.942931  0.940231\n",
       "9           rfc_lex  0.943147  0.940390\n",
       "10     rfc_combined  0.944228  0.941390\n",
       "11     rfc_lex_prof  0.943364  0.940617\n",
       "12          rfc_top  0.944877  0.942242\n",
       "13          svm_pro  0.938716  0.936683\n",
       "14  svm_basic_tfidf  0.939040  0.936955\n",
       "15         svm_prof  0.939148  0.937074\n",
       "16          svm_cap  0.939473  0.937402"
      ]
     },
     "execution_count": 129,
     "metadata": {},
     "output_type": "execute_result"
    }
   ],
   "source": [
    "new_row = {'model': 'svm_cap', 'accuracy': accuracy, 'f1': f1}\n",
    "results = results.append(new_row, ignore_index=True)\n",
    "results"
   ]
  },
  {
   "cell_type": "markdown",
   "metadata": {},
   "source": [
    "**SVM with Combined**"
   ]
  },
  {
   "cell_type": "code",
   "execution_count": 130,
   "metadata": {},
   "outputs": [
    {
     "name": "stdout",
     "output_type": "stream",
     "text": [
      "[LibSVM]SVM with Lemmatization Features and Capitals\n",
      "Testing Accuracy: 0.5062\n",
      "\n",
      "F1 Score: 0.5225\n"
     ]
    }
   ],
   "source": [
    "svc_combined = SVC(verbose=1)\n",
    "svc_combined.fit(combined_train, y_train_lem)\n",
    "rf_test_preds = svc_combined.predict(combined_test)\n",
    "\n",
    "accuracy = accuracy_score(y_test_lem, rf_test_preds)\n",
    "f1 = f1_score(y_test_lem, rf_test_preds)\n",
    "print('SVM with Lemmatization Features and Capitals')\n",
    "print(\"Testing Accuracy: {:.4}\".format(accuracy))\n",
    "print()\n",
    "print(\"F1 Score: {:.4}\".format(f1))"
   ]
  },
  {
   "cell_type": "code",
   "execution_count": 131,
   "metadata": {
    "scrolled": true
   },
   "outputs": [
    {
     "data": {
      "text/html": [
       "<div>\n",
       "<style scoped>\n",
       "    .dataframe tbody tr th:only-of-type {\n",
       "        vertical-align: middle;\n",
       "    }\n",
       "\n",
       "    .dataframe tbody tr th {\n",
       "        vertical-align: top;\n",
       "    }\n",
       "\n",
       "    .dataframe thead th {\n",
       "        text-align: right;\n",
       "    }\n",
       "</style>\n",
       "<table border=\"1\" class=\"dataframe\">\n",
       "  <thead>\n",
       "    <tr style=\"text-align: right;\">\n",
       "      <th></th>\n",
       "      <th>model</th>\n",
       "      <th>accuracy</th>\n",
       "      <th>f1</th>\n",
       "    </tr>\n",
       "  </thead>\n",
       "  <tbody>\n",
       "    <tr>\n",
       "      <th>0</th>\n",
       "      <td>Dummy</td>\n",
       "      <td>0.500000</td>\n",
       "      <td>0.000000</td>\n",
       "    </tr>\n",
       "    <tr>\n",
       "      <th>1</th>\n",
       "      <td>word2vec</td>\n",
       "      <td>0.915262</td>\n",
       "      <td>0.910092</td>\n",
       "    </tr>\n",
       "    <tr>\n",
       "      <th>2</th>\n",
       "      <td>kmeans_tfidf</td>\n",
       "      <td>0.611003</td>\n",
       "      <td>0.357666</td>\n",
       "    </tr>\n",
       "    <tr>\n",
       "      <th>3</th>\n",
       "      <td>rfc_basic_tfidf</td>\n",
       "      <td>0.942283</td>\n",
       "      <td>0.939538</td>\n",
       "    </tr>\n",
       "    <tr>\n",
       "      <th>4</th>\n",
       "      <td>rfc_STOP</td>\n",
       "      <td>0.944228</td>\n",
       "      <td>0.941457</td>\n",
       "    </tr>\n",
       "    <tr>\n",
       "      <th>5</th>\n",
       "      <td>rfc_pro</td>\n",
       "      <td>0.942715</td>\n",
       "      <td>0.940032</td>\n",
       "    </tr>\n",
       "    <tr>\n",
       "      <th>6</th>\n",
       "      <td>rfc_prof</td>\n",
       "      <td>0.942823</td>\n",
       "      <td>0.940043</td>\n",
       "    </tr>\n",
       "    <tr>\n",
       "      <th>7</th>\n",
       "      <td>rfc_cap</td>\n",
       "      <td>0.941094</td>\n",
       "      <td>0.938300</td>\n",
       "    </tr>\n",
       "    <tr>\n",
       "      <th>8</th>\n",
       "      <td>rfc_len</td>\n",
       "      <td>0.942931</td>\n",
       "      <td>0.940231</td>\n",
       "    </tr>\n",
       "    <tr>\n",
       "      <th>9</th>\n",
       "      <td>rfc_lex</td>\n",
       "      <td>0.943147</td>\n",
       "      <td>0.940390</td>\n",
       "    </tr>\n",
       "    <tr>\n",
       "      <th>10</th>\n",
       "      <td>rfc_combined</td>\n",
       "      <td>0.944228</td>\n",
       "      <td>0.941390</td>\n",
       "    </tr>\n",
       "    <tr>\n",
       "      <th>11</th>\n",
       "      <td>rfc_lex_prof</td>\n",
       "      <td>0.943364</td>\n",
       "      <td>0.940617</td>\n",
       "    </tr>\n",
       "    <tr>\n",
       "      <th>12</th>\n",
       "      <td>rfc_top</td>\n",
       "      <td>0.944877</td>\n",
       "      <td>0.942242</td>\n",
       "    </tr>\n",
       "    <tr>\n",
       "      <th>13</th>\n",
       "      <td>svm_pro</td>\n",
       "      <td>0.938716</td>\n",
       "      <td>0.936683</td>\n",
       "    </tr>\n",
       "    <tr>\n",
       "      <th>14</th>\n",
       "      <td>svm_basic_tfidf</td>\n",
       "      <td>0.939040</td>\n",
       "      <td>0.936955</td>\n",
       "    </tr>\n",
       "    <tr>\n",
       "      <th>15</th>\n",
       "      <td>svm_prof</td>\n",
       "      <td>0.939148</td>\n",
       "      <td>0.937074</td>\n",
       "    </tr>\n",
       "    <tr>\n",
       "      <th>16</th>\n",
       "      <td>svm_cap</td>\n",
       "      <td>0.939473</td>\n",
       "      <td>0.937402</td>\n",
       "    </tr>\n",
       "    <tr>\n",
       "      <th>17</th>\n",
       "      <td>svm_combined</td>\n",
       "      <td>0.506161</td>\n",
       "      <td>0.522521</td>\n",
       "    </tr>\n",
       "  </tbody>\n",
       "</table>\n",
       "</div>"
      ],
      "text/plain": [
       "              model  accuracy        f1\n",
       "0             Dummy  0.500000  0.000000\n",
       "1          word2vec  0.915262  0.910092\n",
       "2      kmeans_tfidf  0.611003  0.357666\n",
       "3   rfc_basic_tfidf  0.942283  0.939538\n",
       "4          rfc_STOP  0.944228  0.941457\n",
       "5           rfc_pro  0.942715  0.940032\n",
       "6          rfc_prof  0.942823  0.940043\n",
       "7           rfc_cap  0.941094  0.938300\n",
       "8           rfc_len  0.942931  0.940231\n",
       "9           rfc_lex  0.943147  0.940390\n",
       "10     rfc_combined  0.944228  0.941390\n",
       "11     rfc_lex_prof  0.943364  0.940617\n",
       "12          rfc_top  0.944877  0.942242\n",
       "13          svm_pro  0.938716  0.936683\n",
       "14  svm_basic_tfidf  0.939040  0.936955\n",
       "15         svm_prof  0.939148  0.937074\n",
       "16          svm_cap  0.939473  0.937402\n",
       "17     svm_combined  0.506161  0.522521"
      ]
     },
     "execution_count": 131,
     "metadata": {},
     "output_type": "execute_result"
    }
   ],
   "source": [
    "new_row = {'model': 'svm_combined', 'accuracy': accuracy, 'f1': f1}\n",
    "results = results.append(new_row, ignore_index=True)\n",
    "results"
   ]
  },
  {
   "cell_type": "markdown",
   "metadata": {},
   "source": [
    "**SVM with Lexical**"
   ]
  },
  {
   "cell_type": "code",
   "execution_count": 132,
   "metadata": {},
   "outputs": [
    {
     "name": "stdout",
     "output_type": "stream",
     "text": [
      "[LibSVM]SVM with Lemmatization Features and Capitals\n",
      "Testing Accuracy: 0.9197\n",
      "\n",
      "F1 Score: 0.9171\n"
     ]
    }
   ],
   "source": [
    "svc_lex = SVC(verbose=1)\n",
    "svc_lex.fit(lex_train2, y_train_lem)\n",
    "rf_test_preds = svc_lex.predict(lex_test2)\n",
    "\n",
    "accuracy = accuracy_score(y_test_lem, rf_test_preds)\n",
    "f1 = f1_score(y_test_lem, rf_test_preds)\n",
    "print('SVM with Lemmatization Features and Capitals')\n",
    "print(\"Testing Accuracy: {:.4}\".format(accuracy))\n",
    "print()\n",
    "print(\"F1 Score: {:.4}\".format(f1))"
   ]
  },
  {
   "cell_type": "code",
   "execution_count": 133,
   "metadata": {},
   "outputs": [
    {
     "data": {
      "text/html": [
       "<div>\n",
       "<style scoped>\n",
       "    .dataframe tbody tr th:only-of-type {\n",
       "        vertical-align: middle;\n",
       "    }\n",
       "\n",
       "    .dataframe tbody tr th {\n",
       "        vertical-align: top;\n",
       "    }\n",
       "\n",
       "    .dataframe thead th {\n",
       "        text-align: right;\n",
       "    }\n",
       "</style>\n",
       "<table border=\"1\" class=\"dataframe\">\n",
       "  <thead>\n",
       "    <tr style=\"text-align: right;\">\n",
       "      <th></th>\n",
       "      <th>model</th>\n",
       "      <th>accuracy</th>\n",
       "      <th>f1</th>\n",
       "    </tr>\n",
       "  </thead>\n",
       "  <tbody>\n",
       "    <tr>\n",
       "      <th>0</th>\n",
       "      <td>Dummy</td>\n",
       "      <td>0.500000</td>\n",
       "      <td>0.000000</td>\n",
       "    </tr>\n",
       "    <tr>\n",
       "      <th>1</th>\n",
       "      <td>word2vec</td>\n",
       "      <td>0.915262</td>\n",
       "      <td>0.910092</td>\n",
       "    </tr>\n",
       "    <tr>\n",
       "      <th>2</th>\n",
       "      <td>kmeans_tfidf</td>\n",
       "      <td>0.611003</td>\n",
       "      <td>0.357666</td>\n",
       "    </tr>\n",
       "    <tr>\n",
       "      <th>3</th>\n",
       "      <td>rfc_basic_tfidf</td>\n",
       "      <td>0.942283</td>\n",
       "      <td>0.939538</td>\n",
       "    </tr>\n",
       "    <tr>\n",
       "      <th>4</th>\n",
       "      <td>rfc_STOP</td>\n",
       "      <td>0.944228</td>\n",
       "      <td>0.941457</td>\n",
       "    </tr>\n",
       "    <tr>\n",
       "      <th>5</th>\n",
       "      <td>rfc_pro</td>\n",
       "      <td>0.942715</td>\n",
       "      <td>0.940032</td>\n",
       "    </tr>\n",
       "    <tr>\n",
       "      <th>6</th>\n",
       "      <td>rfc_prof</td>\n",
       "      <td>0.942823</td>\n",
       "      <td>0.940043</td>\n",
       "    </tr>\n",
       "    <tr>\n",
       "      <th>7</th>\n",
       "      <td>rfc_cap</td>\n",
       "      <td>0.941094</td>\n",
       "      <td>0.938300</td>\n",
       "    </tr>\n",
       "    <tr>\n",
       "      <th>8</th>\n",
       "      <td>rfc_len</td>\n",
       "      <td>0.942931</td>\n",
       "      <td>0.940231</td>\n",
       "    </tr>\n",
       "    <tr>\n",
       "      <th>9</th>\n",
       "      <td>rfc_lex</td>\n",
       "      <td>0.943147</td>\n",
       "      <td>0.940390</td>\n",
       "    </tr>\n",
       "    <tr>\n",
       "      <th>10</th>\n",
       "      <td>rfc_combined</td>\n",
       "      <td>0.944228</td>\n",
       "      <td>0.941390</td>\n",
       "    </tr>\n",
       "    <tr>\n",
       "      <th>11</th>\n",
       "      <td>rfc_lex_prof</td>\n",
       "      <td>0.943364</td>\n",
       "      <td>0.940617</td>\n",
       "    </tr>\n",
       "    <tr>\n",
       "      <th>12</th>\n",
       "      <td>rfc_top</td>\n",
       "      <td>0.944877</td>\n",
       "      <td>0.942242</td>\n",
       "    </tr>\n",
       "    <tr>\n",
       "      <th>13</th>\n",
       "      <td>svm_pro</td>\n",
       "      <td>0.938716</td>\n",
       "      <td>0.936683</td>\n",
       "    </tr>\n",
       "    <tr>\n",
       "      <th>14</th>\n",
       "      <td>svm_basic_tfidf</td>\n",
       "      <td>0.939040</td>\n",
       "      <td>0.936955</td>\n",
       "    </tr>\n",
       "    <tr>\n",
       "      <th>15</th>\n",
       "      <td>svm_prof</td>\n",
       "      <td>0.939148</td>\n",
       "      <td>0.937074</td>\n",
       "    </tr>\n",
       "    <tr>\n",
       "      <th>16</th>\n",
       "      <td>svm_cap</td>\n",
       "      <td>0.939473</td>\n",
       "      <td>0.937402</td>\n",
       "    </tr>\n",
       "    <tr>\n",
       "      <th>17</th>\n",
       "      <td>svm_combined</td>\n",
       "      <td>0.506161</td>\n",
       "      <td>0.522521</td>\n",
       "    </tr>\n",
       "    <tr>\n",
       "      <th>18</th>\n",
       "      <td>svm_lex</td>\n",
       "      <td>0.919693</td>\n",
       "      <td>0.917141</td>\n",
       "    </tr>\n",
       "  </tbody>\n",
       "</table>\n",
       "</div>"
      ],
      "text/plain": [
       "              model  accuracy        f1\n",
       "0             Dummy  0.500000  0.000000\n",
       "1          word2vec  0.915262  0.910092\n",
       "2      kmeans_tfidf  0.611003  0.357666\n",
       "3   rfc_basic_tfidf  0.942283  0.939538\n",
       "4          rfc_STOP  0.944228  0.941457\n",
       "5           rfc_pro  0.942715  0.940032\n",
       "6          rfc_prof  0.942823  0.940043\n",
       "7           rfc_cap  0.941094  0.938300\n",
       "8           rfc_len  0.942931  0.940231\n",
       "9           rfc_lex  0.943147  0.940390\n",
       "10     rfc_combined  0.944228  0.941390\n",
       "11     rfc_lex_prof  0.943364  0.940617\n",
       "12          rfc_top  0.944877  0.942242\n",
       "13          svm_pro  0.938716  0.936683\n",
       "14  svm_basic_tfidf  0.939040  0.936955\n",
       "15         svm_prof  0.939148  0.937074\n",
       "16          svm_cap  0.939473  0.937402\n",
       "17     svm_combined  0.506161  0.522521\n",
       "18          svm_lex  0.919693  0.917141"
      ]
     },
     "execution_count": 133,
     "metadata": {},
     "output_type": "execute_result"
    }
   ],
   "source": [
    "new_row = {'model': 'svm_lex', 'accuracy': accuracy, 'f1': f1}\n",
    "results = results.append(new_row, ignore_index=True)\n",
    "results"
   ]
  },
  {
   "cell_type": "markdown",
   "metadata": {},
   "source": [
    "**SVM with Stop**"
   ]
  },
  {
   "cell_type": "code",
   "execution_count": 134,
   "metadata": {},
   "outputs": [
    {
     "name": "stdout",
     "output_type": "stream",
     "text": [
      "[LibSVM]SVM with Lemmatization Features and Capitals\n",
      "Testing Accuracy: 0.9322\n",
      "\n",
      "F1 Score: 0.9301\n"
     ]
    }
   ],
   "source": [
    "svc_stop = SVC(verbose=1)\n",
    "svc_stop.fit(stop_train2, y_train_lem)\n",
    "rf_test_preds = svc_stop.predict(stop_test2)\n",
    "\n",
    "accuracy = accuracy_score(y_test_lem, rf_test_preds)\n",
    "f1 = f1_score(y_test_lem, rf_test_preds)\n",
    "print('SVM with Lemmatization Features and Capitals')\n",
    "print(\"Testing Accuracy: {:.4}\".format(accuracy))\n",
    "print()\n",
    "print(\"F1 Score: {:.4}\".format(f1))"
   ]
  },
  {
   "cell_type": "code",
   "execution_count": 135,
   "metadata": {},
   "outputs": [
    {
     "data": {
      "text/html": [
       "<div>\n",
       "<style scoped>\n",
       "    .dataframe tbody tr th:only-of-type {\n",
       "        vertical-align: middle;\n",
       "    }\n",
       "\n",
       "    .dataframe tbody tr th {\n",
       "        vertical-align: top;\n",
       "    }\n",
       "\n",
       "    .dataframe thead th {\n",
       "        text-align: right;\n",
       "    }\n",
       "</style>\n",
       "<table border=\"1\" class=\"dataframe\">\n",
       "  <thead>\n",
       "    <tr style=\"text-align: right;\">\n",
       "      <th></th>\n",
       "      <th>model</th>\n",
       "      <th>accuracy</th>\n",
       "      <th>f1</th>\n",
       "    </tr>\n",
       "  </thead>\n",
       "  <tbody>\n",
       "    <tr>\n",
       "      <th>0</th>\n",
       "      <td>Dummy</td>\n",
       "      <td>0.500000</td>\n",
       "      <td>0.000000</td>\n",
       "    </tr>\n",
       "    <tr>\n",
       "      <th>1</th>\n",
       "      <td>word2vec</td>\n",
       "      <td>0.915262</td>\n",
       "      <td>0.910092</td>\n",
       "    </tr>\n",
       "    <tr>\n",
       "      <th>2</th>\n",
       "      <td>kmeans_tfidf</td>\n",
       "      <td>0.611003</td>\n",
       "      <td>0.357666</td>\n",
       "    </tr>\n",
       "    <tr>\n",
       "      <th>3</th>\n",
       "      <td>rfc_basic_tfidf</td>\n",
       "      <td>0.942283</td>\n",
       "      <td>0.939538</td>\n",
       "    </tr>\n",
       "    <tr>\n",
       "      <th>4</th>\n",
       "      <td>rfc_STOP</td>\n",
       "      <td>0.944228</td>\n",
       "      <td>0.941457</td>\n",
       "    </tr>\n",
       "    <tr>\n",
       "      <th>5</th>\n",
       "      <td>rfc_pro</td>\n",
       "      <td>0.942715</td>\n",
       "      <td>0.940032</td>\n",
       "    </tr>\n",
       "    <tr>\n",
       "      <th>6</th>\n",
       "      <td>rfc_prof</td>\n",
       "      <td>0.942823</td>\n",
       "      <td>0.940043</td>\n",
       "    </tr>\n",
       "    <tr>\n",
       "      <th>7</th>\n",
       "      <td>rfc_cap</td>\n",
       "      <td>0.941094</td>\n",
       "      <td>0.938300</td>\n",
       "    </tr>\n",
       "    <tr>\n",
       "      <th>8</th>\n",
       "      <td>rfc_len</td>\n",
       "      <td>0.942931</td>\n",
       "      <td>0.940231</td>\n",
       "    </tr>\n",
       "    <tr>\n",
       "      <th>9</th>\n",
       "      <td>rfc_lex</td>\n",
       "      <td>0.943147</td>\n",
       "      <td>0.940390</td>\n",
       "    </tr>\n",
       "    <tr>\n",
       "      <th>10</th>\n",
       "      <td>rfc_combined</td>\n",
       "      <td>0.944228</td>\n",
       "      <td>0.941390</td>\n",
       "    </tr>\n",
       "    <tr>\n",
       "      <th>11</th>\n",
       "      <td>rfc_lex_prof</td>\n",
       "      <td>0.943364</td>\n",
       "      <td>0.940617</td>\n",
       "    </tr>\n",
       "    <tr>\n",
       "      <th>12</th>\n",
       "      <td>rfc_top</td>\n",
       "      <td>0.944877</td>\n",
       "      <td>0.942242</td>\n",
       "    </tr>\n",
       "    <tr>\n",
       "      <th>13</th>\n",
       "      <td>svm_pro</td>\n",
       "      <td>0.938716</td>\n",
       "      <td>0.936683</td>\n",
       "    </tr>\n",
       "    <tr>\n",
       "      <th>14</th>\n",
       "      <td>svm_basic_tfidf</td>\n",
       "      <td>0.939040</td>\n",
       "      <td>0.936955</td>\n",
       "    </tr>\n",
       "    <tr>\n",
       "      <th>15</th>\n",
       "      <td>svm_prof</td>\n",
       "      <td>0.939148</td>\n",
       "      <td>0.937074</td>\n",
       "    </tr>\n",
       "    <tr>\n",
       "      <th>16</th>\n",
       "      <td>svm_cap</td>\n",
       "      <td>0.939473</td>\n",
       "      <td>0.937402</td>\n",
       "    </tr>\n",
       "    <tr>\n",
       "      <th>17</th>\n",
       "      <td>svm_combined</td>\n",
       "      <td>0.506161</td>\n",
       "      <td>0.522521</td>\n",
       "    </tr>\n",
       "    <tr>\n",
       "      <th>18</th>\n",
       "      <td>svm_lex</td>\n",
       "      <td>0.919693</td>\n",
       "      <td>0.917141</td>\n",
       "    </tr>\n",
       "    <tr>\n",
       "      <th>19</th>\n",
       "      <td>svm_STOP</td>\n",
       "      <td>0.932231</td>\n",
       "      <td>0.930108</td>\n",
       "    </tr>\n",
       "  </tbody>\n",
       "</table>\n",
       "</div>"
      ],
      "text/plain": [
       "              model  accuracy        f1\n",
       "0             Dummy  0.500000  0.000000\n",
       "1          word2vec  0.915262  0.910092\n",
       "2      kmeans_tfidf  0.611003  0.357666\n",
       "3   rfc_basic_tfidf  0.942283  0.939538\n",
       "4          rfc_STOP  0.944228  0.941457\n",
       "5           rfc_pro  0.942715  0.940032\n",
       "6          rfc_prof  0.942823  0.940043\n",
       "7           rfc_cap  0.941094  0.938300\n",
       "8           rfc_len  0.942931  0.940231\n",
       "9           rfc_lex  0.943147  0.940390\n",
       "10     rfc_combined  0.944228  0.941390\n",
       "11     rfc_lex_prof  0.943364  0.940617\n",
       "12          rfc_top  0.944877  0.942242\n",
       "13          svm_pro  0.938716  0.936683\n",
       "14  svm_basic_tfidf  0.939040  0.936955\n",
       "15         svm_prof  0.939148  0.937074\n",
       "16          svm_cap  0.939473  0.937402\n",
       "17     svm_combined  0.506161  0.522521\n",
       "18          svm_lex  0.919693  0.917141\n",
       "19         svm_STOP  0.932231  0.930108"
      ]
     },
     "execution_count": 135,
     "metadata": {},
     "output_type": "execute_result"
    }
   ],
   "source": [
    "new_row = {'model': 'svm_STOP', 'accuracy': accuracy, 'f1': f1}\n",
    "results = results.append(new_row, ignore_index=True)\n",
    "results"
   ]
  },
  {
   "cell_type": "markdown",
   "metadata": {},
   "source": [
    "**SVM with Len**"
   ]
  },
  {
   "cell_type": "code",
   "execution_count": 136,
   "metadata": {},
   "outputs": [
    {
     "name": "stdout",
     "output_type": "stream",
     "text": [
      "[LibSVM]SVM with Lemmatization Features and Capitals\n",
      "Testing Accuracy: 0.5062\n",
      "\n",
      "F1 Score: 0.5225\n"
     ]
    }
   ],
   "source": [
    "svc_len = SVC(verbose=1)\n",
    "svc_len.fit(len_train2, y_train_lem)\n",
    "rf_test_preds = svc_len.predict(len_test2)\n",
    "\n",
    "accuracy = accuracy_score(y_test_lem, rf_test_preds)\n",
    "f1 = f1_score(y_test_lem, rf_test_preds)\n",
    "print('SVM with Lemmatization Features and Capitals')\n",
    "print(\"Testing Accuracy: {:.4}\".format(accuracy))\n",
    "print()\n",
    "print(\"F1 Score: {:.4}\".format(f1))"
   ]
  },
  {
   "cell_type": "code",
   "execution_count": 137,
   "metadata": {},
   "outputs": [
    {
     "data": {
      "text/html": [
       "<div>\n",
       "<style scoped>\n",
       "    .dataframe tbody tr th:only-of-type {\n",
       "        vertical-align: middle;\n",
       "    }\n",
       "\n",
       "    .dataframe tbody tr th {\n",
       "        vertical-align: top;\n",
       "    }\n",
       "\n",
       "    .dataframe thead th {\n",
       "        text-align: right;\n",
       "    }\n",
       "</style>\n",
       "<table border=\"1\" class=\"dataframe\">\n",
       "  <thead>\n",
       "    <tr style=\"text-align: right;\">\n",
       "      <th></th>\n",
       "      <th>model</th>\n",
       "      <th>accuracy</th>\n",
       "      <th>f1</th>\n",
       "    </tr>\n",
       "  </thead>\n",
       "  <tbody>\n",
       "    <tr>\n",
       "      <th>0</th>\n",
       "      <td>Dummy</td>\n",
       "      <td>0.500000</td>\n",
       "      <td>0.000000</td>\n",
       "    </tr>\n",
       "    <tr>\n",
       "      <th>1</th>\n",
       "      <td>word2vec</td>\n",
       "      <td>0.915262</td>\n",
       "      <td>0.910092</td>\n",
       "    </tr>\n",
       "    <tr>\n",
       "      <th>2</th>\n",
       "      <td>kmeans_tfidf</td>\n",
       "      <td>0.611003</td>\n",
       "      <td>0.357666</td>\n",
       "    </tr>\n",
       "    <tr>\n",
       "      <th>3</th>\n",
       "      <td>rfc_basic_tfidf</td>\n",
       "      <td>0.942283</td>\n",
       "      <td>0.939538</td>\n",
       "    </tr>\n",
       "    <tr>\n",
       "      <th>4</th>\n",
       "      <td>rfc_STOP</td>\n",
       "      <td>0.944228</td>\n",
       "      <td>0.941457</td>\n",
       "    </tr>\n",
       "    <tr>\n",
       "      <th>5</th>\n",
       "      <td>rfc_pro</td>\n",
       "      <td>0.942715</td>\n",
       "      <td>0.940032</td>\n",
       "    </tr>\n",
       "    <tr>\n",
       "      <th>6</th>\n",
       "      <td>rfc_prof</td>\n",
       "      <td>0.942823</td>\n",
       "      <td>0.940043</td>\n",
       "    </tr>\n",
       "    <tr>\n",
       "      <th>7</th>\n",
       "      <td>rfc_cap</td>\n",
       "      <td>0.941094</td>\n",
       "      <td>0.938300</td>\n",
       "    </tr>\n",
       "    <tr>\n",
       "      <th>8</th>\n",
       "      <td>rfc_len</td>\n",
       "      <td>0.942931</td>\n",
       "      <td>0.940231</td>\n",
       "    </tr>\n",
       "    <tr>\n",
       "      <th>9</th>\n",
       "      <td>rfc_lex</td>\n",
       "      <td>0.943147</td>\n",
       "      <td>0.940390</td>\n",
       "    </tr>\n",
       "    <tr>\n",
       "      <th>10</th>\n",
       "      <td>rfc_combined</td>\n",
       "      <td>0.944228</td>\n",
       "      <td>0.941390</td>\n",
       "    </tr>\n",
       "    <tr>\n",
       "      <th>11</th>\n",
       "      <td>rfc_lex_prof</td>\n",
       "      <td>0.943364</td>\n",
       "      <td>0.940617</td>\n",
       "    </tr>\n",
       "    <tr>\n",
       "      <th>12</th>\n",
       "      <td>rfc_top</td>\n",
       "      <td>0.944877</td>\n",
       "      <td>0.942242</td>\n",
       "    </tr>\n",
       "    <tr>\n",
       "      <th>13</th>\n",
       "      <td>svm_pro</td>\n",
       "      <td>0.938716</td>\n",
       "      <td>0.936683</td>\n",
       "    </tr>\n",
       "    <tr>\n",
       "      <th>14</th>\n",
       "      <td>svm_basic_tfidf</td>\n",
       "      <td>0.939040</td>\n",
       "      <td>0.936955</td>\n",
       "    </tr>\n",
       "    <tr>\n",
       "      <th>15</th>\n",
       "      <td>svm_prof</td>\n",
       "      <td>0.939148</td>\n",
       "      <td>0.937074</td>\n",
       "    </tr>\n",
       "    <tr>\n",
       "      <th>16</th>\n",
       "      <td>svm_cap</td>\n",
       "      <td>0.939473</td>\n",
       "      <td>0.937402</td>\n",
       "    </tr>\n",
       "    <tr>\n",
       "      <th>17</th>\n",
       "      <td>svm_combined</td>\n",
       "      <td>0.506161</td>\n",
       "      <td>0.522521</td>\n",
       "    </tr>\n",
       "    <tr>\n",
       "      <th>18</th>\n",
       "      <td>svm_lex</td>\n",
       "      <td>0.919693</td>\n",
       "      <td>0.917141</td>\n",
       "    </tr>\n",
       "    <tr>\n",
       "      <th>19</th>\n",
       "      <td>svm_STOP</td>\n",
       "      <td>0.932231</td>\n",
       "      <td>0.930108</td>\n",
       "    </tr>\n",
       "    <tr>\n",
       "      <th>20</th>\n",
       "      <td>svm_len</td>\n",
       "      <td>0.506161</td>\n",
       "      <td>0.522521</td>\n",
       "    </tr>\n",
       "  </tbody>\n",
       "</table>\n",
       "</div>"
      ],
      "text/plain": [
       "              model  accuracy        f1\n",
       "0             Dummy  0.500000  0.000000\n",
       "1          word2vec  0.915262  0.910092\n",
       "2      kmeans_tfidf  0.611003  0.357666\n",
       "3   rfc_basic_tfidf  0.942283  0.939538\n",
       "4          rfc_STOP  0.944228  0.941457\n",
       "5           rfc_pro  0.942715  0.940032\n",
       "6          rfc_prof  0.942823  0.940043\n",
       "7           rfc_cap  0.941094  0.938300\n",
       "8           rfc_len  0.942931  0.940231\n",
       "9           rfc_lex  0.943147  0.940390\n",
       "10     rfc_combined  0.944228  0.941390\n",
       "11     rfc_lex_prof  0.943364  0.940617\n",
       "12          rfc_top  0.944877  0.942242\n",
       "13          svm_pro  0.938716  0.936683\n",
       "14  svm_basic_tfidf  0.939040  0.936955\n",
       "15         svm_prof  0.939148  0.937074\n",
       "16          svm_cap  0.939473  0.937402\n",
       "17     svm_combined  0.506161  0.522521\n",
       "18          svm_lex  0.919693  0.917141\n",
       "19         svm_STOP  0.932231  0.930108\n",
       "20          svm_len  0.506161  0.522521"
      ]
     },
     "execution_count": 137,
     "metadata": {},
     "output_type": "execute_result"
    }
   ],
   "source": [
    "new_row = {'model': 'svm_len', 'accuracy': accuracy, 'f1': f1}\n",
    "results = results.append(new_row, ignore_index=True)\n",
    "results"
   ]
  },
  {
   "cell_type": "markdown",
   "metadata": {},
   "source": [
    "## MN Naive Bayes"
   ]
  },
  {
   "cell_type": "code",
   "execution_count": 138,
   "metadata": {},
   "outputs": [],
   "source": [
    "tfidf = TfidfVectorizer(ngram_range=(1,2))\n",
    "\n",
    "tfidf_data_train_lem = tfidf.fit_transform(X_train_lem)\n",
    "tfidf_data_test_lem = tfidf.transform(X_test_lem)"
   ]
  },
  {
   "cell_type": "code",
   "execution_count": 141,
   "metadata": {},
   "outputs": [
    {
     "name": "stdout",
     "output_type": "stream",
     "text": [
      "Multinomial Naive Bayes model accuracy\n",
      "Testing Accuracy: 0.9229\n",
      "\n",
      "F1 Score: 0.9233\n"
     ]
    }
   ],
   "source": [
    "mnb_lemma = MultinomialNB()\n",
    "mnb_lemma.fit(tfidf_data_train_lem, y_train_lem)\n",
    "mnb_test_preds = mnb_lemma.predict(tfidf_data_test_lem)\n",
    "\n",
    "accuracy = accuracy_score(y_test_lem, mnb_test_preds)\n",
    "f1 = f1_score(y_test_lem, mnb_test_preds)\n",
    "print('Multinomial Naive Bayes model accuracy')\n",
    "print(\"Testing Accuracy: {:.4}\".format(mnb_acc_score_lem))\n",
    "print()\n",
    "print(\"F1 Score: {:.4}\".format(mnb_f1_score_lem))"
   ]
  },
  {
   "cell_type": "code",
   "execution_count": 142,
   "metadata": {},
   "outputs": [
    {
     "data": {
      "text/html": [
       "<div>\n",
       "<style scoped>\n",
       "    .dataframe tbody tr th:only-of-type {\n",
       "        vertical-align: middle;\n",
       "    }\n",
       "\n",
       "    .dataframe tbody tr th {\n",
       "        vertical-align: top;\n",
       "    }\n",
       "\n",
       "    .dataframe thead th {\n",
       "        text-align: right;\n",
       "    }\n",
       "</style>\n",
       "<table border=\"1\" class=\"dataframe\">\n",
       "  <thead>\n",
       "    <tr style=\"text-align: right;\">\n",
       "      <th></th>\n",
       "      <th>model</th>\n",
       "      <th>accuracy</th>\n",
       "      <th>f1</th>\n",
       "    </tr>\n",
       "  </thead>\n",
       "  <tbody>\n",
       "    <tr>\n",
       "      <th>0</th>\n",
       "      <td>Dummy</td>\n",
       "      <td>0.500000</td>\n",
       "      <td>0.000000</td>\n",
       "    </tr>\n",
       "    <tr>\n",
       "      <th>1</th>\n",
       "      <td>word2vec</td>\n",
       "      <td>0.915262</td>\n",
       "      <td>0.910092</td>\n",
       "    </tr>\n",
       "    <tr>\n",
       "      <th>2</th>\n",
       "      <td>kmeans_tfidf</td>\n",
       "      <td>0.611003</td>\n",
       "      <td>0.357666</td>\n",
       "    </tr>\n",
       "    <tr>\n",
       "      <th>3</th>\n",
       "      <td>rfc_basic_tfidf</td>\n",
       "      <td>0.942283</td>\n",
       "      <td>0.939538</td>\n",
       "    </tr>\n",
       "    <tr>\n",
       "      <th>4</th>\n",
       "      <td>rfc_STOP</td>\n",
       "      <td>0.944228</td>\n",
       "      <td>0.941457</td>\n",
       "    </tr>\n",
       "    <tr>\n",
       "      <th>5</th>\n",
       "      <td>rfc_pro</td>\n",
       "      <td>0.942715</td>\n",
       "      <td>0.940032</td>\n",
       "    </tr>\n",
       "    <tr>\n",
       "      <th>6</th>\n",
       "      <td>rfc_prof</td>\n",
       "      <td>0.942823</td>\n",
       "      <td>0.940043</td>\n",
       "    </tr>\n",
       "    <tr>\n",
       "      <th>7</th>\n",
       "      <td>rfc_cap</td>\n",
       "      <td>0.941094</td>\n",
       "      <td>0.938300</td>\n",
       "    </tr>\n",
       "    <tr>\n",
       "      <th>8</th>\n",
       "      <td>rfc_len</td>\n",
       "      <td>0.942931</td>\n",
       "      <td>0.940231</td>\n",
       "    </tr>\n",
       "    <tr>\n",
       "      <th>9</th>\n",
       "      <td>rfc_lex</td>\n",
       "      <td>0.943147</td>\n",
       "      <td>0.940390</td>\n",
       "    </tr>\n",
       "    <tr>\n",
       "      <th>10</th>\n",
       "      <td>rfc_combined</td>\n",
       "      <td>0.944228</td>\n",
       "      <td>0.941390</td>\n",
       "    </tr>\n",
       "    <tr>\n",
       "      <th>11</th>\n",
       "      <td>rfc_lex_prof</td>\n",
       "      <td>0.943364</td>\n",
       "      <td>0.940617</td>\n",
       "    </tr>\n",
       "    <tr>\n",
       "      <th>12</th>\n",
       "      <td>rfc_top</td>\n",
       "      <td>0.944877</td>\n",
       "      <td>0.942242</td>\n",
       "    </tr>\n",
       "    <tr>\n",
       "      <th>13</th>\n",
       "      <td>svm_pro</td>\n",
       "      <td>0.938716</td>\n",
       "      <td>0.936683</td>\n",
       "    </tr>\n",
       "    <tr>\n",
       "      <th>14</th>\n",
       "      <td>svm_basic_tfidf</td>\n",
       "      <td>0.939040</td>\n",
       "      <td>0.936955</td>\n",
       "    </tr>\n",
       "    <tr>\n",
       "      <th>15</th>\n",
       "      <td>svm_prof</td>\n",
       "      <td>0.939148</td>\n",
       "      <td>0.937074</td>\n",
       "    </tr>\n",
       "    <tr>\n",
       "      <th>16</th>\n",
       "      <td>svm_cap</td>\n",
       "      <td>0.939473</td>\n",
       "      <td>0.937402</td>\n",
       "    </tr>\n",
       "    <tr>\n",
       "      <th>17</th>\n",
       "      <td>svm_combined</td>\n",
       "      <td>0.506161</td>\n",
       "      <td>0.522521</td>\n",
       "    </tr>\n",
       "    <tr>\n",
       "      <th>18</th>\n",
       "      <td>svm_lex</td>\n",
       "      <td>0.919693</td>\n",
       "      <td>0.917141</td>\n",
       "    </tr>\n",
       "    <tr>\n",
       "      <th>19</th>\n",
       "      <td>svm_STOP</td>\n",
       "      <td>0.932231</td>\n",
       "      <td>0.930108</td>\n",
       "    </tr>\n",
       "    <tr>\n",
       "      <th>20</th>\n",
       "      <td>svm_len</td>\n",
       "      <td>0.506161</td>\n",
       "      <td>0.522521</td>\n",
       "    </tr>\n",
       "    <tr>\n",
       "      <th>21</th>\n",
       "      <td>mn_bayes</td>\n",
       "      <td>0.506161</td>\n",
       "      <td>0.522521</td>\n",
       "    </tr>\n",
       "    <tr>\n",
       "      <th>22</th>\n",
       "      <td>mn_bayes</td>\n",
       "      <td>0.922936</td>\n",
       "      <td>0.923292</td>\n",
       "    </tr>\n",
       "  </tbody>\n",
       "</table>\n",
       "</div>"
      ],
      "text/plain": [
       "              model  accuracy        f1\n",
       "0             Dummy  0.500000  0.000000\n",
       "1          word2vec  0.915262  0.910092\n",
       "2      kmeans_tfidf  0.611003  0.357666\n",
       "3   rfc_basic_tfidf  0.942283  0.939538\n",
       "4          rfc_STOP  0.944228  0.941457\n",
       "5           rfc_pro  0.942715  0.940032\n",
       "6          rfc_prof  0.942823  0.940043\n",
       "7           rfc_cap  0.941094  0.938300\n",
       "8           rfc_len  0.942931  0.940231\n",
       "9           rfc_lex  0.943147  0.940390\n",
       "10     rfc_combined  0.944228  0.941390\n",
       "11     rfc_lex_prof  0.943364  0.940617\n",
       "12          rfc_top  0.944877  0.942242\n",
       "13          svm_pro  0.938716  0.936683\n",
       "14  svm_basic_tfidf  0.939040  0.936955\n",
       "15         svm_prof  0.939148  0.937074\n",
       "16          svm_cap  0.939473  0.937402\n",
       "17     svm_combined  0.506161  0.522521\n",
       "18          svm_lex  0.919693  0.917141\n",
       "19         svm_STOP  0.932231  0.930108\n",
       "20          svm_len  0.506161  0.522521\n",
       "21         mn_bayes  0.506161  0.522521\n",
       "22         mn_bayes  0.922936  0.923292"
      ]
     },
     "execution_count": 142,
     "metadata": {},
     "output_type": "execute_result"
    }
   ],
   "source": [
    "new_row = {'model': 'mn_bayes', 'accuracy': accuracy, 'f1': f1}\n",
    "results = results.append(new_row, ignore_index=True)\n",
    "results"
   ]
  },
  {
   "cell_type": "code",
   "execution_count": 143,
   "metadata": {
    "scrolled": true
   },
   "outputs": [
    {
     "data": {
      "image/png": "[encoded data removed]",
      "text/plain": [
       "<Figure size 432x288 with 1 Axes>"
      ]
     },
     "metadata": {},
     "output_type": "display_data"
    }
   ],
   "source": [
    "mat = confusion_matrix(y_test_lem, mnb_test_preds)\n",
    "sns.heatmap(mat.T, square=True, annot=True, fmt='d', cbar=False,\n",
    "            xticklabels=['Right', 'Left'], yticklabels=['Right', 'Left'])\n",
    "plt.xlabel('true label')\n",
    "plt.ylabel('predicted label');"
   ]
  },
  {
   "cell_type": "code",
   "execution_count": 144,
   "metadata": {},
   "outputs": [
    {
     "data": {
      "text/html": [
       "<div>\n",
       "<style scoped>\n",
       "    .dataframe tbody tr th:only-of-type {\n",
       "        vertical-align: middle;\n",
       "    }\n",
       "\n",
       "    .dataframe tbody tr th {\n",
       "        vertical-align: top;\n",
       "    }\n",
       "\n",
       "    .dataframe thead th {\n",
       "        text-align: right;\n",
       "    }\n",
       "</style>\n",
       "<table border=\"1\" class=\"dataframe\">\n",
       "  <thead>\n",
       "    <tr style=\"text-align: right;\">\n",
       "      <th></th>\n",
       "      <th>model</th>\n",
       "      <th>accuracy</th>\n",
       "      <th>f1</th>\n",
       "    </tr>\n",
       "  </thead>\n",
       "  <tbody>\n",
       "    <tr>\n",
       "      <th>12</th>\n",
       "      <td>rfc_top</td>\n",
       "      <td>0.944877</td>\n",
       "      <td>0.942242</td>\n",
       "    </tr>\n",
       "    <tr>\n",
       "      <th>4</th>\n",
       "      <td>rfc_STOP</td>\n",
       "      <td>0.944228</td>\n",
       "      <td>0.941457</td>\n",
       "    </tr>\n",
       "    <tr>\n",
       "      <th>10</th>\n",
       "      <td>rfc_combined</td>\n",
       "      <td>0.944228</td>\n",
       "      <td>0.941390</td>\n",
       "    </tr>\n",
       "    <tr>\n",
       "      <th>11</th>\n",
       "      <td>rfc_lex_prof</td>\n",
       "      <td>0.943364</td>\n",
       "      <td>0.940617</td>\n",
       "    </tr>\n",
       "    <tr>\n",
       "      <th>9</th>\n",
       "      <td>rfc_lex</td>\n",
       "      <td>0.943147</td>\n",
       "      <td>0.940390</td>\n",
       "    </tr>\n",
       "    <tr>\n",
       "      <th>8</th>\n",
       "      <td>rfc_len</td>\n",
       "      <td>0.942931</td>\n",
       "      <td>0.940231</td>\n",
       "    </tr>\n",
       "    <tr>\n",
       "      <th>6</th>\n",
       "      <td>rfc_prof</td>\n",
       "      <td>0.942823</td>\n",
       "      <td>0.940043</td>\n",
       "    </tr>\n",
       "    <tr>\n",
       "      <th>5</th>\n",
       "      <td>rfc_pro</td>\n",
       "      <td>0.942715</td>\n",
       "      <td>0.940032</td>\n",
       "    </tr>\n",
       "    <tr>\n",
       "      <th>3</th>\n",
       "      <td>rfc_basic_tfidf</td>\n",
       "      <td>0.942283</td>\n",
       "      <td>0.939538</td>\n",
       "    </tr>\n",
       "    <tr>\n",
       "      <th>7</th>\n",
       "      <td>rfc_cap</td>\n",
       "      <td>0.941094</td>\n",
       "      <td>0.938300</td>\n",
       "    </tr>\n",
       "    <tr>\n",
       "      <th>16</th>\n",
       "      <td>svm_cap</td>\n",
       "      <td>0.939473</td>\n",
       "      <td>0.937402</td>\n",
       "    </tr>\n",
       "    <tr>\n",
       "      <th>15</th>\n",
       "      <td>svm_prof</td>\n",
       "      <td>0.939148</td>\n",
       "      <td>0.937074</td>\n",
       "    </tr>\n",
       "    <tr>\n",
       "      <th>14</th>\n",
       "      <td>svm_basic_tfidf</td>\n",
       "      <td>0.939040</td>\n",
       "      <td>0.936955</td>\n",
       "    </tr>\n",
       "    <tr>\n",
       "      <th>13</th>\n",
       "      <td>svm_pro</td>\n",
       "      <td>0.938716</td>\n",
       "      <td>0.936683</td>\n",
       "    </tr>\n",
       "    <tr>\n",
       "      <th>19</th>\n",
       "      <td>svm_STOP</td>\n",
       "      <td>0.932231</td>\n",
       "      <td>0.930108</td>\n",
       "    </tr>\n",
       "    <tr>\n",
       "      <th>22</th>\n",
       "      <td>mn_bayes</td>\n",
       "      <td>0.922936</td>\n",
       "      <td>0.923292</td>\n",
       "    </tr>\n",
       "    <tr>\n",
       "      <th>18</th>\n",
       "      <td>svm_lex</td>\n",
       "      <td>0.919693</td>\n",
       "      <td>0.917141</td>\n",
       "    </tr>\n",
       "    <tr>\n",
       "      <th>1</th>\n",
       "      <td>word2vec</td>\n",
       "      <td>0.915262</td>\n",
       "      <td>0.910092</td>\n",
       "    </tr>\n",
       "    <tr>\n",
       "      <th>2</th>\n",
       "      <td>kmeans_tfidf</td>\n",
       "      <td>0.611003</td>\n",
       "      <td>0.357666</td>\n",
       "    </tr>\n",
       "    <tr>\n",
       "      <th>17</th>\n",
       "      <td>svm_combined</td>\n",
       "      <td>0.506161</td>\n",
       "      <td>0.522521</td>\n",
       "    </tr>\n",
       "    <tr>\n",
       "      <th>20</th>\n",
       "      <td>svm_len</td>\n",
       "      <td>0.506161</td>\n",
       "      <td>0.522521</td>\n",
       "    </tr>\n",
       "    <tr>\n",
       "      <th>21</th>\n",
       "      <td>mn_bayes</td>\n",
       "      <td>0.506161</td>\n",
       "      <td>0.522521</td>\n",
       "    </tr>\n",
       "    <tr>\n",
       "      <th>0</th>\n",
       "      <td>Dummy</td>\n",
       "      <td>0.500000</td>\n",
       "      <td>0.000000</td>\n",
       "    </tr>\n",
       "  </tbody>\n",
       "</table>\n",
       "</div>"
      ],
      "text/plain": [
       "              model  accuracy        f1\n",
       "12          rfc_top  0.944877  0.942242\n",
       "4          rfc_STOP  0.944228  0.941457\n",
       "10     rfc_combined  0.944228  0.941390\n",
       "11     rfc_lex_prof  0.943364  0.940617\n",
       "9           rfc_lex  0.943147  0.940390\n",
       "8           rfc_len  0.942931  0.940231\n",
       "6          rfc_prof  0.942823  0.940043\n",
       "5           rfc_pro  0.942715  0.940032\n",
       "3   rfc_basic_tfidf  0.942283  0.939538\n",
       "7           rfc_cap  0.941094  0.938300\n",
       "16          svm_cap  0.939473  0.937402\n",
       "15         svm_prof  0.939148  0.937074\n",
       "14  svm_basic_tfidf  0.939040  0.936955\n",
       "13          svm_pro  0.938716  0.936683\n",
       "19         svm_STOP  0.932231  0.930108\n",
       "22         mn_bayes  0.922936  0.923292\n",
       "18          svm_lex  0.919693  0.917141\n",
       "1          word2vec  0.915262  0.910092\n",
       "2      kmeans_tfidf  0.611003  0.357666\n",
       "17     svm_combined  0.506161  0.522521\n",
       "20          svm_len  0.506161  0.522521\n",
       "21         mn_bayes  0.506161  0.522521\n",
       "0             Dummy  0.500000  0.000000"
      ]
     },
     "execution_count": 144,
     "metadata": {},
     "output_type": "execute_result"
    }
   ],
   "source": [
    "results.sort_values(by='accuracy', ascending=False)"
   ]
  },
  {
   "cell_type": "code",
   "execution_count": null,
   "metadata": {},
   "outputs": [],
   "source": []
  },
  {
   "cell_type": "markdown",
   "metadata": {},
   "source": [
    "# Choose best model, see where we were wrong"
   ]
  },
  {
   "cell_type": "code",
   "execution_count": 86,
   "metadata": {},
   "outputs": [
    {
     "data": {
      "text/plain": [
       "9252"
      ]
     },
     "execution_count": 86,
     "metadata": {},
     "output_type": "execute_result"
    }
   ],
   "source": [
    "len(y_test_lem.index)"
   ]
  },
  {
   "cell_type": "code",
   "execution_count": 82,
   "metadata": {},
   "outputs": [
    {
     "data": {
      "text/plain": [
       "Int64Index([ 4819, 11234, 17226,  4357, 11350, 10818, 21730,  4707, 22800,\n",
       "            26161,\n",
       "            ...\n",
       "             1230, 16373,  2870, 12361, 19630,   202, 21350, 21281, 17214,\n",
       "            25403],\n",
       "           dtype='int64', length=9252)"
      ]
     },
     "execution_count": 82,
     "metadata": {},
     "output_type": "execute_result"
    }
   ],
   "source": [
    "y_test_lem.index"
   ]
  },
  {
   "cell_type": "code",
   "execution_count": 76,
   "metadata": {},
   "outputs": [
    {
     "name": "stderr",
     "output_type": "stream",
     "text": [
      "<ipython-input-76-6c6a55c94763>:2: SettingWithCopyWarning: \n",
      "A value is trying to be set on a copy of a slice from a DataFrame.\n",
      "Try using .loc[row_indexer,col_indexer] = value instead\n",
      "\n",
      "See the caveats in the documentation: https://pandas.pydata.org/pandas-docs/stable/user_guide/indexing.html#returning-a-view-versus-a-copy\n",
      "  test['pred'] = rf_test_preds\n",
      "<ipython-input-76-6c6a55c94763>:3: SettingWithCopyWarning: \n",
      "A value is trying to be set on a copy of a slice from a DataFrame.\n",
      "Try using .loc[row_indexer,col_indexer] = value instead\n",
      "\n",
      "See the caveats in the documentation: https://pandas.pydata.org/pandas-docs/stable/user_guide/indexing.html#returning-a-view-versus-a-copy\n",
      "  test['pred'] = test['pred'].apply(lambda x: 'right' if x == 1 else 'left')\n"
     ]
    }
   ],
   "source": [
    "test = df.iloc[y_test_lem.index]\n",
    "test['pred'] = rf_test_preds\n",
    "test['pred'] = test['pred'].apply(lambda x: 'right' if x == 1 else 'left')"
   ]
  },
  {
   "cell_type": "code",
   "execution_count": 77,
   "metadata": {
    "scrolled": true
   },
   "outputs": [],
   "source": [
    "guessed_right_wrong = test[(test.comment_class != test.pred) & (test.pred == 'right')]\n",
    "guessed_right_wrong.reset_index(drop=True, inplace=True)\n",
    "\n",
    "guessed_left_wrong = test[(test.comment_class != test.pred) & (test.pred == 'left')]\n",
    "guessed_left_wrong.reset_index(drop=True, inplace=True)\n"
   ]
  },
  {
   "cell_type": "code",
   "execution_count": 78,
   "metadata": {},
   "outputs": [
    {
     "name": "stdout",
     "output_type": "stream",
     "text": [
      "GUESSED RIGHT BUT WE WERE WRONG\n",
      "_______________________________\n",
      "It’s a sad time in America where we can’t show support for our president or risk being called racist.\n",
      "----------\n",
      "In my 8th grade class there was a class you could choose to take and part of it they taught us about guns. At the end of the firearm segment we got to go to a range and shoot .22s It was a very fun class.\n",
      "----------\n",
      "How is somebody who got something like 140 votes in New Hampshire on a ticket to be a VP? Nobody liked her 6 months ago.\n",
      "----------\n",
      "\n",
      "\n",
      "    The Seattle police chief is sending out letters telling residents: \"We cannot enforce the law. You are on your own.\" pic.twitter.com/89jyezSBMS\n",
      "\n",
      "    — Christopher F. Rufo (@realchrisrufo) July 25, 2020\n",
      "----------\n",
      "Love Colion Noir's stuff, but another thing I wish he would have added in the video is the fact that [per the FBI's own stats](https://ucr.fbi.gov/crime-in-the-u.s/2018/crime-in-the-u.s.-2018/tables/expanded-homicide-data-table-8.xls), ***ALL*** rifle types ***combined***, not just semi-auto AR's and AK's, but bolt, lever, muzzle loader, etc. only account for less than 400 deaths a year. That's in a nation of 330,000,000+ people, 150,000,000+ gun owners and an estimated 17,000,000 AR and AK style rifles. There is no epidemic of of AR15 related homicides. The CDC stats show that more people die from falling out of bed than being shot by an AR15. (around 800 a year) \n",
      "\n",
      "Biden's plan to implement an 'assault weapons' ban will do nothing to end 'gun violence' or deaths, because the data doesn't support that they are even an issue to begin with. Once the ban is secured and the numbers don't move, what do you think will be next? Handguns cause the majority of firearm related homicide. It doesn't take a PhD to know that politicians will argue that handguns will have to go. Then shotguns once criminals turn to those.\n",
      "----------\n",
      "I'm so sick of left leaning friends or family members telling me that I'm being paranoid. They keep saying \"The dems won't take your guns, they won't turn you into a felon, they won't do anything. They're just pandering and you're being paranoid.\" It's like they haven't listened to their platform at all just go with \"Orange man bad, vote blue no matter who.\"\n",
      "----------\n",
      "Whew, for a minute there I was worried I about my Armalite semi-automatic rifle with standard capacity magazines, good thing he said weapons of war, I don't plan on bombing any schools, so maybe I don't need a preditor drone. Still kinda bummed though, I still want the option to buy one. To really buy weapons of war is there like a number I can call to have General Dynamics ship a tomahawk missile and nuclear submarine?\n",
      "----------\n",
      "My thoughts are Biden is going to win, but there is a fair chance he won't pack the court. I think it's almost a given that ACB will be confirmed. But I also think the Dems are going to take the Senate.\n",
      "\n",
      "With Democrats controlling both sides of Congress and no Republican president to veto, they will have an open path to ramming all sorts of gun control bullshit down our throats. The only real hope we have at mitigating damage and protecting some semblance of the 2A we know and love is if SCOTUS takes some seminal 2A cases and makes decisions that will cockblock things like a sweeping \"assault weapons\" ban or UBC etc.\n",
      "\n",
      "I think the 2A is going to be attacked on every front and like never before. They will be going after carry laws on the state by state level, UBC, \"assault weapons\", mag limits, pistol braces, you name it.  It's unfortunate that the NRA is embroiled in controversy and tangled in red tape when we need them most. We can only hope SAF, GOA, FPC and the rest can pick up the massive slack.  I'm not looking forward to the next few years as a gun owner.\n",
      "\n",
      "There is of course a chance Trump will win, but I'm not optimistic based on anything I'm seeing and that comes with it's own set of concerns I won't get into here anyway...\n",
      "----------\n",
      "> The disparities between Asians and whites, between Indians and whites, and **between Nigerian immigrants and whites** all go studiously ignored since these groups generally outperform whites in income and educational attainment.\n",
      "\n",
      "I'd like to see stats on Nigerians.  I know quite a few, since our church has a branch there. \n",
      " They are all hard working and love the US, so I wouldn't be surprised.\n",
      "----------\n",
      "1) Freedom. It's about the ability for the people to maintain power over the govt, nothing else. Not hunting, not home defense. \n",
      "\n",
      "\n",
      "2) The EU thinks it's citizens are irresponsible children. \n",
      "\n",
      "\n",
      "3) Yes. And anywhere else. \n",
      "\n",
      "\n",
      "4) No, but also I don't care. See #1. \n",
      "\n",
      "\n",
      "5) Always, inside too. \n",
      "\n",
      "\n",
      "6) Yes, being equal in force regardless of stature with the criminals that don't obey laws is a good thing.\n",
      "----------\n",
      "The deal is, fear is now a virtue in the US. Being scared out of your mind, to the point you can only be saved by overwhelming government restrictions, is considered a good thing. People will literally wear muzzles to signal their fear and willingness to comply with any and every edict tossed out by some tinpot dictator.\n",
      "----------\n",
      "Lol I bought two pistol braces today and I don’t even have a lower to put them on.... but fuck the atf so.... \n",
      "\n",
      "Now to order a 3d printer and start printing out some yankee boogles because non compliance is the first step to reclaiming our true 2A rights as human beings an as Americans.\n",
      "----------\n",
      "The sale still has to be approved by the bankruptcy court. The company’s creditors could oppose the sale in hopes of a better offer.\n",
      "\n",
      "Another group that will surely have something to say is the Sandy Hook plaintiffs who’ve already expressed concern that the bankruptcy will let Remington off the hook in their lawsuit’s attempt to claim the company somehow illegally marketed the rifle used by Adam Lanza. Don’t look for the court to give much weight to that argument.\n",
      "----------\n",
      "If it was a mass shooting (its not) as they claim, wouldn't everyone who was at the riot and not killed be a survivor? They call David Hogg a school  shooting survivor.\n",
      "----------\n",
      "Gotta get ahead of the curve. If Biden gets elected then everyone needs to make the Virginia rally look small. We need to make it clear that he can't just wipe away our rights with the stroke of a pen.\n",
      "----------\n",
      "Lmfao she’s crazy. The article says that the 2A doesn’t apply to state and local laws. Yes, the constitution is actually not binding at all.\n",
      "----------\n",
      "Wait securing your home is a right? If we only had something in the constitution to make sure the government couldn't infringe on it.\n",
      "----------\n",
      "Having possession of it is one thing. Actually doing something with the information it contains is entirely different. In other words, get off your ass, FBI.\n",
      "----------\n",
      "Biased as hell article, but if you can read past their support of the riots, its very encouraging.\n",
      "\n",
      "Its great to see people standing up to the commies, and preventing the vandalism, looting, assaults, murders, and arson happening in leftist held territory.\n",
      "----------\n",
      "Legal gun owners aren't responsible for the actions of criminals. Regardless of what \"side\" they are on.\n",
      "----------\n",
      "Had to get rid of those ~~job killing regulations~~ life saving protections.  Profits are all that matters.\n",
      "----------\n",
      "As someone who lives in San Diego, I want to shake this man’s hand. Benitez is one hell of a judge on 2A. Idk about his other dealings. But no other judge has granted me the opportunity to buy behind enemy lines.\n",
      "----------\n",
      "They win because they move slowly. Bit by bit. Never doing enough in one go to motivate armed resistance. We're always willing to give in because each step is so small it doesn't seem worth dying for.  This is their strategy and it's working.\n",
      "----------\n",
      "[Top post ](https://np.reddit.com/r/technology/comments/jdlpqm/facebook_reportedly_stymied_traffic_to/) from one of the largest sub have people believing big tech are censoring the left, and people actually believe it.   \n",
      "\n",
      "So sad to see 21st century citizens still being so easily duped\n",
      "----------\n",
      "Outside billionaire money influencing local politics. When a liberal organization does it everyone sings their praises. But when the NRA (not saying I like them) does the same the media loses their mind. The double standards I tell you.\n",
      "----------\n",
      "White conservatives sucker punching a black free speech protester would be front page MSM news until election day. This story will be forgotten by Monday.\n",
      "----------\n",
      "I love this sub for informing me of the 2a saving lives. These things often go completely unnoticed in main stream media. It’s nice to see that what I believe in does actually save real lives.\n",
      "----------\n",
      "The BS thing about that article is ask any member of Antifa if they are Antifa and they will say no because there's no such membership. If you ask them why Antifa is a thing, they'll say, \"If you're anti-fascist, then you're Antifa, there's no membership.\" It's a nonclassification. Antifa members only accept membership when it makes them look good.\n",
      "----------\n",
      "I love and hate America because of stuff like this. Eastern European countries have seen how bad it truly gets and they never wanna go back to things like communism and not being able to protect yourself, America however has not had these issues. We’ve never experienced a totalitarian regime, we’ve never experienced a fascist or communist occupation, the worst it’s ever been here was the Great Depression. These anti gun people just don’t know what they’re trying to take away.\n",
      "----------\n",
      "The whole argument misses the point\n",
      "\n",
      "“A well regulated Militia, being necessary to the security of a free State, the right of the people to keep and bear Arms, shall not be infringed.”\n",
      "\n",
      "State militia are necessary. Therefore; the right to keep and bear arms, shall not be infringed. \n",
      "\n",
      "Stated another way. \n",
      "\n",
      "Because guns are necessary for the defense of freedom, the right to keep and bear arms shall not be infringed. \n",
      "\n",
      "It doesn't take a linguist to understand the 2nd amendment. It is willful misinterpretation to say the right to guns requires being in a militia. It's started exactly the other way around. Because guns are necessary to a militia, and a militia is necessary to keep freedom, the right to own guns shall not be infringed.\n",
      "----------\n",
      "This is what the left is creating. They have unpersoned Conservatives and made it okay to treat them as less than human. Just the way this group is acting is sickening.. they are mocking him for \"getting hit by a girl\" yet we all know if he did anything in retaliation the entire group behind the camera would be all over him and would forever paint him as a woman abuser. Shit like this is what the left should be trying to prevent, not encourage.\n",
      "----------\n",
      "This FBI corruption is fairly new to me.\n",
      "\n",
      "So Obama creates an FBI to try and blame the right.  The FBI comes out with a report that says the most violence comes from the right.  Obama says Trump is tied with white supremacists and keeps this conspiracy going.  \n",
      "\n",
      "Weeks before the election, “white supremacists” are caught and all over the news, but details about the kidnappers going to BLM riots are left out.  It turns out that the FBI pushed this to happen.  So that they can validate their report.\n",
      "\n",
      "That’s kind of the summary as it relates to this election?\n",
      "----------\n",
      "They won't ever admit inner city gang violence is a problem because of inner city gangs. They will burn down this country before they will admit that.\n",
      "----------\n",
      "I have lots of Democrat friends who hunt, self & family protect with firearms who are roundly ignored by their party on 2A issues.\n",
      "----------\n",
      "Instead of answering each individual lwt me just explain in detail why many Americans own firearms. For those unfamiliar with firearms it can be hard to conceive of legitimate uses for them, but in America firearms are used responsibly by law abiding citizens for legitimate purposes within the confines of the law. Thise reasons include, but are not limited to the following:\n",
      "\n",
      "* **Police Have no Legal Duty to Protect You**\n",
      "\n",
      "The job of law enforcement is to enforce laws, as they see fit. Multiple cases, up to the Supreme Court, have established that law enforcement has no duty to protect you.\n",
      "\n",
      "[Warren v DC](https://en.m.wikipedia.org/wiki/Warren_v._District_of_Columbia)\n",
      "\n",
      "[Castle Rock v Gonzalez](https://en.m.wikipedia.org/wiki/Town_of_Castle_Rock_v._Gonzales)\n",
      "\n",
      "[DeShaney v Winnebago County](https://en.m.wikipedia.org/wiki/DeShaney_v._Winnebago_County)\n",
      "\n",
      "[Lozito v NY](http://decisions.courts.state.ny.us/fcas/fcas_docs/2013JUL/3001010882012002SCIV.pdf)\n",
      "\n",
      "[And most recently in the Parkland shooting.](https://www.usatoday.com/story/news/nation/2018/12/19/parkland-shooting-judge-school-cops-no-duty-protect-kids/2360683002/)\n",
      "\n",
      "The whole to *\"protect and serve\"* [is just a slogan that came from a PR campaign](http://www.lapdonline.org/history_of_the_lapd/content_basic_view/1128).\n",
      "\n",
      "* **If Police do Come When Called the Average  Response Time is 11 to 18 Minutes but can be up to 24 Hours**\n",
      "\n",
      "[While the average police response time in America is 11 minutes it can take as long as 1 to 24 hours if they respond at all.](http://www.bjs.gov/content/pub/pdf/cvus/current/cv08107.pdf)\n",
      "\n",
      "[According to the National Sheriff's Association this average response time is longer at 18 minuets.](https://www.sheriffs.org/content/embracing-technology-decrease-law-enforcement-response-time)\n",
      "\n",
      "And we've had recent events such as the [national 911 outage](https://www.washingtonpost.com/news/post-nation/wp/2017/03/09/fcc-to-investigate-nationwide-911-outage/) Which can keep emergency services from even receiving your call for help.\n",
      "\n",
      "* **Gun are Used Defensively by American Citizens Everyday**\n",
      "\n",
      "Due to its nature figures on defensive gun use are hard to nail down. Typically when a firearm is used defensively no one is hurt and rarely is anyone killed. Often times simply showing you are armed is enough to end a crime in  progress. Looking at the numbers even the [Violence Policy Center](http://www.vpc.org/studies/justifiable19.pdf), a gun control advocacy group, reports 177,330 instances of self defense against a violent crime with a firearm between 2014 and 2016. This translates to 56,110 violent crimes prevented annually on the low scale. This also doesn't include property crimes which include home burglaries which increase that number to over 300,000 defensive gun uses between 2014 to 2016 or over 100,000 annually.\n",
      "\n",
      "This ranges upwards to 500k to 3 million according to the [CDC Report Priorities for Research to Reduce the Threat of Firearm-Related Violence](http://www.nap.edu/read/18319/chapter/3). \n",
      "\n",
      "Government agencies from the CDC, BJS, and FBI have found:\n",
      "\n",
      "[\"Almost all national survey estimates indicate that defensive gun uses by victims are at least as common as offensive uses by criminals...\" & \" Studies that directly assessed the effect of actual defensive uses of guns, i.e., incidents in which a gun was “used” by the crime victim in the sense of attacking or threatening an offender, have found consistently lower injury rates among gun-using crime victims compared with victims who used other self-protective strategies...\"](http://www.nap.edu/read/18319/chapter/3).\n",
      "\n",
      "[\"A fifth of the victims defending themselves with a firearm suffered an injury, compared to almost half of those who defended themselves with weapons other than a firearm or who had no weapon.\"](https://www.bjs.gov/content/pub/ascii/hvfsdaft.txt)\n",
      "\n",
      "[According to the BJS from 2007-11 there were 235,700 violent crime victimizations where the victim used a firearm to defend themselves against their assailant.](https://www.bjs.gov/content/pub/pdf/fv9311.pdf)\n",
      "\n",
      "[The FBI Active Shooter Report for 2016 to 2017 specifically calls out multiple times an armed civilian stopped an Active Shooter.](https://www.fbi.gov/file-repository/active-shooter-incidents-us-2016-2017.pdf/view)\n",
      "\n",
      "Also while defensive gun use is common less than 0.4% of those uses result in a fatality.\n",
      "\n",
      "* **Guns are Used to Defend People, Pets, and Livestock Against Dangerous Fauna**\n",
      "\n",
      "In rural, and even urban communities, firearms are used to defend People, Pets, and Livestock from all manner of dangerous and invasive species ranging from feral dogs, coyotes, Bob cats, mountain lions, bears, and rabid animals.\n",
      "\n",
      "[According to the USDA over 200,000 cattle are lost to predators in America each year costing farmers and ranchers nearly 100 million dollars annually.](http://usda.mannlib.cornell.edu/usda/current/CattDeath/CattDeath-05-12-2011.pdf) \n",
      "\n",
      "[Feral Hogs have been identified by the USDA as: \"a dangerous, destructive, invasive species\". \n",
      "Their impact includes \"$1.5 billion each year in damages and control costs... & ...threatening the health of people, wildlife, pets, and other domestic animals\".](https://www.aphis.usda.gov/aphis/ourfocus/wildlifedamage/operational-activities/feral-swine)\n",
      "\n",
      "[\"Hunting continues to be the most effective, cost efficient and socially acceptable method of population control.\"](http://congressionalsportsmen.org/policies/state/white-tailed-deer-management)\n",
      "\n",
      "[\"Natural predators as well as hunters play a role in keep deer populations at or below carrying capacity of the land.\"](https://tpwd.texas.gov/landwater/land/habitats/southtx_plain/habitat_management/gun.phtml)\n",
      "\n",
      "[\"The effective use of the legal hunting season is the best way to control deer populations.\"](https://extension.illinois.edu/deer/damage.cfm?SubCat=8890)\n",
      "\n",
      "[The US Fish and Wildlife Service even employs full time hunters to control populations like those of feral Hogs.](https://www.fws.gov/southeast/articles/hunting-the-wild-hog/)\n",
      "\n",
      "* **Hunting Provides a Cheap Source of Meat for Low Income Families Especially in Rural Communities.**\n",
      "\n",
      "Hunting is crucial for America's rural poor providing a renewable source of Meat for a low initial investment cost while providing a revenue source from wealthier hunters.\n",
      "\n",
      "[Alaska Even has a great example of modern subsistence hunting.](http://www.adfg.alaska.gov/index.cfm?adfg=subsistence.hunting)\n",
      "\n",
      "* **Firearms are Used for Sporting and Hobby Purposes the World up to the Olympic Level.**\n",
      "\n",
      "Sport and Hobby shooting is fun and a useful skill found throughout the world. This includes multiple Olympic shooting events.\n",
      "\n",
      "[Shooting Events at the Summer Olympics.](https://www.olympic.org/shooting)\n",
      "\n",
      "* **Death of Citizens at the hands of their own governments in the 20th Century**\n",
      "\n",
      "[Oppressive regimes through out the world, including major European nations, were responsible for the deaths of over 200 million of their own citizens in the 20th Century alone.](https://en.m.wikipedia.org/wiki/Democide)\n",
      "\n",
      "Including major European and East Asian nations. An armed populous provides a significant layer of defense against oppressive regimes abusing their populous.\n",
      "\n",
      "These are just some of the many legitimate reasons for a law abiding citizen to own firearms. Besides these there are many more not mentioned here but these remain the core reasons modern Americans own firearms.\n",
      "----------\n",
      "Just curiosity:  Are there any states/nations that are generally considered to have been tyrannical/police that DIDN'T practice weapon control?\n",
      "\n",
      "Anything unique about such states - if they existed at all?\n",
      "----------\n",
      "I want so badly for this to be a strong sign for our side, but how seriously can we take this? Thoughts?\n",
      "----------\n",
      "Nothing is sadder than me seeing the bootlickers in r/CAguns thinking of the best way they can bend over and comply\n",
      "----------\n",
      "https://imgur.com/a/kEdWKxr\n",
      "\n",
      "Here's a clearer picture of some of the action\n",
      "\n",
      "Another:https://i.imgur.com/DPRfHlv.jpg\n",
      "----------\n",
      "Practice with it. The first time I shot a handgun I hit the dirt maybe 5 yards in front of me. I don't think it was before the first 1,000 rounds that I felt truly confident with my handgun. It is a perishable skill, much like riding a bike, you don't want to be shaky when you need to be good in that moment.\n",
      "----------\n",
      "This is a good and perceptive article. A True Christian is hated by those who worship and walk with this world, with those who relish the sweet nothings of this world rather than the work of the Father, the Son and the Holy Spirit. It's been true since the beginning and this is merely another example of it.\n",
      "\n",
      "Those that hold the truth rather than convenient lies are the greatest enemy to those who choose the world over Christ. The left is merely another example of that.\n",
      "----------\n",
      "All I know is that most of us are a natural disaster away from having to be responsible for our own home defense.  I experienced this about a month ago after Hurricane Sally.  Spotty cell phone service, no landline, no electricity.\n",
      "\n",
      "My wife felt much more secure when I took the 12-gauge out.\n",
      "----------\n",
      "\"We call this a bullpup because this bitch got kick to it\"\n",
      "\n",
      "Lol.  So, no, not a shorty, it's a full size rifle.  no, it's not a bullpup since the magazine and action are forward of the grip, and no that bitch don't got kick to it.\n",
      "\n",
      "Bought that weapon in 1990 did you?  No you didn't.  You can't have bought an A4 pattern rifle in 1990 because it didn't exist yet.  No flash hider and ground off bayonet lug makes that an AWB era rifle, so 1994 to 2004.  Since the A4 didn't appear until 1996, that makes it a 1996 to 2004 rifle.  Not that it really matter since this man is a fool, but firearms trivia is always fun.\n",
      "\n",
      "And no, he didn't fire the weapon.  He just mortared it.  When you strike an AR on a surface with the stock, the bolt will continue to the rear because physics.  This will move it off the bolt hold, which retracts because of it's spring.  When physics stops playing with the bolt and it's own spring pushes it back up, there is no more bolt hold in the way and the action closes.  This isn't a problem in the real world because 1) It won't set off a round any more than normally chambering one would -and- 2) you have to be a real moron to walk around with a rifle that has the action locked open.\n",
      "\n",
      "\n",
      "Lol, wait.... there are guys blowing their heads off every day in basic training because they bang their rifles on the ground?  Okay, I'm done with the internet for today.\n",
      "----------\n",
      "John Kasich: There's nothing at all to suggest voter fraud is a real thing.\n",
      "\n",
      "I hate corrupt centrist RINOs more than I hate progressives. At least AOC and the Squad show you who they are.\n",
      "----------\n",
      "Oh, that's a big no-no! Posting that will part the curtain on the parallel universe that Facebook and other leftist, high-tech elites would rather keep drawn.\n",
      "----------\n",
      "LMAO!!\n",
      "\n",
      "Guaranteed that the people that said that opinion “isn’t unpopular” at are the same ones that were having a conniption over kenosha Kyle ventilating a pedo and another felon in self defense bEcaUSE hE’S 17\n",
      "----------\n",
      "I just dont understand why anybody lives in California.  Hopefully the big one comes along soon and flushes that turd out to sea.\n",
      "----------\n",
      "Nope. I haven't.  Outside of major cities and gangs, I think fewer people than anyone knows are actually involved in that stuff.\n",
      "----------\n",
      "\"So Mr. Wick, the interesting thing about this French pattern rifle is actually the paint. It was found during numerous field tests that a black paint with a lacquered finish hold up through many different elemental factors. You'll notice here by the trigger that the trigger guard is in a rather unique shape. The person who designed the rifle actually had his two fingers fused together at birth and had expanded the trigger assembly to accompany his grip which also made him change the shape for the trigger guard. The barrel length is cut to 17.63 inches, which was a weird length to use but was proved to increase accuracy because it was the minimal amount of distance the bullet needed to travel with the twist rate of the unique rifling the barrel has. Wait, dont grab that modern automatic rifle off the wall and leave, come back here! I havent even broken down the bolt assembly yet!\"\n",
      "----------\n",
      "No problem. The girls who lose to the boys can just \"identify\" themselves as the winner, right? Because that's all that matters now. So long as you feel like you won, then reality is irrelevant.\n",
      "----------\n"
     ]
    }
   ],
   "source": [
    "print(\"GUESSED RIGHT BUT WE WERE WRONG\")\n",
    "print(\"_______________________________\")\n",
    "for i in range(0,50):\n",
    "    print(guessed_right_wrong.iloc[i].body)\n",
    "    print('----------')"
   ]
  },
  {
   "cell_type": "code",
   "execution_count": 79,
   "metadata": {},
   "outputs": [
    {
     "name": "stdout",
     "output_type": "stream",
     "text": [
      "GUESSED LEFT BUT WE WERE WRONG\n",
      "______________________________\n",
      "Actively denying life saving information\n",
      "\n",
      "Actively encouraging armed protests\n",
      "\n",
      "Admits to using death squads\n",
      "\n",
      "Says he will flee the country if not re-elected\n",
      "----------\n",
      "> There’s a frenzy underway in Washington over whether we’ll get another round of stimulus spending to help Americans still struggling from the economic fallout of the coronavirus pandemic. But a lot of it seems disconnected from reality, with regular statements of optimism emanating from key players as they insist a deal could be on its way.\n",
      "\n",
      "> So let’s cut through all that and focus on this unfortunate reality:\n",
      "\n",
      "> 1. Mitch McConnell will do all he possibly can to kill any big stimulus bill before the election. And he’ll probably succeed.\n",
      "\n",
      "> 2. If President Trump wins reelection on Nov. 3, there will probably be a sizable stimulus passed shortly after, with the Senate majority leader’s support.\n",
      "\n",
      "> 3. If Joe Biden wins and Republicans hold the Senate, McConnell will do all he can to strangle the Biden presidency by preventing any big stimulus from passing, no matter how bad the economic misery from the recession gets.\n",
      "\n",
      "> 4. If Biden wins and Democrats take the Senate, we’ll get a big stimulus in the new year.\n",
      "\n",
      "> If you were just following the intense negotiations between Treasury Secretary Steven Mnuchin and House Speaker Nancy Pelosi, you might think a deal could be reached within 48 hours, or this week. Pelosi’s office just announced that the two sides have edged ever closer.\n",
      "\n",
      "> But all that may mean very little, because McConnell simply doesn’t want to pass a big stimulus. He allowed a $500 billion bill to come to a vote Wednesday, knowing that Democrats would all vote against it and it would fail, which it did.\n",
      "\n",
      "> In so doing, McConnell showed a willingness to do the bare minimum to give vulnerable members a way to say they tried to pass something as we slide deeper into disaster. Now that it didn’t pass, they’ll try to blame this on Democrats, while hoping voters don’t notice that Democrats want something four times as big.\n",
      "\n",
      "100% party over country, with a \"fuck the country\" tossed in.\n",
      "----------\n",
      "This is getting more air-time than the entire laptop ordeal.  They're going to use it to try and discredit him altogether to justify why they won't even air the laptop scandal.\n",
      "\n",
      "EDIT - for the countless people saying the laptop story is BS.  I get it.  But this is also a media who has run weeks of coverage off of stories that were much flimsier than this laptop story.  Only in this clown world can someone make up an unsubstantiated story where the President calls troops \"suckers and losers\" (with zero evidence mind you) yet a story that has tangible evidence (whether or not it's legit or not I'm still waiting for details) and the media completely refuses to cover it.  At least acknowledge the brazen journalistic double-standard here.  The American people deserve fair journalism and that's coverage both ways.\n",
      "----------\n",
      "I hope Biden ignores what Trump says in the debate. Just make his case to the moderator and the American people in answer to the questions he's given, in the same manner he did in the recent Town Hall. Talk about Trump in the third person, as if he's not there.\n",
      "\n",
      "And when Trump interrupts him, either keep talking, or stop and say what Harris did, \"I'm speaking.\"\n",
      "\n",
      "This will frustrate Trump and make him behave even worse than during the last debate.\n",
      "----------\n",
      "In that NYT article it mentions some shit thats weird:\n",
      "\n",
      ">In 2017, the company reported an unusually large spike in revenue — some $17.5 million, more than the previous five years’ combined. It was accompanied by a $15.1 million withdrawal by Mr. Trump from the company’s capital account.\n",
      "\n",
      "Like what? I mean if I was a conspiracy theorist this seems like a couple years of posts.\n",
      "----------\n",
      "Here’s a look at what Trump has and hasn’t done for Black communities and why his campaign’s recently released plan for Black America is a vague last-ditch effort to lock in Black voters.\n",
      "\n",
      "Trump passed a significant criminal justice reform measure, but his administration has worked to undo it\n",
      "\n",
      "Standing before hundreds of Black and brown supporters earlier this month, Trump said that America has reached a “historic reduction of violent crime” during his presidency. “We signed a landmark criminal justice reform bill that nobody thought was possible to think about. I did that. I did that. I got that done,” he said.\n",
      "\n",
      "In December 2018, Trump did indeed sign the First Step Act, which made “the most substantial changes in a generation” to “tough on crime” laws that increased the federal prison population by 700 percent since 1970.\n",
      "\n",
      "Since Trump signed the measure into law, more than 3,000 people have been released from federal prison due to the law’s “good time credits,” which provide early release for well-behaved inmates; hundreds have been released into the elderly home confinement pilot program, which places older federal inmates in home confinement before the end of their prison term; and more than 2,000 people — 91 percent of whom are Black — received sentencing reductions because the First Step Act retroactively applied the Fair Sentencing Act of 2010 (a law Obama passed), reducing the sentencing disparity between crack and cocaine charges.\n",
      "\n",
      "While these changes are substantial, many have pointed to the areas where the act fails — and why Trump can’t take full credit for the initiative.\n",
      "\n",
      "As Catherine Kim reported for Vox, Trump’s Justice Department, under Attorney General Bill Barr’s direction, has “attempted to block hundreds of eligible beneficiaries” from being released and has tried to send those who have been released back behind bars, according to the Sentencing Project. “The department has tried to freeze applications or re-incarcerate former inmates by setting higher standards for their release,” Kim wrote.\n",
      "\n",
      "Moreover, Trump has failed to mention how the bill was the “culmination of several years of congressional debate” over how to reduce the size of the federal prison population and maintain public safety, according to the Congressional Research Service. The law is basically a scaled-down iteration of the Sentencing and Reform Corrections Act that was introduced in Congress in 2015.\n",
      "\n",
      "Proponents of the law have also pointed out that its effects on the size of the federal prison system will ultimately be minimal. Vox’s German Lopez reported:\n",
      "\n",
      "The law may let thousands of federal inmates out early, but, as Stanford drug policy expert Keith Humphreys noted in the Washington Post, more than 1,700 people are released from prison every day already — so the First Step Act in one sense only equates to adding a few more days of typical releases to the year.\n",
      "While much of what Trump has touted did not originate with him, this summer he had the opportunity to create his own criminal justice agenda when protests swept the country over the police shootings of Black Americans like Breonna Taylor, the 26-year-old killed in her home in Louisville, Kentucky, and Jacob Blake, the 29-year-old who survived after police shot him in the back several times in Kenosha, Wisconsin. Instead, Trump claimed that the phrase “Black Lives Matter” is a symbol of hate and responded to the unrest by celebrating law enforcement, directing them to meet the protesters with force and violence.\n",
      "\n",
      "Trump’s dismissal of the Black Lives Matter movement’s repeated calls for police and criminal justice reform, coupled with his “law and order” rhetoric — rhetoric that incites violence and that has long been racist — counters the police reform efforts he touts. In June, Trump signed an executive order that called for more training for police officers and the establishment of a national database of police misconduct, among other actions — all steps that fall far short of the transformative changes that activists have called for.\n",
      "\n",
      "Early on, Trump made his tone clear when he tweeted, “When the looting starts the shooting starts,” focusing on the small number of people ransacking property and giving very little attention to the families burdened by police violence.\n",
      "\n",
      "Trump has also tried to take credit for the reduction in violent crime nationwide, but he inherited the downward trend that has been in effect since 2000. Trump has tried to argue that because he expresses support for and honors police officers — supposedly unlike Obama — criminals have been less inclined to commit crimes. Yet researchers haven’t been able to establish a link between rises in homicides and “disrespect for the police.” According to economists at the Brennan Center, by claiming that he is responsible for lower crime rates, Trump is promoting dangerous misconceptions about the relationship between crime and policing.\n",
      "\n",
      "Black employment gains before the pandemic were real — but not the result of Trump’s presidential term\n",
      "\n",
      "Trump has repeatedly patted himself on the back for achieving “the lowest Black and Hispanic unemployment rate in the history of our country.”\n",
      "\n",
      "Before the pandemic hit, the unemployment rate for Black Americans reached an all-time low (since the Bureau of Labor Statistics started keeping track in 1972) at 5.9 percent in May 2018. But as many have pointed out, the decline in the Black unemployment rate began during President Obama’s presidency.\n",
      "\n",
      "Even as the overall unemployment rate dropped after a sharp rise in March, the Black unemployment rate remained higher. White Americans have had found work more quickly overall, and the employment gap has persisted, even as further economic relief from the government remains nowhere in sight. The continued failure to contain the coronavirus epidemic makes a full recovery even more difficult.\n",
      "\n",
      "\n",
      "Trump also chooses not to mention the kinds of jobs that Black Americans occupy. A Brookings Institution report found that Black Americans are overrepresented in low-wage, undervalued “essential” jobs in which they’re more likely to die due to factors like the coronavirus.\n",
      "\n",
      "According to an Associated Press fact-check, household median income was higher for Black people before Trump took office. Furthermore, Trump’s focus on the unemployment rate ignores other economic hardships that Black people face, like low rates of Black homeownership and low Black male labor force participation rates, according to the New York Times.\n",
      "\n",
      "In the same breath, Trump has often celebrated the “opportunity zones” provisions included in the 2017 tax bill that he signed into law. While opportunity zones are supposed to encourage investment in high-need communities, according to a 2019 New York Times report, the program has mostly just benefited wealthy Americans making the investments, and haven’t been proven to help underresourced communities. The early beneficiaries of the tax breaks are billionaires and Trump family members for “high-end apartment buildings and hotels, storage facilities that employ only a handful of workers, and student housing in bustling college towns,” according to the report.\n",
      "\n",
      "Trump’s claims on poverty don’t tell the full story of racial disparity\n",
      "\n",
      "Relatedly, Trump cites declining poverty rates before the pandemic as proof of his success. “Last year, Black and Hispanic American poverty reached the lowest ever in the history of our country,” Trump said at the White House event earlier this month.\n",
      "\n",
      "According to census data, Trump’s claim is correct but ignores the major disparities that remain. According to the data, the US poverty rate was 10.5 percent in 2019, the lowest since 1959, when data was first collected and released on this scale, with an 18.8 percent poverty rate for Black people and a 15.7 percent poverty rate for Hispanics.\n",
      "\n",
      "Despite these historic lows, Black and Hispanic people are overrepresented in the poverty population relative to their representation in the overall population. According to the data, Black people represented 13.2 percent of the total population in the United States but 23.8 percent of the poverty group — almost two times greater than their portion of the general population. Hispanics comprised 18.7 percent of the total population but 28.1 percent of the population in poverty — 1.5 times more than their share of\n",
      "\n",
      "Experts are torn about whether Trump should be credited with the declines in poverty — which may be reversed without further economic stimulus. Trump has taken credit for the number of people who have stopped receiving food stamps under his presidency — in February, he claimed that 7 million people stopped receiving assistance through the Supplemental Nutrition Assistance Program.\n",
      "\n",
      "Experts say the decline in food stamp enrollment is due to “improving employment opportunities and pay increases,” with enrollment decreases beginning in 2014 and 2015 under Obama, according to the New York Times. But there could also be another reason for the decline in SNAP assistance: Trump has tightened eligibility requirements. In March, it was estimated that 700,000 people would be kicked off food stamps because of the administration’s new strict work requirement. A federal judge recently struck down that requirement, calling it “arbitrary and capricious.”\n",
      "----------\n",
      "Because he’s a one trick horse, and doesn’t learn. Also, no Steve Bannon and Cambridge Analitica backing him up this time.\n",
      "----------\n",
      "Just voted in Austin suburbs! Good crowd, took about 25 mins to get through the line.  Everyone on the ballot with a “D” after their name got my vote.\n",
      "\n",
      "Viva revolución!\n",
      "----------\n",
      "Report intimidation to the Election Protection Hotline at 1-866-OUR-VOTE or 1-888-VE-Y-VOTA (en Español).\n",
      "----------\n",
      "I think some clever sneak is trying to subliminally reinforce some of the great memes that have come out of The Big Lebowski lately. You’re out of your element, Donny. Shut the fuck up, Donny. Well, it worked on me. Or maybe Sam Elliott is just a national treasure with a great voice.\n",
      "----------\n",
      "I pointed this out yesterday and I think its going to completely fuck Rudy for good. He's apparently had a hard drive with child porn on it for months. MONTHS.\n",
      "\n",
      "Edit: so this is the thing with child porn as the article states...\n",
      "\n",
      ">the law imposes an affirmative obligation on anyone who comes across child pornography, even accidentally, to alert law enforcement immediately. \n",
      "\n",
      "So let's say he or the weirdo computer repair shop owner alerts law enforcement and they come and get the child porn. That would be that. But the weirdo made a copy, so he's in possession of CP. Then he trafficked it to Rudy, who is now in possession of CP, who then trafficked it to the NY Post, who is also in possession of CP. All in a Russian attempt to FRAME Hunter Biden for CP that he never possessed. \n",
      "\n",
      "**IF TRUE** Rudy Giuliani is part of a child porn ring. Game. Over.\n",
      "----------\n",
      "Many conservatives believe an adherence to the law as it was written without interrupting it for modern times. That is why many are Bible thumpers as well. These people fear change and the world outside their control.\n",
      "----------\n",
      "Wait, Trump told us he hires the best people, and Dr. Birx told us that Trump uses his business experience (presumably in hiring the best people) to integrate data from scientific literature in order to execute a covid strategy. So what's Birx trying to say here? That the scientific literature supports the position of Atlas, and that's why Trump hired him? Or is Birx trying to say that she lied to the American people when she said those things about Trump, and that he doesn't actually read scientific literature at all and in no way integrates the science with his decision making process?\n",
      "----------\n",
      "If only we knew how, maybe Manafort knows how they got the data. \n",
      "\n",
      "I guess we'll never know for sure.\n",
      "----------\n",
      "Will there still be a camera on them?  It’d be kinda funny to just see Trump gesturing and talking like those old silent films.\n",
      "----------\n",
      "I legitimately feel like Ossoff has a better chance of unseating that low life Perdue. I hope Mr. Harrison can do it, but there are other races that are tighter and probably need some hype as well.\n",
      "----------\n",
      "just to make this really simple for everyone:\n",
      "\n",
      "IF the emails are legitimate (huge if) then they show hunter biden asking a favor of his father.  his father did not act on that request.\n",
      "\n",
      "so that's really good news for joe biden, and it exposes trump to criticism of his own nepotism.  \n",
      "\n",
      "that's the message.  take it, amplify it, and share it broadly.  thank the republicans for giving us evidence (supposedly) of biden turning down a request for help from his own son.  then remind them that trump has his own daughter acting as envoy to the UN, his son in law working the pandemic response, etc.\n",
      "----------\n",
      "The justices offered no explanation for their decision. Justices Clarence Thomas, Samuel Alito, Neil Gorsuch and Brett Kavanaugh all noted they would have granted Republicans’ application for a stay.\n",
      "\n",
      "Still partisan hackery\n",
      "----------\n",
      "Glad to see more and more people speaking out. Hopefully it's not too late to sway undecided voters.\n",
      "----------\n",
      "Mike Pence stated on October 11, 2020 in a news release: Says since he and President Trump took office, their policies \"led to an unemployment rate of 3.1% in Wisconsin and 61,000 Wisconsin jobs, including 15,000 manufacturing jobs.\"\n",
      "\n",
      "Rated False.\n",
      "\n",
      "In a statement, Pence’s office boasted of a series of job-related gains in Wisconsin, saying they covered the time to the present.\n",
      "\n",
      "But the numbers -- from March -- are outdated and ignore the picture since the coronavirus pandemic took hold.\n",
      "\n",
      "The true picture is far worse.\n",
      "----------\n",
      "Don't let this distract you from the fact Trump killed 215,000 Americans and is a white supremacist wanting to control women's reprdocutive rights.\n",
      "----------\n",
      "The number 9 was picked to reflect the number of judicial districts.  It briefly went up to 10 to reflect the 10th judicial district but was reduced at the request of the SC Chief Justice in 1866 specifically to NOT allow President Johnson appoint a SC justice (and it dropped to 7).   In 1869 it was then brought back up to 9 (and the 10th federal district disappeared bringing it back to 9 judicial districts)\n",
      "\n",
      "Since then, the US has added 2 Federal districts (10 & 11) + DC + Federal (oversea all national cases).  Meaning we have 13 federal district.  \n",
      "\n",
      "They should 13 justices.   11 would be a start.\n",
      "----------\n",
      "Your Dad, no matter how much he loved you and you loved him, was after all just a Republican Cog, he wasn’t the true heart of the GOP. His outrage would have no effect on their goals today. It is a fallacy to assume a moral superiority from Ronald Reagan.\n",
      "----------\n",
      "Why is it so hard for people to just use the email address and server they’re supposed to be using? Why is this such a fucking problem?\n",
      "----------\n",
      "It was fun to mix light political messages with most of the time humor, laughter, and just a good ol time. It helped that there was a bunch of famous streamers in there as well.\n",
      "----------\n",
      "Good.  It's a private company and it can do whatever it wants to regulate political content.  We can choose whether to use its service or not.\n",
      "----------\n",
      "I live in the area and this doesn’t surprise me in the slightest. Q-Anon is running rampant with local officials, as well\n",
      "----------\n",
      "So the DNI really expects us to believe:\n",
      "\n",
      "IRAN’S SUPER SECRET PLAN TO INFLUENCE THE ELECTION IN FAVOR OF JOE BIDEN\n",
      "\n",
      "1. Send Democrats emails threatening them to vote for Donald Trump\n",
      "\n",
      "2. ???????\n",
      "\n",
      "3. Profit.\n",
      "----------\n",
      "Like him or loath him the thing about piers is he is not corrupt and at least TRIES to be a proper journalist. That is good enough in my book.\n",
      "----------\n",
      "They literally think this means \"we're going to force all kids to have gender re-assignment surgeries!\" What a bunch of idiots.\n",
      "----------\n",
      "I live in a complete red zone. I'm the only one I know that doesn't worship Trump. It can be a bit much to process at times....so I feel your pain.\n",
      "----------\n",
      ">On call with campaign staff, President Trump says people are tired of hearing about coronavirus. \"People are saying whatever. Just leave us alone. They’re tired of it. People are tired of hearing Fauci and all these idiots...Fauci is a nice guy. He’s been here for 500 years.\"\n",
      "\n",
      ">Trump: \"Fauci is a disaster. If I listened to him, we’d have 500,000 deaths,\" before later saying it would be 700,000 or 800,000. \"If there’s a reporter on, you can have it just the way I said it, I couldn’t care less.\" (CNN was given access to the call by a source.)\n",
      "\n",
      "https://twitter.com/kaitlancollins/status/1318212615462584320\n",
      "----------\n",
      "For a complete agnostic atheist, I feel like there’s a almost kind of Biblical retribution coming down on everyone who implied “I can lie and cheat, so strike me down, I dare you.”\n",
      "----------\n",
      "I think Martha McSally was originally picked because of her willingness to be a far right conservative with conscience. Not for her political skill or good ideas. These days conservatives care more about putting politicians in office who adhere to ideology and not think for themselves or their constituents. \n",
      "\n",
      "McSally would have been a reliable vote for McConnell. Hence her response to the pandemic which was hardline against stimulus for working Americans or funnel it all to businesses.\n",
      "----------\n",
      "Broke tradition in '16 by not endorsing anyone but \"unendorsed\" Trump.  This year they went all in.  Too bad hotel stays are down due to COVID-19, because that's the only place I see that paper.\n",
      "----------\n",
      "https://twitter.com/Fahrenthold/status/1318218445713002496\n",
      "\n",
      "> Remember last week, when the \n",
      "@StateDept\n",
      " said it had 450 pages of records showing hidden govt payments to \n",
      "@realdonaldtrump\n",
      "'s business -- but it would only release two?\n",
      "\n",
      "> **We challenged that in court. Now, a hearing's set for 10/26.** Stay tuned.\n",
      "----------\n",
      "He only gave 1/2 a fuck before he got it, after having it and recovering (with extraordinary medical care unavailable to the general public) he has 0 fucks to give, and is really irritated that the country hasn't moved on and shut up about it.\n",
      "----------\n",
      "Only one of the two major candidates for presidency has a plan to slow and stop the spread of coronavirus. That's fact.\n",
      "----------\n",
      "Im glad this is the only time we collectively listen to Chomsky. Not all the stuff about *both* the Democratic and Republican parties being full of war criminals and sociopaths 🙃\n",
      "----------\n",
      "Please. Pre-Comey polling being similar is the only thing remotely the same between this cycle and the '16 campaigns. The dynamics, for better or worse, are entirely different this round.\n",
      "----------\n",
      "In a very bad sign for Trump in Florida, [Biden is ahead by 16 points in Sarasota, a typically Republican Stronghold](https://https://floridapolitics.com/archives/375523-drake-buckman-holds-4-point-lead-over-fiona-mcfarland-in-hd-72) \n",
      "\n",
      "For reference, Trump won this district by 4 points in 2016, so this would represent a *20 point shift to Biden* there.\n",
      "----------\n",
      "How the fuck you gonna vote for someone called Tommy Tuberville. He sounds like door to door potato salesman\n",
      "----------\n",
      ">\tShe continued, “I do think America will be in big trouble if Joe Biden wins the presidency because of the type of chaos and madness that we saw in Seattle and Portland and other places is the type of liberal mob chaos that will take place in communities across this country. Joe Biden has shown he is unwilling and unable to stand up to the liberal mob.  \n",
      "\n",
      "Yeah, don’t you remember the 8 years of chaos under Obama? It was madness! Absolute madness!  \n",
      "\n",
      "\n",
      "/s\n",
      "----------\n",
      "Please contact your reps in Congress today and daily demanding they shut down government and refuse any cooperation on anything until the election if Trump gives any indication they plan to ram someone through, which is a certainty. We have no other card to play, and the Republicans have repeatedly shut down government even when they were in complete control over minor issues in comparison. The House should absolutely not approve any funding for anything and my understanding is the government will shut down if Congress doesn't reach a spending agreement or pass legislation by the end of the month.\n",
      "----------\n",
      "If I could have been the only guy on the girls soccer team in school..... Adolescent dream come true!        \n",
      "\n",
      "This is satire in case anyone takes it seriously.\n",
      "----------\n",
      "Id much rather my politicians talking about the issues to thousands of voters while gaming than ignoring the duties of the office to golf every weekend.\n",
      "----------\n",
      "It's not \"Hunter's laptop\". It's evidence in an ongoing criminal disinformation conspiracy that involves multiple foreign actors and several high-placed government officials and Trump Administration insiders who are attempting to sway the election by manufacturing a scandal.\n",
      "\n",
      "It must be incredibly frustrating to be one of the Russian disinformation people right now when your American assets are so unbelievably incompetent. Watching them slouch their way through this, lurching from busted narrative to bullshit talking point like Giuliani on his fifth double scotch is truly breathtaking.\n",
      "----------\n",
      "Yeah, it's pretty obvious what happened. The laptop doesn't exist. Russia hacked Hunter's accounts and Rudy is using the laptop repair guy story as a cover. There are real e-mails in there but almost certainly the juicy ones are faked by Russia and \"laundered\" with the real e-mails to try and give them credibility. I would almost guarantee this is what happened.\n",
      "----------\n",
      "I gotta say, its really refreshing seeing a young major politician be able to troubleshoot and fix technical problems with the stream on the fly. I cant wait till tech literate people are the majority of congress.\n",
      "----------\n",
      "the man simply does not give a flying fuck because he knows nothing will happen to him. had we thrown a crook or two in jail a lot of these cowards would start shaking in their boots\n",
      "----------\n"
     ]
    }
   ],
   "source": [
    "print(\"GUESSED LEFT BUT WE WERE WRONG\")\n",
    "print(\"______________________________\")\n",
    "for i in range(0,50):\n",
    "    print(guessed_left_wrong.iloc[i].body)\n",
    "    print('----------')"
   ]
  },
  {
   "cell_type": "code",
   "execution_count": null,
   "metadata": {},
   "outputs": [],
   "source": []
  }
 ],
 "metadata": {
  "kernelspec": {
   "display_name": "Python 3",
   "language": "python",
   "name": "python3"
  },
  "language_info": {
   "codemirror_mode": {
    "name": "ipython",
    "version": 3
   },
   "file_extension": ".py",
   "mimetype": "text/x-python",
   "name": "python",
   "nbconvert_exporter": "python",
   "pygments_lexer": "ipython3",
   "version": "3.8.3"
  }
 },
 "nbformat": 4,
 "nbformat_minor": 4
}
