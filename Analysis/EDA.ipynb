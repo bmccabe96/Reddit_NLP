{
 "cells": [
  {
   "cell_type": "markdown",
   "metadata": {},
   "source": [
    "## EDA"
   ]
  },
  {
   "cell_type": "code",
   "execution_count": 1,
   "metadata": {},
   "outputs": [
    {
     "name": "stderr",
     "output_type": "stream",
     "text": [
      "[nltk_data] Downloading package stopwords to\n",
      "[nltk_data]     /Users/brianmccabe/nltk_data...\n",
      "[nltk_data]   Package stopwords is already up-to-date!\n",
      "[nltk_data] Downloading package punkt to\n",
      "[nltk_data]     /Users/brianmccabe/nltk_data...\n",
      "[nltk_data]   Package punkt is already up-to-date!\n",
      "[nltk_data] Downloading package wordnet to\n",
      "[nltk_data]     /Users/brianmccabe/nltk_data...\n",
      "[nltk_data]   Package wordnet is already up-to-date!\n"
     ]
    },
    {
     "data": {
      "text/plain": [
       "True"
      ]
     },
     "execution_count": 1,
     "metadata": {},
     "output_type": "execute_result"
    }
   ],
   "source": [
    "import nltk\n",
    "import matplotlib.pyplot as plt\n",
    "import pandas as pd\n",
    "from sklearn.feature_extraction.text import CountVectorizer\n",
    "from sklearn.feature_extraction.text import TfidfVectorizer\n",
    "from sklearn.feature_extraction.text import TfidfTransformer\n",
    "from nltk.probability import FreqDist\n",
    "from nltk.corpus import stopwords\n",
    "from nltk.stem import PorterStemmer\n",
    "from sklearn.metrics import confusion_matrix\n",
    "import seaborn as sns\n",
    "from sklearn.naive_bayes import MultinomialNB\n",
    "from sklearn import metrics\n",
    "from sklearn.model_selection import train_test_split\n",
    "from matplotlib import cm\n",
    "import numpy as np\n",
    "from sklearn.ensemble import RandomForestClassifier\n",
    "from sklearn.metrics import accuracy_score\n",
    "from sklearn.metrics import f1_score\n",
    "from sklearn.naive_bayes import MultinomialNB\n",
    "import string\n",
    "import scipy\n",
    "\n",
    "nltk.download('stopwords')\n",
    "nltk.download('punkt')\n",
    "nltk.download('wordnet')"
   ]
  },
  {
   "cell_type": "code",
   "execution_count": 4,
   "metadata": {},
   "outputs": [],
   "source": [
    "# Import some libraries that will be used\n",
    "import pandas as pd\n",
    "import numpy as np\n",
    "import matplotlib.pyplot as plt\n",
    "import seaborn as sns\n",
    "import mysql.connector\n",
    "# some_file.py\n",
    "import sys\n",
    "sys.path.insert(1, '/Users/brianmccabe/DataScience/Flatiron/mod4/Reddit_NLP/Scripts')\n",
    "import config\n",
    "pd.set_option('display.max_columns', 300)\n",
    "\n",
    "%matplotlib inline"
   ]
  },
  {
   "cell_type": "code",
   "execution_count": 5,
   "metadata": {},
   "outputs": [],
   "source": [
    "connection = mysql.connector.connect(host=config.host,\n",
    "                                         user=config.user,\n",
    "                                         port=config.port,\n",
    "                                         password=config.password,\n",
    "                                         database=config.database,\n",
    "                                         auth_plugin='mysql_native_password')"
   ]
  },
  {
   "cell_type": "code",
   "execution_count": 6,
   "metadata": {},
   "outputs": [],
   "source": [
    "cursor = connection.cursor()\n",
    "comments_query = \"SELECT * FROM Comments\""
   ]
  },
  {
   "cell_type": "code",
   "execution_count": 7,
   "metadata": {},
   "outputs": [],
   "source": [
    "comments_df = pd.read_sql(comments_query, connection)\n",
    "comments_df.columns = ['id_num', 'body', 'comment_id', 'parent_id', 'post_id', 'author', 'score', 'comment_class']\n",
    "\n",
    "# posts_df = pd.read_csv('/Users/alecmccabe/Desktop/Flatiron/Projects/Mod4/Reddit_NLP/csv_data/posts_df.csv', index_col=0)\n",
    "# comments_df = pd.read_csv('/Users/alecmccabe/Desktop/Flatiron/Projects/Mod4/Reddit_NLP/csv_data/comments_df_(1).csv', index_col=0)\n"
   ]
  },
  {
   "cell_type": "code",
   "execution_count": 8,
   "metadata": {},
   "outputs": [],
   "source": [
    "comments_df.columns = ['id_num', 'body', 'comment_id', 'parent_id', 'post_id', 'author', 'score', 'comment_class']"
   ]
  },
  {
   "cell_type": "code",
   "execution_count": 9,
   "metadata": {},
   "outputs": [
    {
     "data": {
      "text/html": [
       "<div>\n",
       "<style scoped>\n",
       "    .dataframe tbody tr th:only-of-type {\n",
       "        vertical-align: middle;\n",
       "    }\n",
       "\n",
       "    .dataframe tbody tr th {\n",
       "        vertical-align: top;\n",
       "    }\n",
       "\n",
       "    .dataframe thead th {\n",
       "        text-align: right;\n",
       "    }\n",
       "</style>\n",
       "<table border=\"1\" class=\"dataframe\">\n",
       "  <thead>\n",
       "    <tr style=\"text-align: right;\">\n",
       "      <th></th>\n",
       "      <th>id_num</th>\n",
       "      <th>body</th>\n",
       "      <th>comment_id</th>\n",
       "      <th>parent_id</th>\n",
       "      <th>post_id</th>\n",
       "      <th>author</th>\n",
       "      <th>score</th>\n",
       "      <th>comment_class</th>\n",
       "    </tr>\n",
       "  </thead>\n",
       "  <tbody>\n",
       "    <tr>\n",
       "      <th>0</th>\n",
       "      <td>1</td>\n",
       "      <td>Let's goooooo</td>\n",
       "      <td>g8gt5qf</td>\n",
       "      <td>t3_j9346j</td>\n",
       "      <td>t3_j9346j</td>\n",
       "      <td>timewfno</td>\n",
       "      <td>25</td>\n",
       "      <td>right</td>\n",
       "    </tr>\n",
       "    <tr>\n",
       "      <th>1</th>\n",
       "      <td>2</td>\n",
       "      <td>10/10 would recommend</td>\n",
       "      <td>g8o53d5</td>\n",
       "      <td>t3_j9346j</td>\n",
       "      <td>t3_j9346j</td>\n",
       "      <td>jpl322</td>\n",
       "      <td>5</td>\n",
       "      <td>right</td>\n",
       "    </tr>\n",
       "    <tr>\n",
       "      <th>2</th>\n",
       "      <td>3</td>\n",
       "      <td>Can I join if i'm not a conservative, just don...</td>\n",
       "      <td>g8kldlj</td>\n",
       "      <td>t3_j9346j</td>\n",
       "      <td>t3_j9346j</td>\n",
       "      <td>pantasaron</td>\n",
       "      <td>22</td>\n",
       "      <td>right</td>\n",
       "    </tr>\n",
       "    <tr>\n",
       "      <th>3</th>\n",
       "      <td>4</td>\n",
       "      <td>I’m banned and I was never in..</td>\n",
       "      <td>g8jdhji</td>\n",
       "      <td>t3_j9346j</td>\n",
       "      <td>t3_j9346j</td>\n",
       "      <td>sgtmcdonnell</td>\n",
       "      <td>12</td>\n",
       "      <td>right</td>\n",
       "    </tr>\n",
       "    <tr>\n",
       "      <th>4</th>\n",
       "      <td>5</td>\n",
       "      <td>Wasn’t there already a discord?</td>\n",
       "      <td>g8hmbbu</td>\n",
       "      <td>t3_j9346j</td>\n",
       "      <td>t3_j9346j</td>\n",
       "      <td>Acr0gen</td>\n",
       "      <td>9</td>\n",
       "      <td>right</td>\n",
       "    </tr>\n",
       "  </tbody>\n",
       "</table>\n",
       "</div>"
      ],
      "text/plain": [
       "   id_num                                               body comment_id  \\\n",
       "0       1                                      Let's goooooo    g8gt5qf   \n",
       "1       2                              10/10 would recommend    g8o53d5   \n",
       "2       3  Can I join if i'm not a conservative, just don...    g8kldlj   \n",
       "3       4                    I’m banned and I was never in..    g8jdhji   \n",
       "4       5                    Wasn’t there already a discord?    g8hmbbu   \n",
       "\n",
       "   parent_id    post_id        author  score comment_class  \n",
       "0  t3_j9346j  t3_j9346j      timewfno     25         right  \n",
       "1  t3_j9346j  t3_j9346j        jpl322      5         right  \n",
       "2  t3_j9346j  t3_j9346j    pantasaron     22         right  \n",
       "3  t3_j9346j  t3_j9346j  sgtmcdonnell     12         right  \n",
       "4  t3_j9346j  t3_j9346j       Acr0gen      9         right  "
      ]
     },
     "execution_count": 9,
     "metadata": {},
     "output_type": "execute_result"
    }
   ],
   "source": [
    "comments_df.head()"
   ]
  },
  {
   "cell_type": "code",
   "execution_count": 10,
   "metadata": {},
   "outputs": [
    {
     "name": "stdout",
     "output_type": "stream",
     "text": [
      "<class 'pandas.core.frame.DataFrame'>\n",
      "RangeIndex: 203837 entries, 0 to 203836\n",
      "Data columns (total 8 columns):\n",
      " #   Column         Non-Null Count   Dtype \n",
      "---  ------         --------------   ----- \n",
      " 0   id_num         203837 non-null  int64 \n",
      " 1   body           203837 non-null  object\n",
      " 2   comment_id     203837 non-null  object\n",
      " 3   parent_id      203837 non-null  object\n",
      " 4   post_id        203837 non-null  object\n",
      " 5   author         203837 non-null  object\n",
      " 6   score          203837 non-null  int64 \n",
      " 7   comment_class  203837 non-null  object\n",
      "dtypes: int64(2), object(6)\n",
      "memory usage: 12.4+ MB\n"
     ]
    }
   ],
   "source": [
    "comments_df.info()"
   ]
  },
  {
   "cell_type": "markdown",
   "metadata": {},
   "source": [
    "As expected, no missing values"
   ]
  },
  {
   "cell_type": "code",
   "execution_count": 11,
   "metadata": {},
   "outputs": [
    {
     "data": {
      "text/plain": [
       "0"
      ]
     },
     "execution_count": 11,
     "metadata": {},
     "output_type": "execute_result"
    }
   ],
   "source": [
    "comments_df.duplicated().sum() # Check for dupes, shouldn't have any based on SQL setup"
   ]
  },
  {
   "cell_type": "markdown",
   "metadata": {},
   "source": [
    "### Inspect the score"
   ]
  },
  {
   "cell_type": "code",
   "execution_count": 12,
   "metadata": {},
   "outputs": [
    {
     "data": {
      "text/plain": [
       "count    203837.000000\n",
       "mean         28.791426\n",
       "std         253.200834\n",
       "min        -149.000000\n",
       "25%           1.000000\n",
       "50%           3.000000\n",
       "75%           9.000000\n",
       "max       17061.000000\n",
       "Name: score, dtype: float64"
      ]
     },
     "execution_count": 12,
     "metadata": {},
     "output_type": "execute_result"
    }
   ],
   "source": [
    "comments_df.score.describe()"
   ]
  },
  {
   "cell_type": "markdown",
   "metadata": {},
   "source": [
    "In these political subreddits, if a score is less than zero, we can assume the opinion of the author differs from the general trend of the subreddit. Meaning, if we are on conservative and a comment gets -50, we can infer that the comment was made by someone with an opposing opinion. We don't want these included in our model, since things pulls from r/conservative are meant to be a representation of solely right-leaning thinkers.\n",
    "\n",
    "We'll use a cut off of 10 for the score to 1) reduce the size of our set and 2) ensure we get comments indicative of the subreddit we are in."
   ]
  },
  {
   "cell_type": "code",
   "execution_count": 13,
   "metadata": {},
   "outputs": [],
   "source": [
    "comments_df = comments_df[comments_df.score > 10]"
   ]
  },
  {
   "cell_type": "markdown",
   "metadata": {},
   "source": [
    "### Inspect the comment length"
   ]
  },
  {
   "cell_type": "code",
   "execution_count": 14,
   "metadata": {
    "scrolled": true
   },
   "outputs": [
    {
     "data": {
      "text/plain": [
       "count    45109.000000\n",
       "mean       201.999645\n",
       "std        343.948637\n",
       "min          1.000000\n",
       "25%         61.000000\n",
       "50%        116.000000\n",
       "75%        222.000000\n",
       "max       9335.000000\n",
       "Name: body, dtype: float64"
      ]
     },
     "execution_count": 14,
     "metadata": {},
     "output_type": "execute_result"
    }
   ],
   "source": [
    "comments_df.body.apply(len).describe()"
   ]
  },
  {
   "cell_type": "code",
   "execution_count": 15,
   "metadata": {},
   "outputs": [],
   "source": [
    "comments_df = comments_df[comments_df.body.apply(len) >= 100]"
   ]
  },
  {
   "cell_type": "markdown",
   "metadata": {},
   "source": [
    "We want to reduce the size of our dataframe based on comment body length for two reasons.\n",
    "\n",
    "1) We need the comment to be long enough such that the way in which a user uses the english language can be accurately measured. It would be hard to judge someone based off a small comment blurb.\n",
    "2) Since the time we have available for this project is limited, we need to keep our dataframe small enough such that we can run it multiple times. If we include all 150,000 comments, it takes multiple hours to run a single model, and we need to run many, many models. If we had more computing power or more time we would approach this differently."
   ]
  },
  {
   "cell_type": "code",
   "execution_count": 17,
   "metadata": {},
   "outputs": [],
   "source": [
    "comments_df.reset_index(drop=True,inplace=True)"
   ]
  },
  {
   "cell_type": "markdown",
   "metadata": {},
   "source": [
    "### Inspect class imbalance after these changes"
   ]
  },
  {
   "cell_type": "code",
   "execution_count": 18,
   "metadata": {},
   "outputs": [
    {
     "data": {
      "image/png": "[encoded data removed]",
      "text/plain": [
       "<Figure size 432x288 with 1 Axes>"
      ]
     },
     "metadata": {
      "needs_background": "light"
     },
     "output_type": "display_data"
    }
   ],
   "source": [
    "classes = comments_df.comment_class.value_counts()\n",
    "index = classes.index\n",
    "sns.barplot(index, classes)\n",
    "plt.title(\"Class Imbalance\")\n",
    "plt.savefig(\"../pics/Class_Imbalance.png\")"
   ]
  },
  {
   "cell_type": "markdown",
   "metadata": {},
   "source": [
    "Slight class imbalance. Will address via upsampling in modeling notebook."
   ]
  },
  {
   "cell_type": "markdown",
   "metadata": {},
   "source": [
    "### Investigate sarcasm"
   ]
  },
  {
   "cell_type": "code",
   "execution_count": 19,
   "metadata": {},
   "outputs": [],
   "source": [
    "def sarcasm(sen):\n",
    "    return \" /s\" in sen"
   ]
  },
  {
   "cell_type": "code",
   "execution_count": 20,
   "metadata": {
    "scrolled": true
   },
   "outputs": [],
   "source": [
    "comments_df['sarcastic'] = comments_df.body.apply(sarcasm)"
   ]
  },
  {
   "cell_type": "code",
   "execution_count": 21,
   "metadata": {},
   "outputs": [
    {
     "data": {
      "text/plain": [
       "right    64\n",
       "left     30\n",
       "Name: comment_class, dtype: int64"
      ]
     },
     "execution_count": 21,
     "metadata": {},
     "output_type": "execute_result"
    }
   ],
   "source": [
    "comments_df[comments_df.sarcastic == True].comment_class.value_counts()"
   ]
  },
  {
   "cell_type": "markdown",
   "metadata": {},
   "source": [
    "This could be insightful, but then again, compared to the size of our dataset, there really isn't much data here to go off. Right leaners might be more sarcastic, or maybe it just so happens that this is chance. Hard to make a decision from the amount of sarcasm we detected. Additionally, people might be sarcastic and not know about the \"/s\" convention in reddit comments. I am sure a lot of sarcasm goes undetected."
   ]
  },
  {
   "cell_type": "markdown",
   "metadata": {},
   "source": [
    "### Investigate Profanity"
   ]
  },
  {
   "cell_type": "code",
   "execution_count": 22,
   "metadata": {},
   "outputs": [],
   "source": [
    "import nltk"
   ]
  },
  {
   "cell_type": "code",
   "execution_count": 23,
   "metadata": {},
   "outputs": [],
   "source": [
    "def check_profanity(comment):\n",
    "    profane = pd.read_csv(\"profane_words.csv\", header=None)\n",
    "    profane = list(profane.loc[:,0])\n",
    "    count = 0\n",
    "    comment = comment.lower()\n",
    "    tokens = nltk.word_tokenize(comment)\n",
    "    for word in tokens:\n",
    "        if word in profane:\n",
    "            count += 1\n",
    "    return count/len(comment)\n",
    "\n",
    "def check_profanity_count(comment):\n",
    "    profane = pd.read_csv(\"profane_words.csv\", header=None)\n",
    "    profane = list(profane.loc[:,0])\n",
    "    count = 0\n",
    "    comment = comment.lower()\n",
    "    tokens = nltk.word_tokenize(comment)\n",
    "    for word in tokens:\n",
    "        if word in profane:\n",
    "            count += 1\n",
    "    return count"
   ]
  },
  {
   "cell_type": "code",
   "execution_count": 24,
   "metadata": {},
   "outputs": [],
   "source": [
    "comments_df['profanity_percentage'] = comments_df.body.apply(check_profanity)\n",
    "comments_df['profanity_count'] = comments_df.body.apply(check_profanity_count)"
   ]
  },
  {
   "cell_type": "code",
   "execution_count": 25,
   "metadata": {},
   "outputs": [
    {
     "name": "stdout",
     "output_type": "stream",
     "text": [
      "Right comments with any amount of profanity: 7386\n",
      "Left comments with any amount of profanity: 6437\n",
      "\n",
      "Right comments with at least 3 profane words: 2211\n",
      "Left comments with at least 3 profane words: 1273\n",
      "\n",
      "Right comments with at least 5 profane words: 734\n",
      "Left comments with at least 5 profane words: 338\n",
      "\n",
      "Right comments with at least 10 profane words: 164\n",
      "Left comments with at least 10 profane words: 61\n",
      "\n",
      "Right comments with at least 15 profane words: 38\n",
      "Left comments with at least 15 profane words: 19\n",
      "\n"
     ]
    }
   ],
   "source": [
    "right = comments_df[comments_df.comment_class == 'right']\n",
    "left = comments_df[comments_df.comment_class == 'left']\n",
    "\n",
    "print(f\"Right comments with any amount of profanity: {len(right[right.profanity_count > 0])}\")\n",
    "print(f\"Left comments with any amount of profanity: {len(left[left.profanity_count > 0])}\")\n",
    "print()\n",
    "\n",
    "print(f\"Right comments with at least 3 profane words: {len(right[right.profanity_count > 2])}\")\n",
    "print(f\"Left comments with at least 3 profane words: {len(left[left.profanity_count > 2])}\")\n",
    "print()\n",
    "\n",
    "\n",
    "print(f\"Right comments with at least 5 profane words: {len(right[right.profanity_count > 4])}\")\n",
    "print(f\"Left comments with at least 5 profane words: {len(left[left.profanity_count > 4])}\")\n",
    "print()\n",
    "\n",
    "print(f\"Right comments with at least 10 profane words: {len(right[right.profanity_count > 9])}\")\n",
    "print(f\"Left comments with at least 10 profane words: {len(left[left.profanity_count > 9])}\")\n",
    "print()\n",
    "\n",
    "print(f\"Right comments with at least 15 profane words: {len(right[right.profanity_count > 14])}\")\n",
    "print(f\"Left comments with at least 15 profane words: {len(left[left.profanity_count > 14])}\")\n",
    "print()\n",
    "\n",
    "\n"
   ]
  },
  {
   "cell_type": "code",
   "execution_count": 26,
   "metadata": {},
   "outputs": [
    {
     "data": {
      "image/png": "[encoded data removed]",
      "text/plain": [
       "<Figure size 1008x432 with 2 Axes>"
      ]
     },
     "metadata": {
      "needs_background": "light"
     },
     "output_type": "display_data"
    },
    {
     "data": {
      "text/plain": [
       "<Figure size 432x288 with 0 Axes>"
      ]
     },
     "metadata": {},
     "output_type": "display_data"
    }
   ],
   "source": [
    "right.profanity_percentage.describe()\n",
    "\n",
    "left.profanity_percentage.describe()\n",
    "\n",
    "fig = plt.figure(figsize=(14,6))\n",
    "\n",
    "ax1 = plt.subplot(1, 2, 1)\n",
    "sns.boxplot(y=right.profanity_percentage, ax=ax1)\n",
    "plt.xlabel(\"Profane Percentage in Comments\")\n",
    "plt.ylim(0,.055)\n",
    "plt.title(\"Right Leaning\")\n",
    "\n",
    "ax2 = plt.subplot(1, 2, 2)\n",
    "sns.boxplot(y=left.profanity_percentage, ax=ax2)\n",
    "plt.xlabel(\"Profane Percentage in Comments\")\n",
    "plt.ylim(0,.055)\n",
    "plt.title(\"Left Leaning\")\n",
    "\n",
    "\n",
    "plt.show()\n",
    "plt.savefig(\"../pics/Profanity_Boxplot.png\")\n",
    "\n",
    "\n",
    "right_index = np.arange(0,10)\n",
    "left_index = np.arange(0,10)\n",
    "\n",
    "right_values = []\n",
    "for i in right_index:\n",
    "    right_values.append(len(right[right.profanity_count >= i]))\n",
    "\n",
    "left_values = []\n",
    "for i in right_index:\n",
    "    left_values.append(len(left[left.profanity_count >= i]))\n"
   ]
  },
  {
   "cell_type": "code",
   "execution_count": 27,
   "metadata": {},
   "outputs": [
    {
     "data": {
      "image/png": "[encoded data removed]",
      "text/plain": [
       "<Figure size 720x504 with 1 Axes>"
      ]
     },
     "metadata": {
      "needs_background": "light"
     },
     "output_type": "display_data"
    }
   ],
   "source": [
    "plt.figure(figsize=(10,7))\n",
    "sns.lineplot(right_index, right_values, label = 'Right Leaning')\n",
    "sns.lineplot(left_index, left_values, label = 'Left Leaning')\n",
    "plt.xlabel(\"Number of Profane Words in Comment\")\n",
    "plt.ylabel(\"Number of Comments\")\n",
    "plt.legend()\n",
    "plt.savefig(\"../pics/Profanity.png\")"
   ]
  },
  {
   "cell_type": "markdown",
   "metadata": {},
   "source": [
    "From the investigation above, we can see that, for whatever reason, the sub-reddits that we deemed to be 'right leaning' tend to use profane words slightly more than the left leaning sub-reddits. This is on average. There are some outliers on the left-leaning side that use a large amount of profanity, but outliers shouldn't be used to make any conclusions in this case, as the count is quite small and likely due to random chance.\n",
    "\n",
    "Based on the above, we plan to create a feature and include this in our modeling. See modeling notebook for implementation."
   ]
  },
  {
   "cell_type": "markdown",
   "metadata": {},
   "source": [
    "#### Verify the Above with a Two Sample t Test!"
   ]
  },
  {
   "cell_type": "code",
   "execution_count": 28,
   "metadata": {},
   "outputs": [],
   "source": [
    "from scipy.stats import ttest_ind"
   ]
  },
  {
   "cell_type": "markdown",
   "metadata": {},
   "source": [
    "Ho: Mean use of profanity is equal for right and left leaning subreddits\n",
    "\n",
    "Ha: Mean use of profanity is NOT equal for right and left leaning subreddits\n",
    "\n",
    "Using a significance level of .05 and a two sample t test, we will see if we reject or fail to reject the null."
   ]
  },
  {
   "cell_type": "code",
   "execution_count": 29,
   "metadata": {},
   "outputs": [
    {
     "name": "stdout",
     "output_type": "stream",
     "text": [
      "With a p value of 2.0074241196779813e-139, which is far less than our chosen alpha value, we can reject the null\n"
     ]
    }
   ],
   "source": [
    "# Variance is not equal, so therefore must use a welch test and set equal_var == False\n",
    "test_stat, p_value = ttest_ind(right.profanity_percentage, left.profanity_percentage, equal_var=False)\n",
    "print(f\"With a p value of {p_value}, which is far less than our chosen alpha value, we can reject the null\")"
   ]
  },
  {
   "cell_type": "markdown",
   "metadata": {},
   "source": [
    "The results from the stats test above further indicate that we should include a feature in our modeling to indicate the use of profanity"
   ]
  },
  {
   "cell_type": "markdown",
   "metadata": {},
   "source": [
    "### Investigate Lexical Diversity"
   ]
  },
  {
   "cell_type": "code",
   "execution_count": 30,
   "metadata": {},
   "outputs": [],
   "source": [
    "#set stopwords and punctuations\n",
    "stopwords = stopwords.words('english')\n",
    "stopwords += list(string.punctuation)\n",
    "stopwords += [\"n't\", \"' '\", \"'re'\",\"”\",\"``\",\"“\",\"''\",\"’\",\"'s\",\"'re\",\"http\",\"https\"]"
   ]
  },
  {
   "cell_type": "code",
   "execution_count": 31,
   "metadata": {},
   "outputs": [],
   "source": [
    "def process_comment(comment):\n",
    "    comment = comment.lower()\n",
    "    tokens = nltk.word_tokenize(comment)\n",
    "    stopwords_removed = [token.lower() for token in tokens if token.lower() not in stopwords]\n",
    "    return stopwords_removed"
   ]
  },
  {
   "cell_type": "code",
   "execution_count": 32,
   "metadata": {},
   "outputs": [],
   "source": [
    "def lexical_diversity(comment):\n",
    "    comment = comment.lower()\n",
    "    tokens = nltk.word_tokenize(comment)\n",
    "    \n",
    "    unique_words = len(set(tokens))\n",
    "    total_words = len(tokens)\n",
    "    \n",
    "    return unique_words / total_words"
   ]
  },
  {
   "cell_type": "code",
   "execution_count": 33,
   "metadata": {},
   "outputs": [],
   "source": [
    "X = comments_df['body'].copy()\n"
   ]
  },
  {
   "cell_type": "code",
   "execution_count": 34,
   "metadata": {},
   "outputs": [],
   "source": [
    "#apply above function to data\n",
    "\n",
    "processed_comments = list(map(process_comment, X))"
   ]
  },
  {
   "cell_type": "code",
   "execution_count": 35,
   "metadata": {},
   "outputs": [],
   "source": [
    "from nltk.stem import WordNetLemmatizer \n",
    "lemmatizer = WordNetLemmatizer()"
   ]
  },
  {
   "cell_type": "code",
   "execution_count": 36,
   "metadata": {},
   "outputs": [],
   "source": [
    "#create list with lemmatized output\n",
    "lemmatized_output = []\n",
    "\n",
    "for comment in processed_comments:\n",
    "    lemmed = ' '.join([lemmatizer.lemmatize(w) for w in comment])\n",
    "    lemmatized_output.append(lemmed)"
   ]
  },
  {
   "cell_type": "code",
   "execution_count": 37,
   "metadata": {},
   "outputs": [],
   "source": [
    "comments_df['preprocessed'] = lemmatized_output"
   ]
  },
  {
   "cell_type": "code",
   "execution_count": 38,
   "metadata": {},
   "outputs": [],
   "source": [
    "comments_df['lexical_diversity'] = comments_df.preprocessed.apply(lexical_diversity)"
   ]
  },
  {
   "cell_type": "code",
   "execution_count": 39,
   "metadata": {},
   "outputs": [
    {
     "data": {
      "text/html": [
       "<div>\n",
       "<style scoped>\n",
       "    .dataframe tbody tr th:only-of-type {\n",
       "        vertical-align: middle;\n",
       "    }\n",
       "\n",
       "    .dataframe tbody tr th {\n",
       "        vertical-align: top;\n",
       "    }\n",
       "\n",
       "    .dataframe thead th {\n",
       "        text-align: right;\n",
       "    }\n",
       "</style>\n",
       "<table border=\"1\" class=\"dataframe\">\n",
       "  <thead>\n",
       "    <tr style=\"text-align: right;\">\n",
       "      <th></th>\n",
       "      <th>id_num</th>\n",
       "      <th>body</th>\n",
       "      <th>comment_id</th>\n",
       "      <th>parent_id</th>\n",
       "      <th>post_id</th>\n",
       "      <th>author</th>\n",
       "      <th>score</th>\n",
       "      <th>comment_class</th>\n",
       "      <th>sarcastic</th>\n",
       "      <th>profanity_percentage</th>\n",
       "      <th>profanity_count</th>\n",
       "      <th>preprocessed</th>\n",
       "      <th>lexical_diversity</th>\n",
       "    </tr>\n",
       "  </thead>\n",
       "  <tbody>\n",
       "    <tr>\n",
       "      <th>0</th>\n",
       "      <td>26</td>\n",
       "      <td>The people deserve to know exactly what Joe Bi...</td>\n",
       "      <td>g9bm01w</td>\n",
       "      <td>t3_je1clt</td>\n",
       "      <td>t3_je1clt</td>\n",
       "      <td>MagamangPrestige</td>\n",
       "      <td>428</td>\n",
       "      <td>right</td>\n",
       "      <td>False</td>\n",
       "      <td>0.000000</td>\n",
       "      <td>0</td>\n",
       "      <td>people deserve know exactly joe biden knew muc...</td>\n",
       "      <td>1.000000</td>\n",
       "    </tr>\n",
       "    <tr>\n",
       "      <th>1</th>\n",
       "      <td>28</td>\n",
       "      <td>And to think, it was a big enough story withou...</td>\n",
       "      <td>g9buoj5</td>\n",
       "      <td>t3_je1clt</td>\n",
       "      <td>t3_je1clt</td>\n",
       "      <td>NavySasquatch</td>\n",
       "      <td>69</td>\n",
       "      <td>right</td>\n",
       "      <td>False</td>\n",
       "      <td>0.012987</td>\n",
       "      <td>2</td>\n",
       "      <td>think big enough story without outside help bi...</td>\n",
       "      <td>0.866667</td>\n",
       "    </tr>\n",
       "    <tr>\n",
       "      <th>2</th>\n",
       "      <td>29</td>\n",
       "      <td>This was obvious to anyone with commonsense. I...</td>\n",
       "      <td>g9bk7ul</td>\n",
       "      <td>t3_je1clt</td>\n",
       "      <td>t3_je1clt</td>\n",
       "      <td>MantisTobogan-MD</td>\n",
       "      <td>130</td>\n",
       "      <td>right</td>\n",
       "      <td>False</td>\n",
       "      <td>0.000000</td>\n",
       "      <td>0</td>\n",
       "      <td>obvious anyone commonsense real biden would lo...</td>\n",
       "      <td>1.000000</td>\n",
       "    </tr>\n",
       "    <tr>\n",
       "      <th>3</th>\n",
       "      <td>38</td>\n",
       "      <td>That’s how you know it Russian disinformation!...</td>\n",
       "      <td>g9bwgsa</td>\n",
       "      <td>t3_je1clt</td>\n",
       "      <td>t3_je1clt</td>\n",
       "      <td>RanchRelaxo</td>\n",
       "      <td>23</td>\n",
       "      <td>right</td>\n",
       "      <td>True</td>\n",
       "      <td>0.000000</td>\n",
       "      <td>0</td>\n",
       "      <td>know russian disinformation drumph illegitimat...</td>\n",
       "      <td>0.941176</td>\n",
       "    </tr>\n",
       "    <tr>\n",
       "      <th>4</th>\n",
       "      <td>41</td>\n",
       "      <td>I really hope we get to the bottom of this as ...</td>\n",
       "      <td>g9bt5lc</td>\n",
       "      <td>t3_je1clt</td>\n",
       "      <td>t3_je1clt</td>\n",
       "      <td>MoneyBadger14</td>\n",
       "      <td>18</td>\n",
       "      <td>right</td>\n",
       "      <td>False</td>\n",
       "      <td>0.007042</td>\n",
       "      <td>1</td>\n",
       "      <td>really hope get bottom soon possible miss day ...</td>\n",
       "      <td>1.000000</td>\n",
       "    </tr>\n",
       "  </tbody>\n",
       "</table>\n",
       "</div>"
      ],
      "text/plain": [
       "   id_num                                               body comment_id  \\\n",
       "0      26  The people deserve to know exactly what Joe Bi...    g9bm01w   \n",
       "1      28  And to think, it was a big enough story withou...    g9buoj5   \n",
       "2      29  This was obvious to anyone with commonsense. I...    g9bk7ul   \n",
       "3      38  That’s how you know it Russian disinformation!...    g9bwgsa   \n",
       "4      41  I really hope we get to the bottom of this as ...    g9bt5lc   \n",
       "\n",
       "   parent_id    post_id            author  score comment_class  sarcastic  \\\n",
       "0  t3_je1clt  t3_je1clt  MagamangPrestige    428         right      False   \n",
       "1  t3_je1clt  t3_je1clt     NavySasquatch     69         right      False   \n",
       "2  t3_je1clt  t3_je1clt  MantisTobogan-MD    130         right      False   \n",
       "3  t3_je1clt  t3_je1clt       RanchRelaxo     23         right       True   \n",
       "4  t3_je1clt  t3_je1clt     MoneyBadger14     18         right      False   \n",
       "\n",
       "   profanity_percentage  profanity_count  \\\n",
       "0              0.000000                0   \n",
       "1              0.012987                2   \n",
       "2              0.000000                0   \n",
       "3              0.000000                0   \n",
       "4              0.007042                1   \n",
       "\n",
       "                                        preprocessed  lexical_diversity  \n",
       "0  people deserve know exactly joe biden knew muc...           1.000000  \n",
       "1  think big enough story without outside help bi...           0.866667  \n",
       "2  obvious anyone commonsense real biden would lo...           1.000000  \n",
       "3  know russian disinformation drumph illegitimat...           0.941176  \n",
       "4  really hope get bottom soon possible miss day ...           1.000000  "
      ]
     },
     "execution_count": 39,
     "metadata": {},
     "output_type": "execute_result"
    }
   ],
   "source": [
    "comments_df.head()"
   ]
  },
  {
   "cell_type": "code",
   "execution_count": 40,
   "metadata": {},
   "outputs": [],
   "source": [
    "right = comments_df[comments_df.comment_class == 'right']\n",
    "left = comments_df[comments_df.comment_class == 'left']"
   ]
  },
  {
   "cell_type": "code",
   "execution_count": 41,
   "metadata": {},
   "outputs": [
    {
     "name": "stdout",
     "output_type": "stream",
     "text": [
      "With a p value of 0.000237102142244855, we fail to reject the null hypothesis\n"
     ]
    }
   ],
   "source": [
    "# Variance is not equal, so therefore must use a welch test and set equal_var == False\n",
    "test_stat, p_value = ttest_ind(right.lexical_diversity, left.lexical_diversity, equal_var=False)\n",
    "print(f\"With a p value of {p_value}, we fail to reject the null hypothesis\")"
   ]
  },
  {
   "cell_type": "markdown",
   "metadata": {},
   "source": [
    "It is very strange that there is hardly any difference between lexical_diversity of right and left, especially considering lexical_diversity provides the best results with random forest classifier..."
   ]
  },
  {
   "cell_type": "markdown",
   "metadata": {},
   "source": [
    "### Investigate Use of Words in All Caps"
   ]
  },
  {
   "cell_type": "code",
   "execution_count": 42,
   "metadata": {},
   "outputs": [],
   "source": [
    "def capital_percentage(comment):\n",
    "    tokens = nltk.word_tokenize(comment)\n",
    "    cap_count = 0\n",
    "    for item in tokens:\n",
    "        if item.isupper():\n",
    "            cap_count += 1\n",
    "    return cap_count/len(tokens)"
   ]
  },
  {
   "cell_type": "code",
   "execution_count": 43,
   "metadata": {},
   "outputs": [],
   "source": [
    "comments_df['capital_percentage'] = comments_df.body.apply(capital_percentage)"
   ]
  },
  {
   "cell_type": "code",
   "execution_count": 44,
   "metadata": {},
   "outputs": [],
   "source": [
    "comments_w_most_caps = comments_df.sort_values(by='capital_percentage', \n",
    "                                      ascending=False).iloc[0:].comment_class.value_counts()"
   ]
  },
  {
   "cell_type": "code",
   "execution_count": 45,
   "metadata": {},
   "outputs": [],
   "source": [
    "right = comments_df[comments_df.comment_class == 'right']\n",
    "left = comments_df[comments_df.comment_class == 'left']"
   ]
  },
  {
   "cell_type": "code",
   "execution_count": 46,
   "metadata": {},
   "outputs": [
    {
     "data": {
      "image/png": "[encoded data removed]",
      "text/plain": [
       "<Figure size 1008x504 with 2 Axes>"
      ]
     },
     "metadata": {
      "needs_background": "light"
     },
     "output_type": "display_data"
    },
    {
     "data": {
      "text/plain": [
       "<Figure size 432x288 with 0 Axes>"
      ]
     },
     "metadata": {},
     "output_type": "display_data"
    }
   ],
   "source": [
    "fig = plt.figure(figsize=(14,7))\n",
    "\n",
    "ax1 = plt.subplot(1, 2, 1)\n",
    "sns.boxplot(y=right.capital_percentage, ax=ax1)\n",
    "plt.xlabel(\"Capital Percentage in Comments\")\n",
    "plt.ylim(0,.25)\n",
    "plt.title(\"Right Leaning\")\n",
    "\n",
    "ax2 = plt.subplot(1, 2, 2)\n",
    "sns.boxplot(y=left.capital_percentage, ax=ax2)\n",
    "plt.xlabel(\"Capital Percentage in Comments\")\n",
    "plt.ylim(0,.25)\n",
    "plt.title(\"Left Leaning\")\n",
    "\n",
    "\n",
    "plt.show()\n",
    "plt.savefig(\"../pics/Capitalization_Boxplot.png\")\n"
   ]
  },
  {
   "cell_type": "markdown",
   "metadata": {},
   "source": [
    "Honestly, it doesn't look like much can be taken from this. Yes, the right side, from our source of data uses slightly more capitalization of words, but it is so close that we do not believe it will impact our modeling significantly."
   ]
  },
  {
   "cell_type": "code",
   "execution_count": 47,
   "metadata": {},
   "outputs": [],
   "source": [
    "right = comments_df[comments_df.comment_class == 'right']\n",
    "left = comments_df[comments_df.comment_class == 'left']"
   ]
  },
  {
   "cell_type": "code",
   "execution_count": 48,
   "metadata": {},
   "outputs": [
    {
     "name": "stdout",
     "output_type": "stream",
     "text": [
      "With a p value of 3.0470189636725504e-09, which is far less than our chosen alpha value, we can reject the null\n"
     ]
    }
   ],
   "source": [
    "# Variance is not equal, so therefore must use a welch test and set equal_var == False\n",
    "test_stat, p_value = ttest_ind(right.capital_percentage, left.capital_percentage, equal_var=False)\n",
    "print(f\"With a p value of {p_value}, which is far less than our chosen alpha value, we can reject the null\")"
   ]
  },
  {
   "cell_type": "markdown",
   "metadata": {},
   "source": [
    "### Create a Word Cloud"
   ]
  },
  {
   "cell_type": "code",
   "execution_count": 49,
   "metadata": {},
   "outputs": [],
   "source": [
    "from nltk.corpus import stopwords\n",
    "from nltk.probability import FreqDist\n",
    "import string"
   ]
  },
  {
   "cell_type": "code",
   "execution_count": 50,
   "metadata": {},
   "outputs": [],
   "source": [
    "def process_comment(comment):\n",
    "    comment = comment.lower()\n",
    "    tokens = nltk.word_tokenize(comment)\n",
    "    stopwords_removed = [token.lower() for token in tokens if token.lower() not in stopwords]\n",
    "    return stopwords_removed"
   ]
  },
  {
   "cell_type": "code",
   "execution_count": 51,
   "metadata": {},
   "outputs": [
    {
     "ename": "TypeError",
     "evalue": "argument of type 'WordListCorpusReader' is not iterable",
     "output_type": "error",
     "traceback": [
      "\u001b[0;31m---------------------------------------------------------------------------\u001b[0m",
      "\u001b[0;31mTypeError\u001b[0m                                 Traceback (most recent call last)",
      "\u001b[0;32m<ipython-input-51-5a7c18ade9c4>\u001b[0m in \u001b[0;36m<module>\u001b[0;34m\u001b[0m\n\u001b[1;32m      5\u001b[0m \u001b[0mdata_left\u001b[0m \u001b[0;34m=\u001b[0m \u001b[0mdf_freq_left\u001b[0m\u001b[0;34m[\u001b[0m\u001b[0;34m'body'\u001b[0m\u001b[0;34m]\u001b[0m\u001b[0;34m\u001b[0m\u001b[0;34m\u001b[0m\u001b[0m\n\u001b[1;32m      6\u001b[0m \u001b[0;34m\u001b[0m\u001b[0m\n\u001b[0;32m----> 7\u001b[0;31m \u001b[0mprocessed_right\u001b[0m \u001b[0;34m=\u001b[0m \u001b[0mlist\u001b[0m\u001b[0;34m(\u001b[0m\u001b[0mmap\u001b[0m\u001b[0;34m(\u001b[0m\u001b[0mprocess_comment\u001b[0m\u001b[0;34m,\u001b[0m \u001b[0mdata_right\u001b[0m\u001b[0;34m)\u001b[0m\u001b[0;34m)\u001b[0m\u001b[0;34m\u001b[0m\u001b[0;34m\u001b[0m\u001b[0m\n\u001b[0m\u001b[1;32m      8\u001b[0m \u001b[0mprocessed_left\u001b[0m \u001b[0;34m=\u001b[0m \u001b[0mlist\u001b[0m\u001b[0;34m(\u001b[0m\u001b[0mmap\u001b[0m\u001b[0;34m(\u001b[0m\u001b[0mprocess_comment\u001b[0m\u001b[0;34m,\u001b[0m \u001b[0mdata_left\u001b[0m\u001b[0;34m)\u001b[0m\u001b[0;34m)\u001b[0m\u001b[0;34m\u001b[0m\u001b[0;34m\u001b[0m\u001b[0m\n",
      "\u001b[0;32m<ipython-input-50-206070578c89>\u001b[0m in \u001b[0;36mprocess_comment\u001b[0;34m(comment)\u001b[0m\n\u001b[1;32m      2\u001b[0m     \u001b[0mcomment\u001b[0m \u001b[0;34m=\u001b[0m \u001b[0mcomment\u001b[0m\u001b[0;34m.\u001b[0m\u001b[0mlower\u001b[0m\u001b[0;34m(\u001b[0m\u001b[0;34m)\u001b[0m\u001b[0;34m\u001b[0m\u001b[0;34m\u001b[0m\u001b[0m\n\u001b[1;32m      3\u001b[0m     \u001b[0mtokens\u001b[0m \u001b[0;34m=\u001b[0m \u001b[0mnltk\u001b[0m\u001b[0;34m.\u001b[0m\u001b[0mword_tokenize\u001b[0m\u001b[0;34m(\u001b[0m\u001b[0mcomment\u001b[0m\u001b[0;34m)\u001b[0m\u001b[0;34m\u001b[0m\u001b[0;34m\u001b[0m\u001b[0m\n\u001b[0;32m----> 4\u001b[0;31m     \u001b[0mstopwords_removed\u001b[0m \u001b[0;34m=\u001b[0m \u001b[0;34m[\u001b[0m\u001b[0mtoken\u001b[0m\u001b[0;34m.\u001b[0m\u001b[0mlower\u001b[0m\u001b[0;34m(\u001b[0m\u001b[0;34m)\u001b[0m \u001b[0;32mfor\u001b[0m \u001b[0mtoken\u001b[0m \u001b[0;32min\u001b[0m \u001b[0mtokens\u001b[0m \u001b[0;32mif\u001b[0m \u001b[0mtoken\u001b[0m\u001b[0;34m.\u001b[0m\u001b[0mlower\u001b[0m\u001b[0;34m(\u001b[0m\u001b[0;34m)\u001b[0m \u001b[0;32mnot\u001b[0m \u001b[0;32min\u001b[0m \u001b[0mstopwords\u001b[0m\u001b[0;34m]\u001b[0m\u001b[0;34m\u001b[0m\u001b[0;34m\u001b[0m\u001b[0m\n\u001b[0m\u001b[1;32m      5\u001b[0m     \u001b[0;32mreturn\u001b[0m \u001b[0mstopwords_removed\u001b[0m\u001b[0;34m\u001b[0m\u001b[0;34m\u001b[0m\u001b[0m\n",
      "\u001b[0;32m<ipython-input-50-206070578c89>\u001b[0m in \u001b[0;36m<listcomp>\u001b[0;34m(.0)\u001b[0m\n\u001b[1;32m      2\u001b[0m     \u001b[0mcomment\u001b[0m \u001b[0;34m=\u001b[0m \u001b[0mcomment\u001b[0m\u001b[0;34m.\u001b[0m\u001b[0mlower\u001b[0m\u001b[0;34m(\u001b[0m\u001b[0;34m)\u001b[0m\u001b[0;34m\u001b[0m\u001b[0;34m\u001b[0m\u001b[0m\n\u001b[1;32m      3\u001b[0m     \u001b[0mtokens\u001b[0m \u001b[0;34m=\u001b[0m \u001b[0mnltk\u001b[0m\u001b[0;34m.\u001b[0m\u001b[0mword_tokenize\u001b[0m\u001b[0;34m(\u001b[0m\u001b[0mcomment\u001b[0m\u001b[0;34m)\u001b[0m\u001b[0;34m\u001b[0m\u001b[0;34m\u001b[0m\u001b[0m\n\u001b[0;32m----> 4\u001b[0;31m     \u001b[0mstopwords_removed\u001b[0m \u001b[0;34m=\u001b[0m \u001b[0;34m[\u001b[0m\u001b[0mtoken\u001b[0m\u001b[0;34m.\u001b[0m\u001b[0mlower\u001b[0m\u001b[0;34m(\u001b[0m\u001b[0;34m)\u001b[0m \u001b[0;32mfor\u001b[0m \u001b[0mtoken\u001b[0m \u001b[0;32min\u001b[0m \u001b[0mtokens\u001b[0m \u001b[0;32mif\u001b[0m \u001b[0mtoken\u001b[0m\u001b[0;34m.\u001b[0m\u001b[0mlower\u001b[0m\u001b[0;34m(\u001b[0m\u001b[0;34m)\u001b[0m \u001b[0;32mnot\u001b[0m \u001b[0;32min\u001b[0m \u001b[0mstopwords\u001b[0m\u001b[0;34m]\u001b[0m\u001b[0;34m\u001b[0m\u001b[0;34m\u001b[0m\u001b[0m\n\u001b[0m\u001b[1;32m      5\u001b[0m     \u001b[0;32mreturn\u001b[0m \u001b[0mstopwords_removed\u001b[0m\u001b[0;34m\u001b[0m\u001b[0;34m\u001b[0m\u001b[0m\n",
      "\u001b[0;31mTypeError\u001b[0m: argument of type 'WordListCorpusReader' is not iterable"
     ]
    }
   ],
   "source": [
    "df_freq_right = comments_df[comments_df['comment_class']=='right']\n",
    "df_freq_left = comments_df[comments_df['comment_class']=='left']\n",
    "\n",
    "data_right = df_freq_right['body']\n",
    "data_left = df_freq_left['body']\n",
    "\n",
    "processed_right = list(map(process_comment, data_right))\n",
    "processed_left = list(map(process_comment, data_left))"
   ]
  },
  {
   "cell_type": "code",
   "execution_count": null,
   "metadata": {},
   "outputs": [],
   "source": [
    "flat_right = [item for sublist in processed_right for item in sublist]\n",
    "flat_left = [item for sublist in processed_left for item in sublist]\n",
    "right_freq = FreqDist(flat_right)\n",
    "left_freq = FreqDist(flat_left)"
   ]
  },
  {
   "cell_type": "code",
   "execution_count": null,
   "metadata": {},
   "outputs": [],
   "source": [
    "# create counts of satire and not satire with values and words\n",
    "right_bar_counts = [x[1] for x in right_freq.most_common(25)]\n",
    "right_bar_words = [x[0] for x in right_freq.most_common(25)]\n",
    "\n",
    "left_bar_counts = [x[1] for x in left_freq.most_common(25)]\n",
    "left_bar_words = [x[0] for x in left_freq.most_common(25)]"
   ]
  },
  {
   "cell_type": "code",
   "execution_count": null,
   "metadata": {},
   "outputs": [],
   "source": [
    "# set the color of our bar graphs\n",
    "from matplotlib import cm\n",
    "color = cm.viridis_r(np.linspace(.4,.8, 30))"
   ]
  },
  {
   "cell_type": "code",
   "execution_count": null,
   "metadata": {},
   "outputs": [],
   "source": [
    "new_figure = plt.figure(figsize=(16,4))\n",
    "\n",
    "ax = new_figure.add_subplot(121)\n",
    "ax2 = new_figure.add_subplot(122)\n",
    "\n",
    "# Generate a line plot on first axes\n",
    "ax.bar(right_bar_words, right_bar_counts, color=color)\n",
    "# ax.plot(colormap='PRGn')\n",
    "\n",
    "# Draw a scatter plot on 2nd axes\n",
    "ax2.bar(left_bar_words, left_bar_counts, color=color )\n",
    "\n",
    "ax.title.set_text('Right')\n",
    "ax2.title.set_text('Left')\n",
    "\n",
    "for ax in new_figure.axes:\n",
    "    plt.sca(ax)\n",
    "    plt.xticks(rotation=60)\n",
    "\n",
    "plt.tight_layout(pad=0)\n",
    "\n",
    "plt.savefig('../pics/word_count_bar_graphs.png')\n",
    "\n",
    "plt.show()"
   ]
  },
  {
   "cell_type": "code",
   "execution_count": null,
   "metadata": {},
   "outputs": [],
   "source": [
    "from wordcloud import WordCloud\n",
    "right_dictionary = dict(zip(right_bar_words, right_bar_counts))\n",
    "left_dictionary = dict(zip(left_bar_words, left_bar_counts))"
   ]
  },
  {
   "cell_type": "code",
   "execution_count": null,
   "metadata": {},
   "outputs": [],
   "source": [
    "# Create the word cloud:\n",
    "\n",
    "wordcloud = WordCloud(colormap='Spectral').generate_from_frequencies(right_dictionary)\n",
    "\n",
    "# Display the generated image w/ matplotlib:\n",
    "\n",
    "plt.figure(figsize=(10,10), facecolor='k')\n",
    "plt.imshow(wordcloud, interpolation='bilinear')\n",
    "plt.axis(\"off\")\n",
    "plt.tight_layout(pad=0)\n",
    "\n",
    "# Uncomment the next line if you want to save your image:\n",
    "plt.savefig('../pics/right_wordcloud.png')\n",
    "\n",
    "plt.show()"
   ]
  },
  {
   "cell_type": "code",
   "execution_count": null,
   "metadata": {},
   "outputs": [],
   "source": [
    "wordcloud = WordCloud(colormap='Spectral').generate_from_frequencies(left_dictionary)\n",
    "\n",
    "plt.figure(figsize=(10,10), facecolor='k')\n",
    "plt.imshow(wordcloud, interpolation='bilinear')\n",
    "plt.axis(\"off\")\n",
    "plt.tight_layout(pad=0)\n",
    "plt.savefig('../pics/left_wordcloud.png')\n",
    "\n",
    "plt.show()"
   ]
  },
  {
   "cell_type": "markdown",
   "metadata": {},
   "source": [
    "#### Note on these wordcounts"
   ]
  },
  {
   "cell_type": "markdown",
   "metadata": {},
   "source": [
    "Our model is more complex than a simple bag of words, and so the most used words don't necessarily have a large impact on our model (for example, we use TF IDF).\n",
    "\n",
    "The charts above are more so just to get an idea of some common words purely for interest."
   ]
  }
 ],
 "metadata": {
  "kernelspec": {
   "display_name": "Python 3",
   "language": "python",
   "name": "python3"
  },
  "language_info": {
   "codemirror_mode": {
    "name": "ipython",
    "version": 3
   },
   "file_extension": ".py",
   "mimetype": "text/x-python",
   "name": "python",
   "nbconvert_exporter": "python",
   "pygments_lexer": "ipython3",
   "version": "3.8.3"
  }
 },
 "nbformat": 4,
 "nbformat_minor": 4
}
